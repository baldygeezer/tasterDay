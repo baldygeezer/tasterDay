{
 "cells": [
  {
   "cell_type": "markdown",
   "metadata": {
    "collapsed": true,
    "pycharm": {
     "name": "#%% md\n"
    }
   },
   "source": [
    "Luckily for us as programmers and data scientists we don't have to write all our code from scratch.\n",
    "There are a lot of code libraries and modules available for many of the common tasks we will need to carry out.\n",
    "The first step, before we start looking at data is to load some of these modules so that we can call on them in our code.The modules we are going to import are:\n",
    "\n",
    "- pandas: a popular general-purpose data analysis library which allows importing data from various file formats. It also provides useful data structures which can be used to examine and edit data\n",
    "\n",
    "- numpy: a popular library for performing mathematical operations, particularly with matrices and arrays.\n",
    "\n",
    "- matplotlib: a library for plotting charts and other visualisations.\n",
    "\n",
    "- Seaborn: a library which uses matplotlib and provides extra functions for visualising statistical analysis results.\n",
    "\n",
    "You will need to run the code in the next cell so that al the code that relies on these libraries can work."
   ]
  },
  {
   "cell_type": "code",
   "execution_count": 1,
   "metadata": {
    "pycharm": {
     "name": "#%%\n"
    }
   },
   "outputs": [],
   "source": [
    "#Loading libraries\n",
    "import pandas as pd\n",
    "import numpy as np\n",
    "import matplotlib.pyplot as plt\n",
    "import seaborn as sns\n"
   ]
  }
 ],
 "metadata": {
  "kernelspec": {
   "display_name": "Python 3",
   "language": "python",
   "name": "python3"
  },
  "language_info": {
   "codemirror_mode": {
    "name": "ipython",
    "version": 3
   },
   "file_extension": ".py",
   "mimetype": "text/x-python",
   "name": "python",
   "nbconvert_exporter": "python",
   "pygments_lexer": "ipython3",
   "version": "3.9.5"
  }
 },
 "nbformat": 4,
 "nbformat_minor": 1
}
