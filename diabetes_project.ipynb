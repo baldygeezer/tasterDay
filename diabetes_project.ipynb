{
 "cells": [
  {
   "cell_type": "markdown",
   "metadata": {
    "collapsed": true,
    "pycharm": {
     "name": "#%% md\n"
    }
   },
   "source": [
    "# 1:  setting up\n",
    "Luckily for us as programmers and data scientists we don't have to write all our code from scratch.\n",
    "There are a lot of code libraries and modules available for many of the common tasks we will need to carry out.\n",
    "The first step, before we start looking at data is to load some of these modules so that we can call on them in our code.The modules we are going to import are:\n",
    "\n",
    "- pandas: a popular general-purpose data analysis library which allows importing data from various file formats. It also provides useful data structures which can be used to examine and edit data\n",
    "\n",
    "- numpy: a popular library for performing mathematical operations, particularly with matrices and arrays.\n",
    "\n",
    "- matplotlib: a library for plotting charts and other visualisations.\n",
    "\n",
    "- Seaborn: a library which uses matplotlib and provides extra functions for visualising statistical analysis results.\n",
    "\n",
    "- toolbox_module: this contains some python functions we wrote to perform complex tasks which need very long blocks of code.\n",
    "importing them means we don't have to write them in this notebook, making it easier for you to read. As you progress with\n",
    "python you will do this a lot with your own code.\n",
    "\n",
    "You will need to run the code in the next cell so that al the code that relies on these libraries can work."
   ]
  },
  {
   "cell_type": "code",
   "execution_count": 1,
   "metadata": {
    "pycharm": {
     "name": "#%%\n"
    }
   },
   "outputs": [],
   "source": [
    "#Loading libraries\n",
    "import pandas as pd\n",
    "import numpy as np\n",
    "import matplotlib.pyplot as plt\n",
    "import seaborn as sns\n",
    "import toolbox_module as tools"
   ]
  },
  {
   "cell_type": "markdown",
   "metadata": {},
   "source": [
    "# 2: Loading the Data\n",
    "Now we are going to import the data set. It is in a .csv file in a folder called 'data' the same directory as this notebook.\n",
    "We are making a variable called 'df'. We also have access to a variable 'pd' which we created in the previous cell when\n",
    "we imported _pandas._ We are calling a function in pandas (pd) called 'read()' which uses the location of the data as a string argument to load a\n",
    "dataset into a pandas _dataframe_ (think of this as a table)"
   ]
  },
  {
   "cell_type": "code",
   "execution_count": 2,
   "metadata": {
    "pycharm": {
     "name": "#%%\n"
    }
   },
   "outputs": [],
   "source": [
    "# load the dataset\n",
    "df = pd.read_csv(\"data/diabetic_data.csv\")"
   ]
  },
  {
   "cell_type": "markdown",
   "metadata": {},
   "source": [
    "# Exploring the data\n",
    "Now we have our data in a dataframe we can start examining and manipulating it.\n",
    "Now let's explore the data. The first command we will use is in the cell below: `df.shape` this will return two values\n",
    "in parentheses (in Python we call this a _tuple_). The first value is the number of rows in our dataset; the second is the\n",
    "number of columns."
   ]
  },
  {
   "cell_type": "code",
   "execution_count": 3,
   "metadata": {
    "pycharm": {
     "name": "#%%\n"
    }
   },
   "outputs": [
    {
     "data": {
      "text/plain": "(101766, 50)"
     },
     "execution_count": 3,
     "metadata": {},
     "output_type": "execute_result"
    }
   ],
   "source": [
    "df.shape"
   ]
  },
  {
   "cell_type": "markdown",
   "metadata": {
    "pycharm": {
     "name": "#%% md\n"
    }
   },
   "source": [
    "### In your Notebook...\n",
    "1. How many rows of data are in this dataset?\n",
    "2. Could you open this data easily in Excel?\n",
    "\n",
    "The next command we will try is `.head()` By default this will display the first 5 lines of data. It is useful for\n",
    "giving a general idea of what the data looks like. If you put a number in the brackets it will return that amount of data\n",
    "\n",
    "### try...\n",
    "Type a number into the brackets and re-run the cell (if you tried to be a clever-clogs and typed 1000 like I would have\n",
    "done ;-) you can get rid of it by re-running the cell with a smaller number"
   ]
  },
  {
   "cell_type": "code",
   "execution_count": 4,
   "metadata": {
    "pycharm": {
     "name": "#%%\n"
    }
   },
   "outputs": [
    {
     "data": {
      "text/plain": "    encounter_id  patient_nbr             race  gender      age weight  \\\n0        2278392      8222157        Caucasian  Female   [0-10)      ?   \n1         149190     55629189        Caucasian  Female  [10-20)      ?   \n2          64410     86047875  AfricanAmerican  Female  [20-30)      ?   \n3         500364     82442376        Caucasian    Male  [30-40)      ?   \n4          16680     42519267        Caucasian    Male  [40-50)      ?   \n..           ...          ...              ...     ...      ...    ...   \n95       1195056     79549353        Caucasian    Male  [70-80)      ?   \n96       1195548    106343838        Caucasian  Female  [70-80)      ?   \n97       1212006     84981816        Caucasian    Male  [70-80)      ?   \n98       1257282     84488562            Other  Female  [50-60)      ?   \n99       1260216     92117574                ?    Male  [30-40)      ?   \n\n    admission_type_id  discharge_disposition_id  admission_source_id  \\\n0                   6                        25                    1   \n1                   1                         1                    7   \n2                   1                         1                    7   \n3                   1                         1                    7   \n4                   1                         1                    7   \n..                ...                       ...                  ...   \n95                  2                         1                    2   \n96                  1                         3                    7   \n97                  1                         1                    7   \n98                  1                         1                    7   \n99                  2                         6                    4   \n\n    time_in_hospital  ... citoglipton insulin  glyburide-metformin  \\\n0                  1  ...          No      No                   No   \n1                  3  ...          No      Up                   No   \n2                  2  ...          No      No                   No   \n3                  2  ...          No      Up                   No   \n4                  1  ...          No  Steady                   No   \n..               ...  ...         ...     ...                  ...   \n95                 1  ...          No  Steady                   No   \n96                 5  ...          No  Steady                   No   \n97                 3  ...          No    Down                   No   \n98                 2  ...          No      Up                   No   \n99                 6  ...          No  Steady                   No   \n\n    glipizide-metformin  glimepiride-pioglitazone  metformin-rosiglitazone  \\\n0                    No                        No                       No   \n1                    No                        No                       No   \n2                    No                        No                       No   \n3                    No                        No                       No   \n4                    No                        No                       No   \n..                  ...                       ...                      ...   \n95                   No                        No                       No   \n96                   No                        No                       No   \n97                   No                        No                       No   \n98                   No                        No                       No   \n99                   No                        No                       No   \n\n    metformin-pioglitazone  change diabetesMed readmitted  \n0                       No      No          No         NO  \n1                       No      Ch         Yes        >30  \n2                       No      No         Yes         NO  \n3                       No      Ch         Yes         NO  \n4                       No      Ch         Yes         NO  \n..                     ...     ...         ...        ...  \n95                      No      No         Yes        >30  \n96                      No      No         Yes        >30  \n97                      No      Ch         Yes         NO  \n98                      No      Ch         Yes         NO  \n99                      No      Ch         Yes        >30  \n\n[100 rows x 50 columns]",
      "text/html": "<div>\n<style scoped>\n    .dataframe tbody tr th:only-of-type {\n        vertical-align: middle;\n    }\n\n    .dataframe tbody tr th {\n        vertical-align: top;\n    }\n\n    .dataframe thead th {\n        text-align: right;\n    }\n</style>\n<table border=\"1\" class=\"dataframe\">\n  <thead>\n    <tr style=\"text-align: right;\">\n      <th></th>\n      <th>encounter_id</th>\n      <th>patient_nbr</th>\n      <th>race</th>\n      <th>gender</th>\n      <th>age</th>\n      <th>weight</th>\n      <th>admission_type_id</th>\n      <th>discharge_disposition_id</th>\n      <th>admission_source_id</th>\n      <th>time_in_hospital</th>\n      <th>...</th>\n      <th>citoglipton</th>\n      <th>insulin</th>\n      <th>glyburide-metformin</th>\n      <th>glipizide-metformin</th>\n      <th>glimepiride-pioglitazone</th>\n      <th>metformin-rosiglitazone</th>\n      <th>metformin-pioglitazone</th>\n      <th>change</th>\n      <th>diabetesMed</th>\n      <th>readmitted</th>\n    </tr>\n  </thead>\n  <tbody>\n    <tr>\n      <th>0</th>\n      <td>2278392</td>\n      <td>8222157</td>\n      <td>Caucasian</td>\n      <td>Female</td>\n      <td>[0-10)</td>\n      <td>?</td>\n      <td>6</td>\n      <td>25</td>\n      <td>1</td>\n      <td>1</td>\n      <td>...</td>\n      <td>No</td>\n      <td>No</td>\n      <td>No</td>\n      <td>No</td>\n      <td>No</td>\n      <td>No</td>\n      <td>No</td>\n      <td>No</td>\n      <td>No</td>\n      <td>NO</td>\n    </tr>\n    <tr>\n      <th>1</th>\n      <td>149190</td>\n      <td>55629189</td>\n      <td>Caucasian</td>\n      <td>Female</td>\n      <td>[10-20)</td>\n      <td>?</td>\n      <td>1</td>\n      <td>1</td>\n      <td>7</td>\n      <td>3</td>\n      <td>...</td>\n      <td>No</td>\n      <td>Up</td>\n      <td>No</td>\n      <td>No</td>\n      <td>No</td>\n      <td>No</td>\n      <td>No</td>\n      <td>Ch</td>\n      <td>Yes</td>\n      <td>&gt;30</td>\n    </tr>\n    <tr>\n      <th>2</th>\n      <td>64410</td>\n      <td>86047875</td>\n      <td>AfricanAmerican</td>\n      <td>Female</td>\n      <td>[20-30)</td>\n      <td>?</td>\n      <td>1</td>\n      <td>1</td>\n      <td>7</td>\n      <td>2</td>\n      <td>...</td>\n      <td>No</td>\n      <td>No</td>\n      <td>No</td>\n      <td>No</td>\n      <td>No</td>\n      <td>No</td>\n      <td>No</td>\n      <td>No</td>\n      <td>Yes</td>\n      <td>NO</td>\n    </tr>\n    <tr>\n      <th>3</th>\n      <td>500364</td>\n      <td>82442376</td>\n      <td>Caucasian</td>\n      <td>Male</td>\n      <td>[30-40)</td>\n      <td>?</td>\n      <td>1</td>\n      <td>1</td>\n      <td>7</td>\n      <td>2</td>\n      <td>...</td>\n      <td>No</td>\n      <td>Up</td>\n      <td>No</td>\n      <td>No</td>\n      <td>No</td>\n      <td>No</td>\n      <td>No</td>\n      <td>Ch</td>\n      <td>Yes</td>\n      <td>NO</td>\n    </tr>\n    <tr>\n      <th>4</th>\n      <td>16680</td>\n      <td>42519267</td>\n      <td>Caucasian</td>\n      <td>Male</td>\n      <td>[40-50)</td>\n      <td>?</td>\n      <td>1</td>\n      <td>1</td>\n      <td>7</td>\n      <td>1</td>\n      <td>...</td>\n      <td>No</td>\n      <td>Steady</td>\n      <td>No</td>\n      <td>No</td>\n      <td>No</td>\n      <td>No</td>\n      <td>No</td>\n      <td>Ch</td>\n      <td>Yes</td>\n      <td>NO</td>\n    </tr>\n    <tr>\n      <th>...</th>\n      <td>...</td>\n      <td>...</td>\n      <td>...</td>\n      <td>...</td>\n      <td>...</td>\n      <td>...</td>\n      <td>...</td>\n      <td>...</td>\n      <td>...</td>\n      <td>...</td>\n      <td>...</td>\n      <td>...</td>\n      <td>...</td>\n      <td>...</td>\n      <td>...</td>\n      <td>...</td>\n      <td>...</td>\n      <td>...</td>\n      <td>...</td>\n      <td>...</td>\n      <td>...</td>\n    </tr>\n    <tr>\n      <th>95</th>\n      <td>1195056</td>\n      <td>79549353</td>\n      <td>Caucasian</td>\n      <td>Male</td>\n      <td>[70-80)</td>\n      <td>?</td>\n      <td>2</td>\n      <td>1</td>\n      <td>2</td>\n      <td>1</td>\n      <td>...</td>\n      <td>No</td>\n      <td>Steady</td>\n      <td>No</td>\n      <td>No</td>\n      <td>No</td>\n      <td>No</td>\n      <td>No</td>\n      <td>No</td>\n      <td>Yes</td>\n      <td>&gt;30</td>\n    </tr>\n    <tr>\n      <th>96</th>\n      <td>1195548</td>\n      <td>106343838</td>\n      <td>Caucasian</td>\n      <td>Female</td>\n      <td>[70-80)</td>\n      <td>?</td>\n      <td>1</td>\n      <td>3</td>\n      <td>7</td>\n      <td>5</td>\n      <td>...</td>\n      <td>No</td>\n      <td>Steady</td>\n      <td>No</td>\n      <td>No</td>\n      <td>No</td>\n      <td>No</td>\n      <td>No</td>\n      <td>No</td>\n      <td>Yes</td>\n      <td>&gt;30</td>\n    </tr>\n    <tr>\n      <th>97</th>\n      <td>1212006</td>\n      <td>84981816</td>\n      <td>Caucasian</td>\n      <td>Male</td>\n      <td>[70-80)</td>\n      <td>?</td>\n      <td>1</td>\n      <td>1</td>\n      <td>7</td>\n      <td>3</td>\n      <td>...</td>\n      <td>No</td>\n      <td>Down</td>\n      <td>No</td>\n      <td>No</td>\n      <td>No</td>\n      <td>No</td>\n      <td>No</td>\n      <td>Ch</td>\n      <td>Yes</td>\n      <td>NO</td>\n    </tr>\n    <tr>\n      <th>98</th>\n      <td>1257282</td>\n      <td>84488562</td>\n      <td>Other</td>\n      <td>Female</td>\n      <td>[50-60)</td>\n      <td>?</td>\n      <td>1</td>\n      <td>1</td>\n      <td>7</td>\n      <td>2</td>\n      <td>...</td>\n      <td>No</td>\n      <td>Up</td>\n      <td>No</td>\n      <td>No</td>\n      <td>No</td>\n      <td>No</td>\n      <td>No</td>\n      <td>Ch</td>\n      <td>Yes</td>\n      <td>NO</td>\n    </tr>\n    <tr>\n      <th>99</th>\n      <td>1260216</td>\n      <td>92117574</td>\n      <td>?</td>\n      <td>Male</td>\n      <td>[30-40)</td>\n      <td>?</td>\n      <td>2</td>\n      <td>6</td>\n      <td>4</td>\n      <td>6</td>\n      <td>...</td>\n      <td>No</td>\n      <td>Steady</td>\n      <td>No</td>\n      <td>No</td>\n      <td>No</td>\n      <td>No</td>\n      <td>No</td>\n      <td>Ch</td>\n      <td>Yes</td>\n      <td>&gt;30</td>\n    </tr>\n  </tbody>\n</table>\n<p>100 rows × 50 columns</p>\n</div>"
     },
     "execution_count": 4,
     "metadata": {},
     "output_type": "execute_result"
    }
   ],
   "source": [
    "# type your code below\n",
    "df.head(100)\n"
   ]
  },
  {
   "cell_type": "markdown",
   "metadata": {
    "pycharm": {
     "name": "#%% md\n"
    }
   },
   "source": [
    "#we could put the stacktrace bit in the getting started section....\n",
    "\n",
    "\n",
    "If everything went OK you should see the first 5 rows of data. If not you will see a lot of red text called a _stack trace_.\n",
    "Don't worry about this. It might look alarming but it often includes helpful \t7\t2\t11\t...\tNo\tNo\tNo\tNo\tNo\tNo\tNo\tNo\tYes\tNO\n",
    "3\t500364\t82442376\tCaucasian\tMale\t[30-40)\t1\t1\tinformation about where you went wrong.\n",
    "If you do see a stack trace, make sure your code inthe cell above looks like this `df.head()` onece it does, and you\n",
    "re-run the cell the stacktrace will be gone.\n",
    "### try\n",
    "replace `df.head()` with `df.hea()`\n",
    "### in your Notebook\n",
    "What did the output look like?\n",
    "How might that help you work out what went wrong?\n",
    "\n",
    "now put df.head() back into the cell and re-run it.\n",
    "\n",
    "The dataset should have 101766 rows, and 50 columns. That's a lot of data to make sense of, but we have the tools!\n",
    "Let's see what types of data we have. The command to do this is `df.dtypes` try it in the cell below."
   ]
  },
  {
   "cell_type": "code",
   "execution_count": 5,
   "metadata": {
    "pycharm": {
     "name": "#%%\n"
    }
   },
   "outputs": [
    {
     "data": {
      "text/plain": "encounter_id                 int64\npatient_nbr                  int64\nrace                        object\ngender                      object\nage                         object\nweight                      object\nadmission_type_id            int64\ndischarge_disposition_id     int64\nadmission_source_id          int64\ntime_in_hospital             int64\npayer_code                  object\nmedical_specialty           object\nnum_lab_procedures           int64\nnum_procedures               int64\nnum_medications              int64\nnumber_outpatient            int64\nnumber_emergency             int64\nnumber_inpatient             int64\ndiag_1                      object\ndiag_2                      object\ndiag_3                      object\nnumber_diagnoses             int64\nmax_glu_serum               object\nA1Cresult                   object\nmetformin                   object\nrepaglinide                 object\nnateglinide                 object\nchlorpropamide              object\nglimepiride                 object\nacetohexamide               object\nglipizide                   object\nglyburide                   object\ntolbutamide                 object\npioglitazone                object\nrosiglitazone               object\nacarbose                    object\nmiglitol                    object\ntroglitazone                object\ntolazamide                  object\nexamide                     object\ncitoglipton                 object\ninsulin                     object\nglyburide-metformin         object\nglipizide-metformin         object\nglimepiride-pioglitazone    object\nmetformin-rosiglitazone     object\nmetformin-pioglitazone      object\nchange                      object\ndiabetesMed                 object\nreadmitted                  object\ndtype: object"
     },
     "execution_count": 5,
     "metadata": {},
     "output_type": "execute_result"
    }
   ],
   "source": [
    "df.dtypes"
   ]
  },
  {
   "cell_type": "markdown",
   "metadata": {
    "pycharm": {
     "name": "#%% md\n"
    }
   },
   "source": [
    "Next to each column you can see the type of data it is. for example _int64_ is an integer. When Pandas isn't sure what\n",
    "the type should be it uses 'object'. These are mostly strings as this is data coming from a .CSV file.\n",
    "Now we know what our data looks like lets make sure it is in a suitable state for us to analyse. One of the first things\n",
    "to do is deal with any missing values.\n",
    "\n",
    "In this dataset, missing values are represented by a  “?”  So if we search every column which has a type of “object” to\n",
    "see if there are any “?” values, and then count them, we can see the extent of our missing data problem, if any.\n"
   ]
  },
  {
   "cell_type": "code",
   "execution_count": 6,
   "metadata": {
    "pycharm": {
     "name": "#%%\n"
    }
   },
   "outputs": [
    {
     "name": "stdout",
     "output_type": "stream",
     "text": [
      "race 2273\n",
      "gender 0\n",
      "age 0\n",
      "weight 98569\n",
      "payer_code 40256\n",
      "medical_specialty 49949\n",
      "diag_1 21\n",
      "diag_2 358\n",
      "diag_3 1423\n",
      "max_glu_serum 0\n",
      "A1Cresult 0\n",
      "metformin 0\n",
      "repaglinide 0\n",
      "nateglinide 0\n",
      "chlorpropamide 0\n",
      "glimepiride 0\n",
      "acetohexamide 0\n",
      "glipizide 0\n",
      "glyburide 0\n",
      "tolbutamide 0\n",
      "pioglitazone 0\n",
      "rosiglitazone 0\n",
      "acarbose 0\n",
      "miglitol 0\n",
      "troglitazone 0\n",
      "tolazamide 0\n",
      "examide 0\n",
      "citoglipton 0\n",
      "insulin 0\n",
      "glyburide-metformin 0\n",
      "glipizide-metformin 0\n",
      "glimepiride-pioglitazone 0\n",
      "metformin-rosiglitazone 0\n",
      "metformin-pioglitazone 0\n",
      "change 0\n",
      "diabetesMed 0\n",
      "readmitted 0\n"
     ]
    }
   ],
   "source": [
    "# note to self - do we need to take them through series and referencing pandas dataframes ? Or can we just explain what it does\n",
    "\n",
    "# for every column in the dataframe\n",
    "for col in df.columns:\n",
    "    # check if it has a datatype of 'object' - if it does\n",
    "    if df[col].dtype == object:\n",
    "        #print the column name and the count of the number of '?' values\n",
    "         print(col,df[col][df[col] == '?'].count())"
   ]
  },
  {
   "cell_type": "markdown",
   "metadata": {},
   "source": [
    "We know that 'Gender' is encoded differently with 'Unknown/Invalid' used to signify missing data.\n",
    "so:"
   ]
  },
  {
   "cell_type": "code",
   "execution_count": 7,
   "metadata": {
    "pycharm": {
     "name": "#%%\n"
    }
   },
   "outputs": [
    {
     "name": "stdout",
     "output_type": "stream",
     "text": [
      "gender 3\n"
     ]
    }
   ],
   "source": [
    "tools.count_value(df, 'Unknown/Invalid', 'gender')"
   ]
  },
  {
   "cell_type": "markdown",
   "metadata": {
    "pycharm": {
     "name": "#%% md\n"
    }
   },
   "source": [
    "We can see that some columns have quite a few missing values. Weight is the worst affected with around 98% of\n",
    "the values missing. There is not much we can do to improve this situation so we will remove this column from the dataset.\n",
    "Payer code and medical specialty also have a lot of missing values so we will also drop these columns. 2 other variables\n",
    "the drugs named <drug names> all have the same values and therefore do not add any information, so we will also drop these"
   ]
  },
  {
   "cell_type": "code",
   "execution_count": 8,
   "metadata": {
    "pycharm": {
     "name": "#%%\n"
    }
   },
   "outputs": [],
   "source": [
    "# dropping columns with large number of missing values\n",
    "df = df.drop(['weight','payer_code','medical_specialty'], axis = 1)"
   ]
  },
  {
   "cell_type": "markdown",
   "metadata": {
    "pycharm": {
     "name": "#%% md\n"
    }
   },
   "source": [
    "the columns race, diagonal…, And gender all have some missing values but far fewer than the columns we have just dropped.\n",
    "In this situation, we can just go in and delete those values. We will do this with a function from our toolbox module.\n",
    "Once we have done this we can rerun the code we used earlier to see what our dataset looks like now we have cleaned it\n",
    "up a bit"
   ]
  },
  {
   "cell_type": "code",
   "execution_count": 9,
   "metadata": {
    "pycharm": {
     "name": "#%%\n"
    }
   },
   "outputs": [],
   "source": [
    "tools.drop_values(df,'race','?')\n",
    "tools.drop_values(df,'diag_1', '?')\n",
    "tools.drop_values(df,'diag_2', '?')\n",
    "tools.drop_values(df,'diag_3', '?')\n",
    "tools.drop_values(df,'gender', '?')"
   ]
  },
  {
   "cell_type": "code",
   "execution_count": 10,
   "metadata": {
    "pycharm": {
     "name": "#%%\n"
    }
   },
   "outputs": [
    {
     "name": "stdout",
     "output_type": "stream",
     "text": [
      "race 0\n",
      "gender 0\n",
      "age 0\n",
      "diag_1 0\n",
      "diag_2 0\n",
      "diag_3 0\n",
      "max_glu_serum 0\n",
      "A1Cresult 0\n",
      "metformin 0\n",
      "repaglinide 0\n",
      "nateglinide 0\n",
      "chlorpropamide 0\n",
      "glimepiride 0\n",
      "acetohexamide 0\n",
      "glipizide 0\n",
      "glyburide 0\n",
      "tolbutamide 0\n",
      "pioglitazone 0\n",
      "rosiglitazone 0\n",
      "acarbose 0\n",
      "miglitol 0\n",
      "troglitazone 0\n",
      "tolazamide 0\n",
      "examide 0\n",
      "citoglipton 0\n",
      "insulin 0\n",
      "glyburide-metformin 0\n",
      "glipizide-metformin 0\n",
      "glimepiride-pioglitazone 0\n",
      "metformin-rosiglitazone 0\n",
      "metformin-pioglitazone 0\n",
      "change 0\n",
      "diabetesMed 0\n",
      "readmitted 0\n",
      "gender 0\n"
     ]
    }
   ],
   "source": [
    "tools.count_values(df,'?')\n",
    "tools.count_value(df,'?', 'gender')"
   ]
  },
  {
   "cell_type": "markdown",
   "source": [
    "## Feature Engineering\n",
    "So we have cleaned up the data and now have a dataset free from missing values, but there are still some issues.\n",
    "The dataset wasn't designed specifically with machine learning in mind and some of the variables need to be optimised\n",
    "\n",
    "### Previous diagnoses\n",
    "There are three columns in the dataframe: diag1, diag2 and diag3 which are references to previous diagnoses.\n",
    "These use something called an IDC code to indicate what the diagnosis was.\n",
    "There are several hundred distinct values which are strings, mostly numeric.\n",
    "we can simplify this into something our model can make sense out of by categorising them. In another study, researchers\n",
    "used 9 desease categories and we have done the same assigning each a single digit identifier:\n",
    "circulatory = 1, respiratory = 2,digestive = 3,diabetes = 4,injury = 5,musculoskeletal = 6,\n",
    "genitourinary = 7, neoplasm = 8 and other = 9\n",
    "\n",
    "We have provided a function in the toolbox_module which does this for you: `convert_idc_disease_class()`\n",
    "This accepts a string and returns an integer between 1 and 9.\n",
    "#### try...\n",
    "patient x has a diag_1 code of '648'. what type of condition did they suffer from?"
   ],
   "metadata": {
    "collapsed": false,
    "pycharm": {
     "name": "#%% md\n"
    }
   }
  },
  {
   "cell_type": "code",
   "execution_count": 18,
   "outputs": [
    {
     "data": {
      "text/plain": "7"
     },
     "execution_count": 18,
     "metadata": {},
     "output_type": "execute_result"
    }
   ],
   "source": [
    "#write your code below...\n",
    "tools.convert_idc_disease_class('648') #todo: delete me"
   ],
   "metadata": {
    "collapsed": false,
    "pycharm": {
     "name": "#%%\n"
    }
   }
  },
  {
   "cell_type": "markdown",
   "source": [
    "The three lines of code in the cell below apply this function to every row in the dataframe and put the reult in a new\n",
    "column. This uses a feature you will come across in many programming languages, called a _lambda function_. It works by\n",
    "passing a bit of code as an argument to a function. The code then runs inside the function and enhances it.\n",
    "\n",
    "You can see the Keyword `Lambda` and `row`followed by a colon. `row` is a parameter for the dataframe's `apply` function.\n",
    "After the colon we pass our toolbox function which is applied to every row in the dataframe."
   ],
   "metadata": {
    "collapsed": false,
    "pycharm": {
     "name": "#%% md\n"
    }
   }
  },
  {
   "cell_type": "code",
   "execution_count": 13,
   "metadata": {},
   "outputs": [],
   "source": [
    "df['diag_1_cat']=df.apply(lambda row:tools.convert_idc_disease_class(row['diag_1']), axis=1)\n",
    "df['diag_2_cat']=df.apply(lambda row:tools.convert_idc_disease_class(row['diag_2']), axis=1)\n",
    "df['diag_3_cat']=df.apply(lambda row:tools.convert_idc_disease_class(row['diag_3']), axis=1)"
   ]
  },
  {
   "cell_type": "markdown",
   "source": [
    "Now lets run df head again. Can you see what's changed?"
   ],
   "metadata": {
    "collapsed": false,
    "pycharm": {
     "name": "#%% md\n"
    }
   }
  },
  {
   "cell_type": "code",
   "execution_count": 15,
   "outputs": [
    {
     "data": {
      "text/plain": "                                 1                2          3          4   \\\nencounter_id                 149190            64410     500364      16680   \npatient_nbr                55629189         86047875   82442376   42519267   \nrace                      Caucasian  AfricanAmerican  Caucasian  Caucasian   \ngender                       Female           Female       Male       Male   \nage                         [10-20)          [20-30)    [30-40)    [40-50)   \nadmission_type_id                 1                1          1          1   \ndischarge_disposition_id          1                1          1          1   \nadmission_source_id               7                7          7          7   \ntime_in_hospital                  3                2          2          1   \nnum_lab_procedures               59               11         44         51   \nnum_procedures                    0                5          1          0   \nnum_medications                  18               13         16          8   \nnumber_outpatient                 0                2          0          0   \nnumber_emergency                  0                0          0          0   \nnumber_inpatient                  0                1          0          0   \ndiag_1                          276              648          8        197   \ndiag_2                       250.01              250     250.43        157   \ndiag_3                          255              V27        403        250   \nnumber_diagnoses                  9                6          7          5   \nmax_glu_serum                  None             None       None       None   \nA1Cresult                      None             None       None       None   \nmetformin                        No               No         No         No   \nrepaglinide                      No               No         No         No   \nnateglinide                      No               No         No         No   \nchlorpropamide                   No               No         No         No   \nglimepiride                      No               No         No         No   \nacetohexamide                    No               No         No         No   \nglipizide                        No           Steady         No     Steady   \nglyburide                        No               No         No         No   \ntolbutamide                      No               No         No         No   \npioglitazone                     No               No         No         No   \nrosiglitazone                    No               No         No         No   \nacarbose                         No               No         No         No   \nmiglitol                         No               No         No         No   \ntroglitazone                     No               No         No         No   \ntolazamide                       No               No         No         No   \nexamide                          No               No         No         No   \ncitoglipton                      No               No         No         No   \ninsulin                          Up               No         Up     Steady   \nglyburide-metformin              No               No         No         No   \nglipizide-metformin              No               No         No         No   \nglimepiride-pioglitazone         No               No         No         No   \nmetformin-rosiglitazone          No               No         No         No   \nmetformin-pioglitazone           No               No         No         No   \nchange                           Ch               No         Ch         Ch   \ndiabetesMed                     Yes              Yes        Yes        Yes   \nreadmitted                      >30               NO         NO         NO   \ndiag_1_cat                        9                7          9          8   \ndiag_2_cat                        4                4          4          8   \ndiag_3_cat                        9                9          1          4   \n\n                                 5          6          7          8   \\\nencounter_id                  35754      55842      63768      12522   \npatient_nbr                82637451   84259809  114882984   48330783   \nrace                      Caucasian  Caucasian  Caucasian  Caucasian   \ngender                         Male       Male       Male     Female   \nage                         [50-60)    [60-70)    [70-80)    [80-90)   \nadmission_type_id                 2          3          1          2   \ndischarge_disposition_id          1          1          1          1   \nadmission_source_id               2          2          7          4   \ntime_in_hospital                  3          4          5         13   \nnum_lab_procedures               31         70         73         68   \nnum_procedures                    6          1          0          2   \nnum_medications                  16         21         12         28   \nnumber_outpatient                 0          0          0          0   \nnumber_emergency                  0          0          0          0   \nnumber_inpatient                  0          0          0          0   \ndiag_1                          414        414        428        398   \ndiag_2                          411        411        492        427   \ndiag_3                          250        V45        250         38   \nnumber_diagnoses                  9          7          8          8   \nmax_glu_serum                  None       None       None       None   \nA1Cresult                      None       None       None       None   \nmetformin                        No     Steady         No         No   \nrepaglinide                      No         No         No         No   \nnateglinide                      No         No         No         No   \nchlorpropamide                   No         No         No         No   \nglimepiride                      No     Steady         No         No   \nacetohexamide                    No         No         No         No   \nglipizide                        No         No         No     Steady   \nglyburide                        No         No     Steady         No   \ntolbutamide                      No         No         No         No   \npioglitazone                     No         No         No         No   \nrosiglitazone                    No         No         No         No   \nacarbose                         No         No         No         No   \nmiglitol                         No         No         No         No   \ntroglitazone                     No         No         No         No   \ntolazamide                       No         No         No         No   \nexamide                          No         No         No         No   \ncitoglipton                      No         No         No         No   \ninsulin                      Steady     Steady         No     Steady   \nglyburide-metformin              No         No         No         No   \nglipizide-metformin              No         No         No         No   \nglimepiride-pioglitazone         No         No         No         No   \nmetformin-rosiglitazone          No         No         No         No   \nmetformin-pioglitazone           No         No         No         No   \nchange                           No         Ch         No         Ch   \ndiabetesMed                     Yes        Yes        Yes        Yes   \nreadmitted                      >30         NO        >30         NO   \ndiag_1_cat                        1          1          1          1   \ndiag_2_cat                        1          1          2          1   \ndiag_3_cat                        4          9          4          9   \n\n                                 9                10  \nencounter_id                  15738            28236  \npatient_nbr                63555939         89869032  \nrace                      Caucasian  AfricanAmerican  \ngender                       Female           Female  \nage                        [90-100)          [40-50)  \nadmission_type_id                 3                1  \ndischarge_disposition_id          3                1  \nadmission_source_id               4                7  \ntime_in_hospital                 12                9  \nnum_lab_procedures               33               47  \nnum_procedures                    3                2  \nnum_medications                  18               17  \nnumber_outpatient                 0                0  \nnumber_emergency                  0                0  \nnumber_inpatient                  0                0  \ndiag_1                          434            250.7  \ndiag_2                          198              403  \ndiag_3                          486              996  \nnumber_diagnoses                  8                9  \nmax_glu_serum                  None             None  \nA1Cresult                      None             None  \nmetformin                        No               No  \nrepaglinide                      No               No  \nnateglinide                      No               No  \nchlorpropamide                   No               No  \nglimepiride                      No               No  \nacetohexamide                    No               No  \nglipizide                        No               No  \nglyburide                        No               No  \ntolbutamide                      No               No  \npioglitazone                     No               No  \nrosiglitazone                Steady               No  \nacarbose                         No               No  \nmiglitol                         No               No  \ntroglitazone                     No               No  \ntolazamide                       No               No  \nexamide                          No               No  \ncitoglipton                      No               No  \ninsulin                      Steady           Steady  \nglyburide-metformin              No               No  \nglipizide-metformin              No               No  \nglimepiride-pioglitazone         No               No  \nmetformin-rosiglitazone          No               No  \nmetformin-pioglitazone           No               No  \nchange                           Ch               No  \ndiabetesMed                     Yes              Yes  \nreadmitted                       NO              >30  \ndiag_1_cat                        1                4  \ndiag_2_cat                        8                1  \ndiag_3_cat                        2                5  ",
      "text/html": "<div>\n<style scoped>\n    .dataframe tbody tr th:only-of-type {\n        vertical-align: middle;\n    }\n\n    .dataframe tbody tr th {\n        vertical-align: top;\n    }\n\n    .dataframe thead th {\n        text-align: right;\n    }\n</style>\n<table border=\"1\" class=\"dataframe\">\n  <thead>\n    <tr style=\"text-align: right;\">\n      <th></th>\n      <th>1</th>\n      <th>2</th>\n      <th>3</th>\n      <th>4</th>\n      <th>5</th>\n      <th>6</th>\n      <th>7</th>\n      <th>8</th>\n      <th>9</th>\n      <th>10</th>\n    </tr>\n  </thead>\n  <tbody>\n    <tr>\n      <th>encounter_id</th>\n      <td>149190</td>\n      <td>64410</td>\n      <td>500364</td>\n      <td>16680</td>\n      <td>35754</td>\n      <td>55842</td>\n      <td>63768</td>\n      <td>12522</td>\n      <td>15738</td>\n      <td>28236</td>\n    </tr>\n    <tr>\n      <th>patient_nbr</th>\n      <td>55629189</td>\n      <td>86047875</td>\n      <td>82442376</td>\n      <td>42519267</td>\n      <td>82637451</td>\n      <td>84259809</td>\n      <td>114882984</td>\n      <td>48330783</td>\n      <td>63555939</td>\n      <td>89869032</td>\n    </tr>\n    <tr>\n      <th>race</th>\n      <td>Caucasian</td>\n      <td>AfricanAmerican</td>\n      <td>Caucasian</td>\n      <td>Caucasian</td>\n      <td>Caucasian</td>\n      <td>Caucasian</td>\n      <td>Caucasian</td>\n      <td>Caucasian</td>\n      <td>Caucasian</td>\n      <td>AfricanAmerican</td>\n    </tr>\n    <tr>\n      <th>gender</th>\n      <td>Female</td>\n      <td>Female</td>\n      <td>Male</td>\n      <td>Male</td>\n      <td>Male</td>\n      <td>Male</td>\n      <td>Male</td>\n      <td>Female</td>\n      <td>Female</td>\n      <td>Female</td>\n    </tr>\n    <tr>\n      <th>age</th>\n      <td>[10-20)</td>\n      <td>[20-30)</td>\n      <td>[30-40)</td>\n      <td>[40-50)</td>\n      <td>[50-60)</td>\n      <td>[60-70)</td>\n      <td>[70-80)</td>\n      <td>[80-90)</td>\n      <td>[90-100)</td>\n      <td>[40-50)</td>\n    </tr>\n    <tr>\n      <th>admission_type_id</th>\n      <td>1</td>\n      <td>1</td>\n      <td>1</td>\n      <td>1</td>\n      <td>2</td>\n      <td>3</td>\n      <td>1</td>\n      <td>2</td>\n      <td>3</td>\n      <td>1</td>\n    </tr>\n    <tr>\n      <th>discharge_disposition_id</th>\n      <td>1</td>\n      <td>1</td>\n      <td>1</td>\n      <td>1</td>\n      <td>1</td>\n      <td>1</td>\n      <td>1</td>\n      <td>1</td>\n      <td>3</td>\n      <td>1</td>\n    </tr>\n    <tr>\n      <th>admission_source_id</th>\n      <td>7</td>\n      <td>7</td>\n      <td>7</td>\n      <td>7</td>\n      <td>2</td>\n      <td>2</td>\n      <td>7</td>\n      <td>4</td>\n      <td>4</td>\n      <td>7</td>\n    </tr>\n    <tr>\n      <th>time_in_hospital</th>\n      <td>3</td>\n      <td>2</td>\n      <td>2</td>\n      <td>1</td>\n      <td>3</td>\n      <td>4</td>\n      <td>5</td>\n      <td>13</td>\n      <td>12</td>\n      <td>9</td>\n    </tr>\n    <tr>\n      <th>num_lab_procedures</th>\n      <td>59</td>\n      <td>11</td>\n      <td>44</td>\n      <td>51</td>\n      <td>31</td>\n      <td>70</td>\n      <td>73</td>\n      <td>68</td>\n      <td>33</td>\n      <td>47</td>\n    </tr>\n    <tr>\n      <th>num_procedures</th>\n      <td>0</td>\n      <td>5</td>\n      <td>1</td>\n      <td>0</td>\n      <td>6</td>\n      <td>1</td>\n      <td>0</td>\n      <td>2</td>\n      <td>3</td>\n      <td>2</td>\n    </tr>\n    <tr>\n      <th>num_medications</th>\n      <td>18</td>\n      <td>13</td>\n      <td>16</td>\n      <td>8</td>\n      <td>16</td>\n      <td>21</td>\n      <td>12</td>\n      <td>28</td>\n      <td>18</td>\n      <td>17</td>\n    </tr>\n    <tr>\n      <th>number_outpatient</th>\n      <td>0</td>\n      <td>2</td>\n      <td>0</td>\n      <td>0</td>\n      <td>0</td>\n      <td>0</td>\n      <td>0</td>\n      <td>0</td>\n      <td>0</td>\n      <td>0</td>\n    </tr>\n    <tr>\n      <th>number_emergency</th>\n      <td>0</td>\n      <td>0</td>\n      <td>0</td>\n      <td>0</td>\n      <td>0</td>\n      <td>0</td>\n      <td>0</td>\n      <td>0</td>\n      <td>0</td>\n      <td>0</td>\n    </tr>\n    <tr>\n      <th>number_inpatient</th>\n      <td>0</td>\n      <td>1</td>\n      <td>0</td>\n      <td>0</td>\n      <td>0</td>\n      <td>0</td>\n      <td>0</td>\n      <td>0</td>\n      <td>0</td>\n      <td>0</td>\n    </tr>\n    <tr>\n      <th>diag_1</th>\n      <td>276</td>\n      <td>648</td>\n      <td>8</td>\n      <td>197</td>\n      <td>414</td>\n      <td>414</td>\n      <td>428</td>\n      <td>398</td>\n      <td>434</td>\n      <td>250.7</td>\n    </tr>\n    <tr>\n      <th>diag_2</th>\n      <td>250.01</td>\n      <td>250</td>\n      <td>250.43</td>\n      <td>157</td>\n      <td>411</td>\n      <td>411</td>\n      <td>492</td>\n      <td>427</td>\n      <td>198</td>\n      <td>403</td>\n    </tr>\n    <tr>\n      <th>diag_3</th>\n      <td>255</td>\n      <td>V27</td>\n      <td>403</td>\n      <td>250</td>\n      <td>250</td>\n      <td>V45</td>\n      <td>250</td>\n      <td>38</td>\n      <td>486</td>\n      <td>996</td>\n    </tr>\n    <tr>\n      <th>number_diagnoses</th>\n      <td>9</td>\n      <td>6</td>\n      <td>7</td>\n      <td>5</td>\n      <td>9</td>\n      <td>7</td>\n      <td>8</td>\n      <td>8</td>\n      <td>8</td>\n      <td>9</td>\n    </tr>\n    <tr>\n      <th>max_glu_serum</th>\n      <td>None</td>\n      <td>None</td>\n      <td>None</td>\n      <td>None</td>\n      <td>None</td>\n      <td>None</td>\n      <td>None</td>\n      <td>None</td>\n      <td>None</td>\n      <td>None</td>\n    </tr>\n    <tr>\n      <th>A1Cresult</th>\n      <td>None</td>\n      <td>None</td>\n      <td>None</td>\n      <td>None</td>\n      <td>None</td>\n      <td>None</td>\n      <td>None</td>\n      <td>None</td>\n      <td>None</td>\n      <td>None</td>\n    </tr>\n    <tr>\n      <th>metformin</th>\n      <td>No</td>\n      <td>No</td>\n      <td>No</td>\n      <td>No</td>\n      <td>No</td>\n      <td>Steady</td>\n      <td>No</td>\n      <td>No</td>\n      <td>No</td>\n      <td>No</td>\n    </tr>\n    <tr>\n      <th>repaglinide</th>\n      <td>No</td>\n      <td>No</td>\n      <td>No</td>\n      <td>No</td>\n      <td>No</td>\n      <td>No</td>\n      <td>No</td>\n      <td>No</td>\n      <td>No</td>\n      <td>No</td>\n    </tr>\n    <tr>\n      <th>nateglinide</th>\n      <td>No</td>\n      <td>No</td>\n      <td>No</td>\n      <td>No</td>\n      <td>No</td>\n      <td>No</td>\n      <td>No</td>\n      <td>No</td>\n      <td>No</td>\n      <td>No</td>\n    </tr>\n    <tr>\n      <th>chlorpropamide</th>\n      <td>No</td>\n      <td>No</td>\n      <td>No</td>\n      <td>No</td>\n      <td>No</td>\n      <td>No</td>\n      <td>No</td>\n      <td>No</td>\n      <td>No</td>\n      <td>No</td>\n    </tr>\n    <tr>\n      <th>glimepiride</th>\n      <td>No</td>\n      <td>No</td>\n      <td>No</td>\n      <td>No</td>\n      <td>No</td>\n      <td>Steady</td>\n      <td>No</td>\n      <td>No</td>\n      <td>No</td>\n      <td>No</td>\n    </tr>\n    <tr>\n      <th>acetohexamide</th>\n      <td>No</td>\n      <td>No</td>\n      <td>No</td>\n      <td>No</td>\n      <td>No</td>\n      <td>No</td>\n      <td>No</td>\n      <td>No</td>\n      <td>No</td>\n      <td>No</td>\n    </tr>\n    <tr>\n      <th>glipizide</th>\n      <td>No</td>\n      <td>Steady</td>\n      <td>No</td>\n      <td>Steady</td>\n      <td>No</td>\n      <td>No</td>\n      <td>No</td>\n      <td>Steady</td>\n      <td>No</td>\n      <td>No</td>\n    </tr>\n    <tr>\n      <th>glyburide</th>\n      <td>No</td>\n      <td>No</td>\n      <td>No</td>\n      <td>No</td>\n      <td>No</td>\n      <td>No</td>\n      <td>Steady</td>\n      <td>No</td>\n      <td>No</td>\n      <td>No</td>\n    </tr>\n    <tr>\n      <th>tolbutamide</th>\n      <td>No</td>\n      <td>No</td>\n      <td>No</td>\n      <td>No</td>\n      <td>No</td>\n      <td>No</td>\n      <td>No</td>\n      <td>No</td>\n      <td>No</td>\n      <td>No</td>\n    </tr>\n    <tr>\n      <th>pioglitazone</th>\n      <td>No</td>\n      <td>No</td>\n      <td>No</td>\n      <td>No</td>\n      <td>No</td>\n      <td>No</td>\n      <td>No</td>\n      <td>No</td>\n      <td>No</td>\n      <td>No</td>\n    </tr>\n    <tr>\n      <th>rosiglitazone</th>\n      <td>No</td>\n      <td>No</td>\n      <td>No</td>\n      <td>No</td>\n      <td>No</td>\n      <td>No</td>\n      <td>No</td>\n      <td>No</td>\n      <td>Steady</td>\n      <td>No</td>\n    </tr>\n    <tr>\n      <th>acarbose</th>\n      <td>No</td>\n      <td>No</td>\n      <td>No</td>\n      <td>No</td>\n      <td>No</td>\n      <td>No</td>\n      <td>No</td>\n      <td>No</td>\n      <td>No</td>\n      <td>No</td>\n    </tr>\n    <tr>\n      <th>miglitol</th>\n      <td>No</td>\n      <td>No</td>\n      <td>No</td>\n      <td>No</td>\n      <td>No</td>\n      <td>No</td>\n      <td>No</td>\n      <td>No</td>\n      <td>No</td>\n      <td>No</td>\n    </tr>\n    <tr>\n      <th>troglitazone</th>\n      <td>No</td>\n      <td>No</td>\n      <td>No</td>\n      <td>No</td>\n      <td>No</td>\n      <td>No</td>\n      <td>No</td>\n      <td>No</td>\n      <td>No</td>\n      <td>No</td>\n    </tr>\n    <tr>\n      <th>tolazamide</th>\n      <td>No</td>\n      <td>No</td>\n      <td>No</td>\n      <td>No</td>\n      <td>No</td>\n      <td>No</td>\n      <td>No</td>\n      <td>No</td>\n      <td>No</td>\n      <td>No</td>\n    </tr>\n    <tr>\n      <th>examide</th>\n      <td>No</td>\n      <td>No</td>\n      <td>No</td>\n      <td>No</td>\n      <td>No</td>\n      <td>No</td>\n      <td>No</td>\n      <td>No</td>\n      <td>No</td>\n      <td>No</td>\n    </tr>\n    <tr>\n      <th>citoglipton</th>\n      <td>No</td>\n      <td>No</td>\n      <td>No</td>\n      <td>No</td>\n      <td>No</td>\n      <td>No</td>\n      <td>No</td>\n      <td>No</td>\n      <td>No</td>\n      <td>No</td>\n    </tr>\n    <tr>\n      <th>insulin</th>\n      <td>Up</td>\n      <td>No</td>\n      <td>Up</td>\n      <td>Steady</td>\n      <td>Steady</td>\n      <td>Steady</td>\n      <td>No</td>\n      <td>Steady</td>\n      <td>Steady</td>\n      <td>Steady</td>\n    </tr>\n    <tr>\n      <th>glyburide-metformin</th>\n      <td>No</td>\n      <td>No</td>\n      <td>No</td>\n      <td>No</td>\n      <td>No</td>\n      <td>No</td>\n      <td>No</td>\n      <td>No</td>\n      <td>No</td>\n      <td>No</td>\n    </tr>\n    <tr>\n      <th>glipizide-metformin</th>\n      <td>No</td>\n      <td>No</td>\n      <td>No</td>\n      <td>No</td>\n      <td>No</td>\n      <td>No</td>\n      <td>No</td>\n      <td>No</td>\n      <td>No</td>\n      <td>No</td>\n    </tr>\n    <tr>\n      <th>glimepiride-pioglitazone</th>\n      <td>No</td>\n      <td>No</td>\n      <td>No</td>\n      <td>No</td>\n      <td>No</td>\n      <td>No</td>\n      <td>No</td>\n      <td>No</td>\n      <td>No</td>\n      <td>No</td>\n    </tr>\n    <tr>\n      <th>metformin-rosiglitazone</th>\n      <td>No</td>\n      <td>No</td>\n      <td>No</td>\n      <td>No</td>\n      <td>No</td>\n      <td>No</td>\n      <td>No</td>\n      <td>No</td>\n      <td>No</td>\n      <td>No</td>\n    </tr>\n    <tr>\n      <th>metformin-pioglitazone</th>\n      <td>No</td>\n      <td>No</td>\n      <td>No</td>\n      <td>No</td>\n      <td>No</td>\n      <td>No</td>\n      <td>No</td>\n      <td>No</td>\n      <td>No</td>\n      <td>No</td>\n    </tr>\n    <tr>\n      <th>change</th>\n      <td>Ch</td>\n      <td>No</td>\n      <td>Ch</td>\n      <td>Ch</td>\n      <td>No</td>\n      <td>Ch</td>\n      <td>No</td>\n      <td>Ch</td>\n      <td>Ch</td>\n      <td>No</td>\n    </tr>\n    <tr>\n      <th>diabetesMed</th>\n      <td>Yes</td>\n      <td>Yes</td>\n      <td>Yes</td>\n      <td>Yes</td>\n      <td>Yes</td>\n      <td>Yes</td>\n      <td>Yes</td>\n      <td>Yes</td>\n      <td>Yes</td>\n      <td>Yes</td>\n    </tr>\n    <tr>\n      <th>readmitted</th>\n      <td>&gt;30</td>\n      <td>NO</td>\n      <td>NO</td>\n      <td>NO</td>\n      <td>&gt;30</td>\n      <td>NO</td>\n      <td>&gt;30</td>\n      <td>NO</td>\n      <td>NO</td>\n      <td>&gt;30</td>\n    </tr>\n    <tr>\n      <th>diag_1_cat</th>\n      <td>9</td>\n      <td>7</td>\n      <td>9</td>\n      <td>8</td>\n      <td>1</td>\n      <td>1</td>\n      <td>1</td>\n      <td>1</td>\n      <td>1</td>\n      <td>4</td>\n    </tr>\n    <tr>\n      <th>diag_2_cat</th>\n      <td>4</td>\n      <td>4</td>\n      <td>4</td>\n      <td>8</td>\n      <td>1</td>\n      <td>1</td>\n      <td>2</td>\n      <td>1</td>\n      <td>8</td>\n      <td>1</td>\n    </tr>\n    <tr>\n      <th>diag_3_cat</th>\n      <td>9</td>\n      <td>9</td>\n      <td>1</td>\n      <td>4</td>\n      <td>4</td>\n      <td>9</td>\n      <td>4</td>\n      <td>9</td>\n      <td>2</td>\n      <td>5</td>\n    </tr>\n  </tbody>\n</table>\n</div>"
     },
     "execution_count": 15,
     "metadata": {},
     "output_type": "execute_result"
    }
   ],
   "source": [
    "df.head(10).T\n",
    "#tools.count_value(df,'AfricanAmerican','race')\n",
    "#tools.count_value(df,'Caucasian','race')\n",
    "#tools.count_value(df,'Female','gender')\n",
    "#tools.count_value(df,'Male','gender')"
   ],
   "metadata": {
    "collapsed": false,
    "pycharm": {
     "name": "#%%\n"
    }
   }
  },
  {
   "cell_type": "markdown",
   "source": [],
   "metadata": {
    "collapsed": false
   }
  }
 ],
 "metadata": {
  "kernelspec": {
   "display_name": "Python 3",
   "language": "python",
   "name": "python3"
  },
  "language_info": {
   "codemirror_mode": {
    "name": "ipython",
    "version": 3
   },
   "file_extension": ".py",
   "mimetype": "text/x-python",
   "name": "python",
   "nbconvert_exporter": "python",
   "pygments_lexer": "ipython3",
   "version": "3.9.5"
  }
 },
 "nbformat": 4,
 "nbformat_minor": 1
}