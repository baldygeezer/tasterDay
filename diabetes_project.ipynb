{
 "cells": [
  {
   "cell_type": "markdown",
   "metadata": {
    "collapsed": true,
    "pycharm": {
     "name": "#%% md\n"
    }
   },
   "source": [
    "# 1:  setting up\n",
    "Luckily for us as programmers and data scientists we don't have to write all our code from scratch.\n",
    "There are a lot of code libraries and modules available for many of the common tasks we will need to carry out.\n",
    "The first step, before we start looking at data is to load some of these modules so that we can call on them in our code.The modules we are going to import are:\n",
    "\n",
    "- pandas: a popular general-purpose data analysis library which allows importing data from various file formats. It also provides useful data structures which can be used to examine and edit data\n",
    "\n",
    "- numpy: a popular library for performing mathematical operations, particularly with matrices and arrays.\n",
    "\n",
    "- matplotlib: a library for plotting charts and other visualisations.\n",
    "\n",
    "- Seaborn: a library which uses matplotlib and provides extra functions for visualising statistical analysis results.\n",
    "\n",
    "- toolbox_module: this contains some python functions we wrote to perform complex tasks which need very long blocks of code.\n",
    "importing them means we don't have to write them in this notebook, making it easier for you to read. As you progress with\n",
    "python you will do this a lot with your own code.\n",
    "\n",
    "You will need to run the code in the next cell so that al the code that relies on these libraries can work."
   ]
  },
  {
   "cell_type": "code",
   "execution_count": 42,
   "metadata": {
    "pycharm": {
     "name": "#%%\n"
    }
   },
   "outputs": [],
   "source": [
    "#Loading libraries\n",
    "import pandas as pd\n",
    "import numpy as np\n",
    "import matplotlib.pyplot as plt\n",
    "import seaborn as sns\n",
    "import toolbox_module as tools\n",
    "import sklearn"
   ]
  },
  {
   "cell_type": "markdown",
   "metadata": {},
   "source": [
    "# 2: Loading the Data\n",
    "Now we are going to import the data set. It is in a .csv file in a folder called 'data' the same directory as this notebook.\n",
    "We are making a variable called 'df'. We also have access to a variable 'pd' which we created in the previous cell when\n",
    "we imported _pandas._ We are calling a function in pandas (pd) called 'read()' which uses the location of the data as a string argument to load a\n",
    "dataset into a pandas _dataframe_ (think of this as a table)"
   ]
  },
  {
   "cell_type": "code",
   "execution_count": 43,
   "metadata": {
    "pycharm": {
     "name": "#%%\n"
    }
   },
   "outputs": [],
   "source": [
    "# load the dataset\n",
    "df = pd.read_csv(\"data/diabetic_data.csv\")"
   ]
  },
  {
   "cell_type": "markdown",
   "metadata": {},
   "source": [
    "# Exploring the data\n",
    "Now we have our data in a dataframe we can start examining and manipulating it.\n",
    "Now let's explore the data. The first command we will use is in the cell below: `df.shape` this will return two values\n",
    "in parentheses (in Python we call this a _tuple_). The first value is the number of rows in our dataset; the second is the\n",
    "number of columns."
   ]
  },
  {
   "cell_type": "code",
   "execution_count": 44,
   "metadata": {
    "pycharm": {
     "name": "#%%\n"
    }
   },
   "outputs": [
    {
     "data": {
      "text/plain": "(101766, 50)"
     },
     "execution_count": 44,
     "metadata": {},
     "output_type": "execute_result"
    }
   ],
   "source": [
    "df.shape"
   ]
  },
  {
   "cell_type": "markdown",
   "metadata": {
    "pycharm": {
     "name": "#%% md\n"
    }
   },
   "source": [
    "### In your Notebook...\n",
    "1. How many rows of data are in this dataset?\n",
    "2. Could you open this data easily in Excel?\n",
    "\n",
    "The next command we will try is `.head()` By default this will display the first 5 lines of data. It is useful for\n",
    "giving a general idea of what the data looks like. If you put a number in the brackets it will return that amount of data\n",
    "\n",
    "### try...\n",
    "Type a number into the brackets and re-run the cell (if you tried to be a clever-clogs and typed 1000 like I would have\n",
    "done ;-) you can get rid of it by re-running the cell with a smaller number. \n",
    "If you type ````.T```` on the end it will flip the table view so the columns display as rows"
   ]
  },
  {
   "cell_type": "code",
   "execution_count": 45,
   "metadata": {
    "pycharm": {
     "name": "#%%\n"
    }
   },
   "outputs": [
    {
     "data": {
      "text/plain": "    encounter_id  patient_nbr             race  gender      age weight  \\\n0        2278392      8222157        Caucasian  Female   [0-10)      ?   \n1         149190     55629189        Caucasian  Female  [10-20)      ?   \n2          64410     86047875  AfricanAmerican  Female  [20-30)      ?   \n3         500364     82442376        Caucasian    Male  [30-40)      ?   \n4          16680     42519267        Caucasian    Male  [40-50)      ?   \n..           ...          ...              ...     ...      ...    ...   \n95       1195056     79549353        Caucasian    Male  [70-80)      ?   \n96       1195548    106343838        Caucasian  Female  [70-80)      ?   \n97       1212006     84981816        Caucasian    Male  [70-80)      ?   \n98       1257282     84488562            Other  Female  [50-60)      ?   \n99       1260216     92117574                ?    Male  [30-40)      ?   \n\n    admission_type_id  discharge_disposition_id  admission_source_id  \\\n0                   6                        25                    1   \n1                   1                         1                    7   \n2                   1                         1                    7   \n3                   1                         1                    7   \n4                   1                         1                    7   \n..                ...                       ...                  ...   \n95                  2                         1                    2   \n96                  1                         3                    7   \n97                  1                         1                    7   \n98                  1                         1                    7   \n99                  2                         6                    4   \n\n    time_in_hospital  ... citoglipton insulin  glyburide-metformin  \\\n0                  1  ...          No      No                   No   \n1                  3  ...          No      Up                   No   \n2                  2  ...          No      No                   No   \n3                  2  ...          No      Up                   No   \n4                  1  ...          No  Steady                   No   \n..               ...  ...         ...     ...                  ...   \n95                 1  ...          No  Steady                   No   \n96                 5  ...          No  Steady                   No   \n97                 3  ...          No    Down                   No   \n98                 2  ...          No      Up                   No   \n99                 6  ...          No  Steady                   No   \n\n    glipizide-metformin  glimepiride-pioglitazone  metformin-rosiglitazone  \\\n0                    No                        No                       No   \n1                    No                        No                       No   \n2                    No                        No                       No   \n3                    No                        No                       No   \n4                    No                        No                       No   \n..                  ...                       ...                      ...   \n95                   No                        No                       No   \n96                   No                        No                       No   \n97                   No                        No                       No   \n98                   No                        No                       No   \n99                   No                        No                       No   \n\n    metformin-pioglitazone  change diabetesMed readmitted  \n0                       No      No          No         NO  \n1                       No      Ch         Yes        >30  \n2                       No      No         Yes         NO  \n3                       No      Ch         Yes         NO  \n4                       No      Ch         Yes         NO  \n..                     ...     ...         ...        ...  \n95                      No      No         Yes        >30  \n96                      No      No         Yes        >30  \n97                      No      Ch         Yes         NO  \n98                      No      Ch         Yes         NO  \n99                      No      Ch         Yes        >30  \n\n[100 rows x 50 columns]",
      "text/html": "<div>\n<style scoped>\n    .dataframe tbody tr th:only-of-type {\n        vertical-align: middle;\n    }\n\n    .dataframe tbody tr th {\n        vertical-align: top;\n    }\n\n    .dataframe thead th {\n        text-align: right;\n    }\n</style>\n<table border=\"1\" class=\"dataframe\">\n  <thead>\n    <tr style=\"text-align: right;\">\n      <th></th>\n      <th>encounter_id</th>\n      <th>patient_nbr</th>\n      <th>race</th>\n      <th>gender</th>\n      <th>age</th>\n      <th>weight</th>\n      <th>admission_type_id</th>\n      <th>discharge_disposition_id</th>\n      <th>admission_source_id</th>\n      <th>time_in_hospital</th>\n      <th>...</th>\n      <th>citoglipton</th>\n      <th>insulin</th>\n      <th>glyburide-metformin</th>\n      <th>glipizide-metformin</th>\n      <th>glimepiride-pioglitazone</th>\n      <th>metformin-rosiglitazone</th>\n      <th>metformin-pioglitazone</th>\n      <th>change</th>\n      <th>diabetesMed</th>\n      <th>readmitted</th>\n    </tr>\n  </thead>\n  <tbody>\n    <tr>\n      <th>0</th>\n      <td>2278392</td>\n      <td>8222157</td>\n      <td>Caucasian</td>\n      <td>Female</td>\n      <td>[0-10)</td>\n      <td>?</td>\n      <td>6</td>\n      <td>25</td>\n      <td>1</td>\n      <td>1</td>\n      <td>...</td>\n      <td>No</td>\n      <td>No</td>\n      <td>No</td>\n      <td>No</td>\n      <td>No</td>\n      <td>No</td>\n      <td>No</td>\n      <td>No</td>\n      <td>No</td>\n      <td>NO</td>\n    </tr>\n    <tr>\n      <th>1</th>\n      <td>149190</td>\n      <td>55629189</td>\n      <td>Caucasian</td>\n      <td>Female</td>\n      <td>[10-20)</td>\n      <td>?</td>\n      <td>1</td>\n      <td>1</td>\n      <td>7</td>\n      <td>3</td>\n      <td>...</td>\n      <td>No</td>\n      <td>Up</td>\n      <td>No</td>\n      <td>No</td>\n      <td>No</td>\n      <td>No</td>\n      <td>No</td>\n      <td>Ch</td>\n      <td>Yes</td>\n      <td>&gt;30</td>\n    </tr>\n    <tr>\n      <th>2</th>\n      <td>64410</td>\n      <td>86047875</td>\n      <td>AfricanAmerican</td>\n      <td>Female</td>\n      <td>[20-30)</td>\n      <td>?</td>\n      <td>1</td>\n      <td>1</td>\n      <td>7</td>\n      <td>2</td>\n      <td>...</td>\n      <td>No</td>\n      <td>No</td>\n      <td>No</td>\n      <td>No</td>\n      <td>No</td>\n      <td>No</td>\n      <td>No</td>\n      <td>No</td>\n      <td>Yes</td>\n      <td>NO</td>\n    </tr>\n    <tr>\n      <th>3</th>\n      <td>500364</td>\n      <td>82442376</td>\n      <td>Caucasian</td>\n      <td>Male</td>\n      <td>[30-40)</td>\n      <td>?</td>\n      <td>1</td>\n      <td>1</td>\n      <td>7</td>\n      <td>2</td>\n      <td>...</td>\n      <td>No</td>\n      <td>Up</td>\n      <td>No</td>\n      <td>No</td>\n      <td>No</td>\n      <td>No</td>\n      <td>No</td>\n      <td>Ch</td>\n      <td>Yes</td>\n      <td>NO</td>\n    </tr>\n    <tr>\n      <th>4</th>\n      <td>16680</td>\n      <td>42519267</td>\n      <td>Caucasian</td>\n      <td>Male</td>\n      <td>[40-50)</td>\n      <td>?</td>\n      <td>1</td>\n      <td>1</td>\n      <td>7</td>\n      <td>1</td>\n      <td>...</td>\n      <td>No</td>\n      <td>Steady</td>\n      <td>No</td>\n      <td>No</td>\n      <td>No</td>\n      <td>No</td>\n      <td>No</td>\n      <td>Ch</td>\n      <td>Yes</td>\n      <td>NO</td>\n    </tr>\n    <tr>\n      <th>...</th>\n      <td>...</td>\n      <td>...</td>\n      <td>...</td>\n      <td>...</td>\n      <td>...</td>\n      <td>...</td>\n      <td>...</td>\n      <td>...</td>\n      <td>...</td>\n      <td>...</td>\n      <td>...</td>\n      <td>...</td>\n      <td>...</td>\n      <td>...</td>\n      <td>...</td>\n      <td>...</td>\n      <td>...</td>\n      <td>...</td>\n      <td>...</td>\n      <td>...</td>\n      <td>...</td>\n    </tr>\n    <tr>\n      <th>95</th>\n      <td>1195056</td>\n      <td>79549353</td>\n      <td>Caucasian</td>\n      <td>Male</td>\n      <td>[70-80)</td>\n      <td>?</td>\n      <td>2</td>\n      <td>1</td>\n      <td>2</td>\n      <td>1</td>\n      <td>...</td>\n      <td>No</td>\n      <td>Steady</td>\n      <td>No</td>\n      <td>No</td>\n      <td>No</td>\n      <td>No</td>\n      <td>No</td>\n      <td>No</td>\n      <td>Yes</td>\n      <td>&gt;30</td>\n    </tr>\n    <tr>\n      <th>96</th>\n      <td>1195548</td>\n      <td>106343838</td>\n      <td>Caucasian</td>\n      <td>Female</td>\n      <td>[70-80)</td>\n      <td>?</td>\n      <td>1</td>\n      <td>3</td>\n      <td>7</td>\n      <td>5</td>\n      <td>...</td>\n      <td>No</td>\n      <td>Steady</td>\n      <td>No</td>\n      <td>No</td>\n      <td>No</td>\n      <td>No</td>\n      <td>No</td>\n      <td>No</td>\n      <td>Yes</td>\n      <td>&gt;30</td>\n    </tr>\n    <tr>\n      <th>97</th>\n      <td>1212006</td>\n      <td>84981816</td>\n      <td>Caucasian</td>\n      <td>Male</td>\n      <td>[70-80)</td>\n      <td>?</td>\n      <td>1</td>\n      <td>1</td>\n      <td>7</td>\n      <td>3</td>\n      <td>...</td>\n      <td>No</td>\n      <td>Down</td>\n      <td>No</td>\n      <td>No</td>\n      <td>No</td>\n      <td>No</td>\n      <td>No</td>\n      <td>Ch</td>\n      <td>Yes</td>\n      <td>NO</td>\n    </tr>\n    <tr>\n      <th>98</th>\n      <td>1257282</td>\n      <td>84488562</td>\n      <td>Other</td>\n      <td>Female</td>\n      <td>[50-60)</td>\n      <td>?</td>\n      <td>1</td>\n      <td>1</td>\n      <td>7</td>\n      <td>2</td>\n      <td>...</td>\n      <td>No</td>\n      <td>Up</td>\n      <td>No</td>\n      <td>No</td>\n      <td>No</td>\n      <td>No</td>\n      <td>No</td>\n      <td>Ch</td>\n      <td>Yes</td>\n      <td>NO</td>\n    </tr>\n    <tr>\n      <th>99</th>\n      <td>1260216</td>\n      <td>92117574</td>\n      <td>?</td>\n      <td>Male</td>\n      <td>[30-40)</td>\n      <td>?</td>\n      <td>2</td>\n      <td>6</td>\n      <td>4</td>\n      <td>6</td>\n      <td>...</td>\n      <td>No</td>\n      <td>Steady</td>\n      <td>No</td>\n      <td>No</td>\n      <td>No</td>\n      <td>No</td>\n      <td>No</td>\n      <td>Ch</td>\n      <td>Yes</td>\n      <td>&gt;30</td>\n    </tr>\n  </tbody>\n</table>\n<p>100 rows × 50 columns</p>\n</div>"
     },
     "execution_count": 45,
     "metadata": {},
     "output_type": "execute_result"
    }
   ],
   "source": [
    "# type your code below\n",
    "df.head(100)"
   ]
  },
  {
   "cell_type": "markdown",
   "metadata": {
    "pycharm": {
     "name": "#%% md\n"
    }
   },
   "source": [
    "#we could put the stacktrace bit in the getting started section....\n",
    "If everything went OK you should see the first 5 rows of data. If not you will see a lot of red text called a _stack trace_.\n",
    "Don't worry about this. It might look alarming but it often includes helpful information about where you went wrong.\n",
    "If you do see a stack trace, make sure your code in the cell above looks like this `df.head()` once it does, and you\n",
    "re-run the cell the stacktrace will be gone.\n",
    "### try\n",
    "replace `df.head()` with `df.hea()`\n",
    "### in your Notebook\n",
    "What did the output look like?  Look at it carefully. How might that help you work out\n",
    "what went wrong?\n",
    "\n",
    "now put df.head() back into the cell and re-run it.\n",
    "\n",
    "The dataset should have 101766 rows, and 50 columns. That's a lot of data to make sense of, but we have the tools!\n",
    "Let's see what types of data we have. The command to do this is `df.dtypes` try it in the cell below."
   ]
  },
  {
   "cell_type": "code",
   "execution_count": 46,
   "metadata": {
    "pycharm": {
     "name": "#%%\n"
    }
   },
   "outputs": [
    {
     "data": {
      "text/plain": "encounter_id                 int64\npatient_nbr                  int64\nrace                        object\ngender                      object\nage                         object\nweight                      object\nadmission_type_id            int64\ndischarge_disposition_id     int64\nadmission_source_id          int64\ntime_in_hospital             int64\npayer_code                  object\nmedical_specialty           object\nnum_lab_procedures           int64\nnum_procedures               int64\nnum_medications              int64\nnumber_outpatient            int64\nnumber_emergency             int64\nnumber_inpatient             int64\ndiag_1                      object\ndiag_2                      object\ndiag_3                      object\nnumber_diagnoses             int64\nmax_glu_serum               object\nA1Cresult                   object\nmetformin                   object\nrepaglinide                 object\nnateglinide                 object\nchlorpropamide              object\nglimepiride                 object\nacetohexamide               object\nglipizide                   object\nglyburide                   object\ntolbutamide                 object\npioglitazone                object\nrosiglitazone               object\nacarbose                    object\nmiglitol                    object\ntroglitazone                object\ntolazamide                  object\nexamide                     object\ncitoglipton                 object\ninsulin                     object\nglyburide-metformin         object\nglipizide-metformin         object\nglimepiride-pioglitazone    object\nmetformin-rosiglitazone     object\nmetformin-pioglitazone      object\nchange                      object\ndiabetesMed                 object\nreadmitted                  object\ndtype: object"
     },
     "execution_count": 46,
     "metadata": {},
     "output_type": "execute_result"
    }
   ],
   "source": [
    "df.dtypes"
   ]
  },
  {
   "cell_type": "markdown",
   "metadata": {
    "pycharm": {
     "name": "#%% md\n"
    }
   },
   "source": [
    "Next to each column you can see data type. for example _int64_ is an integer. When Pandas isn't sure what\n",
    "the type should be it uses 'object'. These are mostly strings as this is data coming from a .CSV file.\n",
    "Now we know what our data looks like lets make sure it is in a suitable state for us to analyse. One of the first things\n",
    "to do is deal with any missing values.\n",
    "\n",
    "In this dataset, missing values are represented by a  “?”  So if we search every column which has a type of “object” to\n",
    "see if there are any “?” values, and then count them, we can see the extent of any missing data problem."
   ]
  },
  {
   "cell_type": "code",
   "execution_count": 47,
   "metadata": {
    "pycharm": {
     "name": "#%%\n"
    }
   },
   "outputs": [
    {
     "name": "stdout",
     "output_type": "stream",
     "text": [
      "race 2273\n",
      "gender 0\n",
      "age 0\n",
      "weight 98569\n",
      "payer_code 40256\n",
      "medical_specialty 49949\n",
      "diag_1 21\n",
      "diag_2 358\n",
      "diag_3 1423\n",
      "max_glu_serum 0\n",
      "A1Cresult 0\n",
      "metformin 0\n",
      "repaglinide 0\n",
      "nateglinide 0\n",
      "chlorpropamide 0\n",
      "glimepiride 0\n",
      "acetohexamide 0\n",
      "glipizide 0\n",
      "glyburide 0\n",
      "tolbutamide 0\n",
      "pioglitazone 0\n",
      "rosiglitazone 0\n",
      "acarbose 0\n",
      "miglitol 0\n",
      "troglitazone 0\n",
      "tolazamide 0\n",
      "examide 0\n",
      "citoglipton 0\n",
      "insulin 0\n",
      "glyburide-metformin 0\n",
      "glipizide-metformin 0\n",
      "glimepiride-pioglitazone 0\n",
      "metformin-rosiglitazone 0\n",
      "metformin-pioglitazone 0\n",
      "change 0\n",
      "diabetesMed 0\n",
      "readmitted 0\n"
     ]
    }
   ],
   "source": [
    "# for every column in the dataframe\n",
    "for col in df.columns:\n",
    "    # check if it has a datatype of 'object' - if it does\n",
    "    if df[col].dtype == object:\n",
    "        #print the column name and the count of the number of '?' values\n",
    "         print(col,df[col][df[col] == '?'].count())"
   ]
  },
  {
   "cell_type": "markdown",
   "metadata": {},
   "source": [
    "We know that 'Gender' is encoded differently with 'Unknown/Invalid' used to signify missing data.\n",
    "so:"
   ]
  },
  {
   "cell_type": "code",
   "execution_count": 48,
   "metadata": {
    "pycharm": {
     "name": "#%%\n"
    }
   },
   "outputs": [
    {
     "name": "stdout",
     "output_type": "stream",
     "text": [
      "gender 3\n"
     ]
    }
   ],
   "source": [
    "tools.count_value(df, 'Unknown/Invalid', 'gender')"
   ]
  },
  {
   "cell_type": "markdown",
   "metadata": {
    "pycharm": {
     "name": "#%% md\n"
    }
   },
   "source": [
    "## Cleaning up the Data: Missing Values.\n",
    "We can see that some columns have quite a few missing values. Weight is the worst affected with around 98% of\n",
    "the values missing. There is not much we can do to improve this situation so we will remove this column from the dataset.\n",
    "Payer code and medical specialty also have a lot of missing values so we will also drop these columns. 2 other variables\n",
    "the drugs named <drug names> all have the same values and therefore do not add any information, so we will also drop these"
   ]
  },
  {
   "cell_type": "code",
   "execution_count": 49,
   "metadata": {
    "pycharm": {
     "name": "#%%\n"
    }
   },
   "outputs": [],
   "source": [
    "# dropping columns with large number of missing values\n",
    "df = df.drop(['weight','payer_code','medical_specialty'], axis = 1)"
   ]
  },
  {
   "cell_type": "markdown",
   "metadata": {
    "pycharm": {
     "name": "#%% md\n"
    }
   },
   "source": [
    "The columns race, diagnoses and gender all have some missing values but far fewer than the columns we have just dropped.\n",
    "In this situation, we can just go in and delete those values. We will do this with a function from our toolbox module.\n",
    "Once we have done this we can rerun the code we used earlier to see what our dataset looks like now we have cleaned it\n",
    "up a bit"
   ]
  },
  {
   "cell_type": "code",
   "execution_count": 50,
   "metadata": {
    "pycharm": {
     "name": "#%%\n"
    }
   },
   "outputs": [],
   "source": [
    "tools.drop_values(df,'race','?')\n",
    "tools.drop_values(df,'diag_1', '?')\n",
    "tools.drop_values(df,'diag_2', '?')\n",
    "tools.drop_values(df,'diag_3', '?')\n",
    "tools.drop_values(df,'gender', 'Unknown/Invalid')"
   ]
  },
  {
   "cell_type": "markdown",
   "metadata": {
    "pycharm": {
     "name": "#%% md\n"
    }
   },
   "source": [
    "## Feature Engineering\n",
    "So we have cleaned up the data and now have a dataset free from missing values, but there are still some issues.\n",
    "The dataset wasn't designed specifically with machine learning in mind, and some of the variables need to be optimised.\n",
    "There are also some potential new features an algorithm could use.\n",
    "\n",
    "### Previous Diagnoses\n",
    "There are three columns in the dataframe: ``diag1``, ``diag2`` and ``diag3`` which are references to previous diagnoses.\n",
    "These use something called an IDC code to indicate what the diagnosis was.\n",
    "There are several hundred distinct values which are strings, mostly numeric.\n",
    "we can simplify this into something our model can make sense out of by categorising them. In another study, researchers\n",
    "used nine desease categories and we have done the same, assigning each a single digit identifier:\n",
    "circulatory = 1, respiratory = 2,digestive = 3,diabetes = 4,injury = 5,musculoskeletal = 6,\n",
    "genitourinary = 7, neoplasm = 8 and other = 9\n",
    "\n",
    "We have provided a function in the toolbox_module which does this for you: `convert_idc_disease_class()`\n",
    "This accepts a string and returns an integer between 1 and 9.\n",
    "#### try...\n",
    "patient x has a diag_1 code of '648'. what type of condition did they suffer from?"
   ]
  },
  {
   "cell_type": "code",
   "execution_count": 51,
   "metadata": {
    "pycharm": {
     "name": "#%%\n"
    }
   },
   "outputs": [
    {
     "data": {
      "text/plain": "7"
     },
     "execution_count": 51,
     "metadata": {},
     "output_type": "execute_result"
    }
   ],
   "source": [
    "#write your code below...\n",
    "tools.convert_idc_disease_class('648') #todo: delete me - I'm a solution"
   ]
  },
  {
   "cell_type": "markdown",
   "metadata": {
    "pycharm": {
     "name": "#%% md\n"
    }
   },
   "source": [
    "The three lines of code in the cell below apply this function to every row in the dataframe and put the result in a new\n",
    "column. This uses a feature you will come across in many programming languages, called a _lambda function_. It works by\n",
    "passing a bit of code as an argument to a function. The code then runs inside the function and enhances it.\n",
    "\n",
    "You can see the Keyword `Lambda` and `row`followed by a colon. `row` is a parameter for the dataframe's `apply` function.\n",
    "After the colon we pass our toolbox function which is applied to every row in the dataframe."
   ]
  },
  {
   "cell_type": "code",
   "execution_count": 52,
   "metadata": {},
   "outputs": [],
   "source": [
    "df['diag_1_cat']=df.apply(lambda row:tools.convert_idc_disease_class(row['diag_1']), axis=1)\n",
    "df['diag_2_cat']=df.apply(lambda row:tools.convert_idc_disease_class(row['diag_2']), axis=1)\n",
    "df['diag_3_cat']=df.apply(lambda row:tools.convert_idc_disease_class(row['diag_3']), axis=1)"
   ]
  },
  {
   "cell_type": "markdown",
   "metadata": {
    "pycharm": {
     "name": "#%% md\n"
    }
   },
   "source": [
    "Now lets run df head again. Can you see what's changed?"
   ]
  },
  {
   "cell_type": "code",
   "execution_count": 53,
   "metadata": {
    "pycharm": {
     "name": "#%%\n"
    }
   },
   "outputs": [
    {
     "data": {
      "text/plain": "                                1                2          3          4    \\\nencounter_id                 149190            64410     500364      16680   \npatient_nbr                55629189         86047875   82442376   42519267   \nrace                      Caucasian  AfricanAmerican  Caucasian  Caucasian   \ngender                       Female           Female       Male       Male   \nage                         [10-20)          [20-30)    [30-40)    [40-50)   \nadmission_type_id                 1                1          1          1   \ndischarge_disposition_id          1                1          1          1   \nadmission_source_id               7                7          7          7   \ntime_in_hospital                  3                2          2          1   \nnum_lab_procedures               59               11         44         51   \nnum_procedures                    0                5          1          0   \nnum_medications                  18               13         16          8   \nnumber_outpatient                 0                2          0          0   \nnumber_emergency                  0                0          0          0   \nnumber_inpatient                  0                1          0          0   \ndiag_1                          276              648          8        197   \ndiag_2                       250.01              250     250.43        157   \ndiag_3                          255              V27        403        250   \nnumber_diagnoses                  9                6          7          5   \nmax_glu_serum                  None             None       None       None   \nA1Cresult                      None             None       None       None   \nmetformin                        No               No         No         No   \nrepaglinide                      No               No         No         No   \nnateglinide                      No               No         No         No   \nchlorpropamide                   No               No         No         No   \nglimepiride                      No               No         No         No   \nacetohexamide                    No               No         No         No   \nglipizide                        No           Steady         No     Steady   \nglyburide                        No               No         No         No   \ntolbutamide                      No               No         No         No   \npioglitazone                     No               No         No         No   \nrosiglitazone                    No               No         No         No   \nacarbose                         No               No         No         No   \nmiglitol                         No               No         No         No   \ntroglitazone                     No               No         No         No   \ntolazamide                       No               No         No         No   \nexamide                          No               No         No         No   \ncitoglipton                      No               No         No         No   \ninsulin                          Up               No         Up     Steady   \nglyburide-metformin              No               No         No         No   \nglipizide-metformin              No               No         No         No   \nglimepiride-pioglitazone         No               No         No         No   \nmetformin-rosiglitazone          No               No         No         No   \nmetformin-pioglitazone           No               No         No         No   \nchange                           Ch               No         Ch         Ch   \ndiabetesMed                     Yes              Yes        Yes        Yes   \nreadmitted                      >30               NO         NO         NO   \ndiag_1_cat                        9                7          9          8   \ndiag_2_cat                        4                4          4          8   \ndiag_3_cat                        9                9          1          4   \n\n                                5          6          7          8    \\\nencounter_id                  35754      55842      63768      12522   \npatient_nbr                82637451   84259809  114882984   48330783   \nrace                      Caucasian  Caucasian  Caucasian  Caucasian   \ngender                         Male       Male       Male     Female   \nage                         [50-60)    [60-70)    [70-80)    [80-90)   \nadmission_type_id                 2          3          1          2   \ndischarge_disposition_id          1          1          1          1   \nadmission_source_id               2          2          7          4   \ntime_in_hospital                  3          4          5         13   \nnum_lab_procedures               31         70         73         68   \nnum_procedures                    6          1          0          2   \nnum_medications                  16         21         12         28   \nnumber_outpatient                 0          0          0          0   \nnumber_emergency                  0          0          0          0   \nnumber_inpatient                  0          0          0          0   \ndiag_1                          414        414        428        398   \ndiag_2                          411        411        492        427   \ndiag_3                          250        V45        250         38   \nnumber_diagnoses                  9          7          8          8   \nmax_glu_serum                  None       None       None       None   \nA1Cresult                      None       None       None       None   \nmetformin                        No     Steady         No         No   \nrepaglinide                      No         No         No         No   \nnateglinide                      No         No         No         No   \nchlorpropamide                   No         No         No         No   \nglimepiride                      No     Steady         No         No   \nacetohexamide                    No         No         No         No   \nglipizide                        No         No         No     Steady   \nglyburide                        No         No     Steady         No   \ntolbutamide                      No         No         No         No   \npioglitazone                     No         No         No         No   \nrosiglitazone                    No         No         No         No   \nacarbose                         No         No         No         No   \nmiglitol                         No         No         No         No   \ntroglitazone                     No         No         No         No   \ntolazamide                       No         No         No         No   \nexamide                          No         No         No         No   \ncitoglipton                      No         No         No         No   \ninsulin                      Steady     Steady         No     Steady   \nglyburide-metformin              No         No         No         No   \nglipizide-metformin              No         No         No         No   \nglimepiride-pioglitazone         No         No         No         No   \nmetformin-rosiglitazone          No         No         No         No   \nmetformin-pioglitazone           No         No         No         No   \nchange                           No         Ch         No         Ch   \ndiabetesMed                     Yes        Yes        Yes        Yes   \nreadmitted                      >30         NO        >30         NO   \ndiag_1_cat                        1          1          1          1   \ndiag_2_cat                        1          1          2          1   \ndiag_3_cat                        4          9          4          9   \n\n                                9                10   ...       98   \\\nencounter_id                  15738            28236  ...   1257282   \npatient_nbr                63555939         89869032  ...  84488562   \nrace                      Caucasian  AfricanAmerican  ...     Other   \ngender                       Female           Female  ...    Female   \nage                        [90-100)          [40-50)  ...   [50-60)   \nadmission_type_id                 3                1  ...         1   \ndischarge_disposition_id          3                1  ...         1   \nadmission_source_id               4                7  ...         7   \ntime_in_hospital                 12                9  ...         2   \nnum_lab_procedures               33               47  ...        53   \nnum_procedures                    3                2  ...         0   \nnum_medications                  18               17  ...         6   \nnumber_outpatient                 0                0  ...         0   \nnumber_emergency                  0                0  ...         0   \nnumber_inpatient                  0                0  ...         0   \ndiag_1                          434            250.7  ...       590   \ndiag_2                          198              403  ...    250.01   \ndiag_3                          486              996  ...       401   \nnumber_diagnoses                  8                9  ...         3   \nmax_glu_serum                  None             None  ...      None   \nA1Cresult                      None             None  ...        >8   \nmetformin                        No               No  ...        No   \nrepaglinide                      No               No  ...        No   \nnateglinide                      No               No  ...        No   \nchlorpropamide                   No               No  ...        No   \nglimepiride                      No               No  ...        No   \nacetohexamide                    No               No  ...        No   \nglipizide                        No               No  ...        No   \nglyburide                        No               No  ...        No   \ntolbutamide                      No               No  ...        No   \npioglitazone                     No               No  ...        No   \nrosiglitazone                Steady               No  ...        No   \nacarbose                         No               No  ...        No   \nmiglitol                         No               No  ...        No   \ntroglitazone                     No               No  ...        No   \ntolazamide                       No               No  ...        No   \nexamide                          No               No  ...        No   \ncitoglipton                      No               No  ...        No   \ninsulin                      Steady           Steady  ...        Up   \nglyburide-metformin              No               No  ...        No   \nglipizide-metformin              No               No  ...        No   \nglimepiride-pioglitazone         No               No  ...        No   \nmetformin-rosiglitazone          No               No  ...        No   \nmetformin-pioglitazone           No               No  ...        No   \nchange                           Ch               No  ...        Ch   \ndiabetesMed                     Yes              Yes  ...       Yes   \nreadmitted                       NO              >30  ...        NO   \ndiag_1_cat                        1                4  ...         7   \ndiag_2_cat                        8                1  ...         4   \ndiag_3_cat                        2                5  ...         1   \n\n                                100        101        102        103  \\\nencounter_id                1260312    1260894    1262736    1270524   \npatient_nbr                38688588   91530936   50253120   67897251   \nrace                      Caucasian  Caucasian  Caucasian  Caucasian   \ngender                         Male     Female     Female       Male   \nage                         [70-80)    [60-70)    [30-40)    [60-70)   \nadmission_type_id                 1          2          2          1   \ndischarge_disposition_id         11         11          1          2   \nadmission_source_id               7          2          4          7   \ntime_in_hospital                  9          7          3          1   \nnum_lab_procedures               56         73         22         59   \nnum_procedures                    2          0          1          0   \nnum_medications                  30         23         17         12   \nnumber_outpatient                 0          0          0          0   \nnumber_emergency                  0          0          0          0   \nnumber_inpatient                  0          0          0          0   \ndiag_1                          410        486        786        411   \ndiag_2                          491        511        413        401   \ndiag_3                          276     250.02        414        490   \nnumber_diagnoses                  9          9          8          7   \nmax_glu_serum                  None       None       None       None   \nA1Cresult                      None       None       None       Norm   \nmetformin                        No         No     Steady         No   \nrepaglinide                      No         No         No         No   \nnateglinide                      No         No         No         No   \nchlorpropamide                   No         No         No         No   \nglimepiride                      No         No         No         No   \nacetohexamide                    No         No         No         No   \nglipizide                        No         No         No         No   \nglyburide                        No         No         No         No   \ntolbutamide                      No         No         No         No   \npioglitazone                     No         No         No         No   \nrosiglitazone                    No         No         No         No   \nacarbose                         No         No         No         No   \nmiglitol                         No         No         No         No   \ntroglitazone                     No         No         No         No   \ntolazamide                       No         No         No         No   \nexamide                          No         No         No         No   \ncitoglipton                      No         No         No         No   \ninsulin                      Steady     Steady         No     Steady   \nglyburide-metformin              No         No         No         No   \nglipizide-metformin              No         No         No         No   \nglimepiride-pioglitazone         No         No         No         No   \nmetformin-rosiglitazone          No         No         No         No   \nmetformin-pioglitazone           No         No         No         No   \nchange                           No         No         No         No   \ndiabetesMed                     Yes        Yes        Yes        Yes   \nreadmitted                       NO         NO         NO         NO   \ndiag_1_cat                        1          2          2          1   \ndiag_2_cat                        2          2          1          1   \ndiag_3_cat                        9          4          1          2   \n\n                                      104        105       106        107  \\\nencounter_id                      1274802    1414158   1445010    1455252   \npatient_nbr                      71003736   48925980  23807808   96440301   \nrace                      AfricanAmerican  Caucasian     Other  Caucasian   \ngender                             Female       Male    Female     Female   \nage                               [70-80)    [80-90)   [50-60)    [80-90)   \nadmission_type_id                       1          1         1          1   \ndischarge_disposition_id                1          6         1          1   \nadmission_source_id                     7          7         7          7   \ntime_in_hospital                        3          2         9          3   \nnum_lab_procedures                     31         34        96         34   \nnum_procedures                          2          0         3          0   \nnum_medications                        11          9        20         11   \nnumber_outpatient                       0          0         0          0   \nnumber_emergency                        0          0         0          0   \nnumber_inpatient                        0          0         0          0   \ndiag_1                                578        707    250.32        427   \ndiag_2                                 53        780       518        428   \ndiag_3                                562      250.8       482        414   \nnumber_diagnoses                        9          7         9          8   \nmax_glu_serum                        None       None      None       None   \nA1Cresult                            None       None      None       Norm   \nmetformin                              No         No        No         No   \nrepaglinide                            No         No        No         No   \nnateglinide                            No         No        No         No   \nchlorpropamide                         No         No        No         No   \nglimepiride                            No         No        No         No   \nacetohexamide                          No         No        No         No   \nglipizide                              No         No        No         No   \nglyburide                              No         No        No         No   \ntolbutamide                            No         No        No         No   \npioglitazone                           No         No        No         No   \nrosiglitazone                          No         No        No         No   \nacarbose                               No         No        No         No   \nmiglitol                               No         No        No         No   \ntroglitazone                           No         No        No         No   \ntolazamide                             No         No        No         No   \nexamide                                No         No        No         No   \ncitoglipton                            No         No        No         No   \ninsulin                              Down         No        Up         No   \nglyburide-metformin                    No         No        No         No   \nglipizide-metformin                    No         No        No         No   \nglimepiride-pioglitazone               No         No        No         No   \nmetformin-rosiglitazone                No         No        No         No   \nmetformin-pioglitazone                 No         No        No         No   \nchange                                 Ch         No        Ch         No   \ndiabetesMed                           Yes         No       Yes         No   \nreadmitted                             NO        >30        NO        >30   \ndiag_1_cat                              3          9         4          1   \ndiag_2_cat                              9          9         2          1   \ndiag_3_cat                              3          4         2          1   \n\n                                108  \nencounter_id                1517730  \npatient_nbr               105882957  \nrace                      Caucasian  \ngender                         Male  \nage                         [60-70)  \nadmission_type_id                 2  \ndischarge_disposition_id          1  \nadmission_source_id               2  \ntime_in_hospital                  1  \nnum_lab_procedures               35  \nnum_procedures                    1  \nnum_medications                  26  \nnumber_outpatient                 0  \nnumber_emergency                  0  \nnumber_inpatient                  0  \ndiag_1                          433  \ndiag_2                          414  \ndiag_3                          V45  \nnumber_diagnoses                  5  \nmax_glu_serum                  None  \nA1Cresult                      None  \nmetformin                        No  \nrepaglinide                      No  \nnateglinide                      No  \nchlorpropamide                   No  \nglimepiride                      No  \nacetohexamide                    No  \nglipizide                        No  \nglyburide                        No  \ntolbutamide                      No  \npioglitazone                     No  \nrosiglitazone                    No  \nacarbose                         No  \nmiglitol                         No  \ntroglitazone                     No  \ntolazamide                       No  \nexamide                          No  \ncitoglipton                      No  \ninsulin                      Steady  \nglyburide-metformin              No  \nglipizide-metformin              No  \nglimepiride-pioglitazone         No  \nmetformin-rosiglitazone          No  \nmetformin-pioglitazone           No  \nchange                           No  \ndiabetesMed                     Yes  \nreadmitted                       NO  \ndiag_1_cat                        1  \ndiag_2_cat                        1  \ndiag_3_cat                        9  \n\n[50 rows x 100 columns]",
      "text/html": "<div>\n<style scoped>\n    .dataframe tbody tr th:only-of-type {\n        vertical-align: middle;\n    }\n\n    .dataframe tbody tr th {\n        vertical-align: top;\n    }\n\n    .dataframe thead th {\n        text-align: right;\n    }\n</style>\n<table border=\"1\" class=\"dataframe\">\n  <thead>\n    <tr style=\"text-align: right;\">\n      <th></th>\n      <th>1</th>\n      <th>2</th>\n      <th>3</th>\n      <th>4</th>\n      <th>5</th>\n      <th>6</th>\n      <th>7</th>\n      <th>8</th>\n      <th>9</th>\n      <th>10</th>\n      <th>...</th>\n      <th>98</th>\n      <th>100</th>\n      <th>101</th>\n      <th>102</th>\n      <th>103</th>\n      <th>104</th>\n      <th>105</th>\n      <th>106</th>\n      <th>107</th>\n      <th>108</th>\n    </tr>\n  </thead>\n  <tbody>\n    <tr>\n      <th>encounter_id</th>\n      <td>149190</td>\n      <td>64410</td>\n      <td>500364</td>\n      <td>16680</td>\n      <td>35754</td>\n      <td>55842</td>\n      <td>63768</td>\n      <td>12522</td>\n      <td>15738</td>\n      <td>28236</td>\n      <td>...</td>\n      <td>1257282</td>\n      <td>1260312</td>\n      <td>1260894</td>\n      <td>1262736</td>\n      <td>1270524</td>\n      <td>1274802</td>\n      <td>1414158</td>\n      <td>1445010</td>\n      <td>1455252</td>\n      <td>1517730</td>\n    </tr>\n    <tr>\n      <th>patient_nbr</th>\n      <td>55629189</td>\n      <td>86047875</td>\n      <td>82442376</td>\n      <td>42519267</td>\n      <td>82637451</td>\n      <td>84259809</td>\n      <td>114882984</td>\n      <td>48330783</td>\n      <td>63555939</td>\n      <td>89869032</td>\n      <td>...</td>\n      <td>84488562</td>\n      <td>38688588</td>\n      <td>91530936</td>\n      <td>50253120</td>\n      <td>67897251</td>\n      <td>71003736</td>\n      <td>48925980</td>\n      <td>23807808</td>\n      <td>96440301</td>\n      <td>105882957</td>\n    </tr>\n    <tr>\n      <th>race</th>\n      <td>Caucasian</td>\n      <td>AfricanAmerican</td>\n      <td>Caucasian</td>\n      <td>Caucasian</td>\n      <td>Caucasian</td>\n      <td>Caucasian</td>\n      <td>Caucasian</td>\n      <td>Caucasian</td>\n      <td>Caucasian</td>\n      <td>AfricanAmerican</td>\n      <td>...</td>\n      <td>Other</td>\n      <td>Caucasian</td>\n      <td>Caucasian</td>\n      <td>Caucasian</td>\n      <td>Caucasian</td>\n      <td>AfricanAmerican</td>\n      <td>Caucasian</td>\n      <td>Other</td>\n      <td>Caucasian</td>\n      <td>Caucasian</td>\n    </tr>\n    <tr>\n      <th>gender</th>\n      <td>Female</td>\n      <td>Female</td>\n      <td>Male</td>\n      <td>Male</td>\n      <td>Male</td>\n      <td>Male</td>\n      <td>Male</td>\n      <td>Female</td>\n      <td>Female</td>\n      <td>Female</td>\n      <td>...</td>\n      <td>Female</td>\n      <td>Male</td>\n      <td>Female</td>\n      <td>Female</td>\n      <td>Male</td>\n      <td>Female</td>\n      <td>Male</td>\n      <td>Female</td>\n      <td>Female</td>\n      <td>Male</td>\n    </tr>\n    <tr>\n      <th>age</th>\n      <td>[10-20)</td>\n      <td>[20-30)</td>\n      <td>[30-40)</td>\n      <td>[40-50)</td>\n      <td>[50-60)</td>\n      <td>[60-70)</td>\n      <td>[70-80)</td>\n      <td>[80-90)</td>\n      <td>[90-100)</td>\n      <td>[40-50)</td>\n      <td>...</td>\n      <td>[50-60)</td>\n      <td>[70-80)</td>\n      <td>[60-70)</td>\n      <td>[30-40)</td>\n      <td>[60-70)</td>\n      <td>[70-80)</td>\n      <td>[80-90)</td>\n      <td>[50-60)</td>\n      <td>[80-90)</td>\n      <td>[60-70)</td>\n    </tr>\n    <tr>\n      <th>admission_type_id</th>\n      <td>1</td>\n      <td>1</td>\n      <td>1</td>\n      <td>1</td>\n      <td>2</td>\n      <td>3</td>\n      <td>1</td>\n      <td>2</td>\n      <td>3</td>\n      <td>1</td>\n      <td>...</td>\n      <td>1</td>\n      <td>1</td>\n      <td>2</td>\n      <td>2</td>\n      <td>1</td>\n      <td>1</td>\n      <td>1</td>\n      <td>1</td>\n      <td>1</td>\n      <td>2</td>\n    </tr>\n    <tr>\n      <th>discharge_disposition_id</th>\n      <td>1</td>\n      <td>1</td>\n      <td>1</td>\n      <td>1</td>\n      <td>1</td>\n      <td>1</td>\n      <td>1</td>\n      <td>1</td>\n      <td>3</td>\n      <td>1</td>\n      <td>...</td>\n      <td>1</td>\n      <td>11</td>\n      <td>11</td>\n      <td>1</td>\n      <td>2</td>\n      <td>1</td>\n      <td>6</td>\n      <td>1</td>\n      <td>1</td>\n      <td>1</td>\n    </tr>\n    <tr>\n      <th>admission_source_id</th>\n      <td>7</td>\n      <td>7</td>\n      <td>7</td>\n      <td>7</td>\n      <td>2</td>\n      <td>2</td>\n      <td>7</td>\n      <td>4</td>\n      <td>4</td>\n      <td>7</td>\n      <td>...</td>\n      <td>7</td>\n      <td>7</td>\n      <td>2</td>\n      <td>4</td>\n      <td>7</td>\n      <td>7</td>\n      <td>7</td>\n      <td>7</td>\n      <td>7</td>\n      <td>2</td>\n    </tr>\n    <tr>\n      <th>time_in_hospital</th>\n      <td>3</td>\n      <td>2</td>\n      <td>2</td>\n      <td>1</td>\n      <td>3</td>\n      <td>4</td>\n      <td>5</td>\n      <td>13</td>\n      <td>12</td>\n      <td>9</td>\n      <td>...</td>\n      <td>2</td>\n      <td>9</td>\n      <td>7</td>\n      <td>3</td>\n      <td>1</td>\n      <td>3</td>\n      <td>2</td>\n      <td>9</td>\n      <td>3</td>\n      <td>1</td>\n    </tr>\n    <tr>\n      <th>num_lab_procedures</th>\n      <td>59</td>\n      <td>11</td>\n      <td>44</td>\n      <td>51</td>\n      <td>31</td>\n      <td>70</td>\n      <td>73</td>\n      <td>68</td>\n      <td>33</td>\n      <td>47</td>\n      <td>...</td>\n      <td>53</td>\n      <td>56</td>\n      <td>73</td>\n      <td>22</td>\n      <td>59</td>\n      <td>31</td>\n      <td>34</td>\n      <td>96</td>\n      <td>34</td>\n      <td>35</td>\n    </tr>\n    <tr>\n      <th>num_procedures</th>\n      <td>0</td>\n      <td>5</td>\n      <td>1</td>\n      <td>0</td>\n      <td>6</td>\n      <td>1</td>\n      <td>0</td>\n      <td>2</td>\n      <td>3</td>\n      <td>2</td>\n      <td>...</td>\n      <td>0</td>\n      <td>2</td>\n      <td>0</td>\n      <td>1</td>\n      <td>0</td>\n      <td>2</td>\n      <td>0</td>\n      <td>3</td>\n      <td>0</td>\n      <td>1</td>\n    </tr>\n    <tr>\n      <th>num_medications</th>\n      <td>18</td>\n      <td>13</td>\n      <td>16</td>\n      <td>8</td>\n      <td>16</td>\n      <td>21</td>\n      <td>12</td>\n      <td>28</td>\n      <td>18</td>\n      <td>17</td>\n      <td>...</td>\n      <td>6</td>\n      <td>30</td>\n      <td>23</td>\n      <td>17</td>\n      <td>12</td>\n      <td>11</td>\n      <td>9</td>\n      <td>20</td>\n      <td>11</td>\n      <td>26</td>\n    </tr>\n    <tr>\n      <th>number_outpatient</th>\n      <td>0</td>\n      <td>2</td>\n      <td>0</td>\n      <td>0</td>\n      <td>0</td>\n      <td>0</td>\n      <td>0</td>\n      <td>0</td>\n      <td>0</td>\n      <td>0</td>\n      <td>...</td>\n      <td>0</td>\n      <td>0</td>\n      <td>0</td>\n      <td>0</td>\n      <td>0</td>\n      <td>0</td>\n      <td>0</td>\n      <td>0</td>\n      <td>0</td>\n      <td>0</td>\n    </tr>\n    <tr>\n      <th>number_emergency</th>\n      <td>0</td>\n      <td>0</td>\n      <td>0</td>\n      <td>0</td>\n      <td>0</td>\n      <td>0</td>\n      <td>0</td>\n      <td>0</td>\n      <td>0</td>\n      <td>0</td>\n      <td>...</td>\n      <td>0</td>\n      <td>0</td>\n      <td>0</td>\n      <td>0</td>\n      <td>0</td>\n      <td>0</td>\n      <td>0</td>\n      <td>0</td>\n      <td>0</td>\n      <td>0</td>\n    </tr>\n    <tr>\n      <th>number_inpatient</th>\n      <td>0</td>\n      <td>1</td>\n      <td>0</td>\n      <td>0</td>\n      <td>0</td>\n      <td>0</td>\n      <td>0</td>\n      <td>0</td>\n      <td>0</td>\n      <td>0</td>\n      <td>...</td>\n      <td>0</td>\n      <td>0</td>\n      <td>0</td>\n      <td>0</td>\n      <td>0</td>\n      <td>0</td>\n      <td>0</td>\n      <td>0</td>\n      <td>0</td>\n      <td>0</td>\n    </tr>\n    <tr>\n      <th>diag_1</th>\n      <td>276</td>\n      <td>648</td>\n      <td>8</td>\n      <td>197</td>\n      <td>414</td>\n      <td>414</td>\n      <td>428</td>\n      <td>398</td>\n      <td>434</td>\n      <td>250.7</td>\n      <td>...</td>\n      <td>590</td>\n      <td>410</td>\n      <td>486</td>\n      <td>786</td>\n      <td>411</td>\n      <td>578</td>\n      <td>707</td>\n      <td>250.32</td>\n      <td>427</td>\n      <td>433</td>\n    </tr>\n    <tr>\n      <th>diag_2</th>\n      <td>250.01</td>\n      <td>250</td>\n      <td>250.43</td>\n      <td>157</td>\n      <td>411</td>\n      <td>411</td>\n      <td>492</td>\n      <td>427</td>\n      <td>198</td>\n      <td>403</td>\n      <td>...</td>\n      <td>250.01</td>\n      <td>491</td>\n      <td>511</td>\n      <td>413</td>\n      <td>401</td>\n      <td>53</td>\n      <td>780</td>\n      <td>518</td>\n      <td>428</td>\n      <td>414</td>\n    </tr>\n    <tr>\n      <th>diag_3</th>\n      <td>255</td>\n      <td>V27</td>\n      <td>403</td>\n      <td>250</td>\n      <td>250</td>\n      <td>V45</td>\n      <td>250</td>\n      <td>38</td>\n      <td>486</td>\n      <td>996</td>\n      <td>...</td>\n      <td>401</td>\n      <td>276</td>\n      <td>250.02</td>\n      <td>414</td>\n      <td>490</td>\n      <td>562</td>\n      <td>250.8</td>\n      <td>482</td>\n      <td>414</td>\n      <td>V45</td>\n    </tr>\n    <tr>\n      <th>number_diagnoses</th>\n      <td>9</td>\n      <td>6</td>\n      <td>7</td>\n      <td>5</td>\n      <td>9</td>\n      <td>7</td>\n      <td>8</td>\n      <td>8</td>\n      <td>8</td>\n      <td>9</td>\n      <td>...</td>\n      <td>3</td>\n      <td>9</td>\n      <td>9</td>\n      <td>8</td>\n      <td>7</td>\n      <td>9</td>\n      <td>7</td>\n      <td>9</td>\n      <td>8</td>\n      <td>5</td>\n    </tr>\n    <tr>\n      <th>max_glu_serum</th>\n      <td>None</td>\n      <td>None</td>\n      <td>None</td>\n      <td>None</td>\n      <td>None</td>\n      <td>None</td>\n      <td>None</td>\n      <td>None</td>\n      <td>None</td>\n      <td>None</td>\n      <td>...</td>\n      <td>None</td>\n      <td>None</td>\n      <td>None</td>\n      <td>None</td>\n      <td>None</td>\n      <td>None</td>\n      <td>None</td>\n      <td>None</td>\n      <td>None</td>\n      <td>None</td>\n    </tr>\n    <tr>\n      <th>A1Cresult</th>\n      <td>None</td>\n      <td>None</td>\n      <td>None</td>\n      <td>None</td>\n      <td>None</td>\n      <td>None</td>\n      <td>None</td>\n      <td>None</td>\n      <td>None</td>\n      <td>None</td>\n      <td>...</td>\n      <td>&gt;8</td>\n      <td>None</td>\n      <td>None</td>\n      <td>None</td>\n      <td>Norm</td>\n      <td>None</td>\n      <td>None</td>\n      <td>None</td>\n      <td>Norm</td>\n      <td>None</td>\n    </tr>\n    <tr>\n      <th>metformin</th>\n      <td>No</td>\n      <td>No</td>\n      <td>No</td>\n      <td>No</td>\n      <td>No</td>\n      <td>Steady</td>\n      <td>No</td>\n      <td>No</td>\n      <td>No</td>\n      <td>No</td>\n      <td>...</td>\n      <td>No</td>\n      <td>No</td>\n      <td>No</td>\n      <td>Steady</td>\n      <td>No</td>\n      <td>No</td>\n      <td>No</td>\n      <td>No</td>\n      <td>No</td>\n      <td>No</td>\n    </tr>\n    <tr>\n      <th>repaglinide</th>\n      <td>No</td>\n      <td>No</td>\n      <td>No</td>\n      <td>No</td>\n      <td>No</td>\n      <td>No</td>\n      <td>No</td>\n      <td>No</td>\n      <td>No</td>\n      <td>No</td>\n      <td>...</td>\n      <td>No</td>\n      <td>No</td>\n      <td>No</td>\n      <td>No</td>\n      <td>No</td>\n      <td>No</td>\n      <td>No</td>\n      <td>No</td>\n      <td>No</td>\n      <td>No</td>\n    </tr>\n    <tr>\n      <th>nateglinide</th>\n      <td>No</td>\n      <td>No</td>\n      <td>No</td>\n      <td>No</td>\n      <td>No</td>\n      <td>No</td>\n      <td>No</td>\n      <td>No</td>\n      <td>No</td>\n      <td>No</td>\n      <td>...</td>\n      <td>No</td>\n      <td>No</td>\n      <td>No</td>\n      <td>No</td>\n      <td>No</td>\n      <td>No</td>\n      <td>No</td>\n      <td>No</td>\n      <td>No</td>\n      <td>No</td>\n    </tr>\n    <tr>\n      <th>chlorpropamide</th>\n      <td>No</td>\n      <td>No</td>\n      <td>No</td>\n      <td>No</td>\n      <td>No</td>\n      <td>No</td>\n      <td>No</td>\n      <td>No</td>\n      <td>No</td>\n      <td>No</td>\n      <td>...</td>\n      <td>No</td>\n      <td>No</td>\n      <td>No</td>\n      <td>No</td>\n      <td>No</td>\n      <td>No</td>\n      <td>No</td>\n      <td>No</td>\n      <td>No</td>\n      <td>No</td>\n    </tr>\n    <tr>\n      <th>glimepiride</th>\n      <td>No</td>\n      <td>No</td>\n      <td>No</td>\n      <td>No</td>\n      <td>No</td>\n      <td>Steady</td>\n      <td>No</td>\n      <td>No</td>\n      <td>No</td>\n      <td>No</td>\n      <td>...</td>\n      <td>No</td>\n      <td>No</td>\n      <td>No</td>\n      <td>No</td>\n      <td>No</td>\n      <td>No</td>\n      <td>No</td>\n      <td>No</td>\n      <td>No</td>\n      <td>No</td>\n    </tr>\n    <tr>\n      <th>acetohexamide</th>\n      <td>No</td>\n      <td>No</td>\n      <td>No</td>\n      <td>No</td>\n      <td>No</td>\n      <td>No</td>\n      <td>No</td>\n      <td>No</td>\n      <td>No</td>\n      <td>No</td>\n      <td>...</td>\n      <td>No</td>\n      <td>No</td>\n      <td>No</td>\n      <td>No</td>\n      <td>No</td>\n      <td>No</td>\n      <td>No</td>\n      <td>No</td>\n      <td>No</td>\n      <td>No</td>\n    </tr>\n    <tr>\n      <th>glipizide</th>\n      <td>No</td>\n      <td>Steady</td>\n      <td>No</td>\n      <td>Steady</td>\n      <td>No</td>\n      <td>No</td>\n      <td>No</td>\n      <td>Steady</td>\n      <td>No</td>\n      <td>No</td>\n      <td>...</td>\n      <td>No</td>\n      <td>No</td>\n      <td>No</td>\n      <td>No</td>\n      <td>No</td>\n      <td>No</td>\n      <td>No</td>\n      <td>No</td>\n      <td>No</td>\n      <td>No</td>\n    </tr>\n    <tr>\n      <th>glyburide</th>\n      <td>No</td>\n      <td>No</td>\n      <td>No</td>\n      <td>No</td>\n      <td>No</td>\n      <td>No</td>\n      <td>Steady</td>\n      <td>No</td>\n      <td>No</td>\n      <td>No</td>\n      <td>...</td>\n      <td>No</td>\n      <td>No</td>\n      <td>No</td>\n      <td>No</td>\n      <td>No</td>\n      <td>No</td>\n      <td>No</td>\n      <td>No</td>\n      <td>No</td>\n      <td>No</td>\n    </tr>\n    <tr>\n      <th>tolbutamide</th>\n      <td>No</td>\n      <td>No</td>\n      <td>No</td>\n      <td>No</td>\n      <td>No</td>\n      <td>No</td>\n      <td>No</td>\n      <td>No</td>\n      <td>No</td>\n      <td>No</td>\n      <td>...</td>\n      <td>No</td>\n      <td>No</td>\n      <td>No</td>\n      <td>No</td>\n      <td>No</td>\n      <td>No</td>\n      <td>No</td>\n      <td>No</td>\n      <td>No</td>\n      <td>No</td>\n    </tr>\n    <tr>\n      <th>pioglitazone</th>\n      <td>No</td>\n      <td>No</td>\n      <td>No</td>\n      <td>No</td>\n      <td>No</td>\n      <td>No</td>\n      <td>No</td>\n      <td>No</td>\n      <td>No</td>\n      <td>No</td>\n      <td>...</td>\n      <td>No</td>\n      <td>No</td>\n      <td>No</td>\n      <td>No</td>\n      <td>No</td>\n      <td>No</td>\n      <td>No</td>\n      <td>No</td>\n      <td>No</td>\n      <td>No</td>\n    </tr>\n    <tr>\n      <th>rosiglitazone</th>\n      <td>No</td>\n      <td>No</td>\n      <td>No</td>\n      <td>No</td>\n      <td>No</td>\n      <td>No</td>\n      <td>No</td>\n      <td>No</td>\n      <td>Steady</td>\n      <td>No</td>\n      <td>...</td>\n      <td>No</td>\n      <td>No</td>\n      <td>No</td>\n      <td>No</td>\n      <td>No</td>\n      <td>No</td>\n      <td>No</td>\n      <td>No</td>\n      <td>No</td>\n      <td>No</td>\n    </tr>\n    <tr>\n      <th>acarbose</th>\n      <td>No</td>\n      <td>No</td>\n      <td>No</td>\n      <td>No</td>\n      <td>No</td>\n      <td>No</td>\n      <td>No</td>\n      <td>No</td>\n      <td>No</td>\n      <td>No</td>\n      <td>...</td>\n      <td>No</td>\n      <td>No</td>\n      <td>No</td>\n      <td>No</td>\n      <td>No</td>\n      <td>No</td>\n      <td>No</td>\n      <td>No</td>\n      <td>No</td>\n      <td>No</td>\n    </tr>\n    <tr>\n      <th>miglitol</th>\n      <td>No</td>\n      <td>No</td>\n      <td>No</td>\n      <td>No</td>\n      <td>No</td>\n      <td>No</td>\n      <td>No</td>\n      <td>No</td>\n      <td>No</td>\n      <td>No</td>\n      <td>...</td>\n      <td>No</td>\n      <td>No</td>\n      <td>No</td>\n      <td>No</td>\n      <td>No</td>\n      <td>No</td>\n      <td>No</td>\n      <td>No</td>\n      <td>No</td>\n      <td>No</td>\n    </tr>\n    <tr>\n      <th>troglitazone</th>\n      <td>No</td>\n      <td>No</td>\n      <td>No</td>\n      <td>No</td>\n      <td>No</td>\n      <td>No</td>\n      <td>No</td>\n      <td>No</td>\n      <td>No</td>\n      <td>No</td>\n      <td>...</td>\n      <td>No</td>\n      <td>No</td>\n      <td>No</td>\n      <td>No</td>\n      <td>No</td>\n      <td>No</td>\n      <td>No</td>\n      <td>No</td>\n      <td>No</td>\n      <td>No</td>\n    </tr>\n    <tr>\n      <th>tolazamide</th>\n      <td>No</td>\n      <td>No</td>\n      <td>No</td>\n      <td>No</td>\n      <td>No</td>\n      <td>No</td>\n      <td>No</td>\n      <td>No</td>\n      <td>No</td>\n      <td>No</td>\n      <td>...</td>\n      <td>No</td>\n      <td>No</td>\n      <td>No</td>\n      <td>No</td>\n      <td>No</td>\n      <td>No</td>\n      <td>No</td>\n      <td>No</td>\n      <td>No</td>\n      <td>No</td>\n    </tr>\n    <tr>\n      <th>examide</th>\n      <td>No</td>\n      <td>No</td>\n      <td>No</td>\n      <td>No</td>\n      <td>No</td>\n      <td>No</td>\n      <td>No</td>\n      <td>No</td>\n      <td>No</td>\n      <td>No</td>\n      <td>...</td>\n      <td>No</td>\n      <td>No</td>\n      <td>No</td>\n      <td>No</td>\n      <td>No</td>\n      <td>No</td>\n      <td>No</td>\n      <td>No</td>\n      <td>No</td>\n      <td>No</td>\n    </tr>\n    <tr>\n      <th>citoglipton</th>\n      <td>No</td>\n      <td>No</td>\n      <td>No</td>\n      <td>No</td>\n      <td>No</td>\n      <td>No</td>\n      <td>No</td>\n      <td>No</td>\n      <td>No</td>\n      <td>No</td>\n      <td>...</td>\n      <td>No</td>\n      <td>No</td>\n      <td>No</td>\n      <td>No</td>\n      <td>No</td>\n      <td>No</td>\n      <td>No</td>\n      <td>No</td>\n      <td>No</td>\n      <td>No</td>\n    </tr>\n    <tr>\n      <th>insulin</th>\n      <td>Up</td>\n      <td>No</td>\n      <td>Up</td>\n      <td>Steady</td>\n      <td>Steady</td>\n      <td>Steady</td>\n      <td>No</td>\n      <td>Steady</td>\n      <td>Steady</td>\n      <td>Steady</td>\n      <td>...</td>\n      <td>Up</td>\n      <td>Steady</td>\n      <td>Steady</td>\n      <td>No</td>\n      <td>Steady</td>\n      <td>Down</td>\n      <td>No</td>\n      <td>Up</td>\n      <td>No</td>\n      <td>Steady</td>\n    </tr>\n    <tr>\n      <th>glyburide-metformin</th>\n      <td>No</td>\n      <td>No</td>\n      <td>No</td>\n      <td>No</td>\n      <td>No</td>\n      <td>No</td>\n      <td>No</td>\n      <td>No</td>\n      <td>No</td>\n      <td>No</td>\n      <td>...</td>\n      <td>No</td>\n      <td>No</td>\n      <td>No</td>\n      <td>No</td>\n      <td>No</td>\n      <td>No</td>\n      <td>No</td>\n      <td>No</td>\n      <td>No</td>\n      <td>No</td>\n    </tr>\n    <tr>\n      <th>glipizide-metformin</th>\n      <td>No</td>\n      <td>No</td>\n      <td>No</td>\n      <td>No</td>\n      <td>No</td>\n      <td>No</td>\n      <td>No</td>\n      <td>No</td>\n      <td>No</td>\n      <td>No</td>\n      <td>...</td>\n      <td>No</td>\n      <td>No</td>\n      <td>No</td>\n      <td>No</td>\n      <td>No</td>\n      <td>No</td>\n      <td>No</td>\n      <td>No</td>\n      <td>No</td>\n      <td>No</td>\n    </tr>\n    <tr>\n      <th>glimepiride-pioglitazone</th>\n      <td>No</td>\n      <td>No</td>\n      <td>No</td>\n      <td>No</td>\n      <td>No</td>\n      <td>No</td>\n      <td>No</td>\n      <td>No</td>\n      <td>No</td>\n      <td>No</td>\n      <td>...</td>\n      <td>No</td>\n      <td>No</td>\n      <td>No</td>\n      <td>No</td>\n      <td>No</td>\n      <td>No</td>\n      <td>No</td>\n      <td>No</td>\n      <td>No</td>\n      <td>No</td>\n    </tr>\n    <tr>\n      <th>metformin-rosiglitazone</th>\n      <td>No</td>\n      <td>No</td>\n      <td>No</td>\n      <td>No</td>\n      <td>No</td>\n      <td>No</td>\n      <td>No</td>\n      <td>No</td>\n      <td>No</td>\n      <td>No</td>\n      <td>...</td>\n      <td>No</td>\n      <td>No</td>\n      <td>No</td>\n      <td>No</td>\n      <td>No</td>\n      <td>No</td>\n      <td>No</td>\n      <td>No</td>\n      <td>No</td>\n      <td>No</td>\n    </tr>\n    <tr>\n      <th>metformin-pioglitazone</th>\n      <td>No</td>\n      <td>No</td>\n      <td>No</td>\n      <td>No</td>\n      <td>No</td>\n      <td>No</td>\n      <td>No</td>\n      <td>No</td>\n      <td>No</td>\n      <td>No</td>\n      <td>...</td>\n      <td>No</td>\n      <td>No</td>\n      <td>No</td>\n      <td>No</td>\n      <td>No</td>\n      <td>No</td>\n      <td>No</td>\n      <td>No</td>\n      <td>No</td>\n      <td>No</td>\n    </tr>\n    <tr>\n      <th>change</th>\n      <td>Ch</td>\n      <td>No</td>\n      <td>Ch</td>\n      <td>Ch</td>\n      <td>No</td>\n      <td>Ch</td>\n      <td>No</td>\n      <td>Ch</td>\n      <td>Ch</td>\n      <td>No</td>\n      <td>...</td>\n      <td>Ch</td>\n      <td>No</td>\n      <td>No</td>\n      <td>No</td>\n      <td>No</td>\n      <td>Ch</td>\n      <td>No</td>\n      <td>Ch</td>\n      <td>No</td>\n      <td>No</td>\n    </tr>\n    <tr>\n      <th>diabetesMed</th>\n      <td>Yes</td>\n      <td>Yes</td>\n      <td>Yes</td>\n      <td>Yes</td>\n      <td>Yes</td>\n      <td>Yes</td>\n      <td>Yes</td>\n      <td>Yes</td>\n      <td>Yes</td>\n      <td>Yes</td>\n      <td>...</td>\n      <td>Yes</td>\n      <td>Yes</td>\n      <td>Yes</td>\n      <td>Yes</td>\n      <td>Yes</td>\n      <td>Yes</td>\n      <td>No</td>\n      <td>Yes</td>\n      <td>No</td>\n      <td>Yes</td>\n    </tr>\n    <tr>\n      <th>readmitted</th>\n      <td>&gt;30</td>\n      <td>NO</td>\n      <td>NO</td>\n      <td>NO</td>\n      <td>&gt;30</td>\n      <td>NO</td>\n      <td>&gt;30</td>\n      <td>NO</td>\n      <td>NO</td>\n      <td>&gt;30</td>\n      <td>...</td>\n      <td>NO</td>\n      <td>NO</td>\n      <td>NO</td>\n      <td>NO</td>\n      <td>NO</td>\n      <td>NO</td>\n      <td>&gt;30</td>\n      <td>NO</td>\n      <td>&gt;30</td>\n      <td>NO</td>\n    </tr>\n    <tr>\n      <th>diag_1_cat</th>\n      <td>9</td>\n      <td>7</td>\n      <td>9</td>\n      <td>8</td>\n      <td>1</td>\n      <td>1</td>\n      <td>1</td>\n      <td>1</td>\n      <td>1</td>\n      <td>4</td>\n      <td>...</td>\n      <td>7</td>\n      <td>1</td>\n      <td>2</td>\n      <td>2</td>\n      <td>1</td>\n      <td>3</td>\n      <td>9</td>\n      <td>4</td>\n      <td>1</td>\n      <td>1</td>\n    </tr>\n    <tr>\n      <th>diag_2_cat</th>\n      <td>4</td>\n      <td>4</td>\n      <td>4</td>\n      <td>8</td>\n      <td>1</td>\n      <td>1</td>\n      <td>2</td>\n      <td>1</td>\n      <td>8</td>\n      <td>1</td>\n      <td>...</td>\n      <td>4</td>\n      <td>2</td>\n      <td>2</td>\n      <td>1</td>\n      <td>1</td>\n      <td>9</td>\n      <td>9</td>\n      <td>2</td>\n      <td>1</td>\n      <td>1</td>\n    </tr>\n    <tr>\n      <th>diag_3_cat</th>\n      <td>9</td>\n      <td>9</td>\n      <td>1</td>\n      <td>4</td>\n      <td>4</td>\n      <td>9</td>\n      <td>4</td>\n      <td>9</td>\n      <td>2</td>\n      <td>5</td>\n      <td>...</td>\n      <td>1</td>\n      <td>9</td>\n      <td>4</td>\n      <td>1</td>\n      <td>2</td>\n      <td>3</td>\n      <td>4</td>\n      <td>2</td>\n      <td>1</td>\n      <td>9</td>\n    </tr>\n  </tbody>\n</table>\n<p>50 rows × 100 columns</p>\n</div>"
     },
     "execution_count": 53,
     "metadata": {},
     "output_type": "execute_result"
    }
   ],
   "source": [
    "df.head(100).T"
   ]
  },
  {
   "cell_type": "markdown",
   "metadata": {},
   "source": [
    "### Drug prescribing\n",
    "There are 23 drugs which have been prescribed as part of diabetes treatment protocols and the dataset records whether\n",
    "the prescription was increased, reduced, not prescribed, or continued without change.\n",
    "Have a look at the `head()` output to see them.\n",
    "We are aware of previous research which has found that changes to medication is associated with lower readmission rates,\n",
    "so we are going to make a new variable - a *__'feature'__* for our machine learning algorithm called ``numchange`` which\n",
    "is the total number of changes to any medication.\n",
    "\n",
    "To do that we make a list of all the medications (keys), and then we loop over this making a temporary column in the\n",
    "dataframe for each key and then using a *__lambda__* function like we did earlier. This creates a variable “X” which stores\n",
    "the value of the column, which we test: if it is equal to 'no' or 'steady', then the medication either has not been\n",
    "prescribed or dosage not changed in which case we assign 0. If it has any other value, i.e. “up”, or “down” then the\n",
    "dosages either been increased or decreased, in which case we assign one. \n",
    "\n",
    "Once we have done that we loop over the keys again, this time adding the value of the temporary column to the `numchange` column. Finally we delete the temporary column. The last line of code outputs the number of different values in the column"
   ]
  },
  {
   "cell_type": "code",
   "execution_count": 54,
   "metadata": {
    "pycharm": {
     "name": "#%%\n"
    }
   },
   "outputs": [
    {
     "data": {
      "text/plain": "0    71309\n1    25350\n2     1281\n3      107\n4        5\nName: numchange, dtype: int64"
     },
     "execution_count": 54,
     "metadata": {},
     "output_type": "execute_result"
    }
   ],
   "source": [
    "# set up the list of drugs - the columns we are using\n",
    "keys = ['metformin', 'repaglinide', 'nateglinide', 'chlorpropamide', 'glimepiride', 'glipizide', 'glyburide',\n",
    "        'pioglitazone', 'rosiglitazone', 'acarbose', 'miglitol', 'insulin', 'glyburide-metformin', 'tolazamide',\n",
    "        'metformin-pioglitazone','metformin-rosiglitazone', 'glimepiride-pioglitazone', 'glipizide-metformin',\n",
    "        'troglitazone', 'tolbutamide', 'acetohexamide']\n",
    "\n",
    "##loop over the drug columns, and for every drug...\n",
    "for col in keys:\n",
    "    #... make a temporary column\n",
    "    colname = str(col) + 'temp'\n",
    "    #...then check for changes to medications: assign 1 to the temporary column if there were changes, otherwise 0\n",
    "    df[colname] = df[col].apply(lambda x: 0 if (x == 'No' or x == 'Steady') else 1)\n",
    "\n",
    "#make a numchange column: we do this outside the loop, why?\n",
    "df['numchange'] = 0\n",
    "\n",
    "# now we loop over them again\n",
    "for col in keys:\n",
    "    #remake the name of the temporary column\n",
    "    colname = str(col) + 'temp'\n",
    "\n",
    "    # add the value to the numchange column\n",
    "    df['numchange'] = df['numchange'] + df[colname]\n",
    "    # delete the temorary column\n",
    "    del df[colname]\n",
    "\n",
    "#print out a list of all the 'numchange' values we have and how many\n",
    "df['numchange'].value_counts()\n"
   ]
  },
  {
   "cell_type": "markdown",
   "metadata": {},
   "source": [
    "### In your notebook...\n",
    "What percentage of people did not have changes to their medications?\n",
    "## Encoding\n",
    "The dataset uses strings for gender, race, diabetesMed, and medication change, and for each of the 23 drugs used. To use these values in our\n",
    "model we are going to convert them into binary values, i.e. 1 and 0.\n",
    "#### Medication Change\n",
    "First, we will deal with medication change by replacing ‘Ch’ with 1 and ‘No’ with 0"
   ]
  },
  {
   "cell_type": "code",
   "execution_count": 55,
   "metadata": {
    "pycharm": {
     "name": "#%%\n"
    }
   },
   "outputs": [],
   "source": [
    "df['change'] = df['change'].replace('Ch', 1)\n",
    "df['change'] = df['change'].replace('No', 0)"
   ]
  },
  {
   "cell_type": "markdown",
   "metadata": {},
   "source": [
    "#### diabetesMed\n",
    "...then we will change diabetesMed by replacing yes with 1 and no with 0. This is a convention in programming when\n",
    "converting things into binary. 'yes' is generally represented by '1' and 'no' generally by '0', a bit like a Boolean value,\n",
    "where 'True' is represented by '1' and 'False' by '0'"
   ]
  },
  {
   "cell_type": "code",
   "execution_count": 56,
   "metadata": {
    "pycharm": {
     "name": "#%%\n"
    }
   },
   "outputs": [],
   "source": [
    "df['diabetesMed'] = df['diabetesMed'].replace('Yes', 1)\n",
    "df['diabetesMed'] = df['diabetesMed'].replace('No', 0)"
   ]
  },
  {
   "cell_type": "markdown",
   "source": [
    "### try...\n",
    "#### Gender\n",
    "Now it is your turn. Let’s encode gender by encoding 'Male' with 1 and 'Female' with 0. You can do this in tha same way\n",
    "as we did in the cells above Have a look at the dataset to make sure that you type 'Male' and 'Female' exactly as they are\n",
    "in the dataset. Clue: both capitalised"
   ],
   "metadata": {
    "collapsed": false
   }
  },
  {
   "cell_type": "code",
   "execution_count": 57,
   "outputs": [],
   "source": [
    "# write your code below...\n",
    "df['gender'] = df['gender'].replace('Male', 1)\n",
    "df['gender'] = df['gender'].replace('Female', 0)"
   ],
   "metadata": {
    "collapsed": false,
    "pycharm": {
     "name": "#%%\n"
    }
   }
  },
  {
   "cell_type": "markdown",
   "source": [
    "#### Ethnicity\n",
    "The column ‘ethnicity’ currently has text values to describe the ethnic background of patients. Typical values include\n",
    "“African/American”, “Caucasian”, “Hispanic”, and “other”. Machine learning algorithms prefer numerical or binary values\n",
    "so to improve our data, we will create a column for each of the text values and indicate the ethnicity by placing a “1”\n",
    "in the correct column and “0” in all the others. These are known as “dummy variables”, and we are using the pandas dataframe\n",
    "function ``get_dummies()`` in the cell below to create them."
   ],
   "metadata": {
    "collapsed": false
   }
  },
  {
   "cell_type": "code",
   "execution_count": 58,
   "outputs": [],
   "source": [
    "df = pd.get_dummies(df, columns=['race'])"
   ],
   "metadata": {
    "collapsed": false,
    "pycharm": {
     "name": "#%%\n"
    }
   }
  },
  {
   "cell_type": "markdown",
   "metadata": {
    "pycharm": {
     "name": "#%% md\n"
    }
   },
   "source": [
    "#### Medications\n",
    "The dataset contains 23 columns each for a different medication. Each medication feature indicates whether the drug was\n",
    "prescribed and whether there was a change in dosage.As we have already created a variable that measures the amount of\n",
    "changes in medication alongside the existence of another variable which indicates whether or not there was a change, we\n",
    "don't really need this information, so we are going to recode these variables so that they just indicate whether or not\n",
    "this particular drug was prescribed. We are going to loop through the set of drug keys we created earlier. This time,\n",
    "for each drug, we will replace the values: 0 for ‘no’;1 for steady, up, down"
   ]
  },
  {
   "cell_type": "code",
   "execution_count": 59,
   "metadata": {
    "pycharm": {
     "name": "#%%\n"
    }
   },
   "outputs": [],
   "source": [
    "# we are using the list of keys from the cell we created them in earlier\n",
    "for col in keys:\n",
    "    df[col] = df[col].replace('No', 0)\n",
    "    df[col] = df[col].replace('Steady', 1)\n",
    "    df[col] = df[col].replace('Up', 1)\n",
    "    df[col] = df[col].replace('Down', 1)"
   ]
  },
  {
   "cell_type": "markdown",
   "metadata": {},
   "source": [
    "### Number of medications\n",
    "Number of each medication used: Another potentially interesting factor could be the total number of medications used by the\n",
    "patient. This might indicate the severity of their condition and/or the intensity of their care, so we created another\n",
    "feature - num_meds by counting the medications used during the stay."
   ]
  },
  {
   "cell_type": "code",
   "execution_count": 60,
   "metadata": {
    "pycharm": {
     "name": "#%%\n"
    }
   },
   "outputs": [
    {
     "data": {
      "text/plain": "1    45447\n0    22702\n2    21056\n3     7485\n4     1300\n5       57\n6        5\nName: num_meds, dtype: int64"
     },
     "execution_count": 60,
     "metadata": {},
     "output_type": "execute_result"
    }
   ],
   "source": [
    "# make a new column\n",
    "df['num_meds'] = 0\n",
    "# loop through the list of drugs we made earlier\n",
    "for col in keys:\n",
    "    # there will now be a '1' in the column if the patient is on that drug, so add it to the number of meds\n",
    "    # (add the '0' otherwise)\n",
    "    df['num_meds'] = df['num_meds'] + df[col]\n",
    "# print a count of the values to make sure it worked\n",
    "df['num_meds'].value_counts()"
   ]
  },
  {
   "cell_type": "markdown",
   "metadata": {},
   "source": [
    "#### Test Results\n",
    "We are also going to recode test results for the A1c test (we are data scientists and we have no idea what that is), and\n",
    "the maximum glucose serum test. We are going to encode 0 for a normal result and 1 for an abnormal result.\n",
    "Where no test was given, we will use -99.\n",
    "#### in your notebook...\n",
    "Have a look at the code in the cell below, what are the abnormal values for each test?"
   ]
  },
  {
   "cell_type": "code",
   "execution_count": 61,
   "metadata": {
    "pycharm": {
     "name": "#%%\n"
    }
   },
   "outputs": [],
   "source": [
    "df['A1Cresult'] = df['A1Cresult'].replace('>7', 1)\n",
    "df['A1Cresult'] = df['A1Cresult'].replace('>8', 1)\n",
    "df['A1Cresult'] = df['A1Cresult'].replace('Norm', 0)\n",
    "df['A1Cresult'] = df['A1Cresult'].replace('None', -99)\n",
    "df['max_glu_serum'] = df['max_glu_serum'].replace('>200', 1)\n",
    "df['max_glu_serum'] = df['max_glu_serum'].replace('>300', 1)\n",
    "df['max_glu_serum'] = df['max_glu_serum'].replace('Norm', 0)\n",
    "df['max_glu_serum'] = df['max_glu_serum'].replace('None', -99)"
   ]
  },
  {
   "cell_type": "markdown",
   "metadata": {},
   "source": [
    "### Age Groupings\n",
    "The age variable is currently encoded in 10 year intervals: 10 year bands from 0 to 100. We are going to create a loop\n",
    "which runs 10 times and replaces each band with an integer. What we are left with is still a categorical variable, so we\n",
    "will approximate the age as the midpoint in each category, so we are left with something on a continuous scale.\n",
    "\n",
    "To do this we use a feature in python called a dictionary. This is a data structure which is a type of *__collection__*. It's a  a bit like a list, but it consists of key value pairs separated by a colon. The key comes first, and we can use this to look up values in the dictionary in much the same way you would get the definition of a word from a real-life dictionary."
   ]
  },
  {
   "cell_type": "code",
   "execution_count": 62,
   "metadata": {
    "pycharm": {
     "name": "#%%\n"
    }
   },
   "outputs": [
    {
     "name": "stdout",
     "output_type": "stream",
     "text": [
      "8     25305\n",
      "7     21809\n",
      "9     16702\n",
      "6     16697\n",
      "5      9265\n",
      "4      3548\n",
      "10     2717\n",
      "3      1478\n",
      "2       466\n",
      "1        65\n",
      "Name: age, dtype: int64\n",
      "75    25305\n",
      "65    21809\n",
      "85    16702\n",
      "55    16697\n",
      "45     9265\n",
      "35     3548\n",
      "95     2717\n",
      "25     1478\n",
      "15      466\n",
      "5        65\n",
      "Name: age, dtype: int64\n"
     ]
    }
   ],
   "source": [
    "# code age intervals [0-10) - [90-100) from 1-10\n",
    "for i in range(0,10): #for every number from 1-10\n",
    "    #make a string using i which matches the interval eg '[10-20)', replace this with i+1\n",
    "    df['age'] = df['age'].replace('['+str(10*i)+'-'+str(10*(i+1))+')', i+1)\n",
    "df['age'].value_counts()\n",
    "\n",
    "#convert 'age' into an integer\n",
    "df['age'] = df['age'].astype('int64')\n",
    "#print out a count of all the values. This keep us sane!\n",
    "print(df.age.value_counts())\n",
    "\n",
    "# make a dictionary so we can look up new values to replace the ones we made earlier\n",
    "age_dict = {1:5, 2:15, 3:25, 4:35, 5:45, 6:55, 7:65, 8:75, 9:85, 10:95}\n",
    "\n",
    "#map the values onto those in the dictionary. This will replace each one\n",
    "df['age'] = df.age.map(age_dict)\n",
    "#print out the new value counts so we know it worked\n",
    "print(df.age.value_counts())\n"
   ]
  },
  {
   "cell_type": "markdown",
   "metadata": {},
   "source": [
    "### Encoding the outcome variable\n",
    "The outcome variable is the thing we are trying to predict. As it currently stands it has the values 'no', '>30' and\n",
    "'<30' representing not readmitted, readmitted in less than 30 days and readmitted after more than 30 days.\n",
    "You can see the current values by running ``value_counts()`` in the cell below."
   ]
  },
  {
   "cell_type": "code",
   "execution_count": 63,
   "metadata": {
    "pycharm": {
     "name": "#%%\n"
    }
   },
   "outputs": [
    {
     "data": {
      "text/plain": "NO     52337\n>30    34649\n<30    11066\nName: readmitted, dtype: int64"
     },
     "execution_count": 63,
     "metadata": {},
     "output_type": "execute_result"
    }
   ],
   "source": [
    "df['readmitted'].value_counts()"
   ]
  },
  {
   "cell_type": "markdown",
   "source": [
    "We are going to encode the outcome variable so that readmission within 30 days is indicated as a 1 and no readmission or\n",
    "readmission later than 30 days is indicated as a 0. We will do this with the pandas replace function in the cell below."
   ],
   "metadata": {
    "collapsed": false,
    "pycharm": {
     "name": "#%% md\n"
    }
   }
  },
  {
   "cell_type": "code",
   "execution_count": 64,
   "metadata": {
    "pycharm": {
     "name": "#%%\n"
    }
   },
   "outputs": [],
   "source": [
    "df['readmitted'] = df['readmitted'].replace('>30', 0)\n",
    "df['readmitted'] = df['readmitted'].replace('<30', 1)\n",
    "df['readmitted'] = df['readmitted'].replace('NO', 0)"
   ]
  },
  {
   "cell_type": "markdown",
   "metadata": {
    "pycharm": {
     "name": "#%% md\n"
    }
   },
   "source": [
    "### Visualisations\n",
    "Another important step in a machine learning project is visual inspection of the data. We had a look at the output\n",
    "from the `head()` command, but as humans we can only make sense of this one column at a time, so we can only use it to\n",
    "inspect a tiny fraction of the data. We need other strategies to get a picture of what the whole dataset looks like,\n",
    "so let’s build some charts…\n",
    "\n",
    "Remember those imports we did at the start of this notebook? One of them was *__Seaborn__* which is a statistical\n",
    "visualisation library. We imported it as `sns`. This means we can use it to produce charts by calling its functions.\n",
    "The seaborne library is based on *__matplotlib__* and uses many of its functions, so when we write code, we might call\n",
    "functions from matplotlib (`plt`) as well as seaborne in the same chart.\n",
    "\n",
    "Let's start with a nice simple one and plot _age_ and _readmission_ as a bar chart..."
   ]
  },
  {
   "cell_type": "markdown",
   "metadata": {},
   "source": [
    "#### Age and Readmission\n",
    "First, we create a `fig` variable by calling the `figure` method from `plt` which is a quick way of setting the size of the graphic.\n",
    "Any matplotlib or seaborne code we call now will operate on this fig variable until we make a new one.\n",
    "Next we call `sns.countplot()` to create a simple bar chart counting the values of a categorical variable using a column\n",
    "from the data frame as the first argument (`y=`) to measure on the x-axis, and then use the column supplied as the `hue` argument,\n",
    "which groups and colours the bars along the y-axis according to a second categorical variable.\n",
    "### try...\n",
    "See if you can flip the chart around by changing the name of the first argument. Which looks better?"
   ]
  },
  {
   "cell_type": "code",
   "execution_count": 65,
   "metadata": {
    "pycharm": {
     "name": "#%%\n"
    }
   },
   "outputs": [
    {
     "data": {
      "text/plain": "Text(0.5, 1.0, 'Age of Patient VS. Readmission')"
     },
     "execution_count": 65,
     "metadata": {},
     "output_type": "execute_result"
    },
    {
     "data": {
      "text/plain": "<Figure size 1080x720 with 1 Axes>",
      "image/png": "[encoded data removed]"
     },
     "metadata": {
      "needs_background": "light"
     },
     "output_type": "display_data"
    }
   ],
   "source": [
    "fig = plt.figure(figsize=(15,10))\n",
    "chart = sns.countplot(y= df['age'], hue = df['readmitted'])\n",
    "chart.set_title('Age of Patient VS. Readmission')"
   ]
  },
  {
   "cell_type": "markdown",
   "metadata": {
    "pycharm": {
     "name": "#%% md\n"
    }
   },
   "source": [
    "Now for a slightly more complex example. This next chart plots time in hospital and frequency of those readmitted, and\n",
    "those not readmitted on separate lines. The first line sets up a figure in much the same way as we did in the previous\n",
    "cell. This time we use the Kd E plot function. KDE stands for “kernel density estimate” and is a method for visualising\n",
    "the distribution of observations on a dataset. It is a bit like a histogram but represents the data using a curve. We\n",
    "use it twice to add two lines to the figure. The first arguments we pass for each line get a list of all the values of\n",
    "“readmitted” which satisfy the condition, i.e. `== 0`, or `== 1` as well as values for time in hospital.\n",
    "The other arguments shade the area under the curve and colour it."
   ]
  },
  {
   "cell_type": "code",
   "execution_count": 66,
   "metadata": {
    "pycharm": {
     "name": "#%%\n"
    }
   },
   "outputs": [
    {
     "data": {
      "text/plain": "<matplotlib.legend.Legend at 0x20ac6109670>"
     },
     "execution_count": 66,
     "metadata": {},
     "output_type": "execute_result"
    },
    {
     "data": {
      "text/plain": "<Figure size 936x504 with 1 Axes>",
      "image/png": "[encoded data removed]"
     },
     "metadata": {
      "needs_background": "light"
     },
     "output_type": "display_data"
    }
   ],
   "source": [
    "fig = plt.figure(figsize=(13,7),)\n",
    "ax=sns.kdeplot(df.loc[(df['readmitted'] == 0),'time_in_hospital'] , color='b',shade=True,bw_adjust=2, label='Not Readmitted')\n",
    "ax=sns.kdeplot(df.loc[(df['readmitted'] == 1),'time_in_hospital'] , color='r',shade=True,bw_adjust=2 , label='Readmitted')\n",
    "ax.set(xlabel='Time in Hospital', ylabel='Frequency')\n",
    "plt.title('Time in Hospital VS. Readmission')\n",
    "plt.legend()"
   ]
  },
  {
   "cell_type": "markdown",
   "metadata": {
    "pycharm": {
     "name": "#%% md\n"
    }
   },
   "source": [
    "#### Try…\n",
    "Now it's your turn. Use the cell below to plot some more of data. As you explore, make a note of anything you see which\n",
    "is unusual."
   ]
  },
  {
   "cell_type": "code",
   "execution_count": 67,
   "metadata": {
    "pycharm": {
     "name": "#%%\n"
    }
   },
   "outputs": [],
   "source": [
    "# type your code below...\n"
   ]
  },
  {
   "cell_type": "markdown",
   "metadata": {
    "pycharm": {
     "name": "#%% md\n"
    }
   },
   "source": [
    "## Modeling\n",
    "There are lots more things we could do to this data to improve our predictions still further, but the boss has said we\n",
    "have to finish this by lunchtime, so let's quickly deploy our algorithm and make some life or death decisions because\n",
    "work/life balance is important and nobody likes working on their lunch hour, right?\n",
    "\n",
    "Anyway, onwards! The next thing to do is identify the features we will use and separate out the target variable we are\n",
    "trying to predict.\n",
    "\n",
    "In the cell below we made a list of the features we are going to use to train the model. The last two lines in the cell\n",
    "extract the features from the database into a variable called X. The other line extracts the target feature, i.e. the\n",
    "one whose value we are learning to predict into a variable y. The use of uppercase X and lowercase y for features and\n",
    "target variable is a convention you will see quite often.\n",
    "\n",
    "We are going to use a library called *__Scikit-Learn__* to do our machine learning. Scikit-Learn is a collection of modules\n",
    "which give us a number of algorithms to try out, and we are going to experiment with two of them. The techniques we are\n",
    "going to use are *__supervised algorithms__*. We say this because these techniques use data which is labelled with the values\n",
    "we are trying to predict, so that we know what the output should be. We use this to create a model based on the\n",
    "relationship between our training variables and these known outputs. _Unsupervised learning_ techniques work without this\n",
    "knowledge and find relationships within the data independently.\n",
    "\n",
    "Our task is a classification task in that we are classifying patients based on whether they will or will not be\n",
    "readmitted to hospital within 30 days."
   ]
  },
  {
   "cell_type": "code",
   "execution_count": 68,
   "metadata": {
    "pycharm": {
     "name": "#%%\n"
    }
   },
   "outputs": [],
   "source": [
    "#noodling about - TODO: delete me when ready to publish\n",
    "feature_set1 = [ 'gender', 'age', 'admission_type_id', 'discharge_disposition_id', 'admission_source_id',\n",
    "               'time_in_hospital', 'num_lab_procedures', 'num_procedures', 'num_medications', 'number_outpatient',\n",
    "               'number_emergency', 'number_inpatient',  'number_diagnoses', 'max_glu_serum',\n",
    "               'A1Cresult', 'metformin', 'repaglinide', 'nateglinide', 'chlorpropamide', 'glimepiride', 'acetohexamide',\n",
    "               'glipizide', 'glyburide', 'tolbutamide', 'pioglitazone', 'rosiglitazone', 'acarbose', 'miglitol',\n",
    "               'troglitazone', 'tolazamide',  'insulin', 'glyburide-metformin',\n",
    "               'glipizide-metformin', 'glimepiride-pioglitazone', 'metformin-rosiglitazone', 'metformin-pioglitazone',\n",
    "               'change', 'diabetesMed', 'diag_1_cat', 'diag_2_cat', 'diag_3_cat', 'numchange', 'race_AfricanAmerican',\n",
    "               'race_Asian','race_Caucasian','race_Hispanic','race_Other']\n",
    "\n",
    "# specify which columns we are going to use as features for our model\n",
    "feature_set = [ 'gender', 'age', 'admission_type_id', 'discharge_disposition_id', 'admission_source_id',\n",
    "               'time_in_hospital', 'num_lab_procedures', 'num_procedures', 'num_medications', 'number_outpatient',\n",
    "               'number_emergency', 'number_inpatient',  'number_diagnoses', 'max_glu_serum',\n",
    "               'A1Cresult', 'metformin', 'repaglinide', 'nateglinide', 'chlorpropamide', 'glimepiride', 'acetohexamide',\n",
    "               'glipizide', 'glyburide', 'tolbutamide', 'pioglitazone', 'rosiglitazone', 'acarbose', 'miglitol',\n",
    "               'troglitazone', 'tolazamide',  'insulin', 'glyburide-metformin',\n",
    "               'glipizide-metformin', 'glimepiride-pioglitazone', 'metformin-rosiglitazone', 'metformin-pioglitazone',\n",
    "               'change', 'diabetesMed', 'diag_1_cat', 'diag_2_cat', 'diag_3_cat', 'numchange', 'race_AfricanAmerican',\n",
    "               'race_Asian','race_Caucasian','race_Hispanic','race_Other']\n",
    "\n",
    "\n",
    "X = df[feature_set]\n",
    "y = df['readmitted']"
   ]
  },
  {
   "cell_type": "markdown",
   "metadata": {},
   "source": [
    "### Test and Training Data\n",
    "We need some way of testing the performance of our model. The way we do this is by taking out and reserving a section of\n",
    "our data as a test set, and then training the model with the rest. We then use it to make predictions based on the test\n",
    "data and compare those to the actual values to see how well we did. Usually we keep aside 20% of our data for testing\n",
    "purposes. Scikit-Learn has a module to do this, and we are going to import that and run a function to split the data.\n",
    "We will end up with 4 sets. 2 sets of features ``X_train`` and ``X_test`` and 2 sets of targets ``y_train`` and``y_test``- the values we are\n",
    "trying to predict."
   ]
  },
  {
   "cell_type": "code",
   "execution_count": 69,
   "metadata": {
    "pycharm": {
     "name": "#%%\n"
    }
   },
   "outputs": [],
   "source": [
    "from sklearn.model_selection import train_test_split\n",
    "X_train, X_test, y_train, y_test = train_test_split(X, y, test_size=0.20, random_state=0)"
   ]
  },
  {
   "cell_type": "markdown",
   "metadata": {
    "pycharm": {
     "name": "#%% md\n"
    }
   },
   "source": [
    "## The decision tree\n",
    "The first algorithm we are going to try is the decision tree. It is called a decision tree because the way it works\n",
    "internally is a bit like a flowchart with a treelike structure. At each node of the tree the algorithm finds the most\n",
    "efficient way of classifying the data. It keeps splitting the dataset at every node until eventually all the data points\n",
    "at each end of the tree are in the same class.\n",
    "\n",
    "In the next cell we have imported a decision tree classifier and created an instance of one as a variable called dtree.\n",
    "The classifier has a function called `fit()` and we pass it all the values from our dataset that we are going to use for\n",
    "training along with the values for the target variable. The decision tree classifier then makes a model based on the\n",
    "relationships it finds between our training data and the target values. Once that is done we can create a set of predicted\n",
    "values by calling ```dtree.predict(X_test)``` We use the test data for this so that we can check it against the actual\n",
    "values we kept in `y_test`"
   ]
  },
  {
   "cell_type": "code",
   "execution_count": 70,
   "metadata": {
    "pycharm": {
     "name": "#%%\n"
    }
   },
   "outputs": [],
   "source": [
    "from sklearn.tree import DecisionTreeClassifier\n",
    "from sklearn.metrics import accuracy_score, precision_score, recall_score, roc_auc_score\n",
    "\n",
    "dtree = DecisionTreeClassifier(max_depth=28, criterion = \"entropy\", min_samples_split=10)\n",
    "dtree.fit(X_train, y_train)\n",
    "dtree_predictions=dtree.predict(X_test)"
   ]
  },
  {
   "cell_type": "markdown",
   "metadata": {
    "pycharm": {
     "name": "#%% md\n"
    }
   },
   "source": [
    "Now we can check how well our model is doing, using some more functions from Scikit-Learn called ``accuracy score()``,\n",
    "``precision score``, and ``recall score()``. We pass these our known target values, along with the predictions and\n",
    "print them out in the cell below."
   ]
  },
  {
   "cell_type": "code",
   "execution_count": 71,
   "metadata": {
    "pycharm": {
     "name": "#%%\n"
    }
   },
   "outputs": [
    {
     "name": "stdout",
     "output_type": "stream",
     "text": [
      "DT-Accuracy is 0.82\n",
      "DT-Precision is 0.16\n",
      "DT-Recall is 0.13\n"
     ]
    }
   ],
   "source": [
    "print(\"DT-Accuracy is {0:.2f}\".format(accuracy_score(y_test, dtree_predictions)))\n",
    "print(\"DT-Precision is {0:.2f}\".format(precision_score(y_test, dtree_predictions)))\n",
    "print(\"DT-Recall is {0:.2f}\".format(recall_score(y_test, dtree_predictions)))\n"
   ]
  },
  {
   "cell_type": "markdown",
   "metadata": {
    "pycharm": {
     "name": "#%% md\n"
    }
   },
   "source": [
    "Finally we have some results and our accuracy is 89%! Great! Time for pizza! Most pizza places in Southampton don’t\n",
    "need to be told where our building is on campus...\n",
    "\n",
    "_Not so fast!_ Accuracy is a simple measure of the number of correct predictions. We have to be a bit careful about relying\n",
    "on this beacuse if we created our own model which did not bother analysing any of the data and just said no patients were\n",
    "ever readmitted, then in a dataset where 80% of the patients were not readmitted we will be right 80% of the time!\n",
    "That is why we need some other metrics and you may notice we have also printed out two others called _precision_ and _recall_.\n",
    "\n",
    "* __Precision__ is slightly different from accuracy in that it only measures the rate of false positives, i.e. what proportion\n",
    "of patients who we predicted would be readmitted actually were.\n",
    "\n",
    "* __Recall__, on the other hand, measures the proportion of people who were actually readmitted, who we correctly identified as such.\n",
    "\n",
    "So our results are not looking very good despite the rather more impressive looking accuracy figure.\n",
    "\n",
    "...Except that these metrics don't work quite so well with decision trees, so we will also look at something called\n",
    "the *__AUC score__*.\n",
    "Trying to define and understand how awk scores work just before lunch can result in stomach ulcers according to another\n",
    "study I just made up, so we will just accept that simply put, an AUC score measures how well the model performs when\n",
    "compared to something that just makes random predictions. An orc score of 0 means a model is not random but is making\n",
    "incorrect predictions 100% of the time. An orc score 0.5 means the model is right about half the time, i.e. it is making\n",
    "random predictions. An orc score of 1.0 means model is correct 100% of the time."
   ]
  },
  {
   "cell_type": "code",
   "execution_count": 72,
   "outputs": [
    {
     "name": "stdout",
     "output_type": "stream",
     "text": [
      "ROC AUC SCORE\n",
      "0.5367222017601524\n"
     ]
    }
   ],
   "source": [
    "from sklearn.metrics import  roc_auc_score\n",
    "print('ROC AUC SCORE')\n",
    "print(roc_auc_score(y_test, dtree.predict_proba(X_test)[:,1]))"
   ],
   "metadata": {
    "collapsed": false,
    "pycharm": {
     "name": "#%%\n"
    }
   }
  },
  {
   "cell_type": "markdown",
   "source": [
    "Oh dear, still not great. We're only doing slightly better than we would with a dice!\n",
    "\n",
    "### Enough Trees, Time For a Forest\n",
    "Another algorithm we could try, which might improve things, is called a *__Random Forest__*. If you are wondering what the\n",
    "difference between this and a decision tree is, the clue is in the name. A random Forest runs lots of decision trees\n",
    "and then averages the results. In the code below we have fit a random forest model in much the same way we did for the\n",
    "decision tree. The result is a slight improvement but still no pizza"
   ],
   "metadata": {
    "collapsed": false,
    "pycharm": {
     "name": "#%% md\n"
    }
   }
  },
  {
   "cell_type": "code",
   "execution_count": 73,
   "metadata": {
    "pycharm": {
     "name": "#%%\n"
    }
   },
   "outputs": [
    {
     "name": "stdout",
     "output_type": "stream",
     "text": [
      "rf-Accuracy is 0.89\n",
      "rf-Precision is 0.65\n",
      "rf-Recall is 0.01\n",
      "AUC score is 0.63\n"
     ]
    }
   ],
   "source": [
    "from sklearn.ensemble import RandomForestClassifier\n",
    "rf = RandomForestClassifier(n_estimators = 50, max_depth=25, criterion = \"gini\", min_samples_split=10)\n",
    "rf.fit(X_train, y_train)\n",
    "\n",
    "rf_predict=rf.predict(X_test)\n",
    "\n",
    "print(\"rf-Accuracy is {0:.2f}\".format(accuracy_score(y_test, rf_predict)))\n",
    "print(\"rf-Precision is {0:.2f}\".format(precision_score(y_test, rf_predict)))\n",
    "print(\"rf-Recall is {0:.2f}\".format(recall_score(y_test, rf_predict)))\n",
    "print(\"AUC score is {0:.2f}\".format(roc_auc_score(y_test, rf.predict_proba(X_test)[:,1])))"
   ]
  },
  {
   "cell_type": "markdown",
   "metadata": {},
   "source": [
    "Now that is looking a bit better!\n",
    "\n",
    "We now have a model that is not very accurate, but is better tham random guesses. It will be able to identify some\n",
    "patients who sre likely to relapse and be re admitted and could help to target medical interventions.\n",
    "Many machine learning models aren't very accurate and we tend not to hear about them. With some more work we could also\n",
    "probably improve on this. Our work isn't over. If we do use this model we are making medical decisions and will need to be able to\n",
    "explain the results"
   ]
  },
  {
   "cell_type": "code",
   "metadata": {
    "pycharm": {
     "name": "#%%\n"
    }
   },
   "source": [
    "import shap\n",
    "em=RandomForestClassifier(n_estimators = 10, max_depth=25, criterion = \"gini\", min_samples_split=10)\n",
    "em.fit(X_train[:100], y_train[:100])\n",
    "e=shap.TreeExplainer(rf)\n",
    "# explainer = shap.Explainer(rf)\n",
    "shap_values = e(X_train[:100])\n",
    "\n",
    "\n"
   ],
   "execution_count": 74,
   "outputs": []
  },
  {
   "cell_type": "code",
   "execution_count": 82,
   "outputs": [],
   "source": [
    "import lime\n",
    "import lime.lime_tabular\n",
    "predict_fn_rf = lambda x: rf.predict_proba(x).astype(float)\n",
    "explainer = lime.lime_tabular.LimeTabularExplainer(np.array(X_train),\n",
    "                    feature_names=feature_set,\n",
    "                    class_names=['readmitted', 'not'],\n",
    "                    # categorical_features=,\n",
    "                    # There is no categorical features in this example, otherwise specify them.\n",
    "                    verbose=True, mode='classification')"
   ],
   "metadata": {
    "collapsed": false,
    "pycharm": {
     "name": "#%%\n"
    }
   }
  },
  {
   "cell_type": "code",
   "execution_count": 86,
   "outputs": [
    {
     "ename": "KeyError",
     "evalue": "1",
     "output_type": "error",
     "traceback": [
      "\u001B[1;31m---------------------------------------------------------------------------\u001B[0m",
      "\u001B[1;31mKeyError\u001B[0m                                  Traceback (most recent call last)",
      "\u001B[1;32m~\\anaconda3\\envs\\tasterDay\\lib\\site-packages\\pandas\\core\\indexes\\base.py\u001B[0m in \u001B[0;36mget_loc\u001B[1;34m(self, key, method, tolerance)\u001B[0m\n\u001B[0;32m   3080\u001B[0m             \u001B[1;32mtry\u001B[0m\u001B[1;33m:\u001B[0m\u001B[1;33m\u001B[0m\u001B[1;33m\u001B[0m\u001B[0m\n\u001B[1;32m-> 3081\u001B[1;33m                 \u001B[1;32mreturn\u001B[0m \u001B[0mself\u001B[0m\u001B[1;33m.\u001B[0m\u001B[0m_engine\u001B[0m\u001B[1;33m.\u001B[0m\u001B[0mget_loc\u001B[0m\u001B[1;33m(\u001B[0m\u001B[0mcasted_key\u001B[0m\u001B[1;33m)\u001B[0m\u001B[1;33m\u001B[0m\u001B[1;33m\u001B[0m\u001B[0m\n\u001B[0m\u001B[0;32m   3082\u001B[0m             \u001B[1;32mexcept\u001B[0m \u001B[0mKeyError\u001B[0m \u001B[1;32mas\u001B[0m \u001B[0merr\u001B[0m\u001B[1;33m:\u001B[0m\u001B[1;33m\u001B[0m\u001B[1;33m\u001B[0m\u001B[0m\n",
      "\u001B[1;32mpandas\\_libs\\index.pyx\u001B[0m in \u001B[0;36mpandas._libs.index.IndexEngine.get_loc\u001B[1;34m()\u001B[0m\n",
      "\u001B[1;32mpandas\\_libs\\index.pyx\u001B[0m in \u001B[0;36mpandas._libs.index.IndexEngine.get_loc\u001B[1;34m()\u001B[0m\n",
      "\u001B[1;32mpandas\\_libs\\hashtable_class_helper.pxi\u001B[0m in \u001B[0;36mpandas._libs.hashtable.PyObjectHashTable.get_item\u001B[1;34m()\u001B[0m\n",
      "\u001B[1;32mpandas\\_libs\\hashtable_class_helper.pxi\u001B[0m in \u001B[0;36mpandas._libs.hashtable.PyObjectHashTable.get_item\u001B[1;34m()\u001B[0m\n",
      "\u001B[1;31mKeyError\u001B[0m: 1",
      "\nThe above exception was the direct cause of the following exception:\n",
      "\u001B[1;31mKeyError\u001B[0m                                  Traceback (most recent call last)",
      "\u001B[1;32m<ipython-input-86-af5c3b5be72c>\u001B[0m in \u001B[0;36m<module>\u001B[1;34m\u001B[0m\n\u001B[1;32m----> 1\u001B[1;33m \u001B[0mi\u001B[0m\u001B[1;33m=\u001B[0m\u001B[0mrf\u001B[0m\u001B[1;33m.\u001B[0m\u001B[0mpredict\u001B[0m\u001B[1;33m(\u001B[0m\u001B[0mX_test\u001B[0m\u001B[1;33m[\u001B[0m\u001B[1;36m1\u001B[0m\u001B[1;33m]\u001B[0m\u001B[1;33m)\u001B[0m\u001B[1;33m\u001B[0m\u001B[1;33m\u001B[0m\u001B[0m\n\u001B[0m\u001B[0;32m      2\u001B[0m \u001B[0mchoosen_instance\u001B[0m \u001B[1;33m=\u001B[0m \u001B[0mi\u001B[0m\u001B[1;33m\u001B[0m\u001B[1;33m\u001B[0m\u001B[0m\n\u001B[0;32m      3\u001B[0m \u001B[0mexp\u001B[0m \u001B[1;33m=\u001B[0m \u001B[0mexplainer\u001B[0m\u001B[1;33m.\u001B[0m\u001B[0mexplain_instance\u001B[0m\u001B[1;33m(\u001B[0m\u001B[0mi\u001B[0m\u001B[1;33m,\u001B[0m \u001B[0mpredict_fn_rf\u001B[0m\u001B[1;33m,\u001B[0m\u001B[0mnum_features\u001B[0m\u001B[1;33m=\u001B[0m\u001B[1;36m10\u001B[0m\u001B[1;33m)\u001B[0m\u001B[1;33m\u001B[0m\u001B[1;33m\u001B[0m\u001B[0m\n\u001B[0;32m      4\u001B[0m \u001B[0mexp\u001B[0m\u001B[1;33m.\u001B[0m\u001B[0mshow_in_notebook\u001B[0m\u001B[1;33m(\u001B[0m\u001B[0mshow_all\u001B[0m\u001B[1;33m=\u001B[0m\u001B[1;32mFalse\u001B[0m\u001B[1;33m)\u001B[0m\u001B[1;33m\u001B[0m\u001B[1;33m\u001B[0m\u001B[0m\n\u001B[0;32m      5\u001B[0m \u001B[1;33m\u001B[0m\u001B[0m\n",
      "\u001B[1;32m~\\anaconda3\\envs\\tasterDay\\lib\\site-packages\\pandas\\core\\frame.py\u001B[0m in \u001B[0;36m__getitem__\u001B[1;34m(self, key)\u001B[0m\n\u001B[0;32m   3022\u001B[0m             \u001B[1;32mif\u001B[0m \u001B[0mself\u001B[0m\u001B[1;33m.\u001B[0m\u001B[0mcolumns\u001B[0m\u001B[1;33m.\u001B[0m\u001B[0mnlevels\u001B[0m \u001B[1;33m>\u001B[0m \u001B[1;36m1\u001B[0m\u001B[1;33m:\u001B[0m\u001B[1;33m\u001B[0m\u001B[1;33m\u001B[0m\u001B[0m\n\u001B[0;32m   3023\u001B[0m                 \u001B[1;32mreturn\u001B[0m \u001B[0mself\u001B[0m\u001B[1;33m.\u001B[0m\u001B[0m_getitem_multilevel\u001B[0m\u001B[1;33m(\u001B[0m\u001B[0mkey\u001B[0m\u001B[1;33m)\u001B[0m\u001B[1;33m\u001B[0m\u001B[1;33m\u001B[0m\u001B[0m\n\u001B[1;32m-> 3024\u001B[1;33m             \u001B[0mindexer\u001B[0m \u001B[1;33m=\u001B[0m \u001B[0mself\u001B[0m\u001B[1;33m.\u001B[0m\u001B[0mcolumns\u001B[0m\u001B[1;33m.\u001B[0m\u001B[0mget_loc\u001B[0m\u001B[1;33m(\u001B[0m\u001B[0mkey\u001B[0m\u001B[1;33m)\u001B[0m\u001B[1;33m\u001B[0m\u001B[1;33m\u001B[0m\u001B[0m\n\u001B[0m\u001B[0;32m   3025\u001B[0m             \u001B[1;32mif\u001B[0m \u001B[0mis_integer\u001B[0m\u001B[1;33m(\u001B[0m\u001B[0mindexer\u001B[0m\u001B[1;33m)\u001B[0m\u001B[1;33m:\u001B[0m\u001B[1;33m\u001B[0m\u001B[1;33m\u001B[0m\u001B[0m\n\u001B[0;32m   3026\u001B[0m                 \u001B[0mindexer\u001B[0m \u001B[1;33m=\u001B[0m \u001B[1;33m[\u001B[0m\u001B[0mindexer\u001B[0m\u001B[1;33m]\u001B[0m\u001B[1;33m\u001B[0m\u001B[1;33m\u001B[0m\u001B[0m\n",
      "\u001B[1;32m~\\anaconda3\\envs\\tasterDay\\lib\\site-packages\\pandas\\core\\indexes\\base.py\u001B[0m in \u001B[0;36mget_loc\u001B[1;34m(self, key, method, tolerance)\u001B[0m\n\u001B[0;32m   3081\u001B[0m                 \u001B[1;32mreturn\u001B[0m \u001B[0mself\u001B[0m\u001B[1;33m.\u001B[0m\u001B[0m_engine\u001B[0m\u001B[1;33m.\u001B[0m\u001B[0mget_loc\u001B[0m\u001B[1;33m(\u001B[0m\u001B[0mcasted_key\u001B[0m\u001B[1;33m)\u001B[0m\u001B[1;33m\u001B[0m\u001B[1;33m\u001B[0m\u001B[0m\n\u001B[0;32m   3082\u001B[0m             \u001B[1;32mexcept\u001B[0m \u001B[0mKeyError\u001B[0m \u001B[1;32mas\u001B[0m \u001B[0merr\u001B[0m\u001B[1;33m:\u001B[0m\u001B[1;33m\u001B[0m\u001B[1;33m\u001B[0m\u001B[0m\n\u001B[1;32m-> 3083\u001B[1;33m                 \u001B[1;32mraise\u001B[0m \u001B[0mKeyError\u001B[0m\u001B[1;33m(\u001B[0m\u001B[0mkey\u001B[0m\u001B[1;33m)\u001B[0m \u001B[1;32mfrom\u001B[0m \u001B[0merr\u001B[0m\u001B[1;33m\u001B[0m\u001B[1;33m\u001B[0m\u001B[0m\n\u001B[0m\u001B[0;32m   3084\u001B[0m \u001B[1;33m\u001B[0m\u001B[0m\n\u001B[0;32m   3085\u001B[0m         \u001B[1;32mif\u001B[0m \u001B[0mtolerance\u001B[0m \u001B[1;32mis\u001B[0m \u001B[1;32mnot\u001B[0m \u001B[1;32mNone\u001B[0m\u001B[1;33m:\u001B[0m\u001B[1;33m\u001B[0m\u001B[1;33m\u001B[0m\u001B[0m\n",
      "\u001B[1;31mKeyError\u001B[0m: 1"
     ]
    }
   ],
   "source": [
    "i=rf.predict(X_test[1])\n",
    "choosen_instance = i\n",
    "exp = explainer.explain_instance(i, predict_fn_rf,num_features=10)\n",
    "exp.show_in_notebook(show_all=False)\n",
    "\n"
   ],
   "metadata": {
    "collapsed": false,
    "pycharm": {
     "name": "#%%\n"
    }
   }
  },
  {
   "cell_type": "code",
   "execution_count": null,
   "outputs": [],
   "source": [],
   "metadata": {
    "collapsed": false,
    "pycharm": {
     "name": "#%%\n"
    }
   }
  }
 ],
 "metadata": {
  "kernelspec": {
   "display_name": "Python 3",
   "language": "python",
   "name": "python3"
  },
  "language_info": {
   "codemirror_mode": {
    "name": "ipython",
    "version": 3
   },
   "file_extension": ".py",
   "mimetype": "text/x-python",
   "name": "python",
   "nbconvert_exporter": "python",
   "pygments_lexer": "ipython3",
   "version": "3.9.5"
  }
 },
 "nbformat": 4,
 "nbformat_minor": 1
}