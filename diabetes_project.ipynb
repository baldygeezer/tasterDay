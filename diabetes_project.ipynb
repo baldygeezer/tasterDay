{
 "cells": [
  {
   "cell_type": "markdown",
   "metadata": {
    "collapsed": true,
    "pycharm": {
     "name": "#%% md\n"
    }
   },
   "source": [
    "# 1:  setting up\n",
    "Luckily for us as programmers and data scientists we don't have to write all our code from scratch.\n",
    "There are a lot of code libraries and modules available for many of the common tasks we will need to carry out.\n",
    "The first step, before we start looking at data is to load some of these modules so that we can call on them in our code.The modules we are going to import are:\n",
    "\n",
    "- pandas: a popular general-purpose data analysis library which allows importing data from various file formats. It also provides useful data structures which can be used to examine and edit data\n",
    "\n",
    "- numpy: a popular library for performing mathematical operations, particularly with matrices and arrays.\n",
    "\n",
    "- matplotlib: a library for plotting charts and other visualisations.\n",
    "\n",
    "- Seaborn: a library which uses matplotlib and provides extra functions for visualising statistical analysis results.\n",
    "\n",
    "- toolbox_module: this contains some python functions we wrote to perform complex tasks which need very long blocks of code.\n",
    "importing them means we don't have to write them in this notebook, making it easier for you to read. As you progress with\n",
    "python you will do this a lot with your own code.\n",
    "\n",
    "You will need to run the code in the next cell so that al the code that relies on these libraries can work."
   ]
  },
  {
   "cell_type": "code",
   "execution_count": 80,
   "metadata": {
    "pycharm": {
     "name": "#%%\n"
    }
   },
   "outputs": [],
   "source": [
    "#Loading libraries\n",
    "import pandas as pd\n",
    "import numpy as np\n",
    "import matplotlib.pyplot as plt\n",
    "import seaborn as sns\n",
    "import toolbox_module as tools\n",
    "import sklearn"
   ]
  },
  {
   "cell_type": "markdown",
   "metadata": {},
   "source": [
    "# 2: Loading the Data\n",
    "Now we are going to import the data set. It is in a .csv file in a folder called 'data' the same directory as this notebook.\n",
    "We are making a variable called 'df'. We also have access to a variable 'pd' which we created in the previous cell when\n",
    "we imported _pandas._ We are calling a function in pandas (pd) called 'read()' which uses the location of the data as a string argument to load a\n",
    "dataset into a pandas _dataframe_ (think of this as a table)"
   ]
  },
  {
   "cell_type": "code",
   "execution_count": 81,
   "metadata": {
    "pycharm": {
     "name": "#%%\n"
    }
   },
   "outputs": [],
   "source": [
    "# load the dataset\n",
    "df = pd.read_csv(\"data/diabetic_data.csv\")"
   ]
  },
  {
   "cell_type": "markdown",
   "metadata": {},
   "source": [
    "# Exploring the data\n",
    "Now we have our data in a dataframe we can start examining and manipulating it.\n",
    "Now let's explore the data. The first command we will use is in the cell below: `df.shape` this will return two values\n",
    "in parentheses (in Python we call this a _tuple_). The first value is the number of rows in our dataset; the second is the\n",
    "number of columns."
   ]
  },
  {
   "cell_type": "code",
   "execution_count": 82,
   "metadata": {
    "pycharm": {
     "name": "#%%\n"
    }
   },
   "outputs": [
    {
     "data": {
      "text/plain": "(101766, 50)"
     },
     "execution_count": 82,
     "metadata": {},
     "output_type": "execute_result"
    }
   ],
   "source": [
    "df.shape"
   ]
  },
  {
   "cell_type": "markdown",
   "metadata": {
    "pycharm": {
     "name": "#%% md\n"
    }
   },
   "source": [
    "### In your Notebook...\n",
    "1. How many rows of data are in this dataset?\n",
    "2. Could you open this data easily in Excel?\n",
    "\n",
    "The next command we will try is `.head()` By default this will display the first 5 lines of data. It is useful for\n",
    "giving a general idea of what the data looks like. If you put a number in the brackets it will return that amount of data\n",
    "\n",
    "### try...\n",
    "Type a number into the brackets and re-run the cell (if you tried to be a clever-clogs and typed 1000 like I would have\n",
    "done ;-) you can get rid of it by re-running the cell with a smaller number"
   ]
  },
  {
   "cell_type": "code",
   "execution_count": 115,
   "metadata": {
    "pycharm": {
     "name": "#%%\n"
    }
   },
   "outputs": [
    {
     "data": {
      "text/plain": "                               1         2         3         4         5    \\\nencounter_id                149190     64410    500364     16680     35754   \npatient_nbr               55629189  86047875  82442376  42519267  82637451   \ngender                           0         0         1         1         1   \nage                             15        25        35        45        55   \nadmission_type_id                1         1         1         1         2   \ndischarge_disposition_id         1         1         1         1         1   \nadmission_source_id              7         7         7         7         2   \ntime_in_hospital                 3         2         2         1         3   \nnum_lab_procedures              59        11        44        51        31   \nnum_procedures                   0         5         1         0         6   \nnum_medications                 18        13        16         8        16   \nnumber_outpatient                0         2         0         0         0   \nnumber_emergency                 0         0         0         0         0   \nnumber_inpatient                 0         1         0         0         0   \ndiag_1                         276       648         8       197       414   \ndiag_2                      250.01       250    250.43       157       411   \ndiag_3                         255       V27       403       250       250   \nnumber_diagnoses                 9         6         7         5         9   \nmax_glu_serum                  -99       -99       -99       -99       -99   \nA1Cresult                      -99       -99       -99       -99       -99   \nmetformin                        0         0         0         0         0   \nrepaglinide                      0         0         0         0         0   \nnateglinide                      0         0         0         0         0   \nchlorpropamide                   0         0         0         0         0   \nglimepiride                      0         0         0         0         0   \nacetohexamide                    0         0         0         0         0   \nglipizide                        0         1         0         1         0   \nglyburide                        0         0         0         0         0   \ntolbutamide                      0         0         0         0         0   \npioglitazone                     0         0         0         0         0   \nrosiglitazone                    0         0         0         0         0   \nacarbose                         0         0         0         0         0   \nmiglitol                         0         0         0         0         0   \ntroglitazone                     0         0         0         0         0   \ntolazamide                       0         0         0         0         0   \nexamide                         No        No        No        No        No   \ncitoglipton                     No        No        No        No        No   \ninsulin                          1         0         1         1         1   \nglyburide-metformin              0         0         0         0         0   \nglipizide-metformin              0         0         0         0         0   \nglimepiride-pioglitazone         0         0         0         0         0   \nmetformin-rosiglitazone          0         0         0         0         0   \nmetformin-pioglitazone           0         0         0         0         0   \nchange                           1         0         1         1         0   \ndiabetesMed                      1         1         1         1         1   \nreadmitted                       0         0         0         0         0   \ndiag_1_cat                       9         7         9         8         1   \ndiag_2_cat                       4         4         4         8         1   \ndiag_3_cat                       9         9         1         4         4   \nnumchange                        1         0         1         0         0   \nnum_meds                         1         1         1         2         1   \nrace_AfricanAmerican             0         1         0         0         0   \nrace_Asian                       0         0         0         0         0   \nrace_Caucasian                   1         0         1         1         1   \nrace_Hispanic                    0         0         0         0         0   \nrace_Other                       0         0         0         0         0   \n\n                               6          7         8         9         10   \\\nencounter_id                 55842      63768     12522     15738     28236   \npatient_nbr               84259809  114882984  48330783  63555939  89869032   \ngender                           1          1         0         0         0   \nage                             65         75        85        95        45   \nadmission_type_id                3          1         2         3         1   \ndischarge_disposition_id         1          1         1         3         1   \nadmission_source_id              2          7         4         4         7   \ntime_in_hospital                 4          5        13        12         9   \nnum_lab_procedures              70         73        68        33        47   \nnum_procedures                   1          0         2         3         2   \nnum_medications                 21         12        28        18        17   \nnumber_outpatient                0          0         0         0         0   \nnumber_emergency                 0          0         0         0         0   \nnumber_inpatient                 0          0         0         0         0   \ndiag_1                         414        428       398       434     250.7   \ndiag_2                         411        492       427       198       403   \ndiag_3                         V45        250        38       486       996   \nnumber_diagnoses                 7          8         8         8         9   \nmax_glu_serum                  -99        -99       -99       -99       -99   \nA1Cresult                      -99        -99       -99       -99       -99   \nmetformin                        1          0         0         0         0   \nrepaglinide                      0          0         0         0         0   \nnateglinide                      0          0         0         0         0   \nchlorpropamide                   0          0         0         0         0   \nglimepiride                      1          0         0         0         0   \nacetohexamide                    0          0         0         0         0   \nglipizide                        0          0         1         0         0   \nglyburide                        0          1         0         0         0   \ntolbutamide                      0          0         0         0         0   \npioglitazone                     0          0         0         0         0   \nrosiglitazone                    0          0         0         1         0   \nacarbose                         0          0         0         0         0   \nmiglitol                         0          0         0         0         0   \ntroglitazone                     0          0         0         0         0   \ntolazamide                       0          0         0         0         0   \nexamide                         No         No        No        No        No   \ncitoglipton                     No         No        No        No        No   \ninsulin                          1          0         1         1         1   \nglyburide-metformin              0          0         0         0         0   \nglipizide-metformin              0          0         0         0         0   \nglimepiride-pioglitazone         0          0         0         0         0   \nmetformin-rosiglitazone          0          0         0         0         0   \nmetformin-pioglitazone           0          0         0         0         0   \nchange                           1          0         1         1         0   \ndiabetesMed                      1          1         1         1         1   \nreadmitted                       0          0         0         0         0   \ndiag_1_cat                       1          1         1         1         4   \ndiag_2_cat                       1          2         1         8         1   \ndiag_3_cat                       9          4         9         2         5   \nnumchange                        0          0         0         0         0   \nnum_meds                         3          1         2         2         1   \nrace_AfricanAmerican             0          0         0         0         1   \nrace_Asian                       0          0         0         0         0   \nrace_Caucasian                   1          1         1         1         0   \nrace_Hispanic                    0          0         0         0         0   \nrace_Other                       0          0         0         0         0   \n\n                          ...       98        100       101       102  \\\nencounter_id              ...   1257282   1260312   1260894   1262736   \npatient_nbr               ...  84488562  38688588  91530936  50253120   \ngender                    ...         0         1         0         0   \nage                       ...        55        75        65        35   \nadmission_type_id         ...         1         1         2         2   \ndischarge_disposition_id  ...         1        11        11         1   \nadmission_source_id       ...         7         7         2         4   \ntime_in_hospital          ...         2         9         7         3   \nnum_lab_procedures        ...        53        56        73        22   \nnum_procedures            ...         0         2         0         1   \nnum_medications           ...         6        30        23        17   \nnumber_outpatient         ...         0         0         0         0   \nnumber_emergency          ...         0         0         0         0   \nnumber_inpatient          ...         0         0         0         0   \ndiag_1                    ...       590       410       486       786   \ndiag_2                    ...    250.01       491       511       413   \ndiag_3                    ...       401       276    250.02       414   \nnumber_diagnoses          ...         3         9         9         8   \nmax_glu_serum             ...       -99       -99       -99       -99   \nA1Cresult                 ...         1       -99       -99       -99   \nmetformin                 ...         0         0         0         1   \nrepaglinide               ...         0         0         0         0   \nnateglinide               ...         0         0         0         0   \nchlorpropamide            ...         0         0         0         0   \nglimepiride               ...         0         0         0         0   \nacetohexamide             ...         0         0         0         0   \nglipizide                 ...         0         0         0         0   \nglyburide                 ...         0         0         0         0   \ntolbutamide               ...         0         0         0         0   \npioglitazone              ...         0         0         0         0   \nrosiglitazone             ...         0         0         0         0   \nacarbose                  ...         0         0         0         0   \nmiglitol                  ...         0         0         0         0   \ntroglitazone              ...         0         0         0         0   \ntolazamide                ...         0         0         0         0   \nexamide                   ...        No        No        No        No   \ncitoglipton               ...        No        No        No        No   \ninsulin                   ...         1         1         1         0   \nglyburide-metformin       ...         0         0         0         0   \nglipizide-metformin       ...         0         0         0         0   \nglimepiride-pioglitazone  ...         0         0         0         0   \nmetformin-rosiglitazone   ...         0         0         0         0   \nmetformin-pioglitazone    ...         0         0         0         0   \nchange                    ...         1         0         0         0   \ndiabetesMed               ...         1         1         1         1   \nreadmitted                ...         0         0         0         0   \ndiag_1_cat                ...         7         1         2         2   \ndiag_2_cat                ...         4         2         2         1   \ndiag_3_cat                ...         1         9         4         1   \nnumchange                 ...         1         0         0         0   \nnum_meds                  ...         1         1         1         1   \nrace_AfricanAmerican      ...         0         0         0         0   \nrace_Asian                ...         0         0         0         0   \nrace_Caucasian            ...         0         1         1         1   \nrace_Hispanic             ...         0         0         0         0   \nrace_Other                ...         1         0         0         0   \n\n                               103       104       105       106       107  \\\nencounter_id               1270524   1274802   1414158   1445010   1455252   \npatient_nbr               67897251  71003736  48925980  23807808  96440301   \ngender                           1         0         1         0         0   \nage                             65        75        85        55        85   \nadmission_type_id                1         1         1         1         1   \ndischarge_disposition_id         2         1         6         1         1   \nadmission_source_id              7         7         7         7         7   \ntime_in_hospital                 1         3         2         9         3   \nnum_lab_procedures              59        31        34        96        34   \nnum_procedures                   0         2         0         3         0   \nnum_medications                 12        11         9        20        11   \nnumber_outpatient                0         0         0         0         0   \nnumber_emergency                 0         0         0         0         0   \nnumber_inpatient                 0         0         0         0         0   \ndiag_1                         411       578       707    250.32       427   \ndiag_2                         401        53       780       518       428   \ndiag_3                         490       562     250.8       482       414   \nnumber_diagnoses                 7         9         7         9         8   \nmax_glu_serum                  -99       -99       -99       -99       -99   \nA1Cresult                        0       -99       -99       -99         0   \nmetformin                        0         0         0         0         0   \nrepaglinide                      0         0         0         0         0   \nnateglinide                      0         0         0         0         0   \nchlorpropamide                   0         0         0         0         0   \nglimepiride                      0         0         0         0         0   \nacetohexamide                    0         0         0         0         0   \nglipizide                        0         0         0         0         0   \nglyburide                        0         0         0         0         0   \ntolbutamide                      0         0         0         0         0   \npioglitazone                     0         0         0         0         0   \nrosiglitazone                    0         0         0         0         0   \nacarbose                         0         0         0         0         0   \nmiglitol                         0         0         0         0         0   \ntroglitazone                     0         0         0         0         0   \ntolazamide                       0         0         0         0         0   \nexamide                         No        No        No        No        No   \ncitoglipton                     No        No        No        No        No   \ninsulin                          1         1         0         1         0   \nglyburide-metformin              0         0         0         0         0   \nglipizide-metformin              0         0         0         0         0   \nglimepiride-pioglitazone         0         0         0         0         0   \nmetformin-rosiglitazone          0         0         0         0         0   \nmetformin-pioglitazone           0         0         0         0         0   \nchange                           0         1         0         1         0   \ndiabetesMed                      1         1         0         1         0   \nreadmitted                       0         0         0         0         0   \ndiag_1_cat                       1         3         9         4         1   \ndiag_2_cat                       1         9         9         2         1   \ndiag_3_cat                       2         3         4         2         1   \nnumchange                        0         1         0         1         0   \nnum_meds                         1         1         0         1         0   \nrace_AfricanAmerican             0         1         0         0         0   \nrace_Asian                       0         0         0         0         0   \nrace_Caucasian                   1         0         1         0         1   \nrace_Hispanic                    0         0         0         0         0   \nrace_Other                       0         0         0         1         0   \n\n                                108  \nencounter_id                1517730  \npatient_nbr               105882957  \ngender                            1  \nage                              65  \nadmission_type_id                 2  \ndischarge_disposition_id          1  \nadmission_source_id               2  \ntime_in_hospital                  1  \nnum_lab_procedures               35  \nnum_procedures                    1  \nnum_medications                  26  \nnumber_outpatient                 0  \nnumber_emergency                  0  \nnumber_inpatient                  0  \ndiag_1                          433  \ndiag_2                          414  \ndiag_3                          V45  \nnumber_diagnoses                  5  \nmax_glu_serum                   -99  \nA1Cresult                       -99  \nmetformin                         0  \nrepaglinide                       0  \nnateglinide                       0  \nchlorpropamide                    0  \nglimepiride                       0  \nacetohexamide                     0  \nglipizide                         0  \nglyburide                         0  \ntolbutamide                       0  \npioglitazone                      0  \nrosiglitazone                     0  \nacarbose                          0  \nmiglitol                          0  \ntroglitazone                      0  \ntolazamide                        0  \nexamide                          No  \ncitoglipton                      No  \ninsulin                           1  \nglyburide-metformin               0  \nglipizide-metformin               0  \nglimepiride-pioglitazone          0  \nmetformin-rosiglitazone           0  \nmetformin-pioglitazone            0  \nchange                            0  \ndiabetesMed                       1  \nreadmitted                        0  \ndiag_1_cat                        1  \ndiag_2_cat                        1  \ndiag_3_cat                        9  \nnumchange                         0  \nnum_meds                          1  \nrace_AfricanAmerican              0  \nrace_Asian                        0  \nrace_Caucasian                    1  \nrace_Hispanic                     0  \nrace_Other                        0  \n\n[56 rows x 100 columns]",
      "text/html": "<div>\n<style scoped>\n    .dataframe tbody tr th:only-of-type {\n        vertical-align: middle;\n    }\n\n    .dataframe tbody tr th {\n        vertical-align: top;\n    }\n\n    .dataframe thead th {\n        text-align: right;\n    }\n</style>\n<table border=\"1\" class=\"dataframe\">\n  <thead>\n    <tr style=\"text-align: right;\">\n      <th></th>\n      <th>1</th>\n      <th>2</th>\n      <th>3</th>\n      <th>4</th>\n      <th>5</th>\n      <th>6</th>\n      <th>7</th>\n      <th>8</th>\n      <th>9</th>\n      <th>10</th>\n      <th>...</th>\n      <th>98</th>\n      <th>100</th>\n      <th>101</th>\n      <th>102</th>\n      <th>103</th>\n      <th>104</th>\n      <th>105</th>\n      <th>106</th>\n      <th>107</th>\n      <th>108</th>\n    </tr>\n  </thead>\n  <tbody>\n    <tr>\n      <th>encounter_id</th>\n      <td>149190</td>\n      <td>64410</td>\n      <td>500364</td>\n      <td>16680</td>\n      <td>35754</td>\n      <td>55842</td>\n      <td>63768</td>\n      <td>12522</td>\n      <td>15738</td>\n      <td>28236</td>\n      <td>...</td>\n      <td>1257282</td>\n      <td>1260312</td>\n      <td>1260894</td>\n      <td>1262736</td>\n      <td>1270524</td>\n      <td>1274802</td>\n      <td>1414158</td>\n      <td>1445010</td>\n      <td>1455252</td>\n      <td>1517730</td>\n    </tr>\n    <tr>\n      <th>patient_nbr</th>\n      <td>55629189</td>\n      <td>86047875</td>\n      <td>82442376</td>\n      <td>42519267</td>\n      <td>82637451</td>\n      <td>84259809</td>\n      <td>114882984</td>\n      <td>48330783</td>\n      <td>63555939</td>\n      <td>89869032</td>\n      <td>...</td>\n      <td>84488562</td>\n      <td>38688588</td>\n      <td>91530936</td>\n      <td>50253120</td>\n      <td>67897251</td>\n      <td>71003736</td>\n      <td>48925980</td>\n      <td>23807808</td>\n      <td>96440301</td>\n      <td>105882957</td>\n    </tr>\n    <tr>\n      <th>gender</th>\n      <td>0</td>\n      <td>0</td>\n      <td>1</td>\n      <td>1</td>\n      <td>1</td>\n      <td>1</td>\n      <td>1</td>\n      <td>0</td>\n      <td>0</td>\n      <td>0</td>\n      <td>...</td>\n      <td>0</td>\n      <td>1</td>\n      <td>0</td>\n      <td>0</td>\n      <td>1</td>\n      <td>0</td>\n      <td>1</td>\n      <td>0</td>\n      <td>0</td>\n      <td>1</td>\n    </tr>\n    <tr>\n      <th>age</th>\n      <td>15</td>\n      <td>25</td>\n      <td>35</td>\n      <td>45</td>\n      <td>55</td>\n      <td>65</td>\n      <td>75</td>\n      <td>85</td>\n      <td>95</td>\n      <td>45</td>\n      <td>...</td>\n      <td>55</td>\n      <td>75</td>\n      <td>65</td>\n      <td>35</td>\n      <td>65</td>\n      <td>75</td>\n      <td>85</td>\n      <td>55</td>\n      <td>85</td>\n      <td>65</td>\n    </tr>\n    <tr>\n      <th>admission_type_id</th>\n      <td>1</td>\n      <td>1</td>\n      <td>1</td>\n      <td>1</td>\n      <td>2</td>\n      <td>3</td>\n      <td>1</td>\n      <td>2</td>\n      <td>3</td>\n      <td>1</td>\n      <td>...</td>\n      <td>1</td>\n      <td>1</td>\n      <td>2</td>\n      <td>2</td>\n      <td>1</td>\n      <td>1</td>\n      <td>1</td>\n      <td>1</td>\n      <td>1</td>\n      <td>2</td>\n    </tr>\n    <tr>\n      <th>discharge_disposition_id</th>\n      <td>1</td>\n      <td>1</td>\n      <td>1</td>\n      <td>1</td>\n      <td>1</td>\n      <td>1</td>\n      <td>1</td>\n      <td>1</td>\n      <td>3</td>\n      <td>1</td>\n      <td>...</td>\n      <td>1</td>\n      <td>11</td>\n      <td>11</td>\n      <td>1</td>\n      <td>2</td>\n      <td>1</td>\n      <td>6</td>\n      <td>1</td>\n      <td>1</td>\n      <td>1</td>\n    </tr>\n    <tr>\n      <th>admission_source_id</th>\n      <td>7</td>\n      <td>7</td>\n      <td>7</td>\n      <td>7</td>\n      <td>2</td>\n      <td>2</td>\n      <td>7</td>\n      <td>4</td>\n      <td>4</td>\n      <td>7</td>\n      <td>...</td>\n      <td>7</td>\n      <td>7</td>\n      <td>2</td>\n      <td>4</td>\n      <td>7</td>\n      <td>7</td>\n      <td>7</td>\n      <td>7</td>\n      <td>7</td>\n      <td>2</td>\n    </tr>\n    <tr>\n      <th>time_in_hospital</th>\n      <td>3</td>\n      <td>2</td>\n      <td>2</td>\n      <td>1</td>\n      <td>3</td>\n      <td>4</td>\n      <td>5</td>\n      <td>13</td>\n      <td>12</td>\n      <td>9</td>\n      <td>...</td>\n      <td>2</td>\n      <td>9</td>\n      <td>7</td>\n      <td>3</td>\n      <td>1</td>\n      <td>3</td>\n      <td>2</td>\n      <td>9</td>\n      <td>3</td>\n      <td>1</td>\n    </tr>\n    <tr>\n      <th>num_lab_procedures</th>\n      <td>59</td>\n      <td>11</td>\n      <td>44</td>\n      <td>51</td>\n      <td>31</td>\n      <td>70</td>\n      <td>73</td>\n      <td>68</td>\n      <td>33</td>\n      <td>47</td>\n      <td>...</td>\n      <td>53</td>\n      <td>56</td>\n      <td>73</td>\n      <td>22</td>\n      <td>59</td>\n      <td>31</td>\n      <td>34</td>\n      <td>96</td>\n      <td>34</td>\n      <td>35</td>\n    </tr>\n    <tr>\n      <th>num_procedures</th>\n      <td>0</td>\n      <td>5</td>\n      <td>1</td>\n      <td>0</td>\n      <td>6</td>\n      <td>1</td>\n      <td>0</td>\n      <td>2</td>\n      <td>3</td>\n      <td>2</td>\n      <td>...</td>\n      <td>0</td>\n      <td>2</td>\n      <td>0</td>\n      <td>1</td>\n      <td>0</td>\n      <td>2</td>\n      <td>0</td>\n      <td>3</td>\n      <td>0</td>\n      <td>1</td>\n    </tr>\n    <tr>\n      <th>num_medications</th>\n      <td>18</td>\n      <td>13</td>\n      <td>16</td>\n      <td>8</td>\n      <td>16</td>\n      <td>21</td>\n      <td>12</td>\n      <td>28</td>\n      <td>18</td>\n      <td>17</td>\n      <td>...</td>\n      <td>6</td>\n      <td>30</td>\n      <td>23</td>\n      <td>17</td>\n      <td>12</td>\n      <td>11</td>\n      <td>9</td>\n      <td>20</td>\n      <td>11</td>\n      <td>26</td>\n    </tr>\n    <tr>\n      <th>number_outpatient</th>\n      <td>0</td>\n      <td>2</td>\n      <td>0</td>\n      <td>0</td>\n      <td>0</td>\n      <td>0</td>\n      <td>0</td>\n      <td>0</td>\n      <td>0</td>\n      <td>0</td>\n      <td>...</td>\n      <td>0</td>\n      <td>0</td>\n      <td>0</td>\n      <td>0</td>\n      <td>0</td>\n      <td>0</td>\n      <td>0</td>\n      <td>0</td>\n      <td>0</td>\n      <td>0</td>\n    </tr>\n    <tr>\n      <th>number_emergency</th>\n      <td>0</td>\n      <td>0</td>\n      <td>0</td>\n      <td>0</td>\n      <td>0</td>\n      <td>0</td>\n      <td>0</td>\n      <td>0</td>\n      <td>0</td>\n      <td>0</td>\n      <td>...</td>\n      <td>0</td>\n      <td>0</td>\n      <td>0</td>\n      <td>0</td>\n      <td>0</td>\n      <td>0</td>\n      <td>0</td>\n      <td>0</td>\n      <td>0</td>\n      <td>0</td>\n    </tr>\n    <tr>\n      <th>number_inpatient</th>\n      <td>0</td>\n      <td>1</td>\n      <td>0</td>\n      <td>0</td>\n      <td>0</td>\n      <td>0</td>\n      <td>0</td>\n      <td>0</td>\n      <td>0</td>\n      <td>0</td>\n      <td>...</td>\n      <td>0</td>\n      <td>0</td>\n      <td>0</td>\n      <td>0</td>\n      <td>0</td>\n      <td>0</td>\n      <td>0</td>\n      <td>0</td>\n      <td>0</td>\n      <td>0</td>\n    </tr>\n    <tr>\n      <th>diag_1</th>\n      <td>276</td>\n      <td>648</td>\n      <td>8</td>\n      <td>197</td>\n      <td>414</td>\n      <td>414</td>\n      <td>428</td>\n      <td>398</td>\n      <td>434</td>\n      <td>250.7</td>\n      <td>...</td>\n      <td>590</td>\n      <td>410</td>\n      <td>486</td>\n      <td>786</td>\n      <td>411</td>\n      <td>578</td>\n      <td>707</td>\n      <td>250.32</td>\n      <td>427</td>\n      <td>433</td>\n    </tr>\n    <tr>\n      <th>diag_2</th>\n      <td>250.01</td>\n      <td>250</td>\n      <td>250.43</td>\n      <td>157</td>\n      <td>411</td>\n      <td>411</td>\n      <td>492</td>\n      <td>427</td>\n      <td>198</td>\n      <td>403</td>\n      <td>...</td>\n      <td>250.01</td>\n      <td>491</td>\n      <td>511</td>\n      <td>413</td>\n      <td>401</td>\n      <td>53</td>\n      <td>780</td>\n      <td>518</td>\n      <td>428</td>\n      <td>414</td>\n    </tr>\n    <tr>\n      <th>diag_3</th>\n      <td>255</td>\n      <td>V27</td>\n      <td>403</td>\n      <td>250</td>\n      <td>250</td>\n      <td>V45</td>\n      <td>250</td>\n      <td>38</td>\n      <td>486</td>\n      <td>996</td>\n      <td>...</td>\n      <td>401</td>\n      <td>276</td>\n      <td>250.02</td>\n      <td>414</td>\n      <td>490</td>\n      <td>562</td>\n      <td>250.8</td>\n      <td>482</td>\n      <td>414</td>\n      <td>V45</td>\n    </tr>\n    <tr>\n      <th>number_diagnoses</th>\n      <td>9</td>\n      <td>6</td>\n      <td>7</td>\n      <td>5</td>\n      <td>9</td>\n      <td>7</td>\n      <td>8</td>\n      <td>8</td>\n      <td>8</td>\n      <td>9</td>\n      <td>...</td>\n      <td>3</td>\n      <td>9</td>\n      <td>9</td>\n      <td>8</td>\n      <td>7</td>\n      <td>9</td>\n      <td>7</td>\n      <td>9</td>\n      <td>8</td>\n      <td>5</td>\n    </tr>\n    <tr>\n      <th>max_glu_serum</th>\n      <td>-99</td>\n      <td>-99</td>\n      <td>-99</td>\n      <td>-99</td>\n      <td>-99</td>\n      <td>-99</td>\n      <td>-99</td>\n      <td>-99</td>\n      <td>-99</td>\n      <td>-99</td>\n      <td>...</td>\n      <td>-99</td>\n      <td>-99</td>\n      <td>-99</td>\n      <td>-99</td>\n      <td>-99</td>\n      <td>-99</td>\n      <td>-99</td>\n      <td>-99</td>\n      <td>-99</td>\n      <td>-99</td>\n    </tr>\n    <tr>\n      <th>A1Cresult</th>\n      <td>-99</td>\n      <td>-99</td>\n      <td>-99</td>\n      <td>-99</td>\n      <td>-99</td>\n      <td>-99</td>\n      <td>-99</td>\n      <td>-99</td>\n      <td>-99</td>\n      <td>-99</td>\n      <td>...</td>\n      <td>1</td>\n      <td>-99</td>\n      <td>-99</td>\n      <td>-99</td>\n      <td>0</td>\n      <td>-99</td>\n      <td>-99</td>\n      <td>-99</td>\n      <td>0</td>\n      <td>-99</td>\n    </tr>\n    <tr>\n      <th>metformin</th>\n      <td>0</td>\n      <td>0</td>\n      <td>0</td>\n      <td>0</td>\n      <td>0</td>\n      <td>1</td>\n      <td>0</td>\n      <td>0</td>\n      <td>0</td>\n      <td>0</td>\n      <td>...</td>\n      <td>0</td>\n      <td>0</td>\n      <td>0</td>\n      <td>1</td>\n      <td>0</td>\n      <td>0</td>\n      <td>0</td>\n      <td>0</td>\n      <td>0</td>\n      <td>0</td>\n    </tr>\n    <tr>\n      <th>repaglinide</th>\n      <td>0</td>\n      <td>0</td>\n      <td>0</td>\n      <td>0</td>\n      <td>0</td>\n      <td>0</td>\n      <td>0</td>\n      <td>0</td>\n      <td>0</td>\n      <td>0</td>\n      <td>...</td>\n      <td>0</td>\n      <td>0</td>\n      <td>0</td>\n      <td>0</td>\n      <td>0</td>\n      <td>0</td>\n      <td>0</td>\n      <td>0</td>\n      <td>0</td>\n      <td>0</td>\n    </tr>\n    <tr>\n      <th>nateglinide</th>\n      <td>0</td>\n      <td>0</td>\n      <td>0</td>\n      <td>0</td>\n      <td>0</td>\n      <td>0</td>\n      <td>0</td>\n      <td>0</td>\n      <td>0</td>\n      <td>0</td>\n      <td>...</td>\n      <td>0</td>\n      <td>0</td>\n      <td>0</td>\n      <td>0</td>\n      <td>0</td>\n      <td>0</td>\n      <td>0</td>\n      <td>0</td>\n      <td>0</td>\n      <td>0</td>\n    </tr>\n    <tr>\n      <th>chlorpropamide</th>\n      <td>0</td>\n      <td>0</td>\n      <td>0</td>\n      <td>0</td>\n      <td>0</td>\n      <td>0</td>\n      <td>0</td>\n      <td>0</td>\n      <td>0</td>\n      <td>0</td>\n      <td>...</td>\n      <td>0</td>\n      <td>0</td>\n      <td>0</td>\n      <td>0</td>\n      <td>0</td>\n      <td>0</td>\n      <td>0</td>\n      <td>0</td>\n      <td>0</td>\n      <td>0</td>\n    </tr>\n    <tr>\n      <th>glimepiride</th>\n      <td>0</td>\n      <td>0</td>\n      <td>0</td>\n      <td>0</td>\n      <td>0</td>\n      <td>1</td>\n      <td>0</td>\n      <td>0</td>\n      <td>0</td>\n      <td>0</td>\n      <td>...</td>\n      <td>0</td>\n      <td>0</td>\n      <td>0</td>\n      <td>0</td>\n      <td>0</td>\n      <td>0</td>\n      <td>0</td>\n      <td>0</td>\n      <td>0</td>\n      <td>0</td>\n    </tr>\n    <tr>\n      <th>acetohexamide</th>\n      <td>0</td>\n      <td>0</td>\n      <td>0</td>\n      <td>0</td>\n      <td>0</td>\n      <td>0</td>\n      <td>0</td>\n      <td>0</td>\n      <td>0</td>\n      <td>0</td>\n      <td>...</td>\n      <td>0</td>\n      <td>0</td>\n      <td>0</td>\n      <td>0</td>\n      <td>0</td>\n      <td>0</td>\n      <td>0</td>\n      <td>0</td>\n      <td>0</td>\n      <td>0</td>\n    </tr>\n    <tr>\n      <th>glipizide</th>\n      <td>0</td>\n      <td>1</td>\n      <td>0</td>\n      <td>1</td>\n      <td>0</td>\n      <td>0</td>\n      <td>0</td>\n      <td>1</td>\n      <td>0</td>\n      <td>0</td>\n      <td>...</td>\n      <td>0</td>\n      <td>0</td>\n      <td>0</td>\n      <td>0</td>\n      <td>0</td>\n      <td>0</td>\n      <td>0</td>\n      <td>0</td>\n      <td>0</td>\n      <td>0</td>\n    </tr>\n    <tr>\n      <th>glyburide</th>\n      <td>0</td>\n      <td>0</td>\n      <td>0</td>\n      <td>0</td>\n      <td>0</td>\n      <td>0</td>\n      <td>1</td>\n      <td>0</td>\n      <td>0</td>\n      <td>0</td>\n      <td>...</td>\n      <td>0</td>\n      <td>0</td>\n      <td>0</td>\n      <td>0</td>\n      <td>0</td>\n      <td>0</td>\n      <td>0</td>\n      <td>0</td>\n      <td>0</td>\n      <td>0</td>\n    </tr>\n    <tr>\n      <th>tolbutamide</th>\n      <td>0</td>\n      <td>0</td>\n      <td>0</td>\n      <td>0</td>\n      <td>0</td>\n      <td>0</td>\n      <td>0</td>\n      <td>0</td>\n      <td>0</td>\n      <td>0</td>\n      <td>...</td>\n      <td>0</td>\n      <td>0</td>\n      <td>0</td>\n      <td>0</td>\n      <td>0</td>\n      <td>0</td>\n      <td>0</td>\n      <td>0</td>\n      <td>0</td>\n      <td>0</td>\n    </tr>\n    <tr>\n      <th>pioglitazone</th>\n      <td>0</td>\n      <td>0</td>\n      <td>0</td>\n      <td>0</td>\n      <td>0</td>\n      <td>0</td>\n      <td>0</td>\n      <td>0</td>\n      <td>0</td>\n      <td>0</td>\n      <td>...</td>\n      <td>0</td>\n      <td>0</td>\n      <td>0</td>\n      <td>0</td>\n      <td>0</td>\n      <td>0</td>\n      <td>0</td>\n      <td>0</td>\n      <td>0</td>\n      <td>0</td>\n    </tr>\n    <tr>\n      <th>rosiglitazone</th>\n      <td>0</td>\n      <td>0</td>\n      <td>0</td>\n      <td>0</td>\n      <td>0</td>\n      <td>0</td>\n      <td>0</td>\n      <td>0</td>\n      <td>1</td>\n      <td>0</td>\n      <td>...</td>\n      <td>0</td>\n      <td>0</td>\n      <td>0</td>\n      <td>0</td>\n      <td>0</td>\n      <td>0</td>\n      <td>0</td>\n      <td>0</td>\n      <td>0</td>\n      <td>0</td>\n    </tr>\n    <tr>\n      <th>acarbose</th>\n      <td>0</td>\n      <td>0</td>\n      <td>0</td>\n      <td>0</td>\n      <td>0</td>\n      <td>0</td>\n      <td>0</td>\n      <td>0</td>\n      <td>0</td>\n      <td>0</td>\n      <td>...</td>\n      <td>0</td>\n      <td>0</td>\n      <td>0</td>\n      <td>0</td>\n      <td>0</td>\n      <td>0</td>\n      <td>0</td>\n      <td>0</td>\n      <td>0</td>\n      <td>0</td>\n    </tr>\n    <tr>\n      <th>miglitol</th>\n      <td>0</td>\n      <td>0</td>\n      <td>0</td>\n      <td>0</td>\n      <td>0</td>\n      <td>0</td>\n      <td>0</td>\n      <td>0</td>\n      <td>0</td>\n      <td>0</td>\n      <td>...</td>\n      <td>0</td>\n      <td>0</td>\n      <td>0</td>\n      <td>0</td>\n      <td>0</td>\n      <td>0</td>\n      <td>0</td>\n      <td>0</td>\n      <td>0</td>\n      <td>0</td>\n    </tr>\n    <tr>\n      <th>troglitazone</th>\n      <td>0</td>\n      <td>0</td>\n      <td>0</td>\n      <td>0</td>\n      <td>0</td>\n      <td>0</td>\n      <td>0</td>\n      <td>0</td>\n      <td>0</td>\n      <td>0</td>\n      <td>...</td>\n      <td>0</td>\n      <td>0</td>\n      <td>0</td>\n      <td>0</td>\n      <td>0</td>\n      <td>0</td>\n      <td>0</td>\n      <td>0</td>\n      <td>0</td>\n      <td>0</td>\n    </tr>\n    <tr>\n      <th>tolazamide</th>\n      <td>0</td>\n      <td>0</td>\n      <td>0</td>\n      <td>0</td>\n      <td>0</td>\n      <td>0</td>\n      <td>0</td>\n      <td>0</td>\n      <td>0</td>\n      <td>0</td>\n      <td>...</td>\n      <td>0</td>\n      <td>0</td>\n      <td>0</td>\n      <td>0</td>\n      <td>0</td>\n      <td>0</td>\n      <td>0</td>\n      <td>0</td>\n      <td>0</td>\n      <td>0</td>\n    </tr>\n    <tr>\n      <th>examide</th>\n      <td>No</td>\n      <td>No</td>\n      <td>No</td>\n      <td>No</td>\n      <td>No</td>\n      <td>No</td>\n      <td>No</td>\n      <td>No</td>\n      <td>No</td>\n      <td>No</td>\n      <td>...</td>\n      <td>No</td>\n      <td>No</td>\n      <td>No</td>\n      <td>No</td>\n      <td>No</td>\n      <td>No</td>\n      <td>No</td>\n      <td>No</td>\n      <td>No</td>\n      <td>No</td>\n    </tr>\n    <tr>\n      <th>citoglipton</th>\n      <td>No</td>\n      <td>No</td>\n      <td>No</td>\n      <td>No</td>\n      <td>No</td>\n      <td>No</td>\n      <td>No</td>\n      <td>No</td>\n      <td>No</td>\n      <td>No</td>\n      <td>...</td>\n      <td>No</td>\n      <td>No</td>\n      <td>No</td>\n      <td>No</td>\n      <td>No</td>\n      <td>No</td>\n      <td>No</td>\n      <td>No</td>\n      <td>No</td>\n      <td>No</td>\n    </tr>\n    <tr>\n      <th>insulin</th>\n      <td>1</td>\n      <td>0</td>\n      <td>1</td>\n      <td>1</td>\n      <td>1</td>\n      <td>1</td>\n      <td>0</td>\n      <td>1</td>\n      <td>1</td>\n      <td>1</td>\n      <td>...</td>\n      <td>1</td>\n      <td>1</td>\n      <td>1</td>\n      <td>0</td>\n      <td>1</td>\n      <td>1</td>\n      <td>0</td>\n      <td>1</td>\n      <td>0</td>\n      <td>1</td>\n    </tr>\n    <tr>\n      <th>glyburide-metformin</th>\n      <td>0</td>\n      <td>0</td>\n      <td>0</td>\n      <td>0</td>\n      <td>0</td>\n      <td>0</td>\n      <td>0</td>\n      <td>0</td>\n      <td>0</td>\n      <td>0</td>\n      <td>...</td>\n      <td>0</td>\n      <td>0</td>\n      <td>0</td>\n      <td>0</td>\n      <td>0</td>\n      <td>0</td>\n      <td>0</td>\n      <td>0</td>\n      <td>0</td>\n      <td>0</td>\n    </tr>\n    <tr>\n      <th>glipizide-metformin</th>\n      <td>0</td>\n      <td>0</td>\n      <td>0</td>\n      <td>0</td>\n      <td>0</td>\n      <td>0</td>\n      <td>0</td>\n      <td>0</td>\n      <td>0</td>\n      <td>0</td>\n      <td>...</td>\n      <td>0</td>\n      <td>0</td>\n      <td>0</td>\n      <td>0</td>\n      <td>0</td>\n      <td>0</td>\n      <td>0</td>\n      <td>0</td>\n      <td>0</td>\n      <td>0</td>\n    </tr>\n    <tr>\n      <th>glimepiride-pioglitazone</th>\n      <td>0</td>\n      <td>0</td>\n      <td>0</td>\n      <td>0</td>\n      <td>0</td>\n      <td>0</td>\n      <td>0</td>\n      <td>0</td>\n      <td>0</td>\n      <td>0</td>\n      <td>...</td>\n      <td>0</td>\n      <td>0</td>\n      <td>0</td>\n      <td>0</td>\n      <td>0</td>\n      <td>0</td>\n      <td>0</td>\n      <td>0</td>\n      <td>0</td>\n      <td>0</td>\n    </tr>\n    <tr>\n      <th>metformin-rosiglitazone</th>\n      <td>0</td>\n      <td>0</td>\n      <td>0</td>\n      <td>0</td>\n      <td>0</td>\n      <td>0</td>\n      <td>0</td>\n      <td>0</td>\n      <td>0</td>\n      <td>0</td>\n      <td>...</td>\n      <td>0</td>\n      <td>0</td>\n      <td>0</td>\n      <td>0</td>\n      <td>0</td>\n      <td>0</td>\n      <td>0</td>\n      <td>0</td>\n      <td>0</td>\n      <td>0</td>\n    </tr>\n    <tr>\n      <th>metformin-pioglitazone</th>\n      <td>0</td>\n      <td>0</td>\n      <td>0</td>\n      <td>0</td>\n      <td>0</td>\n      <td>0</td>\n      <td>0</td>\n      <td>0</td>\n      <td>0</td>\n      <td>0</td>\n      <td>...</td>\n      <td>0</td>\n      <td>0</td>\n      <td>0</td>\n      <td>0</td>\n      <td>0</td>\n      <td>0</td>\n      <td>0</td>\n      <td>0</td>\n      <td>0</td>\n      <td>0</td>\n    </tr>\n    <tr>\n      <th>change</th>\n      <td>1</td>\n      <td>0</td>\n      <td>1</td>\n      <td>1</td>\n      <td>0</td>\n      <td>1</td>\n      <td>0</td>\n      <td>1</td>\n      <td>1</td>\n      <td>0</td>\n      <td>...</td>\n      <td>1</td>\n      <td>0</td>\n      <td>0</td>\n      <td>0</td>\n      <td>0</td>\n      <td>1</td>\n      <td>0</td>\n      <td>1</td>\n      <td>0</td>\n      <td>0</td>\n    </tr>\n    <tr>\n      <th>diabetesMed</th>\n      <td>1</td>\n      <td>1</td>\n      <td>1</td>\n      <td>1</td>\n      <td>1</td>\n      <td>1</td>\n      <td>1</td>\n      <td>1</td>\n      <td>1</td>\n      <td>1</td>\n      <td>...</td>\n      <td>1</td>\n      <td>1</td>\n      <td>1</td>\n      <td>1</td>\n      <td>1</td>\n      <td>1</td>\n      <td>0</td>\n      <td>1</td>\n      <td>0</td>\n      <td>1</td>\n    </tr>\n    <tr>\n      <th>readmitted</th>\n      <td>0</td>\n      <td>0</td>\n      <td>0</td>\n      <td>0</td>\n      <td>0</td>\n      <td>0</td>\n      <td>0</td>\n      <td>0</td>\n      <td>0</td>\n      <td>0</td>\n      <td>...</td>\n      <td>0</td>\n      <td>0</td>\n      <td>0</td>\n      <td>0</td>\n      <td>0</td>\n      <td>0</td>\n      <td>0</td>\n      <td>0</td>\n      <td>0</td>\n      <td>0</td>\n    </tr>\n    <tr>\n      <th>diag_1_cat</th>\n      <td>9</td>\n      <td>7</td>\n      <td>9</td>\n      <td>8</td>\n      <td>1</td>\n      <td>1</td>\n      <td>1</td>\n      <td>1</td>\n      <td>1</td>\n      <td>4</td>\n      <td>...</td>\n      <td>7</td>\n      <td>1</td>\n      <td>2</td>\n      <td>2</td>\n      <td>1</td>\n      <td>3</td>\n      <td>9</td>\n      <td>4</td>\n      <td>1</td>\n      <td>1</td>\n    </tr>\n    <tr>\n      <th>diag_2_cat</th>\n      <td>4</td>\n      <td>4</td>\n      <td>4</td>\n      <td>8</td>\n      <td>1</td>\n      <td>1</td>\n      <td>2</td>\n      <td>1</td>\n      <td>8</td>\n      <td>1</td>\n      <td>...</td>\n      <td>4</td>\n      <td>2</td>\n      <td>2</td>\n      <td>1</td>\n      <td>1</td>\n      <td>9</td>\n      <td>9</td>\n      <td>2</td>\n      <td>1</td>\n      <td>1</td>\n    </tr>\n    <tr>\n      <th>diag_3_cat</th>\n      <td>9</td>\n      <td>9</td>\n      <td>1</td>\n      <td>4</td>\n      <td>4</td>\n      <td>9</td>\n      <td>4</td>\n      <td>9</td>\n      <td>2</td>\n      <td>5</td>\n      <td>...</td>\n      <td>1</td>\n      <td>9</td>\n      <td>4</td>\n      <td>1</td>\n      <td>2</td>\n      <td>3</td>\n      <td>4</td>\n      <td>2</td>\n      <td>1</td>\n      <td>9</td>\n    </tr>\n    <tr>\n      <th>numchange</th>\n      <td>1</td>\n      <td>0</td>\n      <td>1</td>\n      <td>0</td>\n      <td>0</td>\n      <td>0</td>\n      <td>0</td>\n      <td>0</td>\n      <td>0</td>\n      <td>0</td>\n      <td>...</td>\n      <td>1</td>\n      <td>0</td>\n      <td>0</td>\n      <td>0</td>\n      <td>0</td>\n      <td>1</td>\n      <td>0</td>\n      <td>1</td>\n      <td>0</td>\n      <td>0</td>\n    </tr>\n    <tr>\n      <th>num_meds</th>\n      <td>1</td>\n      <td>1</td>\n      <td>1</td>\n      <td>2</td>\n      <td>1</td>\n      <td>3</td>\n      <td>1</td>\n      <td>2</td>\n      <td>2</td>\n      <td>1</td>\n      <td>...</td>\n      <td>1</td>\n      <td>1</td>\n      <td>1</td>\n      <td>1</td>\n      <td>1</td>\n      <td>1</td>\n      <td>0</td>\n      <td>1</td>\n      <td>0</td>\n      <td>1</td>\n    </tr>\n    <tr>\n      <th>race_AfricanAmerican</th>\n      <td>0</td>\n      <td>1</td>\n      <td>0</td>\n      <td>0</td>\n      <td>0</td>\n      <td>0</td>\n      <td>0</td>\n      <td>0</td>\n      <td>0</td>\n      <td>1</td>\n      <td>...</td>\n      <td>0</td>\n      <td>0</td>\n      <td>0</td>\n      <td>0</td>\n      <td>0</td>\n      <td>1</td>\n      <td>0</td>\n      <td>0</td>\n      <td>0</td>\n      <td>0</td>\n    </tr>\n    <tr>\n      <th>race_Asian</th>\n      <td>0</td>\n      <td>0</td>\n      <td>0</td>\n      <td>0</td>\n      <td>0</td>\n      <td>0</td>\n      <td>0</td>\n      <td>0</td>\n      <td>0</td>\n      <td>0</td>\n      <td>...</td>\n      <td>0</td>\n      <td>0</td>\n      <td>0</td>\n      <td>0</td>\n      <td>0</td>\n      <td>0</td>\n      <td>0</td>\n      <td>0</td>\n      <td>0</td>\n      <td>0</td>\n    </tr>\n    <tr>\n      <th>race_Caucasian</th>\n      <td>1</td>\n      <td>0</td>\n      <td>1</td>\n      <td>1</td>\n      <td>1</td>\n      <td>1</td>\n      <td>1</td>\n      <td>1</td>\n      <td>1</td>\n      <td>0</td>\n      <td>...</td>\n      <td>0</td>\n      <td>1</td>\n      <td>1</td>\n      <td>1</td>\n      <td>1</td>\n      <td>0</td>\n      <td>1</td>\n      <td>0</td>\n      <td>1</td>\n      <td>1</td>\n    </tr>\n    <tr>\n      <th>race_Hispanic</th>\n      <td>0</td>\n      <td>0</td>\n      <td>0</td>\n      <td>0</td>\n      <td>0</td>\n      <td>0</td>\n      <td>0</td>\n      <td>0</td>\n      <td>0</td>\n      <td>0</td>\n      <td>...</td>\n      <td>0</td>\n      <td>0</td>\n      <td>0</td>\n      <td>0</td>\n      <td>0</td>\n      <td>0</td>\n      <td>0</td>\n      <td>0</td>\n      <td>0</td>\n      <td>0</td>\n    </tr>\n    <tr>\n      <th>race_Other</th>\n      <td>0</td>\n      <td>0</td>\n      <td>0</td>\n      <td>0</td>\n      <td>0</td>\n      <td>0</td>\n      <td>0</td>\n      <td>0</td>\n      <td>0</td>\n      <td>0</td>\n      <td>...</td>\n      <td>1</td>\n      <td>0</td>\n      <td>0</td>\n      <td>0</td>\n      <td>0</td>\n      <td>0</td>\n      <td>0</td>\n      <td>1</td>\n      <td>0</td>\n      <td>0</td>\n    </tr>\n  </tbody>\n</table>\n<p>56 rows × 100 columns</p>\n</div>"
     },
     "execution_count": 115,
     "metadata": {},
     "output_type": "execute_result"
    }
   ],
   "source": [
    "# type your code below\n",
    "df.head(100).T\n"
   ]
  },
  {
   "cell_type": "markdown",
   "metadata": {
    "pycharm": {
     "name": "#%% md\n"
    }
   },
   "source": [
    "#we could put the stacktrace bit in the getting started section....\n",
    "\n",
    "\n",
    "If everything went OK you should see the first 5 rows of data. If not you will see a lot of red text called a _stack trace_.\n",
    "Don't worry about this. It might look alarming but it often includes helpful \t7\t2\t11\t...\tNo\tNo\tNo\tNo\tNo\tNo\tNo\tNo\tYes\tNO\n",
    "3\t500364\t82442376\tCaucasian\tMale\t[30-40)\t1\t1\tinformation about where you went wrong.\n",
    "If you do see a stack trace, make sure your code inthe cell above looks like this `df.head()` onece it does, and you\n",
    "re-run the cell the stacktrace will be gone.\n",
    "### try\n",
    "replace `df.head()` with `df.hea()`\n",
    "### in your Notebook\n",
    "What did the output look like?\n",
    "How might that help you work out what went wrong?\n",
    "\n",
    "now put df.head() back into the cell and re-run it.\n",
    "\n",
    "The dataset should have 101766 rows, and 50 columns. That's a lot of data to make sense of, but we have the tools!\n",
    "Let's see what types of data we have. The command to do this is `df.dtypes` try it in the cell below."
   ]
  },
  {
   "cell_type": "code",
   "execution_count": 84,
   "metadata": {
    "pycharm": {
     "name": "#%%\n"
    }
   },
   "outputs": [
    {
     "data": {
      "text/plain": "encounter_id                 int64\npatient_nbr                  int64\nrace                        object\ngender                      object\nage                         object\nweight                      object\nadmission_type_id            int64\ndischarge_disposition_id     int64\nadmission_source_id          int64\ntime_in_hospital             int64\npayer_code                  object\nmedical_specialty           object\nnum_lab_procedures           int64\nnum_procedures               int64\nnum_medications              int64\nnumber_outpatient            int64\nnumber_emergency             int64\nnumber_inpatient             int64\ndiag_1                      object\ndiag_2                      object\ndiag_3                      object\nnumber_diagnoses             int64\nmax_glu_serum               object\nA1Cresult                   object\nmetformin                   object\nrepaglinide                 object\nnateglinide                 object\nchlorpropamide              object\nglimepiride                 object\nacetohexamide               object\nglipizide                   object\nglyburide                   object\ntolbutamide                 object\npioglitazone                object\nrosiglitazone               object\nacarbose                    object\nmiglitol                    object\ntroglitazone                object\ntolazamide                  object\nexamide                     object\ncitoglipton                 object\ninsulin                     object\nglyburide-metformin         object\nglipizide-metformin         object\nglimepiride-pioglitazone    object\nmetformin-rosiglitazone     object\nmetformin-pioglitazone      object\nchange                      object\ndiabetesMed                 object\nreadmitted                  object\ndtype: object"
     },
     "execution_count": 84,
     "metadata": {},
     "output_type": "execute_result"
    }
   ],
   "source": [
    "df.dtypes"
   ]
  },
  {
   "cell_type": "markdown",
   "metadata": {
    "pycharm": {
     "name": "#%% md\n"
    }
   },
   "source": [
    "Next to each column you can see the type of data it is. for example _int64_ is an integer. When Pandas isn't sure what\n",
    "the type should be it uses 'object'. These are mostly strings as this is data coming from a .CSV file.\n",
    "Now we know what our data looks like lets make sure it is in a suitable state for us to analyse. One of the first things\n",
    "to do is deal with any missing values.\n",
    "\n",
    "In this dataset, missing values are represented by a  “?”  So if we search every column which has a type of “object” to\n",
    "see if there are any “?” values, and then count them, we can see the extent of our missing data problem, if any.\n"
   ]
  },
  {
   "cell_type": "code",
   "execution_count": 85,
   "metadata": {
    "pycharm": {
     "name": "#%%\n"
    }
   },
   "outputs": [
    {
     "name": "stdout",
     "output_type": "stream",
     "text": [
      "race 2273\n",
      "gender 0\n",
      "age 0\n",
      "weight 98569\n",
      "payer_code 40256\n",
      "medical_specialty 49949\n",
      "diag_1 21\n",
      "diag_2 358\n",
      "diag_3 1423\n",
      "max_glu_serum 0\n",
      "A1Cresult 0\n",
      "metformin 0\n",
      "repaglinide 0\n",
      "nateglinide 0\n",
      "chlorpropamide 0\n",
      "glimepiride 0\n",
      "acetohexamide 0\n",
      "glipizide 0\n",
      "glyburide 0\n",
      "tolbutamide 0\n",
      "pioglitazone 0\n",
      "rosiglitazone 0\n",
      "acarbose 0\n",
      "miglitol 0\n",
      "troglitazone 0\n",
      "tolazamide 0\n",
      "examide 0\n",
      "citoglipton 0\n",
      "insulin 0\n",
      "glyburide-metformin 0\n",
      "glipizide-metformin 0\n",
      "glimepiride-pioglitazone 0\n",
      "metformin-rosiglitazone 0\n",
      "metformin-pioglitazone 0\n",
      "change 0\n",
      "diabetesMed 0\n",
      "readmitted 0\n"
     ]
    }
   ],
   "source": [
    "# note to self - do we need to take them through series and referencing pandas dataframes ? Or can we just explain what it does\n",
    "\n",
    "# for every column in the dataframe\n",
    "for col in df.columns:\n",
    "    # check if it has a datatype of 'object' - if it does\n",
    "    if df[col].dtype == object:\n",
    "        #print the column name and the count of the number of '?' values\n",
    "         print(col,df[col][df[col] == '?'].count())"
   ]
  },
  {
   "cell_type": "markdown",
   "metadata": {},
   "source": [
    "We know that 'Gender' is encoded differently with 'Unknown/Invalid' used to signify missing data.\n",
    "so:"
   ]
  },
  {
   "cell_type": "code",
   "execution_count": 86,
   "metadata": {
    "pycharm": {
     "name": "#%%\n"
    }
   },
   "outputs": [
    {
     "name": "stdout",
     "output_type": "stream",
     "text": [
      "gender 3\n"
     ]
    }
   ],
   "source": [
    "tools.count_value(df, 'Unknown/Invalid', 'gender')"
   ]
  },
  {
   "cell_type": "markdown",
   "metadata": {
    "pycharm": {
     "name": "#%% md\n"
    }
   },
   "source": [
    "We can see that some columns have quite a few missing values. Weight is the worst affected with around 98% of\n",
    "the values missing. There is not much we can do to improve this situation so we will remove this column from the dataset.\n",
    "Payer code and medical specialty also have a lot of missing values so we will also drop these columns. 2 other variables\n",
    "the drugs named <drug names> all have the same values and therefore do not add any information, so we will also drop these"
   ]
  },
  {
   "cell_type": "code",
   "execution_count": 87,
   "metadata": {
    "pycharm": {
     "name": "#%%\n"
    }
   },
   "outputs": [],
   "source": [
    "# dropping columns with large number of missing values\n",
    "df = df.drop(['weight','payer_code','medical_specialty'], axis = 1)"
   ]
  },
  {
   "cell_type": "markdown",
   "metadata": {
    "pycharm": {
     "name": "#%% md\n"
    }
   },
   "source": [
    "the columns race, diagonal…, And gender all have some missing values but far fewer than the columns we have just dropped.\n",
    "In this situation, we can just go in and delete those values. We will do this with a function from our toolbox module.\n",
    "Once we have done this we can rerun the code we used earlier to see what our dataset looks like now we have cleaned it\n",
    "up a bit"
   ]
  },
  {
   "cell_type": "code",
   "execution_count": 88,
   "metadata": {
    "pycharm": {
     "name": "#%%\n"
    }
   },
   "outputs": [],
   "source": [
    "tools.drop_values(df,'race','?')\n",
    "tools.drop_values(df,'diag_1', '?')\n",
    "tools.drop_values(df,'diag_2', '?')\n",
    "tools.drop_values(df,'diag_3', '?')\n",
    "tools.drop_values(df,'gender', '?')"
   ]
  },
  {
   "cell_type": "code",
   "execution_count": 131,
   "metadata": {
    "pycharm": {
     "name": "#%%\n"
    }
   },
   "outputs": [
    {
     "name": "stdout",
     "output_type": "stream",
     "text": [
      "gender 0\n"
     ]
    }
   ],
   "source": [
    "# tools.count_values(df,'?')\n",
    "\n",
    "tools.drop_values(df,'gender', 'Unknown/Invalid')\n",
    "tools.count_value(df,'Unknown/Invalid', 'gender')"
   ]
  },
  {
   "cell_type": "markdown",
   "metadata": {
    "pycharm": {
     "name": "#%% md\n"
    }
   },
   "source": [
    "## Feature Engineering\n",
    "So we have cleaned up the data and now have a dataset free from missing values, but there are still some issues.\n",
    "The dataset wasn't designed specifically with machine learning in mind and some of the variables need to be optimised\n",
    "\n",
    "### Previous diagnoses\n",
    "There are three columns in the dataframe: diag1, diag2 and diag3 which are references to previous diagnoses.\n",
    "These use something called an IDC code to indicate what the diagnosis was.\n",
    "There are several hundred distinct values which are strings, mostly numeric.\n",
    "we can simplify this into something our model can make sense out of by categorising them. In another study, researchers\n",
    "used 9 desease categories and we have done the same assigning each a single digit identifier:\n",
    "circulatory = 1, respiratory = 2,digestive = 3,diabetes = 4,injury = 5,musculoskeletal = 6,\n",
    "genitourinary = 7, neoplasm = 8 and other = 9\n",
    "\n",
    "We have provided a function in the toolbox_module which does this for you: `convert_idc_disease_class()`\n",
    "This accepts a string and returns an integer between 1 and 9.\n",
    "#### try...\n",
    "patient x has a diag_1 code of '648'. what type of condition did they suffer from?"
   ]
  },
  {
   "cell_type": "code",
   "execution_count": 90,
   "metadata": {
    "pycharm": {
     "name": "#%%\n"
    }
   },
   "outputs": [
    {
     "data": {
      "text/plain": "7"
     },
     "execution_count": 90,
     "metadata": {},
     "output_type": "execute_result"
    }
   ],
   "source": [
    "#write your code below...\n",
    "tools.convert_idc_disease_class('648') #todo: delete me"
   ]
  },
  {
   "cell_type": "markdown",
   "metadata": {
    "pycharm": {
     "name": "#%% md\n"
    }
   },
   "source": [
    "The three lines of code in the cell below apply this function to every row in the dataframe and put the reult in a new\n",
    "column. This uses a feature you will come across in many programming languages, called a _lambda function_. It works by\n",
    "passing a bit of code as an argument to a function. The code then runs inside the function and enhances it.\n",
    "\n",
    "You can see the Keyword `Lambda` and `row`followed by a colon. `row` is a parameter for the dataframe's `apply` function.\n",
    "After the colon we pass our toolbox function which is applied to every row in the dataframe."
   ]
  },
  {
   "cell_type": "code",
   "execution_count": 91,
   "metadata": {},
   "outputs": [],
   "source": [
    "df['diag_1_cat']=df.apply(lambda row:tools.convert_idc_disease_class(row['diag_1']), axis=1)\n",
    "df['diag_2_cat']=df.apply(lambda row:tools.convert_idc_disease_class(row['diag_2']), axis=1)\n",
    "df['diag_3_cat']=df.apply(lambda row:tools.convert_idc_disease_class(row['diag_3']), axis=1)"
   ]
  },
  {
   "cell_type": "markdown",
   "metadata": {
    "pycharm": {
     "name": "#%% md\n"
    }
   },
   "source": [
    "Now lets run df head again. Can you see what's changed?"
   ]
  },
  {
   "cell_type": "code",
   "execution_count": 124,
   "metadata": {
    "pycharm": {
     "name": "#%%\n"
    }
   },
   "outputs": [
    {
     "name": "stdout",
     "output_type": "stream",
     "text": [
      "gender 0\n",
      "gender 0\n"
     ]
    }
   ],
   "source": [
    "#df.head(100).T"
   ]
  },
  {
   "cell_type": "markdown",
   "metadata": {},
   "source": [
    "### Drug prescribing\n",
    "There are 23 drugs which have been prescribed as part of diabetes treatment protocols and the dataset records whether\n",
    "the prescription was increased, reduced, not prescribed, or continued without change.\n",
    "Have a look at the `head()` output to see them.\n",
    "We are aware of previous research which has found that changes to medication is associated with lower readmission rates,\n",
    "so we are going to make a new variable - a _'feature'_ for our machine learning algorithm called numchange which\n",
    "is the total number of changes to any medication. To do that we make a list of all the medications (keys), and then we\n",
    "loop over this making a temporary column in the data frame for each key and then using a lambda function like we did\n",
    "earlier. This creates a variable “X” which stores the value of the column, which we test: if it is equal to\n",
    "'no' or 'steady', then the medication either has not been prescribed or dosage not changed in which case we assign 0.\n",
    "If it has any other value, i.e. “up”, or “down” then the dosages either been increased or decreased, in which case we\n",
    "assign one. Once we have done that we loop over the keys again, this time adding the value of the temporary column to\n",
    "`numchange` column, and then finally we delete the temporary column. The last line of code outputs the number of different\n",
    "values in the column"
   ]
  },
  {
   "cell_type": "code",
   "execution_count": 93,
   "metadata": {
    "pycharm": {
     "name": "#%%\n"
    }
   },
   "outputs": [
    {
     "data": {
      "text/plain": "0    71310\n1    25350\n2     1281\n3      107\n4        5\nName: numchange, dtype: int64"
     },
     "execution_count": 93,
     "metadata": {},
     "output_type": "execute_result"
    }
   ],
   "source": [
    "# set up the list of drugs - the columns we are using\n",
    "keys = ['metformin', 'repaglinide', 'nateglinide', 'chlorpropamide', 'glimepiride', 'glipizide', 'glyburide', 'pioglitazone', 'rosiglitazone', 'acarbose', 'miglitol', 'insulin', 'glyburide-metformin', 'tolazamide', 'metformin-pioglitazone','metformin-rosiglitazone', 'glimepiride-pioglitazone', 'glipizide-metformin', 'troglitazone', 'tolbutamide', 'acetohexamide']\n",
    "\n",
    "##loop over the drug columns, and for every drug...\n",
    "for col in keys:\n",
    "    #... make a temporary column\n",
    "    colname = str(col) + 'temp'\n",
    "    #...then check for changes to medications: assign 1 to the temporary column if there were changes, otherwise 0\n",
    "    df[colname] = df[col].apply(lambda x: 0 if (x == 'No' or x == 'Steady') else 1)\n",
    "\n",
    "#make a numchange column: we do this outside the loop, why?\n",
    "df['numchange'] = 0\n",
    "\n",
    "# now we loop over them again\n",
    "for col in keys:\n",
    "    #remake the name of the temporary column\n",
    "    colname = str(col) + 'temp'\n",
    "\n",
    "    # add the value to the numchange column\n",
    "    df['numchange'] = df['numchange'] + df[colname]\n",
    "    # delete the temorary column\n",
    "    del df[colname]\n",
    "\n",
    "#print out a list of all the 'numchange' values we have and how many\n",
    "df['numchange'].value_counts()\n"
   ]
  },
  {
   "cell_type": "markdown",
   "metadata": {},
   "source": [
    "### in your notebook...\n",
    "What percentage of people did not have changes to their medications?"
   ]
  },
  {
   "cell_type": "markdown",
   "source": [
    "Number of medication used: Another potentially interesting factor could be the total number of medications used by the\n",
    "patient. This might indicate the severity of their condition and/or the intensity of their care, so we created another\n",
    "feature - num_meds by counting the medications used during the stay."
   ],
   "metadata": {
    "collapsed": false
   }
  },
  {
   "cell_type": "code",
   "execution_count": 107,
   "outputs": [
    {
     "data": {
      "text/plain": "1    45447\n0    22702\n2    21057\n3     7485\n4     1300\n5       57\n6        5\nName: num_meds, dtype: int64"
     },
     "execution_count": 107,
     "metadata": {},
     "output_type": "execute_result"
    }
   ],
   "source": [
    "# make a new column\n",
    "df['num_meds'] = 0\n",
    "# loop through the list of drugs we made earlier\n",
    "for col in keys:\n",
    "    # there will now be a '1' in the collumn if the patient is on that drug, so add it to the number of meds (add the '0' otherwise)\n",
    "    df['num_meds'] = df['num_meds'] + df[col]\n",
    "# print a count of the values to make sure it worked\n",
    "df['num_meds'].value_counts()"
   ],
   "metadata": {
    "collapsed": false,
    "pycharm": {
     "name": "#%%\n"
    }
   }
  },
  {
   "cell_type": "markdown",
   "metadata": {
    "pycharm": {
     "name": "#%% md\n"
    }
   },
   "source": [
    "## Encoding\n",
    "The dataset uses strings for gender, race, diabetesMed, and medication change, and for each of the 23 drugs used. To use these values in our\n",
    "model we are going to convert them into binary values, i.e. 1 and 0.\n",
    "\n",
    "\n",
    "#### Medication Change\n",
    "First, we will deal with medication change by replacing ‘Ch’ with 1 and ‘No’ with 0"
   ]
  },
  {
   "cell_type": "code",
   "execution_count": 94,
   "metadata": {
    "pycharm": {
     "name": "#%%\n"
    }
   },
   "outputs": [],
   "source": [
    "df['change'] = df['change'].replace('Ch', 1)\n",
    "df['change'] = df['change'].replace('No', 0)"
   ]
  },
  {
   "cell_type": "markdown",
   "metadata": {},
   "source": [
    "#### diabetesMed\n",
    "...then we will change diabetesMed by replacing yes with 1 and no with 0. This is a convention in programming when\n",
    "converting things into binary. Yes is generally represented by 1 and no generally by 0, a bit like a Boolean value,\n",
    "where True is represented by 1 and false by 0."
   ]
  },
  {
   "cell_type": "code",
   "execution_count": 95,
   "metadata": {
    "pycharm": {
     "name": "#%%\n"
    }
   },
   "outputs": [],
   "source": [
    "df['diabetesMed'] = df['diabetesMed'].replace('Yes', 1)\n",
    "df['diabetesMed'] = df['diabetesMed'].replace('No', 0)"
   ]
  },
  {
   "cell_type": "markdown",
   "source": [],
   "metadata": {
    "collapsed": false
   }
  },
  {
   "cell_type": "code",
   "execution_count": 112,
   "outputs": [],
   "source": [
    "#### Ethnicity\n",
    "df = pd.get_dummies(df, columns=['race'])"
   ],
   "metadata": {
    "collapsed": false,
    "pycharm": {
     "name": "#%%\n"
    }
   }
  },
  {
   "cell_type": "code",
   "execution_count": null,
   "outputs": [],
   "source": [
    "# write your code below...\n",
    "df['gender'] = df['gender'].replace('Male', 1)\n",
    "df['gender'] = df['gender'].replace('Female', 0)"
   ],
   "metadata": {
    "collapsed": false,
    "pycharm": {
     "name": "#%%\n"
    }
   }
  },
  {
   "cell_type": "markdown",
   "metadata": {
    "pycharm": {
     "name": "#%% md\n"
    }
   },
   "source": [
    "### try...\n",
    "#### Gender\n",
    "Now it is your turn. Let’s encode gender by encoding 'Male' with 1 and 'Female' with 0. You an co this in tha same way\n",
    "as we did in the cells above Have a look at the dataset to make sure that you type male and female exactly as they are\n",
    "in the dataset. Clue: both capitalised"
   ]
  },
  {
   "cell_type": "code",
   "execution_count": 96,
   "metadata": {
    "pycharm": {
     "name": "#%%\n"
    }
   },
   "outputs": [],
   "source": [
    "# write your code below...\n",
    "df['gender'] = df['gender'].replace('Male', 1)\n",
    "df['gender'] = df['gender'].replace('Female', 0)"
   ]
  },
  {
   "cell_type": "markdown",
   "metadata": {
    "pycharm": {
     "name": "#%% md\n"
    }
   },
   "source": [
    "#### Medications\n",
    "The dataset contains 23 columns each for a different medication. Each medication feature indicates whether the drug was\n",
    "prescribed and whether there was a change in dosage.As we have already created a variable that measures the amount of\n",
    "changes in medication alongside the existence of another variable which indicates whether or not there was a change, we\n",
    "don't really need this information, so we are going to recode these variables so that they just indicate whether or not this particular drug was prescribed. We are going to loop through the set of drug keys we created earlier. This time, for each drug, we will replace the values: 0 for ‘no’;1 4 steady, up, down"
   ]
  },
  {
   "cell_type": "code",
   "execution_count": 97,
   "metadata": {
    "pycharm": {
     "name": "#%%\n"
    }
   },
   "outputs": [],
   "source": [
    "# we are using the list of keys from the cell we created them in earlier\n",
    "for col in keys:\n",
    "    df[col] = df[col].replace('No', 0)\n",
    "    df[col] = df[col].replace('Steady', 1)\n",
    "    df[col] = df[col].replace('Up', 1)\n",
    "    df[col] = df[col].replace('Down', 1)"
   ]
  },
  {
   "cell_type": "markdown",
   "metadata": {},
   "source": [
    "#### test results\n",
    "We are also going to recode test results for the A1c test (we are data scientists and we have no idea what that is) and the maximum glucose serum test. We are going to encode 0 for a normal result and 1 for an abnormal result. Where no test was given we will use -99.\n",
    "#### in your notebook...\n",
    "Have a look at the code in the cell below, what are the abnormal values for each test?"
   ]
  },
  {
   "cell_type": "code",
   "execution_count": 98,
   "metadata": {
    "pycharm": {
     "name": "#%%\n"
    }
   },
   "outputs": [],
   "source": [
    "df['A1Cresult'] = df['A1Cresult'].replace('>7', 1)\n",
    "df['A1Cresult'] = df['A1Cresult'].replace('>8', 1)\n",
    "df['A1Cresult'] = df['A1Cresult'].replace('Norm', 0)\n",
    "df['A1Cresult'] = df['A1Cresult'].replace('None', -99)\n",
    "df['max_glu_serum'] = df['max_glu_serum'].replace('>200', 1)\n",
    "df['max_glu_serum'] = df['max_glu_serum'].replace('>300', 1)\n",
    "df['max_glu_serum'] = df['max_glu_serum'].replace('Norm', 0)\n",
    "df['max_glu_serum'] = df['max_glu_serum'].replace('None', -99)"
   ]
  },
  {
   "cell_type": "markdown",
   "metadata": {},
   "source": [
    "### Age Groupings\n",
    "The age variable is currently encoded in 10 year intervals: 10 year bands from 0 to 100. We are going to create a loop\n",
    "which runs 10 times and replaces each band with an integer. What we are left with is still a categorical variable, so we\n",
    "will approximate the age as the midpoint in each category, so we are left with something on a continuous scale.\n",
    "\n",
    "To do this we use a feature in python called a dictionary. This is a collection, a data structure a bit like a list,\n",
    "which consists of key value pairs separated by a colon the key comes first, and we can use this to look up values in the\n",
    "dictionary in much the same way you would get the definition of a word from a real-life dictionary."
   ]
  },
  {
   "cell_type": "code",
   "execution_count": 99,
   "metadata": {
    "pycharm": {
     "name": "#%%\n"
    }
   },
   "outputs": [
    {
     "name": "stdout",
     "output_type": "stream",
     "text": [
      "8     25306\n",
      "7     21809\n",
      "9     16702\n",
      "6     16697\n",
      "5      9265\n",
      "4      3548\n",
      "10     2717\n",
      "3      1478\n",
      "2       466\n",
      "1        65\n",
      "Name: age, dtype: int64\n",
      "75    25306\n",
      "65    21809\n",
      "85    16702\n",
      "55    16697\n",
      "45     9265\n",
      "35     3548\n",
      "95     2717\n",
      "25     1478\n",
      "15      466\n",
      "5        65\n",
      "Name: age, dtype: int64\n"
     ]
    }
   ],
   "source": [
    "# code age intervals [0-10) - [90-100) from 1-10\n",
    "for i in range(0,10): #for every number from 1-10\n",
    "    #make a string using i which matches the interval eg '[10-20)', replace this with i+1\n",
    "    df['age'] = df['age'].replace('['+str(10*i)+'-'+str(10*(i+1))+')', i+1)\n",
    "df['age'].value_counts()\n",
    "\n",
    "#convert 'age' into an integer\n",
    "df['age'] = df['age'].astype('int64')\n",
    "#print out a count of all the values. This keep us sane!\n",
    "print(df.age.value_counts())\n",
    "\n",
    "# make a dictionary so we can look up new values to replace the ones we made earlier\n",
    "age_dict = {1:5, 2:15, 3:25, 4:35, 5:45, 6:55, 7:65, 8:75, 9:85, 10:95}\n",
    "\n",
    "#map the values onto those in the dictionary. This will replace each one\n",
    "df['age'] = df.age.map(age_dict)\n",
    "#print out the new value counts so we know it worked\n",
    "print(df.age.value_counts())"
   ]
  },
  {
   "cell_type": "markdown",
   "metadata": {},
   "source": [
    "Collapsing of Multiple Encounters for same Patient\n",
    "#blurb goes here\n",
    "N.B. we might move this and try fixing this at the end - not fixing it biases the data in favour of people\n",
    "with multiple admissions"
   ]
  },
  {
   "cell_type": "code",
   "execution_count": 100,
   "metadata": {
    "pycharm": {
     "name": "#%%\n"
    }
   },
   "outputs": [
    {
     "data": {
      "text/plain": "(68630, 51)"
     },
     "execution_count": 100,
     "metadata": {},
     "output_type": "execute_result"
    }
   ],
   "source": [
    "df2 = df.drop_duplicates(subset= ['patient_nbr'], keep = 'first')\n",
    "df2.shape"
   ]
  },
  {
   "cell_type": "markdown",
   "metadata": {},
   "source": [
    "Encoding the outcome variable\n"
   ]
  },
  {
   "cell_type": "code",
   "execution_count": 101,
   "metadata": {
    "pycharm": {
     "name": "#%%\n"
    }
   },
   "outputs": [
    {
     "data": {
      "text/plain": "NO     52338\n>30    34649\n<30    11066\nName: readmitted, dtype: int64"
     },
     "execution_count": 101,
     "metadata": {},
     "output_type": "execute_result"
    }
   ],
   "source": [
    "df['readmitted'].value_counts()"
   ]
  },
  {
   "cell_type": "code",
   "execution_count": 102,
   "metadata": {
    "pycharm": {
     "name": "#%%\n"
    }
   },
   "outputs": [],
   "source": [
    "df['readmitted'] = df['readmitted'].replace('>30', 0)\n",
    "df['readmitted'] = df['readmitted'].replace('<30', 1)\n",
    "df['readmitted'] = df['readmitted'].replace('NO', 0)\n"
   ]
  },
  {
   "cell_type": "markdown",
   "metadata": {
    "pycharm": {
     "name": "#%% md\n"
    }
   },
   "source": [
    "### Visualisations\n",
    "Another important step in a machine learning project is visual inspection of the data. We had a look at the output\n",
    "from the `head()` command, but as humans we can only make sense of this one column at a time, so we can only use it to\n",
    "inspect a tiny fraction of the data. We need other strategies to get a picture of what the whole dataset looks like,\n",
    "so let’s build some charts…\n",
    "\n",
    "Remember those imports we did at the start of this notebook? One of them was _Seaborn_ which is a statistical\n",
    "visualisation library. We imported it as `sns`. This means we can `sns` it to produce charts by calling its functions.\n",
    "The seaborne library is based on _matplotlib_ and uses many of its functions, so when we write code, we might call\n",
    "functions from matplotlib (`plt`) as well as seaborne in the same chart.\n",
    "Let's start with a nice simple one and plot age and readmission as a bar chart..."
   ]
  },
  {
   "cell_type": "markdown",
   "metadata": {},
   "source": [
    "#### Age and Readmission\n",
    "First, we create a `fig` variable by calling the `figure` method from `plt` which is a quick way of setting the size of the graphic.\n",
    "Any matplotlib or seaborne code we call now will operate on this fig variable until we make a new one.\n",
    "Next we call `sns.countplot()` to create a simple bar chart counting the values of a categorical variable using a column\n",
    "from the data frame as the first argument (`y=`) to measure on the x-axis, and then use the column supplied as the `hue` argument,\n",
    "which groups and colours the bars along the y-axis according to a second categorical variable.\n",
    "### try...\n",
    "See if you can flip the chart around by changing the name of the first argument. Which looks better?"
   ]
  },
  {
   "cell_type": "code",
   "execution_count": 103,
   "metadata": {
    "pycharm": {
     "name": "#%%\n"
    }
   },
   "outputs": [
    {
     "data": {
      "text/plain": "Text(0.5, 1.0, 'Age of Patient VS. Readmission')"
     },
     "execution_count": 103,
     "metadata": {},
     "output_type": "execute_result"
    },
    {
     "data": {
      "text/plain": "<Figure size 1080x720 with 1 Axes>",
      "image/png": "[encoded data removed]"
     },
     "metadata": {
      "needs_background": "light"
     },
     "output_type": "display_data"
    }
   ],
   "source": [
    "fig = plt.figure(figsize=(15,10))\n",
    "chart = sns.countplot(y= df['age'], hue = df['readmitted'])\n",
    "chart.set_title('Age of Patient VS. Readmission')"
   ]
  },
  {
   "cell_type": "markdown",
   "metadata": {
    "pycharm": {
     "name": "#%% md\n"
    }
   },
   "source": [
    "Now for a slightly more complex example. This next chart plots time in hospital and frequency of those readmitted, and\n",
    "those not readmitted on separate lines. The first line sets up a figure in much the same way as we did in the previous\n",
    "cell. This time we use the Kd E plot function. KDE stands for “kernel density estimate” and is a method for visualising\n",
    "the distribution of observations on a dataset. It is a bit like a histogram but represents the data using a curve. We\n",
    "use it twice to add two lines to the figure. The first arguments we pass for each line get a list of all the values of\n",
    "“readmitted” which satisfy the condition, i.e. `== 0`, or `== 1` as well as values for time in hospital.\n",
    "The other arguments shade the area under the curve and colour it.\n",
    "\n",
    "#### Discuss…\n",
    "Why do you think the line is so uneven?\n",
    "\n",
    "__Clue__: people are not often discharged from hospital at night.\n",
    "\n",
    "<span style=\"color:red\">\n",
    ">>Note to people testing: am I right? Or am I going mad? Also, why is there a difference between readmitted and not readmitted it's weird!\n",
    "</span>."
   ]
  },
  {
   "cell_type": "code",
   "execution_count": 104,
   "metadata": {
    "pycharm": {
     "name": "#%%\n"
    }
   },
   "outputs": [
    {
     "data": {
      "text/plain": "<matplotlib.legend.Legend at 0x1d91effe4c0>"
     },
     "execution_count": 104,
     "metadata": {},
     "output_type": "execute_result"
    },
    {
     "data": {
      "text/plain": "<Figure size 936x504 with 1 Axes>",
      "image/png": "[encoded data removed]"
     },
     "metadata": {
      "needs_background": "light"
     },
     "output_type": "display_data"
    }
   ],
   "source": [
    "fig = plt.figure(figsize=(13,7),)\n",
    "ax=sns.kdeplot(df.loc[(df['readmitted'] == 0),'time_in_hospital'] , color='b',shade=True,label='Not Readmitted')\n",
    "ax=sns.kdeplot(df.loc[(df['readmitted'] == 1),'time_in_hospital'] , color='r',shade=True, label='Readmitted')\n",
    "ax.set(xlabel='Time in Hospital', ylabel='Frequency')\n",
    "plt.title('Time in Hospital VS. Readmission')\n",
    "plt.legend()"
   ]
  },
  {
   "cell_type": "markdown",
   "source": [
    "Try…\n",
    "Now it is your turn. Use the cell below to plot some more of data. As you explore make a note of anything you see which\n",
    "is unusual."
   ],
   "metadata": {
    "collapsed": false,
    "pycharm": {
     "name": "#%% md\n"
    }
   }
  },
  {
   "cell_type": "code",
   "execution_count": 105,
   "outputs": [],
   "source": [
    "# type your code below...\n",
    "\n"
   ],
   "metadata": {
    "collapsed": false,
    "pycharm": {
     "name": "#%%\n"
    }
   }
  },
  {
   "cell_type": "markdown",
   "source": [
    "## Modeling\n",
    "There are lots more things we could do to this data to improve our predictions still further, but the boss has said we\n",
    "have to finish this by lunchtime, so let's quickly deploy our algorithm and make some life or death decisions because\n",
    "work/life balance is important and nobody likes working on their lunch hour, right?\n",
    "\n",
    "Anyway, onwards! The next thing to do is identify the features we will use and separate out the target variable we are\n",
    "trying to predict."
   ],
   "metadata": {
    "collapsed": false,
    "pycharm": {
     "name": "#%% md\n"
    }
   }
  },
  {
   "cell_type": "code",
   "execution_count": 141,
   "outputs": [],
   "source": [
    "feature_set = [ 'gender', 'age', 'admission_type_id', 'discharge_disposition_id', 'admission_source_id',\n",
    "               'time_in_hospital', 'num_lab_procedures', 'num_procedures', 'num_medications', 'number_outpatient',\n",
    "               'number_emergency', 'number_inpatient',  'number_diagnoses', 'max_glu_serum',\n",
    "               'A1Cresult', 'metformin', 'repaglinide', 'nateglinide', 'chlorpropamide', 'glimepiride', 'acetohexamide',\n",
    "               'glipizide', 'glyburide', 'tolbutamide', 'pioglitazone', 'rosiglitazone', 'acarbose', 'miglitol',\n",
    "               'troglitazone', 'tolazamide',  'insulin', 'glyburide-metformin',\n",
    "               'glipizide-metformin', 'glimepiride-pioglitazone', 'metformin-rosiglitazone', 'metformin-pioglitazone',\n",
    "               'change', 'diabetesMed', 'diag_1_cat', 'diag_2_cat', 'diag_3_cat', 'numchange', 'race_AfricanAmerican',\n",
    "               'race_Asian','race_Caucasian','race_Hispanic','race_Other']\n",
    "\n",
    "X = df[feature_set]\n",
    "y = df['readmitted']"
   ],
   "metadata": {
    "collapsed": false,
    "pycharm": {
     "name": "#%%\n"
    }
   }
  },
  {
   "cell_type": "markdown",
   "source": [
    "split into test and training"
   ],
   "metadata": {
    "collapsed": false
   }
  },
  {
   "cell_type": "code",
   "execution_count": 142,
   "outputs": [],
   "source": [
    "from sklearn.model_selection import train_test_split\n",
    "X_train, X_test, y_train, y_test = train_test_split(X, y, test_size=0.20, random_state=0)\n"
   ],
   "metadata": {
    "collapsed": false,
    "pycharm": {
     "name": "#%%\n"
    }
   }
  },
  {
   "cell_type": "markdown",
   "source": [
    "now do the tree\n"
   ],
   "metadata": {
    "collapsed": false,
    "pycharm": {
     "name": "#%% md\n"
    }
   }
  },
  {
   "cell_type": "code",
   "execution_count": 143,
   "outputs": [
    {
     "data": {
      "text/plain": "DecisionTreeClassifier(criterion='entropy', max_depth=28, min_samples_split=10)"
     },
     "execution_count": 143,
     "metadata": {},
     "output_type": "execute_result"
    }
   ],
   "source": [
    "from sklearn.tree import DecisionTreeClassifier\n",
    "dtree = DecisionTreeClassifier(max_depth=28, criterion = \"entropy\", min_samples_split=10)\n",
    "dtree.fit(X_train, y_train)\n",
    "\n"
   ],
   "metadata": {
    "collapsed": false,
    "pycharm": {
     "name": "#%%\n"
    }
   }
  },
  {
   "cell_type": "code",
   "execution_count": 121,
   "outputs": [
    {
     "data": {
      "text/plain": "                                1         2         3         4         5   \\\nencounter_id                149190     64410    500364     16680     35754   \npatient_nbr               55629189  86047875  82442376  42519267  82637451   \ngender                           0         0         1         1         1   \nage                             15        25        35        45        55   \nadmission_type_id                1         1         1         1         2   \ndischarge_disposition_id         1         1         1         1         1   \nadmission_source_id              7         7         7         7         2   \ntime_in_hospital                 3         2         2         1         3   \nnum_lab_procedures              59        11        44        51        31   \nnum_procedures                   0         5         1         0         6   \nnum_medications                 18        13        16         8        16   \nnumber_outpatient                0         2         0         0         0   \nnumber_emergency                 0         0         0         0         0   \nnumber_inpatient                 0         1         0         0         0   \ndiag_1                         276       648         8       197       414   \ndiag_2                      250.01       250    250.43       157       411   \ndiag_3                         255       V27       403       250       250   \nnumber_diagnoses                 9         6         7         5         9   \nmax_glu_serum                  -99       -99       -99       -99       -99   \nA1Cresult                      -99       -99       -99       -99       -99   \nmetformin                        0         0         0         0         0   \nrepaglinide                      0         0         0         0         0   \nnateglinide                      0         0         0         0         0   \nchlorpropamide                   0         0         0         0         0   \nglimepiride                      0         0         0         0         0   \nacetohexamide                    0         0         0         0         0   \nglipizide                        0         1         0         1         0   \nglyburide                        0         0         0         0         0   \ntolbutamide                      0         0         0         0         0   \npioglitazone                     0         0         0         0         0   \nrosiglitazone                    0         0         0         0         0   \nacarbose                         0         0         0         0         0   \nmiglitol                         0         0         0         0         0   \ntroglitazone                     0         0         0         0         0   \ntolazamide                       0         0         0         0         0   \nexamide                         No        No        No        No        No   \ncitoglipton                     No        No        No        No        No   \ninsulin                          1         0         1         1         1   \nglyburide-metformin              0         0         0         0         0   \nglipizide-metformin              0         0         0         0         0   \nglimepiride-pioglitazone         0         0         0         0         0   \nmetformin-rosiglitazone          0         0         0         0         0   \nmetformin-pioglitazone           0         0         0         0         0   \nchange                           1         0         1         1         0   \ndiabetesMed                      1         1         1         1         1   \nreadmitted                       0         0         0         0         0   \ndiag_1_cat                       9         7         9         8         1   \ndiag_2_cat                       4         4         4         8         1   \ndiag_3_cat                       9         9         1         4         4   \nnumchange                        1         0         1         0         0   \nnum_meds                         1         1         1         2         1   \nrace_AfricanAmerican             0         1         0         0         0   \nrace_Asian                       0         0         0         0         0   \nrace_Caucasian                   1         0         1         1         1   \nrace_Hispanic                    0         0         0         0         0   \nrace_Other                       0         0         0         0         0   \n\n                                6          7         8         9         10  \\\nencounter_id                 55842      63768     12522     15738     28236   \npatient_nbr               84259809  114882984  48330783  63555939  89869032   \ngender                           1          1         0         0         0   \nage                             65         75        85        95        45   \nadmission_type_id                3          1         2         3         1   \ndischarge_disposition_id         1          1         1         3         1   \nadmission_source_id              2          7         4         4         7   \ntime_in_hospital                 4          5        13        12         9   \nnum_lab_procedures              70         73        68        33        47   \nnum_procedures                   1          0         2         3         2   \nnum_medications                 21         12        28        18        17   \nnumber_outpatient                0          0         0         0         0   \nnumber_emergency                 0          0         0         0         0   \nnumber_inpatient                 0          0         0         0         0   \ndiag_1                         414        428       398       434     250.7   \ndiag_2                         411        492       427       198       403   \ndiag_3                         V45        250        38       486       996   \nnumber_diagnoses                 7          8         8         8         9   \nmax_glu_serum                  -99        -99       -99       -99       -99   \nA1Cresult                      -99        -99       -99       -99       -99   \nmetformin                        1          0         0         0         0   \nrepaglinide                      0          0         0         0         0   \nnateglinide                      0          0         0         0         0   \nchlorpropamide                   0          0         0         0         0   \nglimepiride                      1          0         0         0         0   \nacetohexamide                    0          0         0         0         0   \nglipizide                        0          0         1         0         0   \nglyburide                        0          1         0         0         0   \ntolbutamide                      0          0         0         0         0   \npioglitazone                     0          0         0         0         0   \nrosiglitazone                    0          0         0         1         0   \nacarbose                         0          0         0         0         0   \nmiglitol                         0          0         0         0         0   \ntroglitazone                     0          0         0         0         0   \ntolazamide                       0          0         0         0         0   \nexamide                         No         No        No        No        No   \ncitoglipton                     No         No        No        No        No   \ninsulin                          1          0         1         1         1   \nglyburide-metformin              0          0         0         0         0   \nglipizide-metformin              0          0         0         0         0   \nglimepiride-pioglitazone         0          0         0         0         0   \nmetformin-rosiglitazone          0          0         0         0         0   \nmetformin-pioglitazone           0          0         0         0         0   \nchange                           1          0         1         1         0   \ndiabetesMed                      1          1         1         1         1   \nreadmitted                       0          0         0         0         0   \ndiag_1_cat                       1          1         1         1         4   \ndiag_2_cat                       1          2         1         8         1   \ndiag_3_cat                       9          4         9         2         5   \nnumchange                        0          0         0         0         0   \nnum_meds                         3          1         2         2         1   \nrace_AfricanAmerican             0          0         0         0         1   \nrace_Asian                       0          0         0         0         0   \nrace_Caucasian                   1          1         1         1         0   \nrace_Hispanic                    0          0         0         0         0   \nrace_Other                       0          0         0         0         0   \n\n                          ...        44         45        46        47  \\\nencounter_id              ...    450210     464994    486156    498030   \npatient_nbr               ...  80177094  106936875  86240259  51838164   \ngender                    ...         0          0         0         1   \nage                       ...        85         45        75        75   \nadmission_type_id         ...         1          3         3         3   \ndischarge_disposition_id  ...        11          1         5         3   \nadmission_source_id       ...         7          2         4         4   \ntime_in_hospital          ...         7          2         9         9   \nnum_lab_procedures        ...        72         10        25         2   \nnum_procedures            ...         1          3         3         0   \nnum_medications           ...        27          8        16        12   \nnumber_outpatient         ...         0          0         0         0   \nnumber_emergency          ...         0          0         0         0   \nnumber_inpatient          ...         0          0         2         1   \ndiag_1                    ...       432        626       428       295   \ndiag_2                    ...       997     250.01       427       599   \ndiag_3                    ...       427        998    250.01       250   \nnumber_diagnoses          ...         9          5         7         3   \nmax_glu_serum             ...       -99        -99       -99       -99   \nA1Cresult                 ...       -99        -99       -99       -99   \nmetformin                 ...         0          0         0         1   \nrepaglinide               ...         0          0         0         0   \nnateglinide               ...         0          0         0         0   \nchlorpropamide            ...         0          0         0         0   \nglimepiride               ...         0          0         0         0   \nacetohexamide             ...         0          0         0         0   \nglipizide                 ...         0          0         0         0   \nglyburide                 ...         0          0         1         0   \ntolbutamide               ...         0          0         0         0   \npioglitazone              ...         0          0         0         0   \nrosiglitazone             ...         0          0         0         0   \nacarbose                  ...         0          0         0         0   \nmiglitol                  ...         0          0         0         0   \ntroglitazone              ...         0          0         0         0   \ntolazamide                ...         0          0         0         0   \nexamide                   ...        No         No        No        No   \ncitoglipton               ...        No         No        No        No   \ninsulin                   ...         1          1         1         1   \nglyburide-metformin       ...         0          0         0         0   \nglipizide-metformin       ...         0          0         0         0   \nglimepiride-pioglitazone  ...         0          0         0         0   \nmetformin-rosiglitazone   ...         0          0         0         0   \nmetformin-pioglitazone    ...         0          0         0         0   \nchange                    ...         0          0         1         1   \ndiabetesMed               ...         1          1         1         1   \nreadmitted                ...         0          0         1         0   \ndiag_1_cat                ...         1          7         1         9   \ndiag_2_cat                ...         5          4         1         7   \ndiag_3_cat                ...         1          5         4         4   \nnumchange                 ...         0          0         1         1   \nnum_meds                  ...         1          1         2         2   \nrace_AfricanAmerican      ...         0          0         0         0   \nrace_Asian                ...         0          0         0         0   \nrace_Caucasian            ...         1          1         1         1   \nrace_Hispanic             ...         0          0         0         0   \nrace_Other                ...         0          0         0         0   \n\n                                48        49        50        51        52  \\\nencounter_id                537834    544194    550098    584136    590346   \npatient_nbr               90097839  34997814  21820806  72200358  37746639   \ngender                           1         1         1         1         0   \nage                             55        65        55        75        45   \nadmission_type_id                3         2         2         3         1   \ndischarge_disposition_id         1         6         1         1         6   \nadmission_source_id              2         4         2         2         7   \ntime_in_hospital                 6        11         4         5         8   \nnum_lab_procedures              65        67        40        44        55   \nnum_procedures                   5         2         1         5         2   \nnum_medications                 19        25        14        13        17   \nnumber_outpatient                0         0         0         0         0   \nnumber_emergency                 0         0         0         0         0   \nnumber_inpatient                 0         0         0         0         0   \ndiag_1                         414       428       196       998     250.6   \ndiag_2                         424       491       198       553       707   \ndiag_3                         428       427       197       568       682   \nnumber_diagnoses                 9         9         9         9         9   \nmax_glu_serum                  -99       -99       -99       -99       -99   \nA1Cresult                      -99       -99       -99       -99       -99   \nmetformin                        0         0         0         0         0   \nrepaglinide                      0         0         0         0         0   \nnateglinide                      0         0         0         0         0   \nchlorpropamide                   0         0         0         0         0   \nglimepiride                      0         0         0         0         0   \nacetohexamide                    0         0         0         0         0   \nglipizide                        0         1         0         0         0   \nglyburide                        0         0         0         0         0   \ntolbutamide                      0         0         0         0         0   \npioglitazone                     0         0         0         0         0   \nrosiglitazone                    0         0         0         0         0   \nacarbose                         0         0         0         0         0   \nmiglitol                         0         0         0         0         0   \ntroglitazone                     0         0         0         0         0   \ntolazamide                       0         0         0         0         0   \nexamide                         No        No        No        No        No   \ncitoglipton                     No        No        No        No        No   \ninsulin                          1         1         0         1         1   \nglyburide-metformin              0         0         0         0         0   \nglipizide-metformin              0         0         0         0         0   \nglimepiride-pioglitazone         0         0         0         0         0   \nmetformin-rosiglitazone          0         0         0         0         0   \nmetformin-pioglitazone           0         0         0         0         0   \nchange                           1         1         0         0         0   \ndiabetesMed                      1         1         0         1         1   \nreadmitted                       0         0         1         0         0   \ndiag_1_cat                       1         1         8         5         4   \ndiag_2_cat                       1         2         8         3         9   \ndiag_3_cat                       1         1         8         3         9   \nnumchange                        1         0         0         0         0   \nnum_meds                         1         2         0         1         1   \nrace_AfricanAmerican             0         0         1         0         1   \nrace_Asian                       0         0         0         0         0   \nrace_Caucasian                   1         1         0         1         0   \nrace_Hispanic                    0         0         0         0         0   \nrace_Other                       0         0         0         0         0   \n\n                                53  \nencounter_id                591996  \npatient_nbr               58497651  \ngender                           0  \nage                             55  \nadmission_type_id                1  \ndischarge_disposition_id         1  \nadmission_source_id              7  \ntime_in_hospital                 1  \nnum_lab_procedures              53  \nnum_procedures                   0  \nnum_medications                 11  \nnumber_outpatient                1  \nnumber_emergency                 0  \nnumber_inpatient                 0  \ndiag_1                         786  \ndiag_2                         427  \ndiag_3                         278  \nnumber_diagnoses                 9  \nmax_glu_serum                  -99  \nA1Cresult                      -99  \nmetformin                        0  \nrepaglinide                      0  \nnateglinide                      0  \nchlorpropamide                   0  \nglimepiride                      0  \nacetohexamide                    0  \nglipizide                        0  \nglyburide                        0  \ntolbutamide                      0  \npioglitazone                     0  \nrosiglitazone                    0  \nacarbose                         0  \nmiglitol                         0  \ntroglitazone                     0  \ntolazamide                       0  \nexamide                         No  \ncitoglipton                     No  \ninsulin                          1  \nglyburide-metformin              0  \nglipizide-metformin              0  \nglimepiride-pioglitazone         0  \nmetformin-rosiglitazone          0  \nmetformin-pioglitazone           0  \nchange                           1  \ndiabetesMed                      1  \nreadmitted                       0  \ndiag_1_cat                       2  \ndiag_2_cat                       1  \ndiag_3_cat                       9  \nnumchange                        1  \nnum_meds                         1  \nrace_AfricanAmerican             1  \nrace_Asian                       0  \nrace_Caucasian                   0  \nrace_Hispanic                    0  \nrace_Other                       0  \n\n[56 rows x 50 columns]",
      "text/html": "<div>\n<style scoped>\n    .dataframe tbody tr th:only-of-type {\n        vertical-align: middle;\n    }\n\n    .dataframe tbody tr th {\n        vertical-align: top;\n    }\n\n    .dataframe thead th {\n        text-align: right;\n    }\n</style>\n<table border=\"1\" class=\"dataframe\">\n  <thead>\n    <tr style=\"text-align: right;\">\n      <th></th>\n      <th>1</th>\n      <th>2</th>\n      <th>3</th>\n      <th>4</th>\n      <th>5</th>\n      <th>6</th>\n      <th>7</th>\n      <th>8</th>\n      <th>9</th>\n      <th>10</th>\n      <th>...</th>\n      <th>44</th>\n      <th>45</th>\n      <th>46</th>\n      <th>47</th>\n      <th>48</th>\n      <th>49</th>\n      <th>50</th>\n      <th>51</th>\n      <th>52</th>\n      <th>53</th>\n    </tr>\n  </thead>\n  <tbody>\n    <tr>\n      <th>encounter_id</th>\n      <td>149190</td>\n      <td>64410</td>\n      <td>500364</td>\n      <td>16680</td>\n      <td>35754</td>\n      <td>55842</td>\n      <td>63768</td>\n      <td>12522</td>\n      <td>15738</td>\n      <td>28236</td>\n      <td>...</td>\n      <td>450210</td>\n      <td>464994</td>\n      <td>486156</td>\n      <td>498030</td>\n      <td>537834</td>\n      <td>544194</td>\n      <td>550098</td>\n      <td>584136</td>\n      <td>590346</td>\n      <td>591996</td>\n    </tr>\n    <tr>\n      <th>patient_nbr</th>\n      <td>55629189</td>\n      <td>86047875</td>\n      <td>82442376</td>\n      <td>42519267</td>\n      <td>82637451</td>\n      <td>84259809</td>\n      <td>114882984</td>\n      <td>48330783</td>\n      <td>63555939</td>\n      <td>89869032</td>\n      <td>...</td>\n      <td>80177094</td>\n      <td>106936875</td>\n      <td>86240259</td>\n      <td>51838164</td>\n      <td>90097839</td>\n      <td>34997814</td>\n      <td>21820806</td>\n      <td>72200358</td>\n      <td>37746639</td>\n      <td>58497651</td>\n    </tr>\n    <tr>\n      <th>gender</th>\n      <td>0</td>\n      <td>0</td>\n      <td>1</td>\n      <td>1</td>\n      <td>1</td>\n      <td>1</td>\n      <td>1</td>\n      <td>0</td>\n      <td>0</td>\n      <td>0</td>\n      <td>...</td>\n      <td>0</td>\n      <td>0</td>\n      <td>0</td>\n      <td>1</td>\n      <td>1</td>\n      <td>1</td>\n      <td>1</td>\n      <td>1</td>\n      <td>0</td>\n      <td>0</td>\n    </tr>\n    <tr>\n      <th>age</th>\n      <td>15</td>\n      <td>25</td>\n      <td>35</td>\n      <td>45</td>\n      <td>55</td>\n      <td>65</td>\n      <td>75</td>\n      <td>85</td>\n      <td>95</td>\n      <td>45</td>\n      <td>...</td>\n      <td>85</td>\n      <td>45</td>\n      <td>75</td>\n      <td>75</td>\n      <td>55</td>\n      <td>65</td>\n      <td>55</td>\n      <td>75</td>\n      <td>45</td>\n      <td>55</td>\n    </tr>\n    <tr>\n      <th>admission_type_id</th>\n      <td>1</td>\n      <td>1</td>\n      <td>1</td>\n      <td>1</td>\n      <td>2</td>\n      <td>3</td>\n      <td>1</td>\n      <td>2</td>\n      <td>3</td>\n      <td>1</td>\n      <td>...</td>\n      <td>1</td>\n      <td>3</td>\n      <td>3</td>\n      <td>3</td>\n      <td>3</td>\n      <td>2</td>\n      <td>2</td>\n      <td>3</td>\n      <td>1</td>\n      <td>1</td>\n    </tr>\n    <tr>\n      <th>discharge_disposition_id</th>\n      <td>1</td>\n      <td>1</td>\n      <td>1</td>\n      <td>1</td>\n      <td>1</td>\n      <td>1</td>\n      <td>1</td>\n      <td>1</td>\n      <td>3</td>\n      <td>1</td>\n      <td>...</td>\n      <td>11</td>\n      <td>1</td>\n      <td>5</td>\n      <td>3</td>\n      <td>1</td>\n      <td>6</td>\n      <td>1</td>\n      <td>1</td>\n      <td>6</td>\n      <td>1</td>\n    </tr>\n    <tr>\n      <th>admission_source_id</th>\n      <td>7</td>\n      <td>7</td>\n      <td>7</td>\n      <td>7</td>\n      <td>2</td>\n      <td>2</td>\n      <td>7</td>\n      <td>4</td>\n      <td>4</td>\n      <td>7</td>\n      <td>...</td>\n      <td>7</td>\n      <td>2</td>\n      <td>4</td>\n      <td>4</td>\n      <td>2</td>\n      <td>4</td>\n      <td>2</td>\n      <td>2</td>\n      <td>7</td>\n      <td>7</td>\n    </tr>\n    <tr>\n      <th>time_in_hospital</th>\n      <td>3</td>\n      <td>2</td>\n      <td>2</td>\n      <td>1</td>\n      <td>3</td>\n      <td>4</td>\n      <td>5</td>\n      <td>13</td>\n      <td>12</td>\n      <td>9</td>\n      <td>...</td>\n      <td>7</td>\n      <td>2</td>\n      <td>9</td>\n      <td>9</td>\n      <td>6</td>\n      <td>11</td>\n      <td>4</td>\n      <td>5</td>\n      <td>8</td>\n      <td>1</td>\n    </tr>\n    <tr>\n      <th>num_lab_procedures</th>\n      <td>59</td>\n      <td>11</td>\n      <td>44</td>\n      <td>51</td>\n      <td>31</td>\n      <td>70</td>\n      <td>73</td>\n      <td>68</td>\n      <td>33</td>\n      <td>47</td>\n      <td>...</td>\n      <td>72</td>\n      <td>10</td>\n      <td>25</td>\n      <td>2</td>\n      <td>65</td>\n      <td>67</td>\n      <td>40</td>\n      <td>44</td>\n      <td>55</td>\n      <td>53</td>\n    </tr>\n    <tr>\n      <th>num_procedures</th>\n      <td>0</td>\n      <td>5</td>\n      <td>1</td>\n      <td>0</td>\n      <td>6</td>\n      <td>1</td>\n      <td>0</td>\n      <td>2</td>\n      <td>3</td>\n      <td>2</td>\n      <td>...</td>\n      <td>1</td>\n      <td>3</td>\n      <td>3</td>\n      <td>0</td>\n      <td>5</td>\n      <td>2</td>\n      <td>1</td>\n      <td>5</td>\n      <td>2</td>\n      <td>0</td>\n    </tr>\n    <tr>\n      <th>num_medications</th>\n      <td>18</td>\n      <td>13</td>\n      <td>16</td>\n      <td>8</td>\n      <td>16</td>\n      <td>21</td>\n      <td>12</td>\n      <td>28</td>\n      <td>18</td>\n      <td>17</td>\n      <td>...</td>\n      <td>27</td>\n      <td>8</td>\n      <td>16</td>\n      <td>12</td>\n      <td>19</td>\n      <td>25</td>\n      <td>14</td>\n      <td>13</td>\n      <td>17</td>\n      <td>11</td>\n    </tr>\n    <tr>\n      <th>number_outpatient</th>\n      <td>0</td>\n      <td>2</td>\n      <td>0</td>\n      <td>0</td>\n      <td>0</td>\n      <td>0</td>\n      <td>0</td>\n      <td>0</td>\n      <td>0</td>\n      <td>0</td>\n      <td>...</td>\n      <td>0</td>\n      <td>0</td>\n      <td>0</td>\n      <td>0</td>\n      <td>0</td>\n      <td>0</td>\n      <td>0</td>\n      <td>0</td>\n      <td>0</td>\n      <td>1</td>\n    </tr>\n    <tr>\n      <th>number_emergency</th>\n      <td>0</td>\n      <td>0</td>\n      <td>0</td>\n      <td>0</td>\n      <td>0</td>\n      <td>0</td>\n      <td>0</td>\n      <td>0</td>\n      <td>0</td>\n      <td>0</td>\n      <td>...</td>\n      <td>0</td>\n      <td>0</td>\n      <td>0</td>\n      <td>0</td>\n      <td>0</td>\n      <td>0</td>\n      <td>0</td>\n      <td>0</td>\n      <td>0</td>\n      <td>0</td>\n    </tr>\n    <tr>\n      <th>number_inpatient</th>\n      <td>0</td>\n      <td>1</td>\n      <td>0</td>\n      <td>0</td>\n      <td>0</td>\n      <td>0</td>\n      <td>0</td>\n      <td>0</td>\n      <td>0</td>\n      <td>0</td>\n      <td>...</td>\n      <td>0</td>\n      <td>0</td>\n      <td>2</td>\n      <td>1</td>\n      <td>0</td>\n      <td>0</td>\n      <td>0</td>\n      <td>0</td>\n      <td>0</td>\n      <td>0</td>\n    </tr>\n    <tr>\n      <th>diag_1</th>\n      <td>276</td>\n      <td>648</td>\n      <td>8</td>\n      <td>197</td>\n      <td>414</td>\n      <td>414</td>\n      <td>428</td>\n      <td>398</td>\n      <td>434</td>\n      <td>250.7</td>\n      <td>...</td>\n      <td>432</td>\n      <td>626</td>\n      <td>428</td>\n      <td>295</td>\n      <td>414</td>\n      <td>428</td>\n      <td>196</td>\n      <td>998</td>\n      <td>250.6</td>\n      <td>786</td>\n    </tr>\n    <tr>\n      <th>diag_2</th>\n      <td>250.01</td>\n      <td>250</td>\n      <td>250.43</td>\n      <td>157</td>\n      <td>411</td>\n      <td>411</td>\n      <td>492</td>\n      <td>427</td>\n      <td>198</td>\n      <td>403</td>\n      <td>...</td>\n      <td>997</td>\n      <td>250.01</td>\n      <td>427</td>\n      <td>599</td>\n      <td>424</td>\n      <td>491</td>\n      <td>198</td>\n      <td>553</td>\n      <td>707</td>\n      <td>427</td>\n    </tr>\n    <tr>\n      <th>diag_3</th>\n      <td>255</td>\n      <td>V27</td>\n      <td>403</td>\n      <td>250</td>\n      <td>250</td>\n      <td>V45</td>\n      <td>250</td>\n      <td>38</td>\n      <td>486</td>\n      <td>996</td>\n      <td>...</td>\n      <td>427</td>\n      <td>998</td>\n      <td>250.01</td>\n      <td>250</td>\n      <td>428</td>\n      <td>427</td>\n      <td>197</td>\n      <td>568</td>\n      <td>682</td>\n      <td>278</td>\n    </tr>\n    <tr>\n      <th>number_diagnoses</th>\n      <td>9</td>\n      <td>6</td>\n      <td>7</td>\n      <td>5</td>\n      <td>9</td>\n      <td>7</td>\n      <td>8</td>\n      <td>8</td>\n      <td>8</td>\n      <td>9</td>\n      <td>...</td>\n      <td>9</td>\n      <td>5</td>\n      <td>7</td>\n      <td>3</td>\n      <td>9</td>\n      <td>9</td>\n      <td>9</td>\n      <td>9</td>\n      <td>9</td>\n      <td>9</td>\n    </tr>\n    <tr>\n      <th>max_glu_serum</th>\n      <td>-99</td>\n      <td>-99</td>\n      <td>-99</td>\n      <td>-99</td>\n      <td>-99</td>\n      <td>-99</td>\n      <td>-99</td>\n      <td>-99</td>\n      <td>-99</td>\n      <td>-99</td>\n      <td>...</td>\n      <td>-99</td>\n      <td>-99</td>\n      <td>-99</td>\n      <td>-99</td>\n      <td>-99</td>\n      <td>-99</td>\n      <td>-99</td>\n      <td>-99</td>\n      <td>-99</td>\n      <td>-99</td>\n    </tr>\n    <tr>\n      <th>A1Cresult</th>\n      <td>-99</td>\n      <td>-99</td>\n      <td>-99</td>\n      <td>-99</td>\n      <td>-99</td>\n      <td>-99</td>\n      <td>-99</td>\n      <td>-99</td>\n      <td>-99</td>\n      <td>-99</td>\n      <td>...</td>\n      <td>-99</td>\n      <td>-99</td>\n      <td>-99</td>\n      <td>-99</td>\n      <td>-99</td>\n      <td>-99</td>\n      <td>-99</td>\n      <td>-99</td>\n      <td>-99</td>\n      <td>-99</td>\n    </tr>\n    <tr>\n      <th>metformin</th>\n      <td>0</td>\n      <td>0</td>\n      <td>0</td>\n      <td>0</td>\n      <td>0</td>\n      <td>1</td>\n      <td>0</td>\n      <td>0</td>\n      <td>0</td>\n      <td>0</td>\n      <td>...</td>\n      <td>0</td>\n      <td>0</td>\n      <td>0</td>\n      <td>1</td>\n      <td>0</td>\n      <td>0</td>\n      <td>0</td>\n      <td>0</td>\n      <td>0</td>\n      <td>0</td>\n    </tr>\n    <tr>\n      <th>repaglinide</th>\n      <td>0</td>\n      <td>0</td>\n      <td>0</td>\n      <td>0</td>\n      <td>0</td>\n      <td>0</td>\n      <td>0</td>\n      <td>0</td>\n      <td>0</td>\n      <td>0</td>\n      <td>...</td>\n      <td>0</td>\n      <td>0</td>\n      <td>0</td>\n      <td>0</td>\n      <td>0</td>\n      <td>0</td>\n      <td>0</td>\n      <td>0</td>\n      <td>0</td>\n      <td>0</td>\n    </tr>\n    <tr>\n      <th>nateglinide</th>\n      <td>0</td>\n      <td>0</td>\n      <td>0</td>\n      <td>0</td>\n      <td>0</td>\n      <td>0</td>\n      <td>0</td>\n      <td>0</td>\n      <td>0</td>\n      <td>0</td>\n      <td>...</td>\n      <td>0</td>\n      <td>0</td>\n      <td>0</td>\n      <td>0</td>\n      <td>0</td>\n      <td>0</td>\n      <td>0</td>\n      <td>0</td>\n      <td>0</td>\n      <td>0</td>\n    </tr>\n    <tr>\n      <th>chlorpropamide</th>\n      <td>0</td>\n      <td>0</td>\n      <td>0</td>\n      <td>0</td>\n      <td>0</td>\n      <td>0</td>\n      <td>0</td>\n      <td>0</td>\n      <td>0</td>\n      <td>0</td>\n      <td>...</td>\n      <td>0</td>\n      <td>0</td>\n      <td>0</td>\n      <td>0</td>\n      <td>0</td>\n      <td>0</td>\n      <td>0</td>\n      <td>0</td>\n      <td>0</td>\n      <td>0</td>\n    </tr>\n    <tr>\n      <th>glimepiride</th>\n      <td>0</td>\n      <td>0</td>\n      <td>0</td>\n      <td>0</td>\n      <td>0</td>\n      <td>1</td>\n      <td>0</td>\n      <td>0</td>\n      <td>0</td>\n      <td>0</td>\n      <td>...</td>\n      <td>0</td>\n      <td>0</td>\n      <td>0</td>\n      <td>0</td>\n      <td>0</td>\n      <td>0</td>\n      <td>0</td>\n      <td>0</td>\n      <td>0</td>\n      <td>0</td>\n    </tr>\n    <tr>\n      <th>acetohexamide</th>\n      <td>0</td>\n      <td>0</td>\n      <td>0</td>\n      <td>0</td>\n      <td>0</td>\n      <td>0</td>\n      <td>0</td>\n      <td>0</td>\n      <td>0</td>\n      <td>0</td>\n      <td>...</td>\n      <td>0</td>\n      <td>0</td>\n      <td>0</td>\n      <td>0</td>\n      <td>0</td>\n      <td>0</td>\n      <td>0</td>\n      <td>0</td>\n      <td>0</td>\n      <td>0</td>\n    </tr>\n    <tr>\n      <th>glipizide</th>\n      <td>0</td>\n      <td>1</td>\n      <td>0</td>\n      <td>1</td>\n      <td>0</td>\n      <td>0</td>\n      <td>0</td>\n      <td>1</td>\n      <td>0</td>\n      <td>0</td>\n      <td>...</td>\n      <td>0</td>\n      <td>0</td>\n      <td>0</td>\n      <td>0</td>\n      <td>0</td>\n      <td>1</td>\n      <td>0</td>\n      <td>0</td>\n      <td>0</td>\n      <td>0</td>\n    </tr>\n    <tr>\n      <th>glyburide</th>\n      <td>0</td>\n      <td>0</td>\n      <td>0</td>\n      <td>0</td>\n      <td>0</td>\n      <td>0</td>\n      <td>1</td>\n      <td>0</td>\n      <td>0</td>\n      <td>0</td>\n      <td>...</td>\n      <td>0</td>\n      <td>0</td>\n      <td>1</td>\n      <td>0</td>\n      <td>0</td>\n      <td>0</td>\n      <td>0</td>\n      <td>0</td>\n      <td>0</td>\n      <td>0</td>\n    </tr>\n    <tr>\n      <th>tolbutamide</th>\n      <td>0</td>\n      <td>0</td>\n      <td>0</td>\n      <td>0</td>\n      <td>0</td>\n      <td>0</td>\n      <td>0</td>\n      <td>0</td>\n      <td>0</td>\n      <td>0</td>\n      <td>...</td>\n      <td>0</td>\n      <td>0</td>\n      <td>0</td>\n      <td>0</td>\n      <td>0</td>\n      <td>0</td>\n      <td>0</td>\n      <td>0</td>\n      <td>0</td>\n      <td>0</td>\n    </tr>\n    <tr>\n      <th>pioglitazone</th>\n      <td>0</td>\n      <td>0</td>\n      <td>0</td>\n      <td>0</td>\n      <td>0</td>\n      <td>0</td>\n      <td>0</td>\n      <td>0</td>\n      <td>0</td>\n      <td>0</td>\n      <td>...</td>\n      <td>0</td>\n      <td>0</td>\n      <td>0</td>\n      <td>0</td>\n      <td>0</td>\n      <td>0</td>\n      <td>0</td>\n      <td>0</td>\n      <td>0</td>\n      <td>0</td>\n    </tr>\n    <tr>\n      <th>rosiglitazone</th>\n      <td>0</td>\n      <td>0</td>\n      <td>0</td>\n      <td>0</td>\n      <td>0</td>\n      <td>0</td>\n      <td>0</td>\n      <td>0</td>\n      <td>1</td>\n      <td>0</td>\n      <td>...</td>\n      <td>0</td>\n      <td>0</td>\n      <td>0</td>\n      <td>0</td>\n      <td>0</td>\n      <td>0</td>\n      <td>0</td>\n      <td>0</td>\n      <td>0</td>\n      <td>0</td>\n    </tr>\n    <tr>\n      <th>acarbose</th>\n      <td>0</td>\n      <td>0</td>\n      <td>0</td>\n      <td>0</td>\n      <td>0</td>\n      <td>0</td>\n      <td>0</td>\n      <td>0</td>\n      <td>0</td>\n      <td>0</td>\n      <td>...</td>\n      <td>0</td>\n      <td>0</td>\n      <td>0</td>\n      <td>0</td>\n      <td>0</td>\n      <td>0</td>\n      <td>0</td>\n      <td>0</td>\n      <td>0</td>\n      <td>0</td>\n    </tr>\n    <tr>\n      <th>miglitol</th>\n      <td>0</td>\n      <td>0</td>\n      <td>0</td>\n      <td>0</td>\n      <td>0</td>\n      <td>0</td>\n      <td>0</td>\n      <td>0</td>\n      <td>0</td>\n      <td>0</td>\n      <td>...</td>\n      <td>0</td>\n      <td>0</td>\n      <td>0</td>\n      <td>0</td>\n      <td>0</td>\n      <td>0</td>\n      <td>0</td>\n      <td>0</td>\n      <td>0</td>\n      <td>0</td>\n    </tr>\n    <tr>\n      <th>troglitazone</th>\n      <td>0</td>\n      <td>0</td>\n      <td>0</td>\n      <td>0</td>\n      <td>0</td>\n      <td>0</td>\n      <td>0</td>\n      <td>0</td>\n      <td>0</td>\n      <td>0</td>\n      <td>...</td>\n      <td>0</td>\n      <td>0</td>\n      <td>0</td>\n      <td>0</td>\n      <td>0</td>\n      <td>0</td>\n      <td>0</td>\n      <td>0</td>\n      <td>0</td>\n      <td>0</td>\n    </tr>\n    <tr>\n      <th>tolazamide</th>\n      <td>0</td>\n      <td>0</td>\n      <td>0</td>\n      <td>0</td>\n      <td>0</td>\n      <td>0</td>\n      <td>0</td>\n      <td>0</td>\n      <td>0</td>\n      <td>0</td>\n      <td>...</td>\n      <td>0</td>\n      <td>0</td>\n      <td>0</td>\n      <td>0</td>\n      <td>0</td>\n      <td>0</td>\n      <td>0</td>\n      <td>0</td>\n      <td>0</td>\n      <td>0</td>\n    </tr>\n    <tr>\n      <th>examide</th>\n      <td>No</td>\n      <td>No</td>\n      <td>No</td>\n      <td>No</td>\n      <td>No</td>\n      <td>No</td>\n      <td>No</td>\n      <td>No</td>\n      <td>No</td>\n      <td>No</td>\n      <td>...</td>\n      <td>No</td>\n      <td>No</td>\n      <td>No</td>\n      <td>No</td>\n      <td>No</td>\n      <td>No</td>\n      <td>No</td>\n      <td>No</td>\n      <td>No</td>\n      <td>No</td>\n    </tr>\n    <tr>\n      <th>citoglipton</th>\n      <td>No</td>\n      <td>No</td>\n      <td>No</td>\n      <td>No</td>\n      <td>No</td>\n      <td>No</td>\n      <td>No</td>\n      <td>No</td>\n      <td>No</td>\n      <td>No</td>\n      <td>...</td>\n      <td>No</td>\n      <td>No</td>\n      <td>No</td>\n      <td>No</td>\n      <td>No</td>\n      <td>No</td>\n      <td>No</td>\n      <td>No</td>\n      <td>No</td>\n      <td>No</td>\n    </tr>\n    <tr>\n      <th>insulin</th>\n      <td>1</td>\n      <td>0</td>\n      <td>1</td>\n      <td>1</td>\n      <td>1</td>\n      <td>1</td>\n      <td>0</td>\n      <td>1</td>\n      <td>1</td>\n      <td>1</td>\n      <td>...</td>\n      <td>1</td>\n      <td>1</td>\n      <td>1</td>\n      <td>1</td>\n      <td>1</td>\n      <td>1</td>\n      <td>0</td>\n      <td>1</td>\n      <td>1</td>\n      <td>1</td>\n    </tr>\n    <tr>\n      <th>glyburide-metformin</th>\n      <td>0</td>\n      <td>0</td>\n      <td>0</td>\n      <td>0</td>\n      <td>0</td>\n      <td>0</td>\n      <td>0</td>\n      <td>0</td>\n      <td>0</td>\n      <td>0</td>\n      <td>...</td>\n      <td>0</td>\n      <td>0</td>\n      <td>0</td>\n      <td>0</td>\n      <td>0</td>\n      <td>0</td>\n      <td>0</td>\n      <td>0</td>\n      <td>0</td>\n      <td>0</td>\n    </tr>\n    <tr>\n      <th>glipizide-metformin</th>\n      <td>0</td>\n      <td>0</td>\n      <td>0</td>\n      <td>0</td>\n      <td>0</td>\n      <td>0</td>\n      <td>0</td>\n      <td>0</td>\n      <td>0</td>\n      <td>0</td>\n      <td>...</td>\n      <td>0</td>\n      <td>0</td>\n      <td>0</td>\n      <td>0</td>\n      <td>0</td>\n      <td>0</td>\n      <td>0</td>\n      <td>0</td>\n      <td>0</td>\n      <td>0</td>\n    </tr>\n    <tr>\n      <th>glimepiride-pioglitazone</th>\n      <td>0</td>\n      <td>0</td>\n      <td>0</td>\n      <td>0</td>\n      <td>0</td>\n      <td>0</td>\n      <td>0</td>\n      <td>0</td>\n      <td>0</td>\n      <td>0</td>\n      <td>...</td>\n      <td>0</td>\n      <td>0</td>\n      <td>0</td>\n      <td>0</td>\n      <td>0</td>\n      <td>0</td>\n      <td>0</td>\n      <td>0</td>\n      <td>0</td>\n      <td>0</td>\n    </tr>\n    <tr>\n      <th>metformin-rosiglitazone</th>\n      <td>0</td>\n      <td>0</td>\n      <td>0</td>\n      <td>0</td>\n      <td>0</td>\n      <td>0</td>\n      <td>0</td>\n      <td>0</td>\n      <td>0</td>\n      <td>0</td>\n      <td>...</td>\n      <td>0</td>\n      <td>0</td>\n      <td>0</td>\n      <td>0</td>\n      <td>0</td>\n      <td>0</td>\n      <td>0</td>\n      <td>0</td>\n      <td>0</td>\n      <td>0</td>\n    </tr>\n    <tr>\n      <th>metformin-pioglitazone</th>\n      <td>0</td>\n      <td>0</td>\n      <td>0</td>\n      <td>0</td>\n      <td>0</td>\n      <td>0</td>\n      <td>0</td>\n      <td>0</td>\n      <td>0</td>\n      <td>0</td>\n      <td>...</td>\n      <td>0</td>\n      <td>0</td>\n      <td>0</td>\n      <td>0</td>\n      <td>0</td>\n      <td>0</td>\n      <td>0</td>\n      <td>0</td>\n      <td>0</td>\n      <td>0</td>\n    </tr>\n    <tr>\n      <th>change</th>\n      <td>1</td>\n      <td>0</td>\n      <td>1</td>\n      <td>1</td>\n      <td>0</td>\n      <td>1</td>\n      <td>0</td>\n      <td>1</td>\n      <td>1</td>\n      <td>0</td>\n      <td>...</td>\n      <td>0</td>\n      <td>0</td>\n      <td>1</td>\n      <td>1</td>\n      <td>1</td>\n      <td>1</td>\n      <td>0</td>\n      <td>0</td>\n      <td>0</td>\n      <td>1</td>\n    </tr>\n    <tr>\n      <th>diabetesMed</th>\n      <td>1</td>\n      <td>1</td>\n      <td>1</td>\n      <td>1</td>\n      <td>1</td>\n      <td>1</td>\n      <td>1</td>\n      <td>1</td>\n      <td>1</td>\n      <td>1</td>\n      <td>...</td>\n      <td>1</td>\n      <td>1</td>\n      <td>1</td>\n      <td>1</td>\n      <td>1</td>\n      <td>1</td>\n      <td>0</td>\n      <td>1</td>\n      <td>1</td>\n      <td>1</td>\n    </tr>\n    <tr>\n      <th>readmitted</th>\n      <td>0</td>\n      <td>0</td>\n      <td>0</td>\n      <td>0</td>\n      <td>0</td>\n      <td>0</td>\n      <td>0</td>\n      <td>0</td>\n      <td>0</td>\n      <td>0</td>\n      <td>...</td>\n      <td>0</td>\n      <td>0</td>\n      <td>1</td>\n      <td>0</td>\n      <td>0</td>\n      <td>0</td>\n      <td>1</td>\n      <td>0</td>\n      <td>0</td>\n      <td>0</td>\n    </tr>\n    <tr>\n      <th>diag_1_cat</th>\n      <td>9</td>\n      <td>7</td>\n      <td>9</td>\n      <td>8</td>\n      <td>1</td>\n      <td>1</td>\n      <td>1</td>\n      <td>1</td>\n      <td>1</td>\n      <td>4</td>\n      <td>...</td>\n      <td>1</td>\n      <td>7</td>\n      <td>1</td>\n      <td>9</td>\n      <td>1</td>\n      <td>1</td>\n      <td>8</td>\n      <td>5</td>\n      <td>4</td>\n      <td>2</td>\n    </tr>\n    <tr>\n      <th>diag_2_cat</th>\n      <td>4</td>\n      <td>4</td>\n      <td>4</td>\n      <td>8</td>\n      <td>1</td>\n      <td>1</td>\n      <td>2</td>\n      <td>1</td>\n      <td>8</td>\n      <td>1</td>\n      <td>...</td>\n      <td>5</td>\n      <td>4</td>\n      <td>1</td>\n      <td>7</td>\n      <td>1</td>\n      <td>2</td>\n      <td>8</td>\n      <td>3</td>\n      <td>9</td>\n      <td>1</td>\n    </tr>\n    <tr>\n      <th>diag_3_cat</th>\n      <td>9</td>\n      <td>9</td>\n      <td>1</td>\n      <td>4</td>\n      <td>4</td>\n      <td>9</td>\n      <td>4</td>\n      <td>9</td>\n      <td>2</td>\n      <td>5</td>\n      <td>...</td>\n      <td>1</td>\n      <td>5</td>\n      <td>4</td>\n      <td>4</td>\n      <td>1</td>\n      <td>1</td>\n      <td>8</td>\n      <td>3</td>\n      <td>9</td>\n      <td>9</td>\n    </tr>\n    <tr>\n      <th>numchange</th>\n      <td>1</td>\n      <td>0</td>\n      <td>1</td>\n      <td>0</td>\n      <td>0</td>\n      <td>0</td>\n      <td>0</td>\n      <td>0</td>\n      <td>0</td>\n      <td>0</td>\n      <td>...</td>\n      <td>0</td>\n      <td>0</td>\n      <td>1</td>\n      <td>1</td>\n      <td>1</td>\n      <td>0</td>\n      <td>0</td>\n      <td>0</td>\n      <td>0</td>\n      <td>1</td>\n    </tr>\n    <tr>\n      <th>num_meds</th>\n      <td>1</td>\n      <td>1</td>\n      <td>1</td>\n      <td>2</td>\n      <td>1</td>\n      <td>3</td>\n      <td>1</td>\n      <td>2</td>\n      <td>2</td>\n      <td>1</td>\n      <td>...</td>\n      <td>1</td>\n      <td>1</td>\n      <td>2</td>\n      <td>2</td>\n      <td>1</td>\n      <td>2</td>\n      <td>0</td>\n      <td>1</td>\n      <td>1</td>\n      <td>1</td>\n    </tr>\n    <tr>\n      <th>race_AfricanAmerican</th>\n      <td>0</td>\n      <td>1</td>\n      <td>0</td>\n      <td>0</td>\n      <td>0</td>\n      <td>0</td>\n      <td>0</td>\n      <td>0</td>\n      <td>0</td>\n      <td>1</td>\n      <td>...</td>\n      <td>0</td>\n      <td>0</td>\n      <td>0</td>\n      <td>0</td>\n      <td>0</td>\n      <td>0</td>\n      <td>1</td>\n      <td>0</td>\n      <td>1</td>\n      <td>1</td>\n    </tr>\n    <tr>\n      <th>race_Asian</th>\n      <td>0</td>\n      <td>0</td>\n      <td>0</td>\n      <td>0</td>\n      <td>0</td>\n      <td>0</td>\n      <td>0</td>\n      <td>0</td>\n      <td>0</td>\n      <td>0</td>\n      <td>...</td>\n      <td>0</td>\n      <td>0</td>\n      <td>0</td>\n      <td>0</td>\n      <td>0</td>\n      <td>0</td>\n      <td>0</td>\n      <td>0</td>\n      <td>0</td>\n      <td>0</td>\n    </tr>\n    <tr>\n      <th>race_Caucasian</th>\n      <td>1</td>\n      <td>0</td>\n      <td>1</td>\n      <td>1</td>\n      <td>1</td>\n      <td>1</td>\n      <td>1</td>\n      <td>1</td>\n      <td>1</td>\n      <td>0</td>\n      <td>...</td>\n      <td>1</td>\n      <td>1</td>\n      <td>1</td>\n      <td>1</td>\n      <td>1</td>\n      <td>1</td>\n      <td>0</td>\n      <td>1</td>\n      <td>0</td>\n      <td>0</td>\n    </tr>\n    <tr>\n      <th>race_Hispanic</th>\n      <td>0</td>\n      <td>0</td>\n      <td>0</td>\n      <td>0</td>\n      <td>0</td>\n      <td>0</td>\n      <td>0</td>\n      <td>0</td>\n      <td>0</td>\n      <td>0</td>\n      <td>...</td>\n      <td>0</td>\n      <td>0</td>\n      <td>0</td>\n      <td>0</td>\n      <td>0</td>\n      <td>0</td>\n      <td>0</td>\n      <td>0</td>\n      <td>0</td>\n      <td>0</td>\n    </tr>\n    <tr>\n      <th>race_Other</th>\n      <td>0</td>\n      <td>0</td>\n      <td>0</td>\n      <td>0</td>\n      <td>0</td>\n      <td>0</td>\n      <td>0</td>\n      <td>0</td>\n      <td>0</td>\n      <td>0</td>\n      <td>...</td>\n      <td>0</td>\n      <td>0</td>\n      <td>0</td>\n      <td>0</td>\n      <td>0</td>\n      <td>0</td>\n      <td>0</td>\n      <td>0</td>\n      <td>0</td>\n      <td>0</td>\n    </tr>\n  </tbody>\n</table>\n<p>56 rows × 50 columns</p>\n</div>"
     },
     "execution_count": 121,
     "metadata": {},
     "output_type": "execute_result"
    }
   ],
   "source": [
    "df.head(100).T"
   ],
   "metadata": {
    "collapsed": false,
    "pycharm": {
     "name": "#%%\n"
    }
   }
  },
  {
   "cell_type": "code",
   "execution_count": 128,
   "outputs": [
    {
     "name": "stdout",
     "output_type": "stream",
     "text": [
      "0                  52833\n",
      "1                  45219\n",
      "Unknown/Invalid        1\n",
      "Name: gender, dtype: int64\n",
      "75    25306\n",
      "65    21809\n",
      "85    16702\n",
      "55    16697\n",
      "45     9265\n",
      "35     3548\n",
      "95     2717\n",
      "25     1478\n",
      "15      466\n",
      "5        65\n",
      "Name: age, dtype: int64\n",
      "1    52178\n",
      "3    18194\n",
      "2    17543\n",
      "6     5135\n",
      "5     4661\n",
      "8      312\n",
      "7       20\n",
      "4       10\n",
      "Name: admission_type_id, dtype: int64\n",
      "1     57610\n",
      "3     13564\n",
      "6     12626\n",
      "18     3624\n",
      "2      2049\n",
      "22     1970\n",
      "11     1606\n",
      "5      1127\n",
      "25      941\n",
      "4       756\n",
      "7       592\n",
      "23      400\n",
      "13      396\n",
      "14      368\n",
      "28      137\n",
      "8       106\n",
      "15       63\n",
      "24       48\n",
      "9        21\n",
      "17       14\n",
      "16       11\n",
      "19        8\n",
      "10        6\n",
      "27        5\n",
      "12        3\n",
      "20        2\n",
      "Name: discharge_disposition_id, dtype: int64\n",
      "7     55951\n",
      "1     28356\n",
      "17     6602\n",
      "4      2945\n",
      "6      1893\n",
      "2      1031\n",
      "5       846\n",
      "3       179\n",
      "20      160\n",
      "9        49\n",
      "8        15\n",
      "22       12\n",
      "10        7\n",
      "11        2\n",
      "14        2\n",
      "25        2\n",
      "13        1\n",
      "Name: admission_source_id, dtype: int64\n",
      "3     17049\n",
      "2     16441\n",
      "1     13490\n",
      "4     13434\n",
      "5      9699\n",
      "6      7320\n",
      "7      5694\n",
      "8      4276\n",
      "9      2928\n",
      "10     2287\n",
      "11     1809\n",
      "12     1424\n",
      "13     1185\n",
      "14     1017\n",
      "Name: time_in_hospital, dtype: int64\n",
      "1      3096\n",
      "43     2724\n",
      "44     2414\n",
      "45     2306\n",
      "38     2131\n",
      "       ... \n",
      "121       1\n",
      "107       1\n",
      "129       1\n",
      "126       1\n",
      "132       1\n",
      "Name: num_lab_procedures, Length: 118, dtype: int64\n",
      "0    44574\n",
      "1    20029\n",
      "2    12383\n",
      "3     9210\n",
      "6     4811\n",
      "4     4076\n",
      "5     2970\n",
      "Name: num_procedures, dtype: int64\n",
      "13    5885\n",
      "12    5816\n",
      "15    5621\n",
      "11    5592\n",
      "14    5520\n",
      "      ... \n",
      "75       2\n",
      "70       2\n",
      "81       1\n",
      "79       1\n",
      "74       1\n",
      "Name: num_medications, Length: 75, dtype: int64\n",
      "0     81680\n",
      "1      8340\n",
      "2      3514\n",
      "3      2005\n",
      "4      1078\n",
      "5       521\n",
      "6       297\n",
      "7       153\n",
      "8        98\n",
      "9        83\n",
      "10       57\n",
      "11       41\n",
      "13       31\n",
      "12       30\n",
      "14       28\n",
      "15       20\n",
      "16       15\n",
      "17        8\n",
      "20        7\n",
      "21        7\n",
      "18        5\n",
      "22        5\n",
      "24        3\n",
      "27        3\n",
      "19        3\n",
      "25        2\n",
      "26        2\n",
      "23        2\n",
      "29        2\n",
      "33        2\n",
      "35        2\n",
      "36        2\n",
      "28        1\n",
      "34        1\n",
      "37        1\n",
      "38        1\n",
      "39        1\n",
      "40        1\n",
      "42        1\n",
      "Name: number_outpatient, dtype: int64\n",
      "0     86846\n",
      "1      7550\n",
      "2      2011\n",
      "3       716\n",
      "4       372\n",
      "5       190\n",
      "6        93\n",
      "7        72\n",
      "8        50\n",
      "10       34\n",
      "9        32\n",
      "11       22\n",
      "13       12\n",
      "12       10\n",
      "22        6\n",
      "16        5\n",
      "18        5\n",
      "19        4\n",
      "20        4\n",
      "15        3\n",
      "21        2\n",
      "25        2\n",
      "14        2\n",
      "64        1\n",
      "24        1\n",
      "76        1\n",
      "28        1\n",
      "29        1\n",
      "37        1\n",
      "42        1\n",
      "46        1\n",
      "54        1\n",
      "63        1\n",
      "Name: number_emergency, dtype: int64\n",
      "0     64634\n",
      "1     19067\n",
      "2      7421\n",
      "3      3346\n",
      "4      1597\n",
      "5       802\n",
      "6       474\n",
      "7       266\n",
      "8       147\n",
      "9       111\n",
      "10       60\n",
      "11       48\n",
      "12       33\n",
      "13       20\n",
      "14       10\n",
      "15        8\n",
      "16        5\n",
      "19        2\n",
      "18        1\n",
      "21        1\n",
      "Name: number_inpatient, dtype: int64\n",
      "428     6730\n",
      "414     6374\n",
      "786     3900\n",
      "410     3514\n",
      "486     3412\n",
      "        ... \n",
      "E909       1\n",
      "955        1\n",
      "543        1\n",
      "906        1\n",
      "913        1\n",
      "Name: diag_1, Length: 713, dtype: int64\n",
      "428    6517\n",
      "276    6513\n",
      "250    5412\n",
      "427    4919\n",
      "401    3613\n",
      "       ... \n",
      "615       1\n",
      "232       1\n",
      "977       1\n",
      "665       1\n",
      "871       1\n",
      "Name: diag_2, Length: 740, dtype: int64\n",
      "250     11208\n",
      "401      8090\n",
      "276      5097\n",
      "428      4491\n",
      "427      3865\n",
      "        ...  \n",
      "448         1\n",
      "697         1\n",
      "E965        1\n",
      "E861        1\n",
      "361         1\n",
      "Name: diag_3, Length: 786, dtype: int64\n",
      "9     48687\n",
      "5     10592\n",
      "8     10388\n",
      "7     10179\n",
      "6      9988\n",
      "4      5361\n",
      "3      2751\n",
      "16       40\n",
      "10       16\n",
      "13       16\n",
      "11       11\n",
      "12        9\n",
      "15        8\n",
      "14        7\n",
      "Name: number_diagnoses, dtype: int64\n",
      "-99    92845\n",
      " 1      2676\n",
      " 0      2532\n",
      "Name: max_glu_serum, dtype: int64\n",
      "-99    81860\n",
      " 1     11339\n",
      " 0      4854\n",
      "Name: A1Cresult, dtype: int64\n",
      "0    78808\n",
      "1    19245\n",
      "Name: metformin, dtype: int64\n",
      "0    96530\n",
      "1     1523\n",
      "Name: repaglinide, dtype: int64\n",
      "0    97362\n",
      "1      691\n",
      "Name: nateglinide, dtype: int64\n",
      "0    97970\n",
      "1       83\n",
      "Name: chlorpropamide, dtype: int64\n",
      "0    93066\n",
      "1     4987\n",
      "Name: glimepiride, dtype: int64\n",
      "0    98052\n",
      "1        1\n",
      "Name: acetohexamide, dtype: int64\n",
      "0    85769\n",
      "1    12284\n",
      "Name: glipizide, dtype: int64\n",
      "0    87792\n",
      "1    10261\n",
      "Name: glyburide, dtype: int64\n",
      "0    98031\n",
      "1       22\n",
      "Name: tolbutamide, dtype: int64\n",
      "0    90955\n",
      "1     7098\n",
      "Name: pioglitazone, dtype: int64\n",
      "0    91887\n",
      "1     6166\n",
      "Name: rosiglitazone, dtype: int64\n",
      "0    97754\n",
      "1      299\n",
      "Name: acarbose, dtype: int64\n",
      "0    98016\n",
      "1       37\n",
      "Name: miglitol, dtype: int64\n",
      "0    98050\n",
      "1        3\n",
      "Name: troglitazone, dtype: int64\n",
      "0    98016\n",
      "1       37\n",
      "Name: tolazamide, dtype: int64\n",
      "No    98053\n",
      "Name: examide, dtype: int64\n",
      "No    98053\n",
      "Name: citoglipton, dtype: int64\n",
      "1    52110\n",
      "0    45943\n",
      "Name: insulin, dtype: int64\n",
      "0    97384\n",
      "1      669\n",
      "Name: glyburide-metformin, dtype: int64\n",
      "0    98040\n",
      "1       13\n",
      "Name: glipizide-metformin, dtype: int64\n",
      "0    98052\n",
      "1        1\n",
      "Name: glimepiride-pioglitazone, dtype: int64\n",
      "0    98053\n",
      "Name: metformin-rosiglitazone, dtype: int64\n",
      "0    98052\n",
      "1        1\n",
      "Name: metformin-pioglitazone, dtype: int64\n",
      "0    52774\n",
      "1    45279\n",
      "Name: change, dtype: int64\n",
      "1    75351\n",
      "0    22702\n",
      "Name: diabetesMed, dtype: int64\n",
      "1    29630\n",
      "9    16969\n",
      "2    13993\n",
      "3     9187\n",
      "4     7965\n",
      "5     6703\n",
      "7     5555\n",
      "6     4739\n",
      "8     3312\n",
      "Name: diag_1_cat, dtype: int64\n",
      "1    31104\n",
      "9    25270\n",
      "4    11862\n",
      "2    10637\n",
      "7     8600\n",
      "3     4049\n",
      "8     2493\n",
      "5     2328\n",
      "6     1710\n",
      "Name: diag_2_cat, dtype: int64\n",
      "1    29632\n",
      "9    28321\n",
      "4    16695\n",
      "2     7199\n",
      "7     6782\n",
      "3     3852\n",
      "5     1890\n",
      "6     1862\n",
      "8     1820\n",
      "Name: diag_3_cat, dtype: int64\n",
      "0    71310\n",
      "1    25350\n",
      "2     1281\n",
      "3      107\n",
      "4        5\n",
      "Name: numchange, dtype: int64\n",
      "0    79172\n",
      "1    18881\n",
      "Name: race_AfricanAmerican, dtype: int64\n",
      "0    97428\n",
      "1      625\n",
      "Name: race_Asian, dtype: int64\n",
      "1    75079\n",
      "0    22974\n",
      "Name: race_Caucasian, dtype: int64\n",
      "0    96069\n",
      "1     1984\n",
      "Name: race_Hispanic, dtype: int64\n",
      "0    96569\n",
      "1     1484\n",
      "Name: race_Other, dtype: int64\n"
     ]
    }
   ],
   "source": [
    "for cvar in feature_set:\n",
    "   print( df[cvar].value_counts())"
   ],
   "metadata": {
    "collapsed": false,
    "pycharm": {
     "name": "#%%\n"
    }
   }
  },
  {
   "cell_type": "code",
   "execution_count": null,
   "outputs": [],
   "source": [],
   "metadata": {
    "collapsed": false,
    "pycharm": {
     "name": "#%%\n"
    }
   }
  }
 ],
 "metadata": {
  "kernelspec": {
   "display_name": "Python 3",
   "language": "python",
   "name": "python3"
  },
  "language_info": {
   "codemirror_mode": {
    "name": "ipython",
    "version": 3
   },
   "file_extension": ".py",
   "mimetype": "text/x-python",
   "name": "python",
   "nbconvert_exporter": "python",
   "pygments_lexer": "ipython3",
   "version": "3.9.5"
  }
 },
 "nbformat": 4,
 "nbformat_minor": 1
}