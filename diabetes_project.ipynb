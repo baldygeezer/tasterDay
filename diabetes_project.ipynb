{
 "cells": [
  {
   "cell_type": "markdown",
   "metadata": {
    "collapsed": true,
    "pycharm": {
     "name": "#%% md\n"
    }
   },
   "source": [
    "# 1:  setting up\n",
    "Luckily for us as programmers and data scientists we don't have to write all our code from scratch.\n",
    "There are a lot of code libraries and modules available for many of the common tasks we will need to carry out.\n",
    "The first step, before we start looking at data is to load some of these modules so that we can call on them in our code.The modules we are going to import are:\n",
    "\n",
    "- pandas: a popular general-purpose data analysis library which allows importing data from various file formats. It also provides useful data structures which can be used to examine and edit data\n",
    "\n",
    "- numpy: a popular library for performing mathematical operations, particularly with matrices and arrays.\n",
    "\n",
    "- matplotlib: a library for plotting charts and other visualisations.\n",
    "\n",
    "- Seaborn: a library which uses matplotlib and provides extra functions for visualising statistical analysis results.\n",
    "\n",
    "- toolbox_module: this contains some python functions we wrote to perform complex tasks which need very long blocks of code.\n",
    "importing them means we don't have to write them in this notebook, making it easier for you to read. As you progress with\n",
    "python you will do this a lot with your own code.\n",
    "\n",
    "You will need to run the code in the next cell so that al the code that relies on these libraries can work."
   ]
  },
  {
   "cell_type": "code",
   "execution_count": 1,
   "metadata": {
    "pycharm": {
     "name": "#%%\n"
    }
   },
   "outputs": [],
   "source": [
    "#Loading libraries\n",
    "import pandas as pd\n",
    "import numpy as np\n",
    "import matplotlib.pyplot as plt\n",
    "\n",
    "from matplotlib import rcParams\n",
    "import seaborn as sns\n",
    "import toolbox_module as tools\n",
    "import sklearn\n",
    "\n",
    "# Some style formatting\n",
    "%matplotlib inline\n",
    "sns.set_style(style=\"whitegrid\")\n",
    "plt.style.use('seaborn-whitegrid')\n",
    "rcParams['axes.labelsize'] = 14\n",
    "rcParams['xtick.labelsize'] = 12\n",
    "rcParams['ytick.labelsize'] = 12"
   ]
  },
  {
   "cell_type": "markdown",
   "metadata": {},
   "source": [
    "# 2: Loading the Data\n",
    "Now we are going to import the data set. It is in a .csv file in a folder called 'data' the same directory as this notebook.\n",
    "We are making a variable called 'df'. We also have access to a variable 'pd' which we created in the previous cell when\n",
    "we imported _pandas._ We are calling a function in pandas (pd) called 'read()' which uses the location of the data as a string argument to load a\n",
    "dataset into a pandas _dataframe_ (think of this as a table)"
   ]
  },
  {
   "cell_type": "code",
   "execution_count": 2,
   "metadata": {
    "pycharm": {
     "name": "#%%\n"
    }
   },
   "outputs": [],
   "source": [
    "# load the dataset\n",
    "df = pd.read_csv(\"data/diabetic_data.csv\")"
   ]
  },
  {
   "cell_type": "markdown",
   "metadata": {},
   "source": [
    "# Exploring the data\n",
    "Now we have our data in a dataframe we can start examining and manipulating it.\n",
    "Now let's explore the data. The first command we will use is in the cell below: `df.shape` this will return two values\n",
    "in parentheses (in Python we call this a _tuple_). The first value is the number of rows in our dataset; the second is the\n",
    "number of columns."
   ]
  },
  {
   "cell_type": "code",
   "execution_count": 3,
   "metadata": {
    "pycharm": {
     "name": "#%%\n"
    }
   },
   "outputs": [
    {
     "data": {
      "text/plain": [
       "(101766, 50)"
      ]
     },
     "execution_count": 3,
     "metadata": {},
     "output_type": "execute_result"
    }
   ],
   "source": [
    "df.shape"
   ]
  },
  {
   "cell_type": "markdown",
   "metadata": {
    "pycharm": {
     "name": "#%% md\n"
    }
   },
   "source": [
    "### In your Notebook...\n",
    "1. How many rows of data are in this dataset?\n",
    "2. Could you open this data easily in Excel?\n",
    "\n",
    "The next command we will try is `.head()` By default this will display the first 5 lines of data. It is useful for\n",
    "giving a general idea of what the data looks like. If you put a number in the brackets it will return that amount of data\n",
    "\n",
    "### try...\n",
    "Type a number into the brackets and re-run the cell (if you tried to be a clever-clogs and typed 1000 like I would have\n",
    "done ;-) you can get rid of it by re-running the cell with a smaller number"
   ]
  },
  {
   "cell_type": "code",
   "execution_count": 4,
   "metadata": {
    "pycharm": {
     "name": "#%%\n"
    }
   },
   "outputs": [
    {
     "data": {
      "text/html": [
       "<div>\n",
       "<style scoped>\n",
       "    .dataframe tbody tr th:only-of-type {\n",
       "        vertical-align: middle;\n",
       "    }\n",
       "\n",
       "    .dataframe tbody tr th {\n",
       "        vertical-align: top;\n",
       "    }\n",
       "\n",
       "    .dataframe thead th {\n",
       "        text-align: right;\n",
       "    }\n",
       "</style>\n",
       "<table border=\"1\" class=\"dataframe\">\n",
       "  <thead>\n",
       "    <tr style=\"text-align: right;\">\n",
       "      <th></th>\n",
       "      <th>0</th>\n",
       "      <th>1</th>\n",
       "      <th>2</th>\n",
       "      <th>3</th>\n",
       "      <th>4</th>\n",
       "      <th>5</th>\n",
       "      <th>6</th>\n",
       "      <th>7</th>\n",
       "      <th>8</th>\n",
       "      <th>9</th>\n",
       "      <th>...</th>\n",
       "      <th>90</th>\n",
       "      <th>91</th>\n",
       "      <th>92</th>\n",
       "      <th>93</th>\n",
       "      <th>94</th>\n",
       "      <th>95</th>\n",
       "      <th>96</th>\n",
       "      <th>97</th>\n",
       "      <th>98</th>\n",
       "      <th>99</th>\n",
       "    </tr>\n",
       "  </thead>\n",
       "  <tbody>\n",
       "    <tr>\n",
       "      <th>encounter_id</th>\n",
       "      <td>2278392</td>\n",
       "      <td>149190</td>\n",
       "      <td>64410</td>\n",
       "      <td>500364</td>\n",
       "      <td>16680</td>\n",
       "      <td>35754</td>\n",
       "      <td>55842</td>\n",
       "      <td>63768</td>\n",
       "      <td>12522</td>\n",
       "      <td>15738</td>\n",
       "      <td>...</td>\n",
       "      <td>1161024</td>\n",
       "      <td>1185942</td>\n",
       "      <td>1186980</td>\n",
       "      <td>1193868</td>\n",
       "      <td>1194678</td>\n",
       "      <td>1195056</td>\n",
       "      <td>1195548</td>\n",
       "      <td>1212006</td>\n",
       "      <td>1257282</td>\n",
       "      <td>1260216</td>\n",
       "    </tr>\n",
       "    <tr>\n",
       "      <th>patient_nbr</th>\n",
       "      <td>8222157</td>\n",
       "      <td>55629189</td>\n",
       "      <td>86047875</td>\n",
       "      <td>82442376</td>\n",
       "      <td>42519267</td>\n",
       "      <td>82637451</td>\n",
       "      <td>84259809</td>\n",
       "      <td>114882984</td>\n",
       "      <td>48330783</td>\n",
       "      <td>63555939</td>\n",
       "      <td>...</td>\n",
       "      <td>20830941</td>\n",
       "      <td>54746082</td>\n",
       "      <td>91370916</td>\n",
       "      <td>101334321</td>\n",
       "      <td>22997880</td>\n",
       "      <td>79549353</td>\n",
       "      <td>106343838</td>\n",
       "      <td>84981816</td>\n",
       "      <td>84488562</td>\n",
       "      <td>92117574</td>\n",
       "    </tr>\n",
       "    <tr>\n",
       "      <th>race</th>\n",
       "      <td>Caucasian</td>\n",
       "      <td>Caucasian</td>\n",
       "      <td>AfricanAmerican</td>\n",
       "      <td>Caucasian</td>\n",
       "      <td>Caucasian</td>\n",
       "      <td>Caucasian</td>\n",
       "      <td>Caucasian</td>\n",
       "      <td>Caucasian</td>\n",
       "      <td>Caucasian</td>\n",
       "      <td>Caucasian</td>\n",
       "      <td>...</td>\n",
       "      <td>Caucasian</td>\n",
       "      <td>Caucasian</td>\n",
       "      <td>AfricanAmerican</td>\n",
       "      <td>AfricanAmerican</td>\n",
       "      <td>AfricanAmerican</td>\n",
       "      <td>Caucasian</td>\n",
       "      <td>Caucasian</td>\n",
       "      <td>Caucasian</td>\n",
       "      <td>Other</td>\n",
       "      <td>?</td>\n",
       "    </tr>\n",
       "    <tr>\n",
       "      <th>gender</th>\n",
       "      <td>Female</td>\n",
       "      <td>Female</td>\n",
       "      <td>Female</td>\n",
       "      <td>Male</td>\n",
       "      <td>Male</td>\n",
       "      <td>Male</td>\n",
       "      <td>Male</td>\n",
       "      <td>Male</td>\n",
       "      <td>Female</td>\n",
       "      <td>Female</td>\n",
       "      <td>...</td>\n",
       "      <td>Female</td>\n",
       "      <td>Male</td>\n",
       "      <td>Male</td>\n",
       "      <td>Female</td>\n",
       "      <td>Female</td>\n",
       "      <td>Male</td>\n",
       "      <td>Female</td>\n",
       "      <td>Male</td>\n",
       "      <td>Female</td>\n",
       "      <td>Male</td>\n",
       "    </tr>\n",
       "    <tr>\n",
       "      <th>age</th>\n",
       "      <td>[0-10)</td>\n",
       "      <td>[10-20)</td>\n",
       "      <td>[20-30)</td>\n",
       "      <td>[30-40)</td>\n",
       "      <td>[40-50)</td>\n",
       "      <td>[50-60)</td>\n",
       "      <td>[60-70)</td>\n",
       "      <td>[70-80)</td>\n",
       "      <td>[80-90)</td>\n",
       "      <td>[90-100)</td>\n",
       "      <td>...</td>\n",
       "      <td>[70-80)</td>\n",
       "      <td>[70-80)</td>\n",
       "      <td>[40-50)</td>\n",
       "      <td>[50-60)</td>\n",
       "      <td>[60-70)</td>\n",
       "      <td>[70-80)</td>\n",
       "      <td>[70-80)</td>\n",
       "      <td>[70-80)</td>\n",
       "      <td>[50-60)</td>\n",
       "      <td>[30-40)</td>\n",
       "    </tr>\n",
       "    <tr>\n",
       "      <th>weight</th>\n",
       "      <td>?</td>\n",
       "      <td>?</td>\n",
       "      <td>?</td>\n",
       "      <td>?</td>\n",
       "      <td>?</td>\n",
       "      <td>?</td>\n",
       "      <td>?</td>\n",
       "      <td>?</td>\n",
       "      <td>?</td>\n",
       "      <td>?</td>\n",
       "      <td>...</td>\n",
       "      <td>?</td>\n",
       "      <td>?</td>\n",
       "      <td>?</td>\n",
       "      <td>?</td>\n",
       "      <td>?</td>\n",
       "      <td>?</td>\n",
       "      <td>?</td>\n",
       "      <td>?</td>\n",
       "      <td>?</td>\n",
       "      <td>?</td>\n",
       "    </tr>\n",
       "    <tr>\n",
       "      <th>admission_type_id</th>\n",
       "      <td>6</td>\n",
       "      <td>1</td>\n",
       "      <td>1</td>\n",
       "      <td>1</td>\n",
       "      <td>1</td>\n",
       "      <td>2</td>\n",
       "      <td>3</td>\n",
       "      <td>1</td>\n",
       "      <td>2</td>\n",
       "      <td>3</td>\n",
       "      <td>...</td>\n",
       "      <td>1</td>\n",
       "      <td>2</td>\n",
       "      <td>2</td>\n",
       "      <td>2</td>\n",
       "      <td>1</td>\n",
       "      <td>2</td>\n",
       "      <td>1</td>\n",
       "      <td>1</td>\n",
       "      <td>1</td>\n",
       "      <td>2</td>\n",
       "    </tr>\n",
       "    <tr>\n",
       "      <th>discharge_disposition_id</th>\n",
       "      <td>25</td>\n",
       "      <td>1</td>\n",
       "      <td>1</td>\n",
       "      <td>1</td>\n",
       "      <td>1</td>\n",
       "      <td>1</td>\n",
       "      <td>1</td>\n",
       "      <td>1</td>\n",
       "      <td>1</td>\n",
       "      <td>3</td>\n",
       "      <td>...</td>\n",
       "      <td>2</td>\n",
       "      <td>6</td>\n",
       "      <td>1</td>\n",
       "      <td>1</td>\n",
       "      <td>6</td>\n",
       "      <td>1</td>\n",
       "      <td>3</td>\n",
       "      <td>1</td>\n",
       "      <td>1</td>\n",
       "      <td>6</td>\n",
       "    </tr>\n",
       "    <tr>\n",
       "      <th>admission_source_id</th>\n",
       "      <td>1</td>\n",
       "      <td>7</td>\n",
       "      <td>7</td>\n",
       "      <td>7</td>\n",
       "      <td>7</td>\n",
       "      <td>2</td>\n",
       "      <td>2</td>\n",
       "      <td>7</td>\n",
       "      <td>4</td>\n",
       "      <td>4</td>\n",
       "      <td>...</td>\n",
       "      <td>7</td>\n",
       "      <td>2</td>\n",
       "      <td>2</td>\n",
       "      <td>2</td>\n",
       "      <td>7</td>\n",
       "      <td>2</td>\n",
       "      <td>7</td>\n",
       "      <td>7</td>\n",
       "      <td>7</td>\n",
       "      <td>4</td>\n",
       "    </tr>\n",
       "    <tr>\n",
       "      <th>time_in_hospital</th>\n",
       "      <td>1</td>\n",
       "      <td>3</td>\n",
       "      <td>2</td>\n",
       "      <td>2</td>\n",
       "      <td>1</td>\n",
       "      <td>3</td>\n",
       "      <td>4</td>\n",
       "      <td>5</td>\n",
       "      <td>13</td>\n",
       "      <td>12</td>\n",
       "      <td>...</td>\n",
       "      <td>5</td>\n",
       "      <td>8</td>\n",
       "      <td>4</td>\n",
       "      <td>1</td>\n",
       "      <td>6</td>\n",
       "      <td>1</td>\n",
       "      <td>5</td>\n",
       "      <td>3</td>\n",
       "      <td>2</td>\n",
       "      <td>6</td>\n",
       "    </tr>\n",
       "    <tr>\n",
       "      <th>payer_code</th>\n",
       "      <td>?</td>\n",
       "      <td>?</td>\n",
       "      <td>?</td>\n",
       "      <td>?</td>\n",
       "      <td>?</td>\n",
       "      <td>?</td>\n",
       "      <td>?</td>\n",
       "      <td>?</td>\n",
       "      <td>?</td>\n",
       "      <td>?</td>\n",
       "      <td>...</td>\n",
       "      <td>?</td>\n",
       "      <td>?</td>\n",
       "      <td>?</td>\n",
       "      <td>?</td>\n",
       "      <td>?</td>\n",
       "      <td>?</td>\n",
       "      <td>?</td>\n",
       "      <td>?</td>\n",
       "      <td>?</td>\n",
       "      <td>?</td>\n",
       "    </tr>\n",
       "    <tr>\n",
       "      <th>medical_specialty</th>\n",
       "      <td>Pediatrics-Endocrinology</td>\n",
       "      <td>?</td>\n",
       "      <td>?</td>\n",
       "      <td>?</td>\n",
       "      <td>?</td>\n",
       "      <td>?</td>\n",
       "      <td>?</td>\n",
       "      <td>?</td>\n",
       "      <td>?</td>\n",
       "      <td>InternalMedicine</td>\n",
       "      <td>...</td>\n",
       "      <td>Cardiology</td>\n",
       "      <td>?</td>\n",
       "      <td>?</td>\n",
       "      <td>?</td>\n",
       "      <td>?</td>\n",
       "      <td>?</td>\n",
       "      <td>Family/GeneralPractice</td>\n",
       "      <td>?</td>\n",
       "      <td>Surgery-General</td>\n",
       "      <td>?</td>\n",
       "    </tr>\n",
       "    <tr>\n",
       "      <th>num_lab_procedures</th>\n",
       "      <td>41</td>\n",
       "      <td>59</td>\n",
       "      <td>11</td>\n",
       "      <td>44</td>\n",
       "      <td>51</td>\n",
       "      <td>31</td>\n",
       "      <td>70</td>\n",
       "      <td>73</td>\n",
       "      <td>68</td>\n",
       "      <td>33</td>\n",
       "      <td>...</td>\n",
       "      <td>36</td>\n",
       "      <td>47</td>\n",
       "      <td>27</td>\n",
       "      <td>34</td>\n",
       "      <td>65</td>\n",
       "      <td>19</td>\n",
       "      <td>64</td>\n",
       "      <td>55</td>\n",
       "      <td>53</td>\n",
       "      <td>72</td>\n",
       "    </tr>\n",
       "    <tr>\n",
       "      <th>num_procedures</th>\n",
       "      <td>0</td>\n",
       "      <td>0</td>\n",
       "      <td>5</td>\n",
       "      <td>1</td>\n",
       "      <td>0</td>\n",
       "      <td>6</td>\n",
       "      <td>1</td>\n",
       "      <td>0</td>\n",
       "      <td>2</td>\n",
       "      <td>3</td>\n",
       "      <td>...</td>\n",
       "      <td>0</td>\n",
       "      <td>3</td>\n",
       "      <td>0</td>\n",
       "      <td>1</td>\n",
       "      <td>3</td>\n",
       "      <td>2</td>\n",
       "      <td>0</td>\n",
       "      <td>4</td>\n",
       "      <td>0</td>\n",
       "      <td>2</td>\n",
       "    </tr>\n",
       "    <tr>\n",
       "      <th>num_medications</th>\n",
       "      <td>1</td>\n",
       "      <td>18</td>\n",
       "      <td>13</td>\n",
       "      <td>16</td>\n",
       "      <td>8</td>\n",
       "      <td>16</td>\n",
       "      <td>21</td>\n",
       "      <td>12</td>\n",
       "      <td>28</td>\n",
       "      <td>18</td>\n",
       "      <td>...</td>\n",
       "      <td>14</td>\n",
       "      <td>21</td>\n",
       "      <td>12</td>\n",
       "      <td>6</td>\n",
       "      <td>18</td>\n",
       "      <td>8</td>\n",
       "      <td>21</td>\n",
       "      <td>23</td>\n",
       "      <td>6</td>\n",
       "      <td>16</td>\n",
       "    </tr>\n",
       "    <tr>\n",
       "      <th>number_outpatient</th>\n",
       "      <td>0</td>\n",
       "      <td>0</td>\n",
       "      <td>2</td>\n",
       "      <td>0</td>\n",
       "      <td>0</td>\n",
       "      <td>0</td>\n",
       "      <td>0</td>\n",
       "      <td>0</td>\n",
       "      <td>0</td>\n",
       "      <td>0</td>\n",
       "      <td>...</td>\n",
       "      <td>0</td>\n",
       "      <td>0</td>\n",
       "      <td>0</td>\n",
       "      <td>0</td>\n",
       "      <td>0</td>\n",
       "      <td>0</td>\n",
       "      <td>0</td>\n",
       "      <td>0</td>\n",
       "      <td>0</td>\n",
       "      <td>0</td>\n",
       "    </tr>\n",
       "    <tr>\n",
       "      <th>number_emergency</th>\n",
       "      <td>0</td>\n",
       "      <td>0</td>\n",
       "      <td>0</td>\n",
       "      <td>0</td>\n",
       "      <td>0</td>\n",
       "      <td>0</td>\n",
       "      <td>0</td>\n",
       "      <td>0</td>\n",
       "      <td>0</td>\n",
       "      <td>0</td>\n",
       "      <td>...</td>\n",
       "      <td>0</td>\n",
       "      <td>0</td>\n",
       "      <td>0</td>\n",
       "      <td>0</td>\n",
       "      <td>0</td>\n",
       "      <td>0</td>\n",
       "      <td>0</td>\n",
       "      <td>0</td>\n",
       "      <td>0</td>\n",
       "      <td>0</td>\n",
       "    </tr>\n",
       "    <tr>\n",
       "      <th>number_inpatient</th>\n",
       "      <td>0</td>\n",
       "      <td>0</td>\n",
       "      <td>1</td>\n",
       "      <td>0</td>\n",
       "      <td>0</td>\n",
       "      <td>0</td>\n",
       "      <td>0</td>\n",
       "      <td>0</td>\n",
       "      <td>0</td>\n",
       "      <td>0</td>\n",
       "      <td>...</td>\n",
       "      <td>0</td>\n",
       "      <td>1</td>\n",
       "      <td>1</td>\n",
       "      <td>0</td>\n",
       "      <td>0</td>\n",
       "      <td>0</td>\n",
       "      <td>1</td>\n",
       "      <td>1</td>\n",
       "      <td>0</td>\n",
       "      <td>1</td>\n",
       "    </tr>\n",
       "    <tr>\n",
       "      <th>diag_1</th>\n",
       "      <td>250.83</td>\n",
       "      <td>276</td>\n",
       "      <td>648</td>\n",
       "      <td>8</td>\n",
       "      <td>197</td>\n",
       "      <td>414</td>\n",
       "      <td>414</td>\n",
       "      <td>428</td>\n",
       "      <td>398</td>\n",
       "      <td>434</td>\n",
       "      <td>...</td>\n",
       "      <td>410</td>\n",
       "      <td>398</td>\n",
       "      <td>996</td>\n",
       "      <td>997</td>\n",
       "      <td>403</td>\n",
       "      <td>996</td>\n",
       "      <td>38</td>\n",
       "      <td>414</td>\n",
       "      <td>590</td>\n",
       "      <td>556</td>\n",
       "    </tr>\n",
       "    <tr>\n",
       "      <th>diag_2</th>\n",
       "      <td>?</td>\n",
       "      <td>250.01</td>\n",
       "      <td>250</td>\n",
       "      <td>250.43</td>\n",
       "      <td>157</td>\n",
       "      <td>411</td>\n",
       "      <td>411</td>\n",
       "      <td>492</td>\n",
       "      <td>427</td>\n",
       "      <td>198</td>\n",
       "      <td>...</td>\n",
       "      <td>424</td>\n",
       "      <td>276</td>\n",
       "      <td>250</td>\n",
       "      <td>577</td>\n",
       "      <td>535</td>\n",
       "      <td>413</td>\n",
       "      <td>428</td>\n",
       "      <td>411</td>\n",
       "      <td>250.01</td>\n",
       "      <td>285</td>\n",
       "    </tr>\n",
       "    <tr>\n",
       "      <th>diag_3</th>\n",
       "      <td>?</td>\n",
       "      <td>255</td>\n",
       "      <td>V27</td>\n",
       "      <td>403</td>\n",
       "      <td>250</td>\n",
       "      <td>250</td>\n",
       "      <td>V45</td>\n",
       "      <td>250</td>\n",
       "      <td>38</td>\n",
       "      <td>486</td>\n",
       "      <td>...</td>\n",
       "      <td>250</td>\n",
       "      <td>427</td>\n",
       "      <td>401</td>\n",
       "      <td>401</td>\n",
       "      <td>531</td>\n",
       "      <td>414</td>\n",
       "      <td>427</td>\n",
       "      <td>511</td>\n",
       "      <td>401</td>\n",
       "      <td>250</td>\n",
       "    </tr>\n",
       "    <tr>\n",
       "      <th>number_diagnoses</th>\n",
       "      <td>1</td>\n",
       "      <td>9</td>\n",
       "      <td>6</td>\n",
       "      <td>7</td>\n",
       "      <td>5</td>\n",
       "      <td>9</td>\n",
       "      <td>7</td>\n",
       "      <td>8</td>\n",
       "      <td>8</td>\n",
       "      <td>8</td>\n",
       "      <td>...</td>\n",
       "      <td>5</td>\n",
       "      <td>9</td>\n",
       "      <td>5</td>\n",
       "      <td>4</td>\n",
       "      <td>9</td>\n",
       "      <td>9</td>\n",
       "      <td>8</td>\n",
       "      <td>9</td>\n",
       "      <td>3</td>\n",
       "      <td>5</td>\n",
       "    </tr>\n",
       "    <tr>\n",
       "      <th>max_glu_serum</th>\n",
       "      <td>None</td>\n",
       "      <td>None</td>\n",
       "      <td>None</td>\n",
       "      <td>None</td>\n",
       "      <td>None</td>\n",
       "      <td>None</td>\n",
       "      <td>None</td>\n",
       "      <td>None</td>\n",
       "      <td>None</td>\n",
       "      <td>None</td>\n",
       "      <td>...</td>\n",
       "      <td>None</td>\n",
       "      <td>None</td>\n",
       "      <td>None</td>\n",
       "      <td>None</td>\n",
       "      <td>None</td>\n",
       "      <td>None</td>\n",
       "      <td>None</td>\n",
       "      <td>None</td>\n",
       "      <td>None</td>\n",
       "      <td>None</td>\n",
       "    </tr>\n",
       "    <tr>\n",
       "      <th>A1Cresult</th>\n",
       "      <td>None</td>\n",
       "      <td>None</td>\n",
       "      <td>None</td>\n",
       "      <td>None</td>\n",
       "      <td>None</td>\n",
       "      <td>None</td>\n",
       "      <td>None</td>\n",
       "      <td>None</td>\n",
       "      <td>None</td>\n",
       "      <td>None</td>\n",
       "      <td>...</td>\n",
       "      <td>None</td>\n",
       "      <td>None</td>\n",
       "      <td>None</td>\n",
       "      <td>None</td>\n",
       "      <td>None</td>\n",
       "      <td>None</td>\n",
       "      <td>None</td>\n",
       "      <td>None</td>\n",
       "      <td>&gt;8</td>\n",
       "      <td>None</td>\n",
       "    </tr>\n",
       "    <tr>\n",
       "      <th>metformin</th>\n",
       "      <td>No</td>\n",
       "      <td>No</td>\n",
       "      <td>No</td>\n",
       "      <td>No</td>\n",
       "      <td>No</td>\n",
       "      <td>No</td>\n",
       "      <td>Steady</td>\n",
       "      <td>No</td>\n",
       "      <td>No</td>\n",
       "      <td>No</td>\n",
       "      <td>...</td>\n",
       "      <td>No</td>\n",
       "      <td>Steady</td>\n",
       "      <td>No</td>\n",
       "      <td>No</td>\n",
       "      <td>No</td>\n",
       "      <td>No</td>\n",
       "      <td>No</td>\n",
       "      <td>No</td>\n",
       "      <td>No</td>\n",
       "      <td>No</td>\n",
       "    </tr>\n",
       "    <tr>\n",
       "      <th>repaglinide</th>\n",
       "      <td>No</td>\n",
       "      <td>No</td>\n",
       "      <td>No</td>\n",
       "      <td>No</td>\n",
       "      <td>No</td>\n",
       "      <td>No</td>\n",
       "      <td>No</td>\n",
       "      <td>No</td>\n",
       "      <td>No</td>\n",
       "      <td>No</td>\n",
       "      <td>...</td>\n",
       "      <td>No</td>\n",
       "      <td>No</td>\n",
       "      <td>No</td>\n",
       "      <td>No</td>\n",
       "      <td>No</td>\n",
       "      <td>No</td>\n",
       "      <td>No</td>\n",
       "      <td>No</td>\n",
       "      <td>No</td>\n",
       "      <td>No</td>\n",
       "    </tr>\n",
       "    <tr>\n",
       "      <th>nateglinide</th>\n",
       "      <td>No</td>\n",
       "      <td>No</td>\n",
       "      <td>No</td>\n",
       "      <td>No</td>\n",
       "      <td>No</td>\n",
       "      <td>No</td>\n",
       "      <td>No</td>\n",
       "      <td>No</td>\n",
       "      <td>No</td>\n",
       "      <td>No</td>\n",
       "      <td>...</td>\n",
       "      <td>No</td>\n",
       "      <td>No</td>\n",
       "      <td>No</td>\n",
       "      <td>No</td>\n",
       "      <td>No</td>\n",
       "      <td>No</td>\n",
       "      <td>No</td>\n",
       "      <td>No</td>\n",
       "      <td>No</td>\n",
       "      <td>No</td>\n",
       "    </tr>\n",
       "    <tr>\n",
       "      <th>chlorpropamide</th>\n",
       "      <td>No</td>\n",
       "      <td>No</td>\n",
       "      <td>No</td>\n",
       "      <td>No</td>\n",
       "      <td>No</td>\n",
       "      <td>No</td>\n",
       "      <td>No</td>\n",
       "      <td>No</td>\n",
       "      <td>No</td>\n",
       "      <td>No</td>\n",
       "      <td>...</td>\n",
       "      <td>No</td>\n",
       "      <td>No</td>\n",
       "      <td>No</td>\n",
       "      <td>No</td>\n",
       "      <td>No</td>\n",
       "      <td>No</td>\n",
       "      <td>No</td>\n",
       "      <td>No</td>\n",
       "      <td>No</td>\n",
       "      <td>No</td>\n",
       "    </tr>\n",
       "    <tr>\n",
       "      <th>glimepiride</th>\n",
       "      <td>No</td>\n",
       "      <td>No</td>\n",
       "      <td>No</td>\n",
       "      <td>No</td>\n",
       "      <td>No</td>\n",
       "      <td>No</td>\n",
       "      <td>Steady</td>\n",
       "      <td>No</td>\n",
       "      <td>No</td>\n",
       "      <td>No</td>\n",
       "      <td>...</td>\n",
       "      <td>No</td>\n",
       "      <td>No</td>\n",
       "      <td>No</td>\n",
       "      <td>No</td>\n",
       "      <td>No</td>\n",
       "      <td>No</td>\n",
       "      <td>No</td>\n",
       "      <td>No</td>\n",
       "      <td>No</td>\n",
       "      <td>No</td>\n",
       "    </tr>\n",
       "    <tr>\n",
       "      <th>acetohexamide</th>\n",
       "      <td>No</td>\n",
       "      <td>No</td>\n",
       "      <td>No</td>\n",
       "      <td>No</td>\n",
       "      <td>No</td>\n",
       "      <td>No</td>\n",
       "      <td>No</td>\n",
       "      <td>No</td>\n",
       "      <td>No</td>\n",
       "      <td>No</td>\n",
       "      <td>...</td>\n",
       "      <td>No</td>\n",
       "      <td>No</td>\n",
       "      <td>No</td>\n",
       "      <td>No</td>\n",
       "      <td>No</td>\n",
       "      <td>No</td>\n",
       "      <td>No</td>\n",
       "      <td>No</td>\n",
       "      <td>No</td>\n",
       "      <td>No</td>\n",
       "    </tr>\n",
       "    <tr>\n",
       "      <th>glipizide</th>\n",
       "      <td>No</td>\n",
       "      <td>No</td>\n",
       "      <td>Steady</td>\n",
       "      <td>No</td>\n",
       "      <td>Steady</td>\n",
       "      <td>No</td>\n",
       "      <td>No</td>\n",
       "      <td>No</td>\n",
       "      <td>Steady</td>\n",
       "      <td>No</td>\n",
       "      <td>...</td>\n",
       "      <td>Steady</td>\n",
       "      <td>No</td>\n",
       "      <td>No</td>\n",
       "      <td>No</td>\n",
       "      <td>No</td>\n",
       "      <td>No</td>\n",
       "      <td>No</td>\n",
       "      <td>No</td>\n",
       "      <td>No</td>\n",
       "      <td>No</td>\n",
       "    </tr>\n",
       "    <tr>\n",
       "      <th>glyburide</th>\n",
       "      <td>No</td>\n",
       "      <td>No</td>\n",
       "      <td>No</td>\n",
       "      <td>No</td>\n",
       "      <td>No</td>\n",
       "      <td>No</td>\n",
       "      <td>No</td>\n",
       "      <td>Steady</td>\n",
       "      <td>No</td>\n",
       "      <td>No</td>\n",
       "      <td>...</td>\n",
       "      <td>No</td>\n",
       "      <td>No</td>\n",
       "      <td>No</td>\n",
       "      <td>No</td>\n",
       "      <td>No</td>\n",
       "      <td>No</td>\n",
       "      <td>No</td>\n",
       "      <td>No</td>\n",
       "      <td>No</td>\n",
       "      <td>No</td>\n",
       "    </tr>\n",
       "    <tr>\n",
       "      <th>tolbutamide</th>\n",
       "      <td>No</td>\n",
       "      <td>No</td>\n",
       "      <td>No</td>\n",
       "      <td>No</td>\n",
       "      <td>No</td>\n",
       "      <td>No</td>\n",
       "      <td>No</td>\n",
       "      <td>No</td>\n",
       "      <td>No</td>\n",
       "      <td>No</td>\n",
       "      <td>...</td>\n",
       "      <td>No</td>\n",
       "      <td>No</td>\n",
       "      <td>No</td>\n",
       "      <td>No</td>\n",
       "      <td>No</td>\n",
       "      <td>No</td>\n",
       "      <td>No</td>\n",
       "      <td>No</td>\n",
       "      <td>No</td>\n",
       "      <td>Steady</td>\n",
       "    </tr>\n",
       "    <tr>\n",
       "      <th>pioglitazone</th>\n",
       "      <td>No</td>\n",
       "      <td>No</td>\n",
       "      <td>No</td>\n",
       "      <td>No</td>\n",
       "      <td>No</td>\n",
       "      <td>No</td>\n",
       "      <td>No</td>\n",
       "      <td>No</td>\n",
       "      <td>No</td>\n",
       "      <td>No</td>\n",
       "      <td>...</td>\n",
       "      <td>No</td>\n",
       "      <td>No</td>\n",
       "      <td>No</td>\n",
       "      <td>No</td>\n",
       "      <td>No</td>\n",
       "      <td>No</td>\n",
       "      <td>No</td>\n",
       "      <td>No</td>\n",
       "      <td>No</td>\n",
       "      <td>No</td>\n",
       "    </tr>\n",
       "    <tr>\n",
       "      <th>rosiglitazone</th>\n",
       "      <td>No</td>\n",
       "      <td>No</td>\n",
       "      <td>No</td>\n",
       "      <td>No</td>\n",
       "      <td>No</td>\n",
       "      <td>No</td>\n",
       "      <td>No</td>\n",
       "      <td>No</td>\n",
       "      <td>No</td>\n",
       "      <td>Steady</td>\n",
       "      <td>...</td>\n",
       "      <td>No</td>\n",
       "      <td>No</td>\n",
       "      <td>No</td>\n",
       "      <td>No</td>\n",
       "      <td>No</td>\n",
       "      <td>No</td>\n",
       "      <td>No</td>\n",
       "      <td>No</td>\n",
       "      <td>No</td>\n",
       "      <td>No</td>\n",
       "    </tr>\n",
       "    <tr>\n",
       "      <th>acarbose</th>\n",
       "      <td>No</td>\n",
       "      <td>No</td>\n",
       "      <td>No</td>\n",
       "      <td>No</td>\n",
       "      <td>No</td>\n",
       "      <td>No</td>\n",
       "      <td>No</td>\n",
       "      <td>No</td>\n",
       "      <td>No</td>\n",
       "      <td>No</td>\n",
       "      <td>...</td>\n",
       "      <td>No</td>\n",
       "      <td>No</td>\n",
       "      <td>No</td>\n",
       "      <td>No</td>\n",
       "      <td>No</td>\n",
       "      <td>No</td>\n",
       "      <td>No</td>\n",
       "      <td>No</td>\n",
       "      <td>No</td>\n",
       "      <td>No</td>\n",
       "    </tr>\n",
       "    <tr>\n",
       "      <th>miglitol</th>\n",
       "      <td>No</td>\n",
       "      <td>No</td>\n",
       "      <td>No</td>\n",
       "      <td>No</td>\n",
       "      <td>No</td>\n",
       "      <td>No</td>\n",
       "      <td>No</td>\n",
       "      <td>No</td>\n",
       "      <td>No</td>\n",
       "      <td>No</td>\n",
       "      <td>...</td>\n",
       "      <td>No</td>\n",
       "      <td>No</td>\n",
       "      <td>No</td>\n",
       "      <td>No</td>\n",
       "      <td>No</td>\n",
       "      <td>No</td>\n",
       "      <td>No</td>\n",
       "      <td>No</td>\n",
       "      <td>No</td>\n",
       "      <td>No</td>\n",
       "    </tr>\n",
       "    <tr>\n",
       "      <th>troglitazone</th>\n",
       "      <td>No</td>\n",
       "      <td>No</td>\n",
       "      <td>No</td>\n",
       "      <td>No</td>\n",
       "      <td>No</td>\n",
       "      <td>No</td>\n",
       "      <td>No</td>\n",
       "      <td>No</td>\n",
       "      <td>No</td>\n",
       "      <td>No</td>\n",
       "      <td>...</td>\n",
       "      <td>No</td>\n",
       "      <td>No</td>\n",
       "      <td>No</td>\n",
       "      <td>No</td>\n",
       "      <td>No</td>\n",
       "      <td>No</td>\n",
       "      <td>No</td>\n",
       "      <td>No</td>\n",
       "      <td>No</td>\n",
       "      <td>No</td>\n",
       "    </tr>\n",
       "    <tr>\n",
       "      <th>tolazamide</th>\n",
       "      <td>No</td>\n",
       "      <td>No</td>\n",
       "      <td>No</td>\n",
       "      <td>No</td>\n",
       "      <td>No</td>\n",
       "      <td>No</td>\n",
       "      <td>No</td>\n",
       "      <td>No</td>\n",
       "      <td>No</td>\n",
       "      <td>No</td>\n",
       "      <td>...</td>\n",
       "      <td>No</td>\n",
       "      <td>No</td>\n",
       "      <td>No</td>\n",
       "      <td>No</td>\n",
       "      <td>No</td>\n",
       "      <td>No</td>\n",
       "      <td>No</td>\n",
       "      <td>No</td>\n",
       "      <td>No</td>\n",
       "      <td>No</td>\n",
       "    </tr>\n",
       "    <tr>\n",
       "      <th>examide</th>\n",
       "      <td>No</td>\n",
       "      <td>No</td>\n",
       "      <td>No</td>\n",
       "      <td>No</td>\n",
       "      <td>No</td>\n",
       "      <td>No</td>\n",
       "      <td>No</td>\n",
       "      <td>No</td>\n",
       "      <td>No</td>\n",
       "      <td>No</td>\n",
       "      <td>...</td>\n",
       "      <td>No</td>\n",
       "      <td>No</td>\n",
       "      <td>No</td>\n",
       "      <td>No</td>\n",
       "      <td>No</td>\n",
       "      <td>No</td>\n",
       "      <td>No</td>\n",
       "      <td>No</td>\n",
       "      <td>No</td>\n",
       "      <td>No</td>\n",
       "    </tr>\n",
       "    <tr>\n",
       "      <th>citoglipton</th>\n",
       "      <td>No</td>\n",
       "      <td>No</td>\n",
       "      <td>No</td>\n",
       "      <td>No</td>\n",
       "      <td>No</td>\n",
       "      <td>No</td>\n",
       "      <td>No</td>\n",
       "      <td>No</td>\n",
       "      <td>No</td>\n",
       "      <td>No</td>\n",
       "      <td>...</td>\n",
       "      <td>No</td>\n",
       "      <td>No</td>\n",
       "      <td>No</td>\n",
       "      <td>No</td>\n",
       "      <td>No</td>\n",
       "      <td>No</td>\n",
       "      <td>No</td>\n",
       "      <td>No</td>\n",
       "      <td>No</td>\n",
       "      <td>No</td>\n",
       "    </tr>\n",
       "    <tr>\n",
       "      <th>insulin</th>\n",
       "      <td>No</td>\n",
       "      <td>Up</td>\n",
       "      <td>No</td>\n",
       "      <td>Up</td>\n",
       "      <td>Steady</td>\n",
       "      <td>Steady</td>\n",
       "      <td>Steady</td>\n",
       "      <td>No</td>\n",
       "      <td>Steady</td>\n",
       "      <td>Steady</td>\n",
       "      <td>...</td>\n",
       "      <td>Steady</td>\n",
       "      <td>Steady</td>\n",
       "      <td>Steady</td>\n",
       "      <td>Steady</td>\n",
       "      <td>Steady</td>\n",
       "      <td>Steady</td>\n",
       "      <td>Steady</td>\n",
       "      <td>Down</td>\n",
       "      <td>Up</td>\n",
       "      <td>Steady</td>\n",
       "    </tr>\n",
       "    <tr>\n",
       "      <th>glyburide-metformin</th>\n",
       "      <td>No</td>\n",
       "      <td>No</td>\n",
       "      <td>No</td>\n",
       "      <td>No</td>\n",
       "      <td>No</td>\n",
       "      <td>No</td>\n",
       "      <td>No</td>\n",
       "      <td>No</td>\n",
       "      <td>No</td>\n",
       "      <td>No</td>\n",
       "      <td>...</td>\n",
       "      <td>No</td>\n",
       "      <td>No</td>\n",
       "      <td>No</td>\n",
       "      <td>No</td>\n",
       "      <td>No</td>\n",
       "      <td>No</td>\n",
       "      <td>No</td>\n",
       "      <td>No</td>\n",
       "      <td>No</td>\n",
       "      <td>No</td>\n",
       "    </tr>\n",
       "    <tr>\n",
       "      <th>glipizide-metformin</th>\n",
       "      <td>No</td>\n",
       "      <td>No</td>\n",
       "      <td>No</td>\n",
       "      <td>No</td>\n",
       "      <td>No</td>\n",
       "      <td>No</td>\n",
       "      <td>No</td>\n",
       "      <td>No</td>\n",
       "      <td>No</td>\n",
       "      <td>No</td>\n",
       "      <td>...</td>\n",
       "      <td>No</td>\n",
       "      <td>No</td>\n",
       "      <td>No</td>\n",
       "      <td>No</td>\n",
       "      <td>No</td>\n",
       "      <td>No</td>\n",
       "      <td>No</td>\n",
       "      <td>No</td>\n",
       "      <td>No</td>\n",
       "      <td>No</td>\n",
       "    </tr>\n",
       "    <tr>\n",
       "      <th>glimepiride-pioglitazone</th>\n",
       "      <td>No</td>\n",
       "      <td>No</td>\n",
       "      <td>No</td>\n",
       "      <td>No</td>\n",
       "      <td>No</td>\n",
       "      <td>No</td>\n",
       "      <td>No</td>\n",
       "      <td>No</td>\n",
       "      <td>No</td>\n",
       "      <td>No</td>\n",
       "      <td>...</td>\n",
       "      <td>No</td>\n",
       "      <td>No</td>\n",
       "      <td>No</td>\n",
       "      <td>No</td>\n",
       "      <td>No</td>\n",
       "      <td>No</td>\n",
       "      <td>No</td>\n",
       "      <td>No</td>\n",
       "      <td>No</td>\n",
       "      <td>No</td>\n",
       "    </tr>\n",
       "    <tr>\n",
       "      <th>metformin-rosiglitazone</th>\n",
       "      <td>No</td>\n",
       "      <td>No</td>\n",
       "      <td>No</td>\n",
       "      <td>No</td>\n",
       "      <td>No</td>\n",
       "      <td>No</td>\n",
       "      <td>No</td>\n",
       "      <td>No</td>\n",
       "      <td>No</td>\n",
       "      <td>No</td>\n",
       "      <td>...</td>\n",
       "      <td>No</td>\n",
       "      <td>No</td>\n",
       "      <td>No</td>\n",
       "      <td>No</td>\n",
       "      <td>No</td>\n",
       "      <td>No</td>\n",
       "      <td>No</td>\n",
       "      <td>No</td>\n",
       "      <td>No</td>\n",
       "      <td>No</td>\n",
       "    </tr>\n",
       "    <tr>\n",
       "      <th>metformin-pioglitazone</th>\n",
       "      <td>No</td>\n",
       "      <td>No</td>\n",
       "      <td>No</td>\n",
       "      <td>No</td>\n",
       "      <td>No</td>\n",
       "      <td>No</td>\n",
       "      <td>No</td>\n",
       "      <td>No</td>\n",
       "      <td>No</td>\n",
       "      <td>No</td>\n",
       "      <td>...</td>\n",
       "      <td>No</td>\n",
       "      <td>No</td>\n",
       "      <td>No</td>\n",
       "      <td>No</td>\n",
       "      <td>No</td>\n",
       "      <td>No</td>\n",
       "      <td>No</td>\n",
       "      <td>No</td>\n",
       "      <td>No</td>\n",
       "      <td>No</td>\n",
       "    </tr>\n",
       "    <tr>\n",
       "      <th>change</th>\n",
       "      <td>No</td>\n",
       "      <td>Ch</td>\n",
       "      <td>No</td>\n",
       "      <td>Ch</td>\n",
       "      <td>Ch</td>\n",
       "      <td>No</td>\n",
       "      <td>Ch</td>\n",
       "      <td>No</td>\n",
       "      <td>Ch</td>\n",
       "      <td>Ch</td>\n",
       "      <td>...</td>\n",
       "      <td>Ch</td>\n",
       "      <td>Ch</td>\n",
       "      <td>No</td>\n",
       "      <td>No</td>\n",
       "      <td>No</td>\n",
       "      <td>No</td>\n",
       "      <td>No</td>\n",
       "      <td>Ch</td>\n",
       "      <td>Ch</td>\n",
       "      <td>Ch</td>\n",
       "    </tr>\n",
       "    <tr>\n",
       "      <th>diabetesMed</th>\n",
       "      <td>No</td>\n",
       "      <td>Yes</td>\n",
       "      <td>Yes</td>\n",
       "      <td>Yes</td>\n",
       "      <td>Yes</td>\n",
       "      <td>Yes</td>\n",
       "      <td>Yes</td>\n",
       "      <td>Yes</td>\n",
       "      <td>Yes</td>\n",
       "      <td>Yes</td>\n",
       "      <td>...</td>\n",
       "      <td>Yes</td>\n",
       "      <td>Yes</td>\n",
       "      <td>Yes</td>\n",
       "      <td>Yes</td>\n",
       "      <td>Yes</td>\n",
       "      <td>Yes</td>\n",
       "      <td>Yes</td>\n",
       "      <td>Yes</td>\n",
       "      <td>Yes</td>\n",
       "      <td>Yes</td>\n",
       "    </tr>\n",
       "    <tr>\n",
       "      <th>readmitted</th>\n",
       "      <td>NO</td>\n",
       "      <td>&gt;30</td>\n",
       "      <td>NO</td>\n",
       "      <td>NO</td>\n",
       "      <td>NO</td>\n",
       "      <td>&gt;30</td>\n",
       "      <td>NO</td>\n",
       "      <td>&gt;30</td>\n",
       "      <td>NO</td>\n",
       "      <td>NO</td>\n",
       "      <td>...</td>\n",
       "      <td>&gt;30</td>\n",
       "      <td>&gt;30</td>\n",
       "      <td>&gt;30</td>\n",
       "      <td>&gt;30</td>\n",
       "      <td>&gt;30</td>\n",
       "      <td>&gt;30</td>\n",
       "      <td>&gt;30</td>\n",
       "      <td>NO</td>\n",
       "      <td>NO</td>\n",
       "      <td>&gt;30</td>\n",
       "    </tr>\n",
       "  </tbody>\n",
       "</table>\n",
       "<p>50 rows × 100 columns</p>\n",
       "</div>"
      ],
      "text/plain": [
       "                                                0          1   \\\n",
       "encounter_id                               2278392     149190   \n",
       "patient_nbr                                8222157   55629189   \n",
       "race                                     Caucasian  Caucasian   \n",
       "gender                                      Female     Female   \n",
       "age                                         [0-10)    [10-20)   \n",
       "weight                                           ?          ?   \n",
       "admission_type_id                                6          1   \n",
       "discharge_disposition_id                        25          1   \n",
       "admission_source_id                              1          7   \n",
       "time_in_hospital                                 1          3   \n",
       "payer_code                                       ?          ?   \n",
       "medical_specialty         Pediatrics-Endocrinology          ?   \n",
       "num_lab_procedures                              41         59   \n",
       "num_procedures                                   0          0   \n",
       "num_medications                                  1         18   \n",
       "number_outpatient                                0          0   \n",
       "number_emergency                                 0          0   \n",
       "number_inpatient                                 0          0   \n",
       "diag_1                                      250.83        276   \n",
       "diag_2                                           ?     250.01   \n",
       "diag_3                                           ?        255   \n",
       "number_diagnoses                                 1          9   \n",
       "max_glu_serum                                 None       None   \n",
       "A1Cresult                                     None       None   \n",
       "metformin                                       No         No   \n",
       "repaglinide                                     No         No   \n",
       "nateglinide                                     No         No   \n",
       "chlorpropamide                                  No         No   \n",
       "glimepiride                                     No         No   \n",
       "acetohexamide                                   No         No   \n",
       "glipizide                                       No         No   \n",
       "glyburide                                       No         No   \n",
       "tolbutamide                                     No         No   \n",
       "pioglitazone                                    No         No   \n",
       "rosiglitazone                                   No         No   \n",
       "acarbose                                        No         No   \n",
       "miglitol                                        No         No   \n",
       "troglitazone                                    No         No   \n",
       "tolazamide                                      No         No   \n",
       "examide                                         No         No   \n",
       "citoglipton                                     No         No   \n",
       "insulin                                         No         Up   \n",
       "glyburide-metformin                             No         No   \n",
       "glipizide-metformin                             No         No   \n",
       "glimepiride-pioglitazone                        No         No   \n",
       "metformin-rosiglitazone                         No         No   \n",
       "metformin-pioglitazone                          No         No   \n",
       "change                                          No         Ch   \n",
       "diabetesMed                                     No        Yes   \n",
       "readmitted                                      NO        >30   \n",
       "\n",
       "                                       2          3          4          5   \\\n",
       "encounter_id                        64410     500364      16680      35754   \n",
       "patient_nbr                      86047875   82442376   42519267   82637451   \n",
       "race                      AfricanAmerican  Caucasian  Caucasian  Caucasian   \n",
       "gender                             Female       Male       Male       Male   \n",
       "age                               [20-30)    [30-40)    [40-50)    [50-60)   \n",
       "weight                                  ?          ?          ?          ?   \n",
       "admission_type_id                       1          1          1          2   \n",
       "discharge_disposition_id                1          1          1          1   \n",
       "admission_source_id                     7          7          7          2   \n",
       "time_in_hospital                        2          2          1          3   \n",
       "payer_code                              ?          ?          ?          ?   \n",
       "medical_specialty                       ?          ?          ?          ?   \n",
       "num_lab_procedures                     11         44         51         31   \n",
       "num_procedures                          5          1          0          6   \n",
       "num_medications                        13         16          8         16   \n",
       "number_outpatient                       2          0          0          0   \n",
       "number_emergency                        0          0          0          0   \n",
       "number_inpatient                        1          0          0          0   \n",
       "diag_1                                648          8        197        414   \n",
       "diag_2                                250     250.43        157        411   \n",
       "diag_3                                V27        403        250        250   \n",
       "number_diagnoses                        6          7          5          9   \n",
       "max_glu_serum                        None       None       None       None   \n",
       "A1Cresult                            None       None       None       None   \n",
       "metformin                              No         No         No         No   \n",
       "repaglinide                            No         No         No         No   \n",
       "nateglinide                            No         No         No         No   \n",
       "chlorpropamide                         No         No         No         No   \n",
       "glimepiride                            No         No         No         No   \n",
       "acetohexamide                          No         No         No         No   \n",
       "glipizide                          Steady         No     Steady         No   \n",
       "glyburide                              No         No         No         No   \n",
       "tolbutamide                            No         No         No         No   \n",
       "pioglitazone                           No         No         No         No   \n",
       "rosiglitazone                          No         No         No         No   \n",
       "acarbose                               No         No         No         No   \n",
       "miglitol                               No         No         No         No   \n",
       "troglitazone                           No         No         No         No   \n",
       "tolazamide                             No         No         No         No   \n",
       "examide                                No         No         No         No   \n",
       "citoglipton                            No         No         No         No   \n",
       "insulin                                No         Up     Steady     Steady   \n",
       "glyburide-metformin                    No         No         No         No   \n",
       "glipizide-metformin                    No         No         No         No   \n",
       "glimepiride-pioglitazone               No         No         No         No   \n",
       "metformin-rosiglitazone                No         No         No         No   \n",
       "metformin-pioglitazone                 No         No         No         No   \n",
       "change                                 No         Ch         Ch         No   \n",
       "diabetesMed                           Yes        Yes        Yes        Yes   \n",
       "readmitted                             NO         NO         NO        >30   \n",
       "\n",
       "                                 6          7          8                 9   \\\n",
       "encounter_id                  55842      63768      12522             15738   \n",
       "patient_nbr                84259809  114882984   48330783          63555939   \n",
       "race                      Caucasian  Caucasian  Caucasian         Caucasian   \n",
       "gender                         Male       Male     Female            Female   \n",
       "age                         [60-70)    [70-80)    [80-90)          [90-100)   \n",
       "weight                            ?          ?          ?                 ?   \n",
       "admission_type_id                 3          1          2                 3   \n",
       "discharge_disposition_id          1          1          1                 3   \n",
       "admission_source_id               2          7          4                 4   \n",
       "time_in_hospital                  4          5         13                12   \n",
       "payer_code                        ?          ?          ?                 ?   \n",
       "medical_specialty                 ?          ?          ?  InternalMedicine   \n",
       "num_lab_procedures               70         73         68                33   \n",
       "num_procedures                    1          0          2                 3   \n",
       "num_medications                  21         12         28                18   \n",
       "number_outpatient                 0          0          0                 0   \n",
       "number_emergency                  0          0          0                 0   \n",
       "number_inpatient                  0          0          0                 0   \n",
       "diag_1                          414        428        398               434   \n",
       "diag_2                          411        492        427               198   \n",
       "diag_3                          V45        250         38               486   \n",
       "number_diagnoses                  7          8          8                 8   \n",
       "max_glu_serum                  None       None       None              None   \n",
       "A1Cresult                      None       None       None              None   \n",
       "metformin                    Steady         No         No                No   \n",
       "repaglinide                      No         No         No                No   \n",
       "nateglinide                      No         No         No                No   \n",
       "chlorpropamide                   No         No         No                No   \n",
       "glimepiride                  Steady         No         No                No   \n",
       "acetohexamide                    No         No         No                No   \n",
       "glipizide                        No         No     Steady                No   \n",
       "glyburide                        No     Steady         No                No   \n",
       "tolbutamide                      No         No         No                No   \n",
       "pioglitazone                     No         No         No                No   \n",
       "rosiglitazone                    No         No         No            Steady   \n",
       "acarbose                         No         No         No                No   \n",
       "miglitol                         No         No         No                No   \n",
       "troglitazone                     No         No         No                No   \n",
       "tolazamide                       No         No         No                No   \n",
       "examide                          No         No         No                No   \n",
       "citoglipton                      No         No         No                No   \n",
       "insulin                      Steady         No     Steady            Steady   \n",
       "glyburide-metformin              No         No         No                No   \n",
       "glipizide-metformin              No         No         No                No   \n",
       "glimepiride-pioglitazone         No         No         No                No   \n",
       "metformin-rosiglitazone          No         No         No                No   \n",
       "metformin-pioglitazone           No         No         No                No   \n",
       "change                           Ch         No         Ch                Ch   \n",
       "diabetesMed                     Yes        Yes        Yes               Yes   \n",
       "readmitted                       NO        >30         NO                NO   \n",
       "\n",
       "                          ...          90         91               92  \\\n",
       "encounter_id              ...     1161024    1185942          1186980   \n",
       "patient_nbr               ...    20830941   54746082         91370916   \n",
       "race                      ...   Caucasian  Caucasian  AfricanAmerican   \n",
       "gender                    ...      Female       Male             Male   \n",
       "age                       ...     [70-80)    [70-80)          [40-50)   \n",
       "weight                    ...           ?          ?                ?   \n",
       "admission_type_id         ...           1          2                2   \n",
       "discharge_disposition_id  ...           2          6                1   \n",
       "admission_source_id       ...           7          2                2   \n",
       "time_in_hospital          ...           5          8                4   \n",
       "payer_code                ...           ?          ?                ?   \n",
       "medical_specialty         ...  Cardiology          ?                ?   \n",
       "num_lab_procedures        ...          36         47               27   \n",
       "num_procedures            ...           0          3                0   \n",
       "num_medications           ...          14         21               12   \n",
       "number_outpatient         ...           0          0                0   \n",
       "number_emergency          ...           0          0                0   \n",
       "number_inpatient          ...           0          1                1   \n",
       "diag_1                    ...         410        398              996   \n",
       "diag_2                    ...         424        276              250   \n",
       "diag_3                    ...         250        427              401   \n",
       "number_diagnoses          ...           5          9                5   \n",
       "max_glu_serum             ...        None       None             None   \n",
       "A1Cresult                 ...        None       None             None   \n",
       "metformin                 ...          No     Steady               No   \n",
       "repaglinide               ...          No         No               No   \n",
       "nateglinide               ...          No         No               No   \n",
       "chlorpropamide            ...          No         No               No   \n",
       "glimepiride               ...          No         No               No   \n",
       "acetohexamide             ...          No         No               No   \n",
       "glipizide                 ...      Steady         No               No   \n",
       "glyburide                 ...          No         No               No   \n",
       "tolbutamide               ...          No         No               No   \n",
       "pioglitazone              ...          No         No               No   \n",
       "rosiglitazone             ...          No         No               No   \n",
       "acarbose                  ...          No         No               No   \n",
       "miglitol                  ...          No         No               No   \n",
       "troglitazone              ...          No         No               No   \n",
       "tolazamide                ...          No         No               No   \n",
       "examide                   ...          No         No               No   \n",
       "citoglipton               ...          No         No               No   \n",
       "insulin                   ...      Steady     Steady           Steady   \n",
       "glyburide-metformin       ...          No         No               No   \n",
       "glipizide-metformin       ...          No         No               No   \n",
       "glimepiride-pioglitazone  ...          No         No               No   \n",
       "metformin-rosiglitazone   ...          No         No               No   \n",
       "metformin-pioglitazone    ...          No         No               No   \n",
       "change                    ...          Ch         Ch               No   \n",
       "diabetesMed               ...         Yes        Yes              Yes   \n",
       "readmitted                ...         >30        >30              >30   \n",
       "\n",
       "                                       93               94         95  \\\n",
       "encounter_id                      1193868          1194678    1195056   \n",
       "patient_nbr                     101334321         22997880   79549353   \n",
       "race                      AfricanAmerican  AfricanAmerican  Caucasian   \n",
       "gender                             Female           Female       Male   \n",
       "age                               [50-60)          [60-70)    [70-80)   \n",
       "weight                                  ?                ?          ?   \n",
       "admission_type_id                       2                1          2   \n",
       "discharge_disposition_id                1                6          1   \n",
       "admission_source_id                     2                7          2   \n",
       "time_in_hospital                        1                6          1   \n",
       "payer_code                              ?                ?          ?   \n",
       "medical_specialty                       ?                ?          ?   \n",
       "num_lab_procedures                     34               65         19   \n",
       "num_procedures                          1                3          2   \n",
       "num_medications                         6               18          8   \n",
       "number_outpatient                       0                0          0   \n",
       "number_emergency                        0                0          0   \n",
       "number_inpatient                        0                0          0   \n",
       "diag_1                                997              403        996   \n",
       "diag_2                                577              535        413   \n",
       "diag_3                                401              531        414   \n",
       "number_diagnoses                        4                9          9   \n",
       "max_glu_serum                        None             None       None   \n",
       "A1Cresult                            None             None       None   \n",
       "metformin                              No               No         No   \n",
       "repaglinide                            No               No         No   \n",
       "nateglinide                            No               No         No   \n",
       "chlorpropamide                         No               No         No   \n",
       "glimepiride                            No               No         No   \n",
       "acetohexamide                          No               No         No   \n",
       "glipizide                              No               No         No   \n",
       "glyburide                              No               No         No   \n",
       "tolbutamide                            No               No         No   \n",
       "pioglitazone                           No               No         No   \n",
       "rosiglitazone                          No               No         No   \n",
       "acarbose                               No               No         No   \n",
       "miglitol                               No               No         No   \n",
       "troglitazone                           No               No         No   \n",
       "tolazamide                             No               No         No   \n",
       "examide                                No               No         No   \n",
       "citoglipton                            No               No         No   \n",
       "insulin                            Steady           Steady     Steady   \n",
       "glyburide-metformin                    No               No         No   \n",
       "glipizide-metformin                    No               No         No   \n",
       "glimepiride-pioglitazone               No               No         No   \n",
       "metformin-rosiglitazone                No               No         No   \n",
       "metformin-pioglitazone                 No               No         No   \n",
       "change                                 No               No         No   \n",
       "diabetesMed                           Yes              Yes        Yes   \n",
       "readmitted                            >30              >30        >30   \n",
       "\n",
       "                                              96         97               98  \\\n",
       "encounter_id                             1195548    1212006          1257282   \n",
       "patient_nbr                            106343838   84981816         84488562   \n",
       "race                                   Caucasian  Caucasian            Other   \n",
       "gender                                    Female       Male           Female   \n",
       "age                                      [70-80)    [70-80)          [50-60)   \n",
       "weight                                         ?          ?                ?   \n",
       "admission_type_id                              1          1                1   \n",
       "discharge_disposition_id                       3          1                1   \n",
       "admission_source_id                            7          7                7   \n",
       "time_in_hospital                               5          3                2   \n",
       "payer_code                                     ?          ?                ?   \n",
       "medical_specialty         Family/GeneralPractice          ?  Surgery-General   \n",
       "num_lab_procedures                            64         55               53   \n",
       "num_procedures                                 0          4                0   \n",
       "num_medications                               21         23                6   \n",
       "number_outpatient                              0          0                0   \n",
       "number_emergency                               0          0                0   \n",
       "number_inpatient                               1          1                0   \n",
       "diag_1                                        38        414              590   \n",
       "diag_2                                       428        411           250.01   \n",
       "diag_3                                       427        511              401   \n",
       "number_diagnoses                               8          9                3   \n",
       "max_glu_serum                               None       None             None   \n",
       "A1Cresult                                   None       None               >8   \n",
       "metformin                                     No         No               No   \n",
       "repaglinide                                   No         No               No   \n",
       "nateglinide                                   No         No               No   \n",
       "chlorpropamide                                No         No               No   \n",
       "glimepiride                                   No         No               No   \n",
       "acetohexamide                                 No         No               No   \n",
       "glipizide                                     No         No               No   \n",
       "glyburide                                     No         No               No   \n",
       "tolbutamide                                   No         No               No   \n",
       "pioglitazone                                  No         No               No   \n",
       "rosiglitazone                                 No         No               No   \n",
       "acarbose                                      No         No               No   \n",
       "miglitol                                      No         No               No   \n",
       "troglitazone                                  No         No               No   \n",
       "tolazamide                                    No         No               No   \n",
       "examide                                       No         No               No   \n",
       "citoglipton                                   No         No               No   \n",
       "insulin                                   Steady       Down               Up   \n",
       "glyburide-metformin                           No         No               No   \n",
       "glipizide-metformin                           No         No               No   \n",
       "glimepiride-pioglitazone                      No         No               No   \n",
       "metformin-rosiglitazone                       No         No               No   \n",
       "metformin-pioglitazone                        No         No               No   \n",
       "change                                        No         Ch               Ch   \n",
       "diabetesMed                                  Yes        Yes              Yes   \n",
       "readmitted                                   >30         NO               NO   \n",
       "\n",
       "                                99  \n",
       "encounter_id               1260216  \n",
       "patient_nbr               92117574  \n",
       "race                             ?  \n",
       "gender                        Male  \n",
       "age                        [30-40)  \n",
       "weight                           ?  \n",
       "admission_type_id                2  \n",
       "discharge_disposition_id         6  \n",
       "admission_source_id              4  \n",
       "time_in_hospital                 6  \n",
       "payer_code                       ?  \n",
       "medical_specialty                ?  \n",
       "num_lab_procedures              72  \n",
       "num_procedures                   2  \n",
       "num_medications                 16  \n",
       "number_outpatient                0  \n",
       "number_emergency                 0  \n",
       "number_inpatient                 1  \n",
       "diag_1                         556  \n",
       "diag_2                         285  \n",
       "diag_3                         250  \n",
       "number_diagnoses                 5  \n",
       "max_glu_serum                 None  \n",
       "A1Cresult                     None  \n",
       "metformin                       No  \n",
       "repaglinide                     No  \n",
       "nateglinide                     No  \n",
       "chlorpropamide                  No  \n",
       "glimepiride                     No  \n",
       "acetohexamide                   No  \n",
       "glipizide                       No  \n",
       "glyburide                       No  \n",
       "tolbutamide                 Steady  \n",
       "pioglitazone                    No  \n",
       "rosiglitazone                   No  \n",
       "acarbose                        No  \n",
       "miglitol                        No  \n",
       "troglitazone                    No  \n",
       "tolazamide                      No  \n",
       "examide                         No  \n",
       "citoglipton                     No  \n",
       "insulin                     Steady  \n",
       "glyburide-metformin             No  \n",
       "glipizide-metformin             No  \n",
       "glimepiride-pioglitazone        No  \n",
       "metformin-rosiglitazone         No  \n",
       "metformin-pioglitazone          No  \n",
       "change                          Ch  \n",
       "diabetesMed                    Yes  \n",
       "readmitted                     >30  \n",
       "\n",
       "[50 rows x 100 columns]"
      ]
     },
     "execution_count": 4,
     "metadata": {},
     "output_type": "execute_result"
    }
   ],
   "source": [
    "# type your code below\n",
    "df.head(100).T\n"
   ]
  },
  {
   "cell_type": "markdown",
   "metadata": {
    "pycharm": {
     "name": "#%% md\n"
    }
   },
   "source": [
    "#we could put the stacktrace bit in the getting started section....\n",
    "\n",
    "\n",
    "If everything went OK you should see the first 5 rows of data. If not you will see a lot of red text called a _stack trace_.\n",
    "Don't worry about this. It might look alarming but it often includes helpful \t7\t2\t11\t...\tNo\tNo\tNo\tNo\tNo\tNo\tNo\tNo\tYes\tNO\n",
    "3\t500364\t82442376\tCaucasian\tMale\t[30-40)\t1\t1\tinformation about where you went wrong.\n",
    "If you do see a stack trace, make sure your code inthe cell above looks like this `df.head()` onece it does, and you\n",
    "re-run the cell the stacktrace will be gone.\n",
    "### try\n",
    "replace `df.head()` with `df.hea()`\n",
    "### in your Notebook\n",
    "What did the output look like?\n",
    "How might that help you work out what went wrong?\n",
    "\n",
    "now put df.head() back into the cell and re-run it.\n",
    "\n",
    "The dataset should have 101766 rows, and 50 columns. That's a lot of data to make sense of, but we have the tools!\n",
    "Let's see what types of data we have. The command to do this is `df.dtypes` try it in the cell below."
   ]
  },
  {
   "cell_type": "code",
   "execution_count": 5,
   "metadata": {
    "pycharm": {
     "name": "#%%\n"
    }
   },
   "outputs": [
    {
     "data": {
      "text/plain": [
       "encounter_id                 int64\n",
       "patient_nbr                  int64\n",
       "race                        object\n",
       "gender                      object\n",
       "age                         object\n",
       "weight                      object\n",
       "admission_type_id            int64\n",
       "discharge_disposition_id     int64\n",
       "admission_source_id          int64\n",
       "time_in_hospital             int64\n",
       "payer_code                  object\n",
       "medical_specialty           object\n",
       "num_lab_procedures           int64\n",
       "num_procedures               int64\n",
       "num_medications              int64\n",
       "number_outpatient            int64\n",
       "number_emergency             int64\n",
       "number_inpatient             int64\n",
       "diag_1                      object\n",
       "diag_2                      object\n",
       "diag_3                      object\n",
       "number_diagnoses             int64\n",
       "max_glu_serum               object\n",
       "A1Cresult                   object\n",
       "metformin                   object\n",
       "repaglinide                 object\n",
       "nateglinide                 object\n",
       "chlorpropamide              object\n",
       "glimepiride                 object\n",
       "acetohexamide               object\n",
       "glipizide                   object\n",
       "glyburide                   object\n",
       "tolbutamide                 object\n",
       "pioglitazone                object\n",
       "rosiglitazone               object\n",
       "acarbose                    object\n",
       "miglitol                    object\n",
       "troglitazone                object\n",
       "tolazamide                  object\n",
       "examide                     object\n",
       "citoglipton                 object\n",
       "insulin                     object\n",
       "glyburide-metformin         object\n",
       "glipizide-metformin         object\n",
       "glimepiride-pioglitazone    object\n",
       "metformin-rosiglitazone     object\n",
       "metformin-pioglitazone      object\n",
       "change                      object\n",
       "diabetesMed                 object\n",
       "readmitted                  object\n",
       "dtype: object"
      ]
     },
     "execution_count": 5,
     "metadata": {},
     "output_type": "execute_result"
    }
   ],
   "source": [
    "df.dtypes"
   ]
  },
  {
   "cell_type": "markdown",
   "metadata": {
    "pycharm": {
     "name": "#%% md\n"
    }
   },
   "source": [
    "Next to each column you can see the type of data it is. for example _int64_ is an integer. When Pandas isn't sure what\n",
    "the type should be it uses 'object'. These are mostly strings as this is data coming from a .CSV file.\n",
    "Now we know what our data looks like lets make sure it is in a suitable state for us to analyse. One of the first things\n",
    "to do is deal with any missing values.\n",
    "\n",
    "In this dataset, missing values are represented by a  “?”  So if we search every column which has a type of “object” to\n",
    "see if there are any “?” values, and then count them, we can see the extent of our missing data problem, if any.\n"
   ]
  },
  {
   "cell_type": "code",
   "execution_count": 6,
   "metadata": {
    "pycharm": {
     "name": "#%%\n"
    }
   },
   "outputs": [
    {
     "name": "stdout",
     "output_type": "stream",
     "text": [
      "race 2273\n",
      "gender 0\n",
      "age 0\n",
      "weight 98569\n",
      "payer_code 40256\n",
      "medical_specialty 49949\n",
      "diag_1 21\n",
      "diag_2 358\n",
      "diag_3 1423\n",
      "max_glu_serum 0\n",
      "A1Cresult 0\n",
      "metformin 0\n",
      "repaglinide 0\n",
      "nateglinide 0\n",
      "chlorpropamide 0\n",
      "glimepiride 0\n",
      "acetohexamide 0\n",
      "glipizide 0\n",
      "glyburide 0\n",
      "tolbutamide 0\n",
      "pioglitazone 0\n",
      "rosiglitazone 0\n",
      "acarbose 0\n",
      "miglitol 0\n",
      "troglitazone 0\n",
      "tolazamide 0\n",
      "examide 0\n",
      "citoglipton 0\n",
      "insulin 0\n",
      "glyburide-metformin 0\n",
      "glipizide-metformin 0\n",
      "glimepiride-pioglitazone 0\n",
      "metformin-rosiglitazone 0\n",
      "metformin-pioglitazone 0\n",
      "change 0\n",
      "diabetesMed 0\n",
      "readmitted 0\n"
     ]
    }
   ],
   "source": [
    "# note to self - do we need to take them through series and referencing pandas dataframes ? Or can we just explain what it does\n",
    "\n",
    "# for every column in the dataframe\n",
    "for col in df.columns:\n",
    "    # check if it has a datatype of 'object' - if it does\n",
    "    if df[col].dtype == object:\n",
    "        #print the column name and the count of the number of '?' values\n",
    "         print(col,df[col][df[col] == '?'].count())"
   ]
  },
  {
   "cell_type": "markdown",
   "metadata": {},
   "source": [
    "We know that 'Gender' is encoded differently with 'Unknown/Invalid' used to signify missing data.\n",
    "so:"
   ]
  },
  {
   "cell_type": "code",
   "execution_count": 7,
   "metadata": {
    "pycharm": {
     "name": "#%%\n"
    }
   },
   "outputs": [
    {
     "name": "stdout",
     "output_type": "stream",
     "text": [
      "gender 3\n"
     ]
    }
   ],
   "source": [
    "tools.count_value(df, 'Unknown/Invalid', 'gender')"
   ]
  },
  {
   "cell_type": "markdown",
   "metadata": {
    "pycharm": {
     "name": "#%% md\n"
    }
   },
   "source": [
    "We can see that some columns have quite a few missing values. Weight is the worst affected with around 98% of\n",
    "the values missing. There is not much we can do to improve this situation so we will remove this column from the dataset.\n",
    "Payer code and medical specialty also have a lot of missing values so we will also drop these columns. 2 other variables\n",
    "the drugs named <drug names> all have the same values and therefore do not add any information, so we will also drop these"
   ]
  },
  {
   "cell_type": "code",
   "execution_count": 8,
   "metadata": {
    "pycharm": {
     "name": "#%%\n"
    }
   },
   "outputs": [],
   "source": [
    "# dropping columns with large number of missing values\n",
    "df = df.drop(['weight','payer_code','medical_specialty'], axis = 1)"
   ]
  },
  {
   "cell_type": "markdown",
   "metadata": {
    "pycharm": {
     "name": "#%% md\n"
    }
   },
   "source": [
    "the columns race, diagonal…, And gender all have some missing values but far fewer than the columns we have just dropped.\n",
    "In this situation, we can just go in and delete those values. We will do this with a function from our toolbox module.\n",
    "Once we have done this we can rerun the code we used earlier to see what our dataset looks like now we have cleaned it\n",
    "up a bit"
   ]
  },
  {
   "cell_type": "code",
   "execution_count": 9,
   "metadata": {
    "pycharm": {
     "name": "#%%\n"
    }
   },
   "outputs": [],
   "source": [
    "tools.drop_values(df,'race','?')\n",
    "tools.drop_values(df,'diag_1', '?')\n",
    "tools.drop_values(df,'diag_2', '?')\n",
    "tools.drop_values(df,'diag_3', '?')\n",
    "tools.drop_values(df,'gender', '?')"
   ]
  },
  {
   "cell_type": "code",
   "execution_count": 10,
   "metadata": {
    "pycharm": {
     "name": "#%%\n"
    }
   },
   "outputs": [
    {
     "name": "stdout",
     "output_type": "stream",
     "text": [
      "gender 0\n"
     ]
    }
   ],
   "source": [
    "# tools.count_values(df,'?')\n",
    "\n",
    "tools.drop_values(df, \"gender\", \"Unknown/Invalid\")\n",
    "tools.count_value(df, \"Unknown/Invalid\", \"gender\")"
   ]
  },
  {
   "cell_type": "markdown",
   "metadata": {
    "pycharm": {
     "name": "#%% md\n"
    }
   },
   "source": [
    "## Feature Engineering\n",
    "So we have cleaned up the data and now have a dataset free from missing values, but there are still some issues.\n",
    "The dataset wasn't designed specifically with machine learning in mind and some of the variables need to be optimised\n",
    "\n",
    "### Previous diagnoses\n",
    "There are three columns in the dataframe: diag1, diag2 and diag3 which are references to previous diagnoses.\n",
    "These use something called an IDC code to indicate what the diagnosis was.\n",
    "There are several hundred distinct values which are strings, mostly numeric.\n",
    "we can simplify this into something our model can make sense out of by categorising them. In another study, researchers\n",
    "used 9 desease categories and we have done the same assigning each a single digit identifier:\n",
    "circulatory = 1, respiratory = 2,digestive = 3,diabetes = 4,injury = 5,musculoskeletal = 6,\n",
    "genitourinary = 7, neoplasm = 8 and other = 9\n",
    "\n",
    "We have provided a function in the toolbox_module which does this for you: `convert_idc_disease_class()`\n",
    "This accepts a string and returns an integer between 1 and 9.\n",
    "#### try...\n",
    "patient x has a diag_1 code of '648'. what type of condition did they suffer from?"
   ]
  },
  {
   "cell_type": "code",
   "execution_count": 11,
   "metadata": {
    "pycharm": {
     "name": "#%%\n"
    }
   },
   "outputs": [
    {
     "data": {
      "text/plain": [
       "7"
      ]
     },
     "execution_count": 11,
     "metadata": {},
     "output_type": "execute_result"
    }
   ],
   "source": [
    "# write your code below...\n",
    "tools.convert_idc_disease_class(\"648\")  # todo: delete me - I'm a solution"
   ]
  },
  {
   "cell_type": "markdown",
   "metadata": {
    "pycharm": {
     "name": "#%% md\n"
    }
   },
   "source": [
    "The three lines of code in the cell below apply this function to every row in the dataframe and put the reult in a new\n",
    "column. This uses a feature you will come across in many programming languages, called a _lambda function_. It works by\n",
    "passing a bit of code as an argument to a function. The code then runs inside the function and enhances it.\n",
    "\n",
    "You can see the Keyword `Lambda` and `row`followed by a colon. `row` is a parameter for the dataframe's `apply` function.\n",
    "After the colon we pass our toolbox function which is applied to every row in the dataframe."
   ]
  },
  {
   "cell_type": "code",
   "execution_count": 12,
   "metadata": {},
   "outputs": [],
   "source": [
    "df['diag_1_cat']=df.apply(lambda row:tools.convert_idc_disease_class(row['diag_1']), axis=1)\n",
    "df['diag_2_cat']=df.apply(lambda row:tools.convert_idc_disease_class(row['diag_2']), axis=1)\n",
    "df['diag_3_cat']=df.apply(lambda row:tools.convert_idc_disease_class(row['diag_3']), axis=1)"
   ]
  },
  {
   "cell_type": "markdown",
   "metadata": {
    "pycharm": {
     "name": "#%% md\n"
    }
   },
   "source": [
    "Now lets run df head again. Can you see what's changed?"
   ]
  },
  {
   "cell_type": "code",
   "execution_count": 13,
   "metadata": {
    "pycharm": {
     "name": "#%%\n"
    }
   },
   "outputs": [],
   "source": [
    "#df.head(100).T"
   ]
  },
  {
   "cell_type": "markdown",
   "metadata": {},
   "source": [
    "### Drug prescribing\n",
    "There are 23 drugs which have been prescribed as part of diabetes treatment protocols and the dataset records whether\n",
    "the prescription was increased, reduced, not prescribed, or continued without change.\n",
    "Have a look at the `head()` output to see them.\n",
    "We are aware of previous research which has found that changes to medication is associated with lower readmission rates,\n",
    "so we are going to make a new variable - a _'feature'_ for our machine learning algorithm called numchange which\n",
    "is the total number of changes to any medication. To do that we make a list of all the medications (keys), and then we\n",
    "loop over this making a temporary column in the data frame for each key and then using a lambda function like we did\n",
    "earlier. This creates a variable “X” which stores the value of the column, which we test: if it is equal to\n",
    "'no' or 'steady', then the medication either has not been prescribed or dosage not changed in which case we assign 0.\n",
    "If it has any other value, i.e. “up”, or “down” then the dosages either been increased or decreased, in which case we\n",
    "assign one. Once we have done that we loop over the keys again, this time adding the value of the temporary column to\n",
    "`numchange` column, and then finally we delete the temporary column. The last line of code outputs the number of different\n",
    "values in the column"
   ]
  },
  {
   "cell_type": "code",
   "execution_count": 14,
   "metadata": {
    "pycharm": {
     "name": "#%%\n"
    }
   },
   "outputs": [
    {
     "data": {
      "text/plain": [
       "0    71309\n",
       "1    25350\n",
       "2     1281\n",
       "3      107\n",
       "4        5\n",
       "Name: numchange, dtype: int64"
      ]
     },
     "execution_count": 14,
     "metadata": {},
     "output_type": "execute_result"
    }
   ],
   "source": [
    "# set up the list of drugs - the columns we are using\n",
    "keys = [\n",
    "    \"metformin\",\n",
    "    \"repaglinide\",\n",
    "    \"nateglinide\",\n",
    "    \"chlorpropamide\",\n",
    "    \"glimepiride\",\n",
    "    \"glipizide\",\n",
    "    \"glyburide\",\n",
    "    \"pioglitazone\",\n",
    "    \"rosiglitazone\",\n",
    "    \"acarbose\",\n",
    "    \"miglitol\",\n",
    "    \"insulin\",\n",
    "    \"glyburide-metformin\",\n",
    "    \"tolazamide\",\n",
    "    \"metformin-pioglitazone\",\n",
    "    \"metformin-rosiglitazone\",\n",
    "    \"glimepiride-pioglitazone\",\n",
    "    \"glipizide-metformin\",\n",
    "    \"troglitazone\",\n",
    "    \"tolbutamide\",\n",
    "    \"acetohexamide\",\n",
    "]\n",
    "\n",
    "##loop over the drug columns, and for every drug...\n",
    "for col in keys:\n",
    "    # ... make a temporary column\n",
    "    colname = str(col) + \"temp\"\n",
    "    # ...then check for changes to medications: assign 1 to the temporary column if there were changes, otherwise 0\n",
    "    df[colname] = df[col].apply(lambda x: 0 if (x == \"No\" or x == \"Steady\") else 1)\n",
    "\n",
    "# make a numchange column: we do this outside the loop, why?\n",
    "df[\"numchange\"] = 0\n",
    "\n",
    "# now we loop over them again\n",
    "for col in keys:\n",
    "    # remake the name of the temporary column\n",
    "    colname = str(col) + \"temp\"\n",
    "\n",
    "    # add the value to the numchange column\n",
    "    df[\"numchange\"] = df[\"numchange\"] + df[colname]\n",
    "    # delete the temorary column\n",
    "    del df[colname]\n",
    "\n",
    "# print out a list of all the 'numchange' values we have and how many\n",
    "df[\"numchange\"].value_counts()"
   ]
  },
  {
   "cell_type": "markdown",
   "metadata": {},
   "source": [
    "### in your notebook...\n",
    "What percentage of people did not have changes to their medications?"
   ]
  },
  {
   "cell_type": "markdown",
   "metadata": {},
   "source": [
    "Number of medication used: Another potentially interesting factor could be the total number of medications used by the\n",
    "patient. This might indicate the severity of their condition and/or the intensity of their care, so we created another\n",
    "feature - num_meds by counting the medications used during the stay."
   ]
  },
  {
   "cell_type": "markdown",
   "metadata": {},
   "source": [
    "## THIS CELL THROWS AN ERROR"
   ]
  },
  {
   "cell_type": "raw",
   "metadata": {
    "pycharm": {
     "name": "#%%\n"
    }
   },
   "source": [
    "# make a new column\n",
    "df[\"num_meds\"] = 0\n",
    "# loop through the list of drugs we made earlier\n",
    "for col in keys:\n",
    "    # there will now be a '1' in the collumn if the patient is on that drug, so add it to the number of meds (add the '0' otherwise)\n",
    "    df[\"num_meds\"] = df[\"num_meds\"] + df[col]\n",
    "# print a count of the values to make sure it worked\n",
    "df[\"num_meds\"].value_counts()"
   ]
  },
  {
   "cell_type": "markdown",
   "metadata": {
    "pycharm": {
     "name": "#%% md\n"
    }
   },
   "source": [
    "## Encoding\n",
    "The dataset uses strings for gender, race, diabetesMed, and medication change, and for each of the 23 drugs used. To use these values in our\n",
    "model we are going to convert them into binary values, i.e. 1 and 0.\n",
    "\n",
    "\n",
    "#### Medication Change\n",
    "First, we will deal with medication change by replacing ‘Ch’ with 1 and ‘No’ with 0"
   ]
  },
  {
   "cell_type": "code",
   "execution_count": 15,
   "metadata": {
    "pycharm": {
     "name": "#%%\n"
    }
   },
   "outputs": [],
   "source": [
    "df['change'] = df['change'].replace('Ch', 1)\n",
    "df['change'] = df['change'].replace('No', 0)"
   ]
  },
  {
   "cell_type": "markdown",
   "metadata": {},
   "source": [
    "#### diabetesMed\n",
    "...then we will change diabetesMed by replacing yes with 1 and no with 0. This is a convention in programming when\n",
    "converting things into binary. Yes is generally represented by 1 and no generally by 0, a bit like a Boolean value,\n",
    "where True is represented by 1 and false by 0."
   ]
  },
  {
   "cell_type": "code",
   "execution_count": 16,
   "metadata": {
    "pycharm": {
     "name": "#%%\n"
    }
   },
   "outputs": [],
   "source": [
    "df['diabetesMed'] = df['diabetesMed'].replace('Yes', 1)\n",
    "df['diabetesMed'] = df['diabetesMed'].replace('No', 0)"
   ]
  },
  {
   "cell_type": "markdown",
   "metadata": {},
   "source": []
  },
  {
   "cell_type": "code",
   "execution_count": 17,
   "metadata": {
    "pycharm": {
     "name": "#%%\n"
    }
   },
   "outputs": [],
   "source": [
    "#### Ethnicity\n",
    "df = pd.get_dummies(df, columns=['race'])"
   ]
  },
  {
   "cell_type": "code",
   "execution_count": 18,
   "metadata": {
    "pycharm": {
     "name": "#%%\n"
    }
   },
   "outputs": [],
   "source": [
    "# write your code below...\n",
    "df['gender'] = df['gender'].replace('Male', 1)\n",
    "df['gender'] = df['gender'].replace('Female', 0)"
   ]
  },
  {
   "cell_type": "markdown",
   "metadata": {
    "pycharm": {
     "name": "#%% md\n"
    }
   },
   "source": [
    "### try...\n",
    "#### Gender\n",
    "Now it is your turn. Let’s encode gender by encoding 'Male' with 1 and 'Female' with 0. You an co this in tha same way\n",
    "as we did in the cells above Have a look at the dataset to make sure that you type male and female exactly as they are\n",
    "in the dataset. Clue: both capitalised"
   ]
  },
  {
   "cell_type": "code",
   "execution_count": 19,
   "metadata": {
    "pycharm": {
     "name": "#%%\n"
    }
   },
   "outputs": [],
   "source": [
    "# write your code below...\n",
    "df['gender'] = df['gender'].replace('Male', 1)\n",
    "df['gender'] = df['gender'].replace('Female', 0)"
   ]
  },
  {
   "cell_type": "markdown",
   "metadata": {
    "pycharm": {
     "name": "#%% md\n"
    }
   },
   "source": [
    "#### Medications\n",
    "The dataset contains 23 columns each for a different medication. Each medication feature indicates whether the drug was\n",
    "prescribed and whether there was a change in dosage.As we have already created a variable that measures the amount of\n",
    "changes in medication alongside the existence of another variable which indicates whether or not there was a change, we\n",
    "don't really need this information, so we are going to recode these variables so that they just indicate whether or not this particular drug was prescribed. We are going to loop through the set of drug keys we created earlier. This time, for each drug, we will replace the values: 0 for ‘no’;1 4 steady, up, down"
   ]
  },
  {
   "cell_type": "code",
   "execution_count": 20,
   "metadata": {
    "pycharm": {
     "name": "#%%\n"
    }
   },
   "outputs": [],
   "source": [
    "# we are using the list of keys from the cell we created them in earlier\n",
    "for col in keys:\n",
    "    df[col] = df[col].replace('No', 0)\n",
    "    df[col] = df[col].replace('Steady', 1)\n",
    "    df[col] = df[col].replace('Up', 1)\n",
    "    df[col] = df[col].replace('Down', 1)"
   ]
  },
  {
   "cell_type": "markdown",
   "metadata": {},
   "source": [
    "#### test results\n",
    "We are also going to recode test results for the A1c test (we are data scientists and we have no idea what that is) and the maximum glucose serum test. We are going to encode 0 for a normal result and 1 for an abnormal result. Where no test was given we will use -99.\n",
    "#### in your notebook...\n",
    "Have a look at the code in the cell below, what are the abnormal values for each test?"
   ]
  },
  {
   "cell_type": "code",
   "execution_count": 21,
   "metadata": {
    "pycharm": {
     "name": "#%%\n"
    }
   },
   "outputs": [],
   "source": [
    "df['A1Cresult'] = df['A1Cresult'].replace('>7', 1)\n",
    "df['A1Cresult'] = df['A1Cresult'].replace('>8', 1)\n",
    "df['A1Cresult'] = df['A1Cresult'].replace('Norm', 0)\n",
    "df['A1Cresult'] = df['A1Cresult'].replace('None', -99)\n",
    "df['max_glu_serum'] = df['max_glu_serum'].replace('>200', 1)\n",
    "df['max_glu_serum'] = df['max_glu_serum'].replace('>300', 1)\n",
    "df['max_glu_serum'] = df['max_glu_serum'].replace('Norm', 0)\n",
    "df['max_glu_serum'] = df['max_glu_serum'].replace('None', -99)"
   ]
  },
  {
   "cell_type": "markdown",
   "metadata": {},
   "source": [
    "### Age Groupings\n",
    "The age variable is currently encoded in 10 year intervals: 10 year bands from 0 to 100. We are going to create a loop\n",
    "which runs 10 times and replaces each band with an integer. What we are left with is still a categorical variable, so we\n",
    "will approximate the age as the midpoint in each category, so we are left with something on a continuous scale.\n",
    "\n",
    "To do this we use a feature in python called a dictionary. This is a collection, a data structure a bit like a list,\n",
    "which consists of key value pairs separated by a colon the key comes first, and we can use this to look up values in the\n",
    "dictionary in much the same way you would get the definition of a word from a real-life dictionary."
   ]
  },
  {
   "cell_type": "code",
   "execution_count": 22,
   "metadata": {
    "pycharm": {
     "name": "#%%\n"
    }
   },
   "outputs": [
    {
     "name": "stdout",
     "output_type": "stream",
     "text": [
      "8     25305\n",
      "7     21809\n",
      "9     16702\n",
      "6     16697\n",
      "5      9265\n",
      "4      3548\n",
      "10     2717\n",
      "3      1478\n",
      "2       466\n",
      "1        65\n",
      "Name: age, dtype: int64\n",
      "75    25305\n",
      "65    21809\n",
      "85    16702\n",
      "55    16697\n",
      "45     9265\n",
      "35     3548\n",
      "95     2717\n",
      "25     1478\n",
      "15      466\n",
      "5        65\n",
      "Name: age, dtype: int64\n"
     ]
    }
   ],
   "source": [
    "# code age intervals [0-10) - [90-100) from 1-10\n",
    "for i in range(0,10): #for every number from 1-10\n",
    "    #make a string using i which matches the interval eg '[10-20)', replace this with i+1\n",
    "    df['age'] = df['age'].replace('['+str(10*i)+'-'+str(10*(i+1))+')', i+1)\n",
    "df['age'].value_counts()\n",
    "\n",
    "#convert 'age' into an integer\n",
    "df['age'] = df['age'].astype('int64')\n",
    "#print out a count of all the values. This keep us sane!\n",
    "print(df.age.value_counts())\n",
    "\n",
    "# make a dictionary so we can look up new values to replace the ones we made earlier\n",
    "age_dict = {1:5, 2:15, 3:25, 4:35, 5:45, 6:55, 7:65, 8:75, 9:85, 10:95}\n",
    "\n",
    "#map the values onto those in the dictionary. This will replace each one\n",
    "df['age'] = df.age.map(age_dict)\n",
    "#print out the new value counts so we know it worked\n",
    "print(df.age.value_counts())"
   ]
  },
  {
   "cell_type": "markdown",
   "metadata": {},
   "source": [
    "Collapsing of Multiple Encounters for same Patient\n",
    "#blurb goes here\n",
    "N.B. we might move this and try fixing this at the end - not fixing it biases the data in favour of people\n",
    "with multiple admissions"
   ]
  },
  {
   "cell_type": "code",
   "execution_count": 23,
   "metadata": {
    "pycharm": {
     "name": "#%%\n"
    }
   },
   "outputs": [
    {
     "data": {
      "text/plain": [
       "(68629, 55)"
      ]
     },
     "execution_count": 23,
     "metadata": {},
     "output_type": "execute_result"
    }
   ],
   "source": [
    "df2 = df.drop_duplicates(subset= ['patient_nbr'], keep = 'first')\n",
    "df2.shape"
   ]
  },
  {
   "cell_type": "markdown",
   "metadata": {},
   "source": [
    "Encoding the outcome variable\n"
   ]
  },
  {
   "cell_type": "code",
   "execution_count": 24,
   "metadata": {
    "pycharm": {
     "name": "#%%\n"
    }
   },
   "outputs": [
    {
     "data": {
      "text/plain": [
       "NO     52337\n",
       ">30    34649\n",
       "<30    11066\n",
       "Name: readmitted, dtype: int64"
      ]
     },
     "execution_count": 24,
     "metadata": {},
     "output_type": "execute_result"
    }
   ],
   "source": [
    "df['readmitted'].value_counts()"
   ]
  },
  {
   "cell_type": "code",
   "execution_count": 25,
   "metadata": {
    "pycharm": {
     "name": "#%%\n"
    }
   },
   "outputs": [],
   "source": [
    "df['readmitted'] = df['readmitted'].replace('>30', 0)\n",
    "df['readmitted'] = df['readmitted'].replace('<30', 1)\n",
    "df['readmitted'] = df['readmitted'].replace('NO', 0)\n"
   ]
  },
  {
   "cell_type": "markdown",
   "metadata": {
    "pycharm": {
     "name": "#%% md\n"
    }
   },
   "source": [
    "### Visualisations\n",
    "Another important step in a machine learning project is visual inspection of the data. We had a look at the output\n",
    "from the `head()` command, but as humans we can only make sense of this one column at a time, so we can only use it to\n",
    "inspect a tiny fraction of the data. We need other strategies to get a picture of what the whole dataset looks like,\n",
    "so let’s build some charts…\n",
    "\n",
    "Remember those imports we did at the start of this notebook? One of them was _Seaborn_ which is a statistical\n",
    "visualisation library. We imported it as `sns`. This means we can `sns` it to produce charts by calling its functions.\n",
    "The seaborne library is based on _matplotlib_ and uses many of its functions, so when we write code, we might call\n",
    "functions from matplotlib (`plt`) as well as seaborne in the same chart.\n",
    "Let's start with a nice simple one and plot age and readmission as a bar chart..."
   ]
  },
  {
   "cell_type": "markdown",
   "metadata": {},
   "source": [
    "#### Age and Readmission\n",
    "First, we create a `fig` variable by calling the `figure` method from `plt` which is a quick way of setting the size of the graphic.\n",
    "Any matplotlib or seaborne code we call now will operate on this fig variable until we make a new one.\n",
    "Next we call `sns.countplot()` to create a simple bar chart counting the values of a categorical variable using a column\n",
    "from the data frame as the first argument (`y=`) to measure on the x-axis, and then use the column supplied as the `hue` argument,\n",
    "which groups and colours the bars along the y-axis according to a second categorical variable.\n",
    "### try...\n",
    "See if you can flip the chart around by changing the name of the first argument. Which looks better?"
   ]
  },
  {
   "cell_type": "code",
   "execution_count": 26,
   "metadata": {
    "pycharm": {
     "name": "#%%\n"
    }
   },
   "outputs": [
    {
     "data": {
      "text/plain": [
       "Text(0.5, 1.0, 'Age of Patient VS. Readmission')"
      ]
     },
     "execution_count": 26,
     "metadata": {},
     "output_type": "execute_result"
    },
    {
     "data": {
      "image/png": "[encoded data removed]",
      "text/plain": [
       "<Figure size 1080x720 with 1 Axes>"
      ]
     },
     "metadata": {},
     "output_type": "display_data"
    }
   ],
   "source": [
    "fig = plt.figure(figsize=(15,10))\n",
    "chart = sns.countplot(y= df['age'], hue = df['readmitted'])\n",
    "chart.set_title('Age of Patient VS. Readmission')"
   ]
  },
  {
   "cell_type": "markdown",
   "metadata": {
    "pycharm": {
     "name": "#%% md\n"
    }
   },
   "source": [
    "Now for a slightly more complex example. This next chart plots time in hospital and frequency of those readmitted, and\n",
    "those not readmitted on separate lines. The first line sets up a figure in much the same way as we did in the previous\n",
    "cell. This time we use the Kd E plot function. KDE stands for “kernel density estimate” and is a method for visualising\n",
    "the distribution of observations on a dataset. It is a bit like a histogram but represents the data using a curve. We\n",
    "use it twice to add two lines to the figure. The first arguments we pass for each line get a list of all the values of\n",
    "“readmitted” which satisfy the condition, i.e. `== 0`, or `== 1` as well as values for time in hospital.\n",
    "The other arguments shade the area under the curve and colour it.\n",
    "\n",
    "#### Discuss…\n",
    "Why do you think the line is so uneven?\n",
    "\n",
    "__Clue__: people are not often discharged from hospital at night.\n",
    "\n",
    "<span style=\"color:red\">\n",
    ">>Note to people testing: am I right? Or am I going mad? Also, why is there a difference between readmitted and not readmitted it's weird!\n",
    "</span>."
   ]
  },
  {
   "cell_type": "code",
   "execution_count": 27,
   "metadata": {
    "pycharm": {
     "name": "#%%\n"
    }
   },
   "outputs": [
    {
     "data": {
      "text/plain": [
       "<matplotlib.legend.Legend at 0x7fd5eaeadfd0>"
      ]
     },
     "execution_count": 27,
     "metadata": {},
     "output_type": "execute_result"
    },
    {
     "data": {
      "image/png": "[encoded data removed]",
      "text/plain": [
       "<Figure size 936x504 with 1 Axes>"
      ]
     },
     "metadata": {},
     "output_type": "display_data"
    }
   ],
   "source": [
    "fig = plt.figure(figsize=(13,7),)\n",
    "ax=sns.kdeplot(df.loc[(df['readmitted'] == 0),'time_in_hospital'] , color='b',shade=True,label='Not Readmitted')\n",
    "ax=sns.kdeplot(df.loc[(df['readmitted'] == 1),'time_in_hospital'] , color='r',shade=True, label='Readmitted')\n",
    "ax.set(xlabel='Time in Hospital', ylabel='Frequency')\n",
    "plt.title('Time in Hospital VS. Readmission')\n",
    "plt.legend()"
   ]
  },
  {
   "cell_type": "markdown",
   "metadata": {
    "pycharm": {
     "name": "#%% md\n"
    }
   },
   "source": [
    "Try…\n",
    "Now it is your turn. Use the cell below to plot some more of data. As you explore make a note of anything you see which\n",
    "is unusual."
   ]
  },
  {
   "cell_type": "code",
   "execution_count": 28,
   "metadata": {
    "pycharm": {
     "name": "#%%\n"
    }
   },
   "outputs": [],
   "source": [
    "# type your code below...\n"
   ]
  },
  {
   "cell_type": "markdown",
   "metadata": {
    "pycharm": {
     "name": "#%% md\n"
    }
   },
   "source": [
    "## Modeling\n",
    "There are lots more things we could do to this data to improve our predictions still further, but the boss has said we\n",
    "have to finish this by lunchtime, so let's quickly deploy our algorithm and make some life or death decisions because\n",
    "work/life balance is important and nobody likes working on their lunch hour, right?\n",
    "\n",
    "Anyway, onwards! The next thing to do is identify the features we will use and separate out the target variable we are\n",
    "trying to predict.\n",
    "\n",
    "In the cell below we made a list of the features we are going to use to train the model. The last 2 lines in the cell\n",
    "extract the features from the database into a variable called X. The other line extracts the target feature, i.e. the\n",
    "one whose value we are learning to predict into a variable y. The use of uppercase X and lowercase y for features and\n",
    "target variable is a convention you will see quite often.\n",
    "\n",
    "We are going to use a library called Scikit-Learn to do our machine learning. Scikit-Learn is a collection of modules\n",
    "which give us a number of algorithms to try out, and we are going to experiment with two of them. The techniques we are\n",
    "going to use are _supervised algorithms_. We say this because these techniques use data which is labelled with the values\n",
    "we are trying to predict, so that we know what the output should be. We use this to create a model based on the\n",
    "relationship between our training variables and these known outputs. _Unsupervised learning_ techniques work without this\n",
    "knowledge and find relationships within the data independently.\n",
    "\n",
    "Our task is a classification task in that we are classifying patients based on whether they will or will not be\n",
    "readmitted to hospital within 30 days."
   ]
  },
  {
   "cell_type": "code",
   "execution_count": 29,
   "metadata": {
    "pycharm": {
     "name": "#%%\n"
    }
   },
   "outputs": [],
   "source": [
    "# noodling about - TODO: delete me when ready to publish\n",
    "feature_set1 = [\n",
    "    \"gender\",\n",
    "    \"age\",\n",
    "    \"admission_type_id\",\n",
    "    \"discharge_disposition_id\",\n",
    "    \"admission_source_id\",\n",
    "    \"time_in_hospital\",\n",
    "    \"num_lab_procedures\",\n",
    "    \"num_procedures\",\n",
    "    \"num_medications\",\n",
    "    \"number_outpatient\",\n",
    "    \"number_emergency\",\n",
    "    \"number_inpatient\",\n",
    "    \"number_diagnoses\",\n",
    "    \"max_glu_serum\",\n",
    "    \"A1Cresult\",\n",
    "    \"metformin\",\n",
    "    \"repaglinide\",\n",
    "    \"nateglinide\",\n",
    "    \"chlorpropamide\",\n",
    "    \"glimepiride\",\n",
    "    \"acetohexamide\",\n",
    "    \"glipizide\",\n",
    "    \"glyburide\",\n",
    "    \"tolbutamide\",\n",
    "    \"pioglitazone\",\n",
    "    \"rosiglitazone\",\n",
    "    \"acarbose\",\n",
    "    \"miglitol\",\n",
    "    \"troglitazone\",\n",
    "    \"tolazamide\",\n",
    "    \"insulin\",\n",
    "    \"glyburide-metformin\",\n",
    "    \"glipizide-metformin\",\n",
    "    \"glimepiride-pioglitazone\",\n",
    "    \"metformin-rosiglitazone\",\n",
    "    \"metformin-pioglitazone\",\n",
    "    \"change\",\n",
    "    \"diabetesMed\",\n",
    "    \"diag_1_cat\",\n",
    "    \"diag_2_cat\",\n",
    "    \"diag_3_cat\",\n",
    "    \"numchange\",\n",
    "    \"race_AfricanAmerican\",\n",
    "    \"race_Asian\",\n",
    "    \"race_Caucasian\",\n",
    "    \"race_Hispanic\",\n",
    "    \"race_Other\",\n",
    "]\n",
    "\n",
    "# specify which columns we are going to use as features for our model\n",
    "feature_set = [\n",
    "    \"gender\",\n",
    "    \"age\",\n",
    "    \"admission_type_id\",\n",
    "    \"discharge_disposition_id\",\n",
    "    \"admission_source_id\",\n",
    "    \"time_in_hospital\",\n",
    "    \"num_lab_procedures\",\n",
    "    \"num_procedures\",\n",
    "    \"num_medications\",\n",
    "    \"number_outpatient\",\n",
    "    \"number_emergency\",\n",
    "    \"number_inpatient\",\n",
    "    \"number_diagnoses\",\n",
    "    \"max_glu_serum\",\n",
    "    \"A1Cresult\",\n",
    "    \"metformin\",\n",
    "    \"repaglinide\",\n",
    "    \"nateglinide\",\n",
    "    \"chlorpropamide\",\n",
    "    \"glimepiride\",\n",
    "    \"acetohexamide\",\n",
    "    \"glipizide\",\n",
    "    \"glyburide\",\n",
    "    \"tolbutamide\",\n",
    "    \"pioglitazone\",\n",
    "    \"rosiglitazone\",\n",
    "    \"acarbose\",\n",
    "    \"miglitol\",\n",
    "    \"troglitazone\",\n",
    "    \"tolazamide\",\n",
    "    \"insulin\",\n",
    "    \"glyburide-metformin\",\n",
    "    \"glipizide-metformin\",\n",
    "    \"glimepiride-pioglitazone\",\n",
    "    \"metformin-rosiglitazone\",\n",
    "    \"metformin-pioglitazone\",\n",
    "    \"change\",\n",
    "    \"diabetesMed\",\n",
    "    \"diag_1_cat\",\n",
    "    \"diag_2_cat\",\n",
    "    \"diag_3_cat\",\n",
    "    \"numchange\",\n",
    "    \"race_AfricanAmerican\",\n",
    "    \"race_Asian\",\n",
    "    \"race_Caucasian\",\n",
    "    \"race_Hispanic\",\n",
    "    \"race_Other\",\n",
    "]\n",
    "\n",
    "\n",
    "X = df[feature_set]\n",
    "y = df[\"readmitted\"]"
   ]
  },
  {
   "cell_type": "markdown",
   "metadata": {},
   "source": [
    "### Test and Training Data\n",
    "We need some way of testing the performance of our model. The way we do this is by taking out and reserving a section of\n",
    "our data as a test set, and then training the model with the rest. We then use it to make predictions based on the test\n",
    "data and compare those to the actual values to see how well we did. Usually we keep aside 20% of our data for testing\n",
    "purposes. Scikit-Learn has a module to do this, and we are going to import that and run a function to split the data.\n",
    "We will end up with 4 sets. 2 sets of features X_train and X_test and 2 sets of targets - the values we are trying to predict"
   ]
  },
  {
   "cell_type": "code",
   "execution_count": 30,
   "metadata": {
    "pycharm": {
     "name": "#%%\n"
    }
   },
   "outputs": [],
   "source": [
    "from sklearn.model_selection import train_test_split\n",
    "X_train, X_test, y_train, y_test = train_test_split(X, y, test_size=0.20, random_state=0,stratify=y)"
   ]
  },
  {
   "cell_type": "markdown",
   "metadata": {
    "pycharm": {
     "name": "#%% md\n"
    }
   },
   "source": [
    "## The decision tree\n",
    "The first algorithm we are going to try is the decision tree. It is called a decision tree because the way it works\n",
    "internally is a bit like a flowchart with a treelike structure. At each node of the tree the algorithm finds the most\n",
    "efficient way of classifying the data. It keeps splitting the dataset at every node until eventually all the data points\n",
    "at each end of the tree are in the same class.\n",
    "\n",
    "In the next cell we have imported a decision tree classifier and created an instance of one as a variable called dtree.\n",
    "The classifier has a function called `fit()` and we pass it all the values from our dataset that we are going to use for\n",
    "training along with the values for the target variable. The decision tree classifier then makes a model based on the\n",
    "relationships it finds between our training data and the target values. Once that is done we can create a set of predicted\n",
    "values by calling ```dtree.predict(X_test)``` We use the test data for this so that we can chack it against the actual \n",
    "values we kept in `y_test`"
   ]
  },
  {
   "cell_type": "markdown",
   "metadata": {},
   "source": [
    "### Decision Tree"
   ]
  },
  {
   "cell_type": "code",
   "execution_count": 31,
   "metadata": {
    "pycharm": {
     "name": "#%%\n"
    },
    "scrolled": true
   },
   "outputs": [
    {
     "name": "stdout",
     "output_type": "stream",
     "text": [
      "Decision Tree Results\n",
      "              precision    recall  f1-score   support\n",
      "\n",
      "           0       0.89      0.92      0.90     17398\n",
      "           1       0.17      0.14      0.15      2213\n",
      "\n",
      "    accuracy                           0.83     19611\n",
      "   macro avg       0.53      0.53      0.53     19611\n",
      "weighted avg       0.81      0.83      0.82     19611\n",
      "\n",
      "DT-AUC is 0.54\n"
     ]
    }
   ],
   "source": [
    "from sklearn.tree import DecisionTreeClassifier\n",
    "from sklearn.tree import plot_tree\n",
    "from sklearn.metrics import (\n",
    "    accuracy_score,\n",
    "    precision_score,\n",
    "    recall_score,\n",
    "    classification_report,\n",
    "    roc_auc_score,\n",
    ")\n",
    "\n",
    "dtree = DecisionTreeClassifier(max_depth=28, criterion=\"entropy\", min_samples_split=10)\n",
    "dtree.fit(X_train, y_train)\n",
    "dtree_predictions = dtree.predict(X_test)\n",
    "\n",
    "print('Decision Tree Results')\n",
    "print(classification_report(y_test, dtree.predict(X_test)))\n",
    "print(\"DT-AUC is {0:.2f}\".format(roc_auc_score(y_test, dtree.predict_proba(X_test)[:,1])))"
   ]
  },
  {
   "cell_type": "code",
   "execution_count": 32,
   "metadata": {
    "scrolled": true
   },
   "outputs": [
    {
     "data": {
      "image/png": "[encoded data removed]",
      "text/plain": [
       "<Figure size 432x288 with 1 Axes>"
      ]
     },
     "metadata": {},
     "output_type": "display_data"
    }
   ],
   "source": [
    "plt.figure()\n",
    "p = plot_tree(dtree, max_depth=3, feature_names=X_train.columns, filled=True)\n",
    "plt.savefig(\"decisiontree.svg\", format=\"svg\")\n",
    "plt.show()"
   ]
  },
  {
   "cell_type": "markdown",
   "metadata": {},
   "source": [
    "### Logistic Regression"
   ]
  },
  {
   "cell_type": "code",
   "execution_count": 33,
   "metadata": {},
   "outputs": [
    {
     "name": "stdout",
     "output_type": "stream",
     "text": [
      "Linear Model Results\n",
      "              precision    recall  f1-score   support\n",
      "\n",
      "           0       0.89      1.00      0.94     17398\n",
      "           1       0.40      0.02      0.03      2213\n",
      "\n",
      "    accuracy                           0.89     19611\n",
      "   macro avg       0.64      0.51      0.49     19611\n",
      "weighted avg       0.83      0.89      0.84     19611\n",
      "\n",
      "Linear-AUC is 0.61\n"
     ]
    },
    {
     "name": "stderr",
     "output_type": "stream",
     "text": [
      "/Users/cmougan/opt/anaconda3/envs/tasterDay/lib/python3.7/site-packages/sklearn/linear_model/_logistic.py:765: ConvergenceWarning: lbfgs failed to converge (status=1):\n",
      "STOP: TOTAL NO. of ITERATIONS REACHED LIMIT.\n",
      "\n",
      "Increase the number of iterations (max_iter) or scale the data as shown in:\n",
      "    https://scikit-learn.org/stable/modules/preprocessing.html\n",
      "Please also refer to the documentation for alternative solver options:\n",
      "    https://scikit-learn.org/stable/modules/linear_model.html#logistic-regression\n",
      "  extra_warning_msg=_LOGISTIC_SOLVER_CONVERGENCE_MSG)\n"
     ]
    }
   ],
   "source": [
    "from sklearn.linear_model import LogisticRegression\n",
    "clf = LogisticRegression()\n",
    "clf.fit(X_train, y_train)\n",
    "\n",
    "print('Linear Model Results')\n",
    "print(classification_report(y_test, clf.predict(X_test)))\n",
    "print(\"Linear-AUC is {0:.2f}\".format(roc_auc_score(y_test, clf.predict_proba(X_test)[:,1])))"
   ]
  },
  {
   "cell_type": "markdown",
   "metadata": {},
   "source": [
    "### Random Forest"
   ]
  },
  {
   "cell_type": "markdown",
   "metadata": {
    "pycharm": {
     "name": "#%% md\n"
    }
   },
   "source": [
    "OK that was terrible\n",
    "random forest?"
   ]
  },
  {
   "cell_type": "code",
   "execution_count": 34,
   "metadata": {
    "pycharm": {
     "name": "#%%\n"
    }
   },
   "outputs": [
    {
     "name": "stdout",
     "output_type": "stream",
     "text": [
      "Random Forest Results\n",
      "              precision    recall  f1-score   support\n",
      "\n",
      "           0       0.89      1.00      0.94     17398\n",
      "           1       0.62      0.00      0.01      2213\n",
      "\n",
      "    accuracy                           0.89     19611\n",
      "   macro avg       0.76      0.50      0.47     19611\n",
      "weighted avg       0.86      0.89      0.84     19611\n",
      "\n",
      "RF-AUC is 0.65\n"
     ]
    }
   ],
   "source": [
    "from sklearn.ensemble import RandomForestClassifier\n",
    "rf = RandomForestClassifier(n_estimators = 50, max_depth=25, criterion = \"entropy\", min_samples_split=10)\n",
    "rf.fit(X_train, y_train)\n",
    "\n",
    "print('Random Forest Results')\n",
    "print(classification_report(y_test, rf.predict(X_test)))\n",
    "print(\"RF-AUC is {0:.2f}\".format(roc_auc_score(y_test, rf.predict_proba(X_test)[:,1])))"
   ]
  },
  {
   "cell_type": "markdown",
   "metadata": {},
   "source": [
    "OK still  terrible\n",
    "but do quick chart of target feature - it's imbalanced\n",
    "\n",
    "fix it with smote...\n",
    "\n",
    "try again\n",
    "\n",
    "do SMOTE"
   ]
  },
  {
   "cell_type": "code",
   "execution_count": 35,
   "metadata": {
    "pycharm": {
     "name": "#%%\n"
    }
   },
   "outputs": [
    {
     "name": "stdout",
     "output_type": "stream",
     "text": [
      "Original dataset shape Counter({0: 69588, 1: 8853})\n",
      "New dataset shape Counter({0: 69588, 1: 69588})\n"
     ]
    }
   ],
   "source": [
    "from imblearn.over_sampling import SMOTE\n",
    "from collections import Counter\n",
    "print('Original dataset shape {}'.format(Counter(y_train)))\n",
    "sm = SMOTE(random_state=20)\n",
    "train_input_new, train_output_new = sm.fit_resample(X_train, y_train)\n",
    "print('New dataset shape {}'.format(Counter(train_output_new)))\n"
   ]
  },
  {
   "cell_type": "markdown",
   "metadata": {
    "pycharm": {
     "name": "#%% md\n"
    }
   },
   "source": [
    "re-run"
   ]
  },
  {
   "cell_type": "code",
   "execution_count": 36,
   "metadata": {
    "pycharm": {
     "name": "#%%\n"
    }
   },
   "outputs": [
    {
     "name": "stdout",
     "output_type": "stream",
     "text": [
      "DT-Accuracy is 0.75\n",
      "DT-Precision is 0.13\n",
      "DT-Recall is 0.21\n"
     ]
    }
   ],
   "source": [
    "dtree = DecisionTreeClassifier(max_depth=28, criterion = \"entropy\", min_samples_split=10)\n",
    "dtree.fit(train_input_new, train_output_new)\n",
    "\n",
    "dtree_predictions=dtree.predict(X_test)\n",
    "print(\"DT-Accuracy is {0:.2f}\".format(accuracy_score(y_test, dtree_predictions)))\n",
    "print(\"DT-Precision is {0:.2f}\".format(precision_score(y_test, dtree_predictions)))\n",
    "print(\"DT-Recall is {0:.2f}\".format(recall_score(y_test, dtree_predictions)))\n",
    "\n"
   ]
  },
  {
   "cell_type": "code",
   "execution_count": 37,
   "metadata": {
    "pycharm": {
     "name": "#%%\n"
    }
   },
   "outputs": [],
   "source": [
    "# df.head(100).T\n",
    "# for cvar in feature_set:\n",
    "#    print( df[cvar].value_counts())"
   ]
  },
  {
   "cell_type": "code",
   "execution_count": 38,
   "metadata": {
    "pycharm": {
     "name": "#%%\n"
    }
   },
   "outputs": [
    {
     "name": "stdout",
     "output_type": "stream",
     "text": [
      "rf-Accuracy is 0.80\n",
      "rf-Precision is 0.15\n",
      "rf-Recall is 0.17\n"
     ]
    }
   ],
   "source": [
    "from sklearn.ensemble import RandomForestClassifier\n",
    "rf = RandomForestClassifier(n_estimators = 10, max_depth=25, criterion = \"gini\", min_samples_split=10)\n",
    "rf.fit(train_input_new, train_output_new)\n",
    "\n",
    "rf_predict=rf.predict(X_test)\n",
    "\n",
    "print(\"rf-Accuracy is {0:.2f}\".format(accuracy_score(y_test, rf_predict)))\n",
    "print(\"rf-Precision is {0:.2f}\".format(precision_score(y_test, rf_predict)))\n",
    "print(\"rf-Recall is {0:.2f}\".format(recall_score(y_test, rf_predict)))"
   ]
  },
  {
   "cell_type": "markdown",
   "metadata": {
    "pycharm": {
     "name": "#%%\n"
    }
   },
   "source": [
    "## Gradient Boosting"
   ]
  },
  {
   "cell_type": "code",
   "execution_count": 39,
   "metadata": {},
   "outputs": [],
   "source": [
    "from catboost import CatBoostClassifier\n",
    "import shap"
   ]
  },
  {
   "cell_type": "code",
   "execution_count": 40,
   "metadata": {},
   "outputs": [],
   "source": [
    "model = CatBoostClassifier(iterations=300)"
   ]
  },
  {
   "cell_type": "code",
   "execution_count": 41,
   "metadata": {
    "scrolled": true
   },
   "outputs": [
    {
     "name": "stdout",
     "output_type": "stream",
     "text": [
      "Learning rate set to 0.200163\n",
      "0:\tlearn: 0.5501874\ttotal: 93.8ms\tremaining: 28s\n",
      "1:\tlearn: 0.4634669\ttotal: 123ms\tremaining: 18.3s\n",
      "2:\tlearn: 0.4167003\ttotal: 161ms\tremaining: 16s\n",
      "3:\tlearn: 0.3857472\ttotal: 207ms\tremaining: 15.3s\n",
      "4:\tlearn: 0.3675823\ttotal: 244ms\tremaining: 14.4s\n",
      "5:\tlearn: 0.3568346\ttotal: 276ms\tremaining: 13.5s\n",
      "6:\tlearn: 0.3500470\ttotal: 303ms\tremaining: 12.7s\n",
      "7:\tlearn: 0.3452102\ttotal: 335ms\tremaining: 12.2s\n",
      "8:\tlearn: 0.3421834\ttotal: 387ms\tremaining: 12.5s\n",
      "9:\tlearn: 0.3403135\ttotal: 478ms\tremaining: 13.9s\n",
      "10:\tlearn: 0.3390388\ttotal: 583ms\tremaining: 15.3s\n",
      "11:\tlearn: 0.3379549\ttotal: 675ms\tremaining: 16.2s\n",
      "12:\tlearn: 0.3372114\ttotal: 702ms\tremaining: 15.5s\n",
      "13:\tlearn: 0.3362481\ttotal: 728ms\tremaining: 14.9s\n",
      "14:\tlearn: 0.3357130\ttotal: 762ms\tremaining: 14.5s\n",
      "15:\tlearn: 0.3351018\ttotal: 788ms\tremaining: 14s\n",
      "16:\tlearn: 0.3345957\ttotal: 815ms\tremaining: 13.6s\n",
      "17:\tlearn: 0.3336209\ttotal: 845ms\tremaining: 13.2s\n",
      "18:\tlearn: 0.3334166\ttotal: 892ms\tremaining: 13.2s\n",
      "19:\tlearn: 0.3330179\ttotal: 926ms\tremaining: 13s\n",
      "20:\tlearn: 0.3326568\ttotal: 970ms\tremaining: 12.9s\n",
      "21:\tlearn: 0.3325039\ttotal: 1.02s\tremaining: 12.9s\n",
      "22:\tlearn: 0.3322736\ttotal: 1.05s\tremaining: 12.7s\n",
      "23:\tlearn: 0.3319473\ttotal: 1.08s\tremaining: 12.5s\n",
      "24:\tlearn: 0.3316158\ttotal: 1.11s\tremaining: 12.2s\n",
      "25:\tlearn: 0.3314804\ttotal: 1.14s\tremaining: 12s\n",
      "26:\tlearn: 0.3312921\ttotal: 1.17s\tremaining: 11.8s\n",
      "27:\tlearn: 0.3311243\ttotal: 1.21s\tremaining: 11.8s\n",
      "28:\tlearn: 0.3310119\ttotal: 1.25s\tremaining: 11.7s\n",
      "29:\tlearn: 0.3308717\ttotal: 1.29s\tremaining: 11.6s\n",
      "30:\tlearn: 0.3306701\ttotal: 1.32s\tremaining: 11.5s\n",
      "31:\tlearn: 0.3305453\ttotal: 1.35s\tremaining: 11.3s\n",
      "32:\tlearn: 0.3304112\ttotal: 1.41s\tremaining: 11.4s\n",
      "33:\tlearn: 0.3301567\ttotal: 1.48s\tremaining: 11.6s\n",
      "34:\tlearn: 0.3298876\ttotal: 1.52s\tremaining: 11.5s\n",
      "35:\tlearn: 0.3297028\ttotal: 1.58s\tremaining: 11.6s\n",
      "36:\tlearn: 0.3296537\ttotal: 1.61s\tremaining: 11.5s\n",
      "37:\tlearn: 0.3294319\ttotal: 1.64s\tremaining: 11.3s\n",
      "38:\tlearn: 0.3293096\ttotal: 1.67s\tremaining: 11.2s\n",
      "39:\tlearn: 0.3292578\ttotal: 1.71s\tremaining: 11.1s\n",
      "40:\tlearn: 0.3290324\ttotal: 1.75s\tremaining: 11.1s\n",
      "41:\tlearn: 0.3289716\ttotal: 1.8s\tremaining: 11s\n",
      "42:\tlearn: 0.3285866\ttotal: 1.83s\tremaining: 10.9s\n",
      "43:\tlearn: 0.3284126\ttotal: 1.86s\tremaining: 10.8s\n",
      "44:\tlearn: 0.3282546\ttotal: 1.89s\tremaining: 10.7s\n",
      "45:\tlearn: 0.3281743\ttotal: 1.92s\tremaining: 10.6s\n",
      "46:\tlearn: 0.3281391\ttotal: 1.95s\tremaining: 10.5s\n",
      "47:\tlearn: 0.3278888\ttotal: 2.01s\tremaining: 10.5s\n",
      "48:\tlearn: 0.3277936\ttotal: 2.1s\tremaining: 10.8s\n",
      "49:\tlearn: 0.3276914\ttotal: 2.18s\tremaining: 10.9s\n",
      "50:\tlearn: 0.3275309\ttotal: 2.23s\tremaining: 10.9s\n",
      "51:\tlearn: 0.3273407\ttotal: 2.27s\tremaining: 10.8s\n",
      "52:\tlearn: 0.3269662\ttotal: 2.32s\tremaining: 10.8s\n",
      "53:\tlearn: 0.3267832\ttotal: 2.36s\tremaining: 10.8s\n",
      "54:\tlearn: 0.3266734\ttotal: 2.4s\tremaining: 10.7s\n",
      "55:\tlearn: 0.3264883\ttotal: 2.44s\tremaining: 10.6s\n",
      "56:\tlearn: 0.3262986\ttotal: 2.47s\tremaining: 10.5s\n",
      "57:\tlearn: 0.3260161\ttotal: 2.5s\tremaining: 10.4s\n",
      "58:\tlearn: 0.3258669\ttotal: 2.53s\tremaining: 10.3s\n",
      "59:\tlearn: 0.3256775\ttotal: 2.56s\tremaining: 10.2s\n",
      "60:\tlearn: 0.3255976\ttotal: 2.58s\tremaining: 10.1s\n",
      "61:\tlearn: 0.3254705\ttotal: 2.61s\tremaining: 10s\n",
      "62:\tlearn: 0.3251478\ttotal: 2.63s\tremaining: 9.9s\n",
      "63:\tlearn: 0.3251229\ttotal: 2.66s\tremaining: 9.81s\n",
      "64:\tlearn: 0.3251139\ttotal: 2.68s\tremaining: 9.7s\n",
      "65:\tlearn: 0.3249117\ttotal: 2.71s\tremaining: 9.61s\n",
      "66:\tlearn: 0.3248441\ttotal: 2.74s\tremaining: 9.52s\n",
      "67:\tlearn: 0.3247136\ttotal: 2.76s\tremaining: 9.42s\n",
      "68:\tlearn: 0.3246092\ttotal: 2.79s\tremaining: 9.33s\n",
      "69:\tlearn: 0.3243613\ttotal: 2.82s\tremaining: 9.27s\n",
      "70:\tlearn: 0.3242519\ttotal: 2.85s\tremaining: 9.18s\n",
      "71:\tlearn: 0.3240764\ttotal: 2.88s\tremaining: 9.11s\n",
      "72:\tlearn: 0.3237435\ttotal: 2.9s\tremaining: 9.03s\n",
      "73:\tlearn: 0.3235097\ttotal: 2.99s\tremaining: 9.12s\n",
      "74:\tlearn: 0.3232962\ttotal: 3.02s\tremaining: 9.07s\n",
      "75:\tlearn: 0.3230433\ttotal: 3.08s\tremaining: 9.06s\n",
      "76:\tlearn: 0.3228829\ttotal: 3.12s\tremaining: 9.04s\n",
      "77:\tlearn: 0.3227486\ttotal: 3.17s\tremaining: 9.03s\n",
      "78:\tlearn: 0.3225578\ttotal: 3.22s\tremaining: 9s\n",
      "79:\tlearn: 0.3223916\ttotal: 3.25s\tremaining: 8.94s\n",
      "80:\tlearn: 0.3223632\ttotal: 3.31s\tremaining: 8.96s\n",
      "81:\tlearn: 0.3223271\ttotal: 3.37s\tremaining: 8.95s\n",
      "82:\tlearn: 0.3221019\ttotal: 3.43s\tremaining: 8.96s\n",
      "83:\tlearn: 0.3219608\ttotal: 3.47s\tremaining: 8.93s\n",
      "84:\tlearn: 0.3217391\ttotal: 3.5s\tremaining: 8.87s\n",
      "85:\tlearn: 0.3217329\ttotal: 3.54s\tremaining: 8.82s\n",
      "86:\tlearn: 0.3215772\ttotal: 3.58s\tremaining: 8.76s\n",
      "87:\tlearn: 0.3213463\ttotal: 3.61s\tremaining: 8.7s\n",
      "88:\tlearn: 0.3211932\ttotal: 3.64s\tremaining: 8.63s\n",
      "89:\tlearn: 0.3211806\ttotal: 3.67s\tremaining: 8.56s\n",
      "90:\tlearn: 0.3209827\ttotal: 3.7s\tremaining: 8.49s\n",
      "91:\tlearn: 0.3208472\ttotal: 3.73s\tremaining: 8.43s\n",
      "92:\tlearn: 0.3207416\ttotal: 3.76s\tremaining: 8.36s\n",
      "93:\tlearn: 0.3207287\ttotal: 3.79s\tremaining: 8.31s\n",
      "94:\tlearn: 0.3205420\ttotal: 3.83s\tremaining: 8.27s\n",
      "95:\tlearn: 0.3205365\ttotal: 3.87s\tremaining: 8.22s\n",
      "96:\tlearn: 0.3204124\ttotal: 3.96s\tremaining: 8.28s\n",
      "97:\tlearn: 0.3202555\ttotal: 4.01s\tremaining: 8.26s\n",
      "98:\tlearn: 0.3201012\ttotal: 4.06s\tremaining: 8.24s\n",
      "99:\tlearn: 0.3199331\ttotal: 4.1s\tremaining: 8.21s\n",
      "100:\tlearn: 0.3198644\ttotal: 4.14s\tremaining: 8.16s\n",
      "101:\tlearn: 0.3197667\ttotal: 4.17s\tremaining: 8.1s\n",
      "102:\tlearn: 0.3195371\ttotal: 4.22s\tremaining: 8.08s\n",
      "103:\tlearn: 0.3193658\ttotal: 4.29s\tremaining: 8.08s\n",
      "104:\tlearn: 0.3193446\ttotal: 4.32s\tremaining: 8.02s\n",
      "105:\tlearn: 0.3191522\ttotal: 4.37s\tremaining: 7.99s\n",
      "106:\tlearn: 0.3190376\ttotal: 4.43s\tremaining: 7.99s\n",
      "107:\tlearn: 0.3190275\ttotal: 4.47s\tremaining: 7.94s\n",
      "108:\tlearn: 0.3189137\ttotal: 4.51s\tremaining: 7.9s\n",
      "109:\tlearn: 0.3187021\ttotal: 4.56s\tremaining: 7.88s\n",
      "110:\tlearn: 0.3184941\ttotal: 4.61s\tremaining: 7.84s\n",
      "111:\tlearn: 0.3183087\ttotal: 4.65s\tremaining: 7.8s\n",
      "112:\tlearn: 0.3181590\ttotal: 4.69s\tremaining: 7.75s\n",
      "113:\tlearn: 0.3179928\ttotal: 4.72s\tremaining: 7.7s\n",
      "114:\tlearn: 0.3178340\ttotal: 4.77s\tremaining: 7.67s\n",
      "115:\tlearn: 0.3177084\ttotal: 4.8s\tremaining: 7.61s\n",
      "116:\tlearn: 0.3175717\ttotal: 4.83s\tremaining: 7.56s\n",
      "117:\tlearn: 0.3174372\ttotal: 4.86s\tremaining: 7.5s\n",
      "118:\tlearn: 0.3172303\ttotal: 4.9s\tremaining: 7.45s\n",
      "119:\tlearn: 0.3171190\ttotal: 4.94s\tremaining: 7.42s\n",
      "120:\tlearn: 0.3169397\ttotal: 4.98s\tremaining: 7.36s\n",
      "121:\tlearn: 0.3168051\ttotal: 5.03s\tremaining: 7.34s\n",
      "122:\tlearn: 0.3166432\ttotal: 5.14s\tremaining: 7.4s\n",
      "123:\tlearn: 0.3164950\ttotal: 5.2s\tremaining: 7.38s\n",
      "124:\tlearn: 0.3164111\ttotal: 5.24s\tremaining: 7.33s\n",
      "125:\tlearn: 0.3162232\ttotal: 5.28s\tremaining: 7.3s\n",
      "126:\tlearn: 0.3160664\ttotal: 5.33s\tremaining: 7.26s\n",
      "127:\tlearn: 0.3159205\ttotal: 5.38s\tremaining: 7.23s\n",
      "128:\tlearn: 0.3156945\ttotal: 5.43s\tremaining: 7.2s\n",
      "129:\tlearn: 0.3155116\ttotal: 5.47s\tremaining: 7.16s\n",
      "130:\tlearn: 0.3153104\ttotal: 5.53s\tremaining: 7.13s\n",
      "131:\tlearn: 0.3151720\ttotal: 5.57s\tremaining: 7.09s\n",
      "132:\tlearn: 0.3150869\ttotal: 5.61s\tremaining: 7.04s\n",
      "133:\tlearn: 0.3149885\ttotal: 5.64s\tremaining: 6.99s\n",
      "134:\tlearn: 0.3148602\ttotal: 5.68s\tremaining: 6.94s\n",
      "135:\tlearn: 0.3146358\ttotal: 5.72s\tremaining: 6.89s\n",
      "136:\tlearn: 0.3144353\ttotal: 5.74s\tremaining: 6.83s\n",
      "137:\tlearn: 0.3144337\ttotal: 5.79s\tremaining: 6.8s\n",
      "138:\tlearn: 0.3143387\ttotal: 5.85s\tremaining: 6.78s\n",
      "139:\tlearn: 0.3142698\ttotal: 5.89s\tremaining: 6.73s\n",
      "140:\tlearn: 0.3141514\ttotal: 5.93s\tremaining: 6.69s\n",
      "141:\tlearn: 0.3139945\ttotal: 5.97s\tremaining: 6.64s\n",
      "142:\tlearn: 0.3138824\ttotal: 6s\tremaining: 6.58s\n",
      "143:\tlearn: 0.3137176\ttotal: 6.03s\tremaining: 6.53s\n",
      "144:\tlearn: 0.3135173\ttotal: 6.07s\tremaining: 6.48s\n",
      "145:\tlearn: 0.3134384\ttotal: 6.09s\tremaining: 6.43s\n",
      "146:\tlearn: 0.3133290\ttotal: 6.13s\tremaining: 6.38s\n",
      "147:\tlearn: 0.3132206\ttotal: 6.16s\tremaining: 6.33s\n",
      "148:\tlearn: 0.3131184\ttotal: 6.18s\tremaining: 6.27s\n",
      "149:\tlearn: 0.3130042\ttotal: 6.22s\tremaining: 6.22s\n",
      "150:\tlearn: 0.3129886\ttotal: 6.25s\tremaining: 6.17s\n",
      "151:\tlearn: 0.3128717\ttotal: 6.3s\tremaining: 6.13s\n",
      "152:\tlearn: 0.3127014\ttotal: 6.34s\tremaining: 6.09s\n",
      "153:\tlearn: 0.3125999\ttotal: 6.37s\tremaining: 6.04s\n",
      "154:\tlearn: 0.3124734\ttotal: 6.42s\tremaining: 6s\n",
      "155:\tlearn: 0.3124028\ttotal: 6.46s\tremaining: 5.96s\n",
      "156:\tlearn: 0.3122934\ttotal: 6.52s\tremaining: 5.94s\n",
      "157:\tlearn: 0.3121441\ttotal: 6.59s\tremaining: 5.93s\n",
      "158:\tlearn: 0.3119936\ttotal: 6.65s\tremaining: 5.89s\n",
      "159:\tlearn: 0.3118922\ttotal: 6.7s\tremaining: 5.86s\n"
     ]
    },
    {
     "name": "stdout",
     "output_type": "stream",
     "text": [
      "160:\tlearn: 0.3116816\ttotal: 6.75s\tremaining: 5.82s\n",
      "161:\tlearn: 0.3115829\ttotal: 6.8s\tremaining: 5.79s\n",
      "162:\tlearn: 0.3114921\ttotal: 6.84s\tremaining: 5.75s\n",
      "163:\tlearn: 0.3113210\ttotal: 6.89s\tremaining: 5.71s\n",
      "164:\tlearn: 0.3112039\ttotal: 7.01s\tremaining: 5.74s\n",
      "165:\tlearn: 0.3110154\ttotal: 7.06s\tremaining: 5.7s\n",
      "166:\tlearn: 0.3107950\ttotal: 7.11s\tremaining: 5.66s\n",
      "167:\tlearn: 0.3106787\ttotal: 7.15s\tremaining: 5.62s\n",
      "168:\tlearn: 0.3105431\ttotal: 7.18s\tremaining: 5.57s\n",
      "169:\tlearn: 0.3104015\ttotal: 7.23s\tremaining: 5.53s\n",
      "170:\tlearn: 0.3102248\ttotal: 7.27s\tremaining: 5.48s\n",
      "171:\tlearn: 0.3100403\ttotal: 7.3s\tremaining: 5.43s\n",
      "172:\tlearn: 0.3099466\ttotal: 7.33s\tremaining: 5.38s\n",
      "173:\tlearn: 0.3098320\ttotal: 7.39s\tremaining: 5.35s\n",
      "174:\tlearn: 0.3096727\ttotal: 7.42s\tremaining: 5.3s\n",
      "175:\tlearn: 0.3095029\ttotal: 7.45s\tremaining: 5.25s\n",
      "176:\tlearn: 0.3093031\ttotal: 7.48s\tremaining: 5.2s\n",
      "177:\tlearn: 0.3091889\ttotal: 7.51s\tremaining: 5.15s\n",
      "178:\tlearn: 0.3091596\ttotal: 7.54s\tremaining: 5.1s\n",
      "179:\tlearn: 0.3089964\ttotal: 7.58s\tremaining: 5.05s\n",
      "180:\tlearn: 0.3089011\ttotal: 7.61s\tremaining: 5s\n",
      "181:\tlearn: 0.3087117\ttotal: 7.64s\tremaining: 4.95s\n",
      "182:\tlearn: 0.3085631\ttotal: 7.67s\tremaining: 4.91s\n",
      "183:\tlearn: 0.3084314\ttotal: 7.7s\tremaining: 4.86s\n",
      "184:\tlearn: 0.3083988\ttotal: 7.74s\tremaining: 4.81s\n",
      "185:\tlearn: 0.3083603\ttotal: 7.77s\tremaining: 4.76s\n",
      "186:\tlearn: 0.3082032\ttotal: 7.82s\tremaining: 4.73s\n",
      "187:\tlearn: 0.3081135\ttotal: 7.86s\tremaining: 4.68s\n",
      "188:\tlearn: 0.3079557\ttotal: 7.91s\tremaining: 4.64s\n",
      "189:\tlearn: 0.3078475\ttotal: 7.95s\tremaining: 4.6s\n",
      "190:\tlearn: 0.3077640\ttotal: 7.98s\tremaining: 4.55s\n",
      "191:\tlearn: 0.3076791\ttotal: 8.02s\tremaining: 4.51s\n",
      "192:\tlearn: 0.3074794\ttotal: 8.05s\tremaining: 4.46s\n",
      "193:\tlearn: 0.3074069\ttotal: 8.09s\tremaining: 4.42s\n",
      "194:\tlearn: 0.3072412\ttotal: 8.14s\tremaining: 4.38s\n",
      "195:\tlearn: 0.3070525\ttotal: 8.2s\tremaining: 4.35s\n",
      "196:\tlearn: 0.3068494\ttotal: 8.23s\tremaining: 4.3s\n",
      "197:\tlearn: 0.3067175\ttotal: 8.26s\tremaining: 4.25s\n",
      "198:\tlearn: 0.3066352\ttotal: 8.31s\tremaining: 4.21s\n",
      "199:\tlearn: 0.3064953\ttotal: 8.34s\tremaining: 4.17s\n",
      "200:\tlearn: 0.3063577\ttotal: 8.37s\tremaining: 4.12s\n",
      "201:\tlearn: 0.3062027\ttotal: 8.4s\tremaining: 4.08s\n",
      "202:\tlearn: 0.3061211\ttotal: 8.44s\tremaining: 4.03s\n",
      "203:\tlearn: 0.3059449\ttotal: 8.47s\tremaining: 3.98s\n",
      "204:\tlearn: 0.3058407\ttotal: 8.51s\tremaining: 3.94s\n",
      "205:\tlearn: 0.3057481\ttotal: 8.54s\tremaining: 3.9s\n",
      "206:\tlearn: 0.3056093\ttotal: 8.57s\tremaining: 3.85s\n",
      "207:\tlearn: 0.3055130\ttotal: 8.6s\tremaining: 3.8s\n",
      "208:\tlearn: 0.3054379\ttotal: 8.63s\tremaining: 3.76s\n",
      "209:\tlearn: 0.3053329\ttotal: 8.66s\tremaining: 3.71s\n",
      "210:\tlearn: 0.3052380\ttotal: 8.69s\tremaining: 3.67s\n",
      "211:\tlearn: 0.3051746\ttotal: 8.72s\tremaining: 3.62s\n",
      "212:\tlearn: 0.3051494\ttotal: 8.76s\tremaining: 3.58s\n",
      "213:\tlearn: 0.3050529\ttotal: 8.8s\tremaining: 3.54s\n",
      "214:\tlearn: 0.3049110\ttotal: 8.84s\tremaining: 3.5s\n",
      "215:\tlearn: 0.3047888\ttotal: 8.88s\tremaining: 3.46s\n",
      "216:\tlearn: 0.3046545\ttotal: 8.92s\tremaining: 3.41s\n",
      "217:\tlearn: 0.3045520\ttotal: 8.94s\tremaining: 3.36s\n",
      "218:\tlearn: 0.3043515\ttotal: 8.96s\tremaining: 3.31s\n",
      "219:\tlearn: 0.3042026\ttotal: 8.98s\tremaining: 3.27s\n",
      "220:\tlearn: 0.3040519\ttotal: 9s\tremaining: 3.22s\n",
      "221:\tlearn: 0.3039257\ttotal: 9.02s\tremaining: 3.17s\n",
      "222:\tlearn: 0.3037361\ttotal: 9.06s\tremaining: 3.13s\n",
      "223:\tlearn: 0.3037195\ttotal: 9.09s\tremaining: 3.08s\n",
      "224:\tlearn: 0.3036209\ttotal: 9.11s\tremaining: 3.04s\n",
      "225:\tlearn: 0.3035548\ttotal: 9.13s\tremaining: 2.99s\n",
      "226:\tlearn: 0.3033945\ttotal: 9.15s\tremaining: 2.94s\n",
      "227:\tlearn: 0.3032921\ttotal: 9.18s\tremaining: 2.9s\n",
      "228:\tlearn: 0.3031158\ttotal: 9.2s\tremaining: 2.85s\n",
      "229:\tlearn: 0.3030149\ttotal: 9.22s\tremaining: 2.81s\n",
      "230:\tlearn: 0.3028992\ttotal: 9.25s\tremaining: 2.76s\n",
      "231:\tlearn: 0.3027318\ttotal: 9.29s\tremaining: 2.72s\n",
      "232:\tlearn: 0.3026193\ttotal: 9.31s\tremaining: 2.68s\n",
      "233:\tlearn: 0.3025378\ttotal: 9.33s\tremaining: 2.63s\n",
      "234:\tlearn: 0.3024009\ttotal: 9.35s\tremaining: 2.58s\n",
      "235:\tlearn: 0.3023155\ttotal: 9.37s\tremaining: 2.54s\n",
      "236:\tlearn: 0.3022123\ttotal: 9.39s\tremaining: 2.5s\n",
      "237:\tlearn: 0.3021207\ttotal: 9.42s\tremaining: 2.45s\n",
      "238:\tlearn: 0.3019524\ttotal: 9.46s\tremaining: 2.42s\n",
      "239:\tlearn: 0.3018329\ttotal: 9.5s\tremaining: 2.38s\n",
      "240:\tlearn: 0.3016807\ttotal: 9.55s\tremaining: 2.34s\n",
      "241:\tlearn: 0.3015991\ttotal: 9.6s\tremaining: 2.3s\n",
      "242:\tlearn: 0.3015170\ttotal: 9.63s\tremaining: 2.26s\n",
      "243:\tlearn: 0.3014857\ttotal: 9.66s\tremaining: 2.22s\n",
      "244:\tlearn: 0.3013893\ttotal: 9.7s\tremaining: 2.18s\n",
      "245:\tlearn: 0.3012584\ttotal: 9.74s\tremaining: 2.14s\n",
      "246:\tlearn: 0.3010773\ttotal: 9.78s\tremaining: 2.1s\n",
      "247:\tlearn: 0.3010532\ttotal: 9.83s\tremaining: 2.06s\n",
      "248:\tlearn: 0.3009216\ttotal: 9.89s\tremaining: 2.03s\n",
      "249:\tlearn: 0.3008026\ttotal: 9.94s\tremaining: 1.99s\n",
      "250:\tlearn: 0.3006789\ttotal: 9.98s\tremaining: 1.95s\n",
      "251:\tlearn: 0.3005799\ttotal: 10s\tremaining: 1.91s\n",
      "252:\tlearn: 0.3004777\ttotal: 10.1s\tremaining: 1.87s\n",
      "253:\tlearn: 0.3003968\ttotal: 10.1s\tremaining: 1.84s\n",
      "254:\tlearn: 0.3003470\ttotal: 10.2s\tremaining: 1.8s\n",
      "255:\tlearn: 0.3001716\ttotal: 10.3s\tremaining: 1.76s\n",
      "256:\tlearn: 0.2999882\ttotal: 10.3s\tremaining: 1.73s\n",
      "257:\tlearn: 0.2999158\ttotal: 10.4s\tremaining: 1.69s\n",
      "258:\tlearn: 0.2997069\ttotal: 10.4s\tremaining: 1.65s\n",
      "259:\tlearn: 0.2996462\ttotal: 10.4s\tremaining: 1.6s\n",
      "260:\tlearn: 0.2995473\ttotal: 10.5s\tremaining: 1.56s\n",
      "261:\tlearn: 0.2994945\ttotal: 10.5s\tremaining: 1.52s\n",
      "262:\tlearn: 0.2993703\ttotal: 10.6s\tremaining: 1.49s\n",
      "263:\tlearn: 0.2992284\ttotal: 10.6s\tremaining: 1.45s\n",
      "264:\tlearn: 0.2991293\ttotal: 10.6s\tremaining: 1.41s\n",
      "265:\tlearn: 0.2989710\ttotal: 10.7s\tremaining: 1.36s\n",
      "266:\tlearn: 0.2988598\ttotal: 10.7s\tremaining: 1.32s\n",
      "267:\tlearn: 0.2987266\ttotal: 10.7s\tremaining: 1.28s\n",
      "268:\tlearn: 0.2986239\ttotal: 10.8s\tremaining: 1.24s\n",
      "269:\tlearn: 0.2985492\ttotal: 10.8s\tremaining: 1.2s\n",
      "270:\tlearn: 0.2984743\ttotal: 10.8s\tremaining: 1.16s\n",
      "271:\tlearn: 0.2983733\ttotal: 10.9s\tremaining: 1.12s\n",
      "272:\tlearn: 0.2983155\ttotal: 11s\tremaining: 1.08s\n",
      "273:\tlearn: 0.2982098\ttotal: 11s\tremaining: 1.04s\n",
      "274:\tlearn: 0.2981477\ttotal: 11.1s\tremaining: 1s\n",
      "275:\tlearn: 0.2980389\ttotal: 11.1s\tremaining: 964ms\n",
      "276:\tlearn: 0.2978906\ttotal: 11.1s\tremaining: 924ms\n",
      "277:\tlearn: 0.2978361\ttotal: 11.2s\tremaining: 883ms\n",
      "278:\tlearn: 0.2977839\ttotal: 11.2s\tremaining: 843ms\n",
      "279:\tlearn: 0.2976531\ttotal: 11.2s\tremaining: 802ms\n",
      "280:\tlearn: 0.2975573\ttotal: 11.3s\tremaining: 761ms\n",
      "281:\tlearn: 0.2974989\ttotal: 11.3s\tremaining: 722ms\n",
      "282:\tlearn: 0.2974400\ttotal: 11.3s\tremaining: 682ms\n",
      "283:\tlearn: 0.2973783\ttotal: 11.4s\tremaining: 641ms\n",
      "284:\tlearn: 0.2972730\ttotal: 11.4s\tremaining: 601ms\n",
      "285:\tlearn: 0.2971922\ttotal: 11.5s\tremaining: 561ms\n",
      "286:\tlearn: 0.2970702\ttotal: 11.5s\tremaining: 522ms\n",
      "287:\tlearn: 0.2969457\ttotal: 11.6s\tremaining: 481ms\n",
      "288:\tlearn: 0.2968459\ttotal: 11.6s\tremaining: 442ms\n",
      "289:\tlearn: 0.2967582\ttotal: 11.6s\tremaining: 401ms\n",
      "290:\tlearn: 0.2966548\ttotal: 11.7s\tremaining: 362ms\n",
      "291:\tlearn: 0.2965454\ttotal: 11.8s\tremaining: 322ms\n",
      "292:\tlearn: 0.2965285\ttotal: 11.8s\tremaining: 282ms\n",
      "293:\tlearn: 0.2965032\ttotal: 11.9s\tremaining: 242ms\n",
      "294:\tlearn: 0.2963967\ttotal: 11.9s\tremaining: 202ms\n",
      "295:\tlearn: 0.2963630\ttotal: 11.9s\tremaining: 161ms\n",
      "296:\tlearn: 0.2962979\ttotal: 12s\tremaining: 121ms\n",
      "297:\tlearn: 0.2962368\ttotal: 12s\tremaining: 80.6ms\n",
      "298:\tlearn: 0.2961013\ttotal: 12.1s\tremaining: 40.3ms\n",
      "299:\tlearn: 0.2960022\ttotal: 12.1s\tremaining: 0us\n"
     ]
    }
   ],
   "source": [
    "model.fit(X_train,y_train);"
   ]
  },
  {
   "cell_type": "code",
   "execution_count": 42,
   "metadata": {
    "scrolled": true
   },
   "outputs": [
    {
     "name": "stdout",
     "output_type": "stream",
     "text": [
      "ROC AUC SCORE\n",
      "0.7766885929462191\n",
      "0.6711745282178426\n"
     ]
    }
   ],
   "source": [
    "print('ROC AUC SCORE')\n",
    "print(roc_auc_score(y_train,model.predict_proba(X_train)[:,1]))\n",
    "print(roc_auc_score(y_test,model.predict_proba(X_test)[:,1]))"
   ]
  },
  {
   "cell_type": "code",
   "execution_count": 43,
   "metadata": {
    "scrolled": true
   },
   "outputs": [
    {
     "name": "stdout",
     "output_type": "stream",
     "text": [
      "              precision    recall  f1-score   support\n",
      "\n",
      "           0       1.00      0.89      0.94     19499\n",
      "           1       0.02      0.46      0.04       112\n",
      "\n",
      "    accuracy                           0.89     19611\n",
      "   macro avg       0.51      0.67      0.49     19611\n",
      "weighted avg       0.99      0.89      0.93     19611\n",
      "\n"
     ]
    }
   ],
   "source": [
    "print(classification_report(model.predict(X_test),y_test))"
   ]
  },
  {
   "cell_type": "code",
   "execution_count": 44,
   "metadata": {},
   "outputs": [],
   "source": [
    "explainer = shap.Explainer(model)\n",
    "shap_values = explainer(X_train)"
   ]
  },
  {
   "cell_type": "code",
   "execution_count": 45,
   "metadata": {},
   "outputs": [
    {
     "data": {
      "image/png": "[encoded data removed]",
      "text/plain": [
       "<Figure size 576x468 with 3 Axes>"
      ]
     },
     "metadata": {},
     "output_type": "display_data"
    }
   ],
   "source": [
    "# visualize the first prediction's explanation\n",
    "shap.plots.waterfall(shap_values[0])"
   ]
  },
  {
   "cell_type": "code",
   "execution_count": 46,
   "metadata": {},
   "outputs": [
    {
     "data": {
      "image/png": "[encoded data removed]",
      "text/plain": [
       "<Figure size 576x468 with 1 Axes>"
      ]
     },
     "metadata": {},
     "output_type": "display_data"
    }
   ],
   "source": [
    "# Global Explanation\n",
    "shap.plots.bar(shap_values)"
   ]
  },
  {
   "cell_type": "code",
   "execution_count": null,
   "metadata": {},
   "outputs": [],
   "source": []
  }
 ],
 "metadata": {
  "kernelspec": {
   "display_name": "tasterDay",
   "language": "python",
   "name": "tasterday"
  },
  "language_info": {
   "codemirror_mode": {
    "name": "ipython",
    "version": 3
   },
   "file_extension": ".py",
   "mimetype": "text/x-python",
   "name": "python",
   "nbconvert_exporter": "python",
   "pygments_lexer": "ipython3",
   "version": "3.7.10"
  }
 },
 "nbformat": 4,
 "nbformat_minor": 1
}
