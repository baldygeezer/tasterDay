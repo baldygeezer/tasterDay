{
 "cells": [
  {
   "cell_type": "markdown",
   "metadata": {
    "collapsed": true,
    "pycharm": {
     "name": "#%% md\n"
    }
   },
   "source": [
    "#  This is a Jupyter Notebook\n",
    "Jupiter is an interactive web application which lets you edit and run python code in a web browser.\n",
    "It is a type of _computational notebook_, a tool commonly used by scientific researchers to combine code and computer output with formatted text in a document which can be shared with other researchers on the web.\n",
    "We are going to use it to do some clinical research into diabetes patient outcomes. Before we do that let’s run some basic python to give you an idea of how things work.\n",
    "\n",
    "A Jupyter notebook is made up of cells. There are two types:\n",
    "\n",
    "_Markdown cells_ contain explanatory text formatted either with markdown or HTML.\n",
    "Markdoiw is a simple test formatting language\n",
    "\n",
    "This text is in a markdown cell. below is an Empty markdown cell. Type your name"
   ]
  },
  {
   "cell_type": "markdown",
   "metadata": {},
   "source": []
  },
  {
   "cell_type": "markdown",
   "metadata": {},
   "source": [
    "_Code cells_ are where the fun stuff happens. Here you can run Python code and see the output\n",
    "Try this in the cell below: Use a print statement to print \"hello world\". When you have written the code press CTRL + Enter"
   ]
  },
  {
   "cell_type": "code",
   "execution_count": null,
   "metadata": {
    "pycharm": {
     "name": "#%%\n"
    }
   },
   "outputs": [],
   "source": [
    "# Write your code below\n",
    "print('hello world')\n"
   ]
  }
 ],
 "metadata": {
  "kernelspec": {
   "display_name": "Python 3",
   "language": "python",
   "name": "python3"
  },
  "language_info": {
   "codemirror_mode": {
    "name": "ipython",
    "version": 3
   },
   "file_extension": ".py",
   "mimetype": "text/x-python",
   "name": "python",
   "nbconvert_exporter": "python",
   "pygments_lexer": "ipython3",
   "version": "3.9.5"
  }
 },
 "nbformat": 4,
 "nbformat_minor": 1
}
