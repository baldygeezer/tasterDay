{
 "cells": [
  {
   "cell_type": "markdown",
   "metadata": {
    "collapsed": true,
    "pycharm": {
     "name": "#%% md\n"
    }
   },
   "source": [
    "#  This is a Jupyter Notebook\n",
    "Jupiter is an interactive web application which lets you edit and run python code in a web browser.\n",
    "It is a type of _computational notebook_, a tool commonly used by scientific researchers to combine code and computer output with formatted text in a document which can be shared with other researchers on the web.\n",
    "We are going to use it to do some clinical research into diabetes patient outcomes. Before we do that let’s run some basic python to give you an idea of how things work.\n",
    "\n",
    "A Jupyter notebook is made up of cells. There are two types:\n",
    "\n",
    "_Markdown cells_ contain explanatory text formatted either with markdown or HTML.\n",
    "Markdown is a simple text formatting language - you can see a cheat sheet here with all the formatting commands. You edit a markdown cell by double clicking it. Commit your edit by pressing CTRL + ENTER\n",
    "\n",
    "This text is in a markdown cell. Below is an Empty markdown cell. Type your name. You can make it a level 2 heading by \n",
    "typing two '#' characters before it"
   ]
  },
  {
   "cell_type": "markdown",
   "metadata": {},
   "source": [
    "This notebook is by:\n",
    "## bernard roper"
   ]
  },
  {
   "cell_type": "markdown",
   "metadata": {},
   "source": [
    "_Code cells_ are where the fun stuff happens. Here you can run Python code and see the output\n",
    "Try this in the cell below: Use a print statement to print \"hello world\". When you have written the code press CTRL + Enter to run it and see the result"
   ]
  },
  {
   "cell_type": "code",
   "execution_count": null,
   "metadata": {
    "pycharm": {
     "name": "#%%\n"
    }
   },
   "outputs": [],
   "source": [
    "# Write your code below\n",
    "print('hello world')"
   ]
  },
  {
   "cell_type": "markdown",
   "metadata": {
    "pycharm": {
     "name": "#%% md\n"
    }
   },
   "source": [
    "So now lets try something more complicated. We'll do a simple plot of a list of numbers.\n",
    "To do this we'll imort a Python module called matplotlib. The code that does this is in the cell below.\n",
    "We have to run this before anything else will work. Run the cell now"
   ]
  },
  {
   "cell_type": "code",
   "execution_count": null,
   "metadata": {},
   "outputs": [],
   "source": [
    "import matplotlib\n",
    "from matplotlib import pyplot as plt\n",
    "print ('matplotlib installed successfully')"
   ]
  },
  {
   "cell_type": "markdown",
   "metadata": {},
   "source": [
    "The next step is make a simple list of numbers. Write some code to make a variable called 'data' containing a list of numbers from '1' to '7'"
   ]
  },
  {
   "cell_type": "code",
   "execution_count": null,
   "metadata": {
    "pycharm": {
     "name": "#%%\n"
    }
   },
   "outputs": [],
   "source": [
    "#your code here\n",
    "data=[1,2,3,4,5,6,7]"
   ]
  },
  {
   "cell_type": "markdown",
   "metadata": {},
   "source": [
    "In the cell below we've provided some code to plot this on a chart.\n"
   ]
  },
  {
   "cell_type": "code",
   "execution_count": null,
   "metadata": {
    "pycharm": {
     "name": "#%%\n"
    }
   },
   "outputs": [],
   "source": [
    "plt.plot(data)\n",
    "plt.show()"
   ]
  },
  {
   "cell_type": "markdown",
   "metadata": {
    "pycharm": {
     "name": "#%% md\n"
    }
   },
   "source": [
    "Now try changing the numbers. To see the effect you will have to re-run both cells\n",
    "This should have given you an idea of what a notebook is and what it can do. Now let's do some data science\n",
    "<link to notebook 2>"
   ]
  },
  {
   "cell_type": "code",
   "execution_count": null,
   "metadata": {
    "pycharm": {
     "name": "#%%\n"
    }
   },
   "outputs": [],
   "source": []
  }
 ],
 "metadata": {
  "kernelspec": {
   "display_name": "Python 3",
   "language": "python",
   "name": "python3"
  },
  "language_info": {
   "codemirror_mode": {
    "name": "ipython",
    "version": 3
   },
   "file_extension": ".py",
   "mimetype": "text/x-python",
   "name": "python",
   "nbconvert_exporter": "python",
   "pygments_lexer": "ipython3",
   "version": "3.9.5"
  }
 },
 "nbformat": 4,
 "nbformat_minor": 1
}