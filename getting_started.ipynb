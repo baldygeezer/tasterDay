{
 "cells": [
  {
   "cell_type": "markdown",
   "metadata": {
    "collapsed": true,
    "pycharm": {
     "name": "#%% md\n"
    }
   },
   "source": [
    "#  This is a Jupyter Notebook\n",
    "Jupiter is an interactive web application which lets you edit and run python code in a web browser.\n",
    "It is a type of _computational notebook_, a tool commonly used by scientific researchers to combine code and computer output with formatted text in a document which can be shared with other researchers on the web.\n",
    "We are going to use it to do some clinical research into diabetes patient outcomes. Before we do that let’s run some basic python to give you an idea of how things work.\n",
    "\n",
    "A Jupyter notebook is made up of cells. There are two types:\n",
    "\n",
    "_Markdown cells_ contain explanatory text formatted either with markdown or HTML.\n",
    "Markdown is a simple text formatting language - you can see a cheat sheet here with all the formatting commands. You edit a markdown cell by double clicking it. Commit your edit by pressing CTRL + ENTER\n",
    "\n",
    "This text is in a markdown cell. Below is an Empty markdown cell. Type your name. You can make it a level 2 heading by \n",
    "typing two '#' characters before it"
   ]
  },
  {
   "cell_type": "markdown",
   "metadata": {},
   "source": [
    "This notebook is by:\n",
    "## bernard roper"
   ]
  },
  {
   "cell_type": "markdown",
   "metadata": {},
   "source": [
    "_Code cells_ are where the fun stuff happens. Here you can run Python code and see the output\n",
    "Try this in the cell below: Use a print statement to print \"hello world\". When you have written the code press CTRL + Enter to run it and see the result"
   ]
  },
  {
   "cell_type": "code",
   "execution_count": 6,
   "metadata": {
    "pycharm": {
     "name": "#%%\n"
    }
   },
   "outputs": [
    {
     "name": "stdout",
     "output_type": "stream",
     "text": [
      "hello world\n"
     ]
    }
   ],
   "source": [
    "# Write your code below\n",
    "print('hello world')\n"
   ]
  },
  {
   "cell_type": "markdown",
   "metadata": {
    "pycharm": {
     "name": "#%% md\n"
    }
   },
   "source": [
    "test"
   ]
  },
  {
   "cell_type": "code",
   "execution_count": null,
   "metadata": {},
   "outputs": [],
   "source": []
  }
 ],
 "metadata": {
  "kernelspec": {
   "display_name": "Python 3",
   "language": "python",
   "name": "python3"
  },
  "language_info": {
   "codemirror_mode": {
    "name": "ipython",
    "version": 3
   },
   "file_extension": ".py",
   "mimetype": "text/x-python",
   "name": "python",
   "nbconvert_exporter": "python",
   "pygments_lexer": "ipython3",
   "version": "3.9.5"
  }
 },
 "nbformat": 4,
 "nbformat_minor": 1
}